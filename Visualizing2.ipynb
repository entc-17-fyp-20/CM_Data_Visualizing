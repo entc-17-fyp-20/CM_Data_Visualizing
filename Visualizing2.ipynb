{
  "nbformat": 4,
  "nbformat_minor": 0,
  "metadata": {
    "colab": {
      "name": "Visualizing2.ipynb",
      "provenance": [],
      "collapsed_sections": [
        "P5ylVqkSFVT4",
        "ij36v9zRCYKL",
        "L8QuWlk2Dg7P",
        "2s1r0U_Lj42g",
        "PwanpBBfSAEw",
        "ZyhgS7csSNhi"
      ],
      "mount_file_id": "1a5v94Fk98eWNrXg-zMqYFFswweWF3qqY",
      "authorship_tag": "ABX9TyMYlwsB0o0nAhXDEUdPYK3B",
      "include_colab_link": true
    },
    "kernelspec": {
      "display_name": "Python 3",
      "name": "python3"
    },
    "language_info": {
      "name": "python"
    }
  },
  "cells": [
    {
      "cell_type": "markdown",
      "metadata": {
        "id": "view-in-github",
        "colab_type": "text"
      },
      "source": [
        "<a href=\"https://colab.research.google.com/github/entc-17-fyp-20/CM_Data_Visualizing/blob/main/Visualizing2.ipynb\" target=\"_parent\"><img src=\"https://colab.research.google.com/assets/colab-badge.svg\" alt=\"Open In Colab\"/></a>"
      ]
    },
    {
      "cell_type": "markdown",
      "metadata": {
        "id": "qi_q37XuRTGL"
      },
      "source": [
        "# **Intro**"
      ]
    },
    {
      "cell_type": "markdown",
      "metadata": {
        "id": "P5ylVqkSFVT4"
      },
      "source": [
        "## Intro - Importing libraries"
      ]
    },
    {
      "cell_type": "code",
      "metadata": {
        "id": "r3sAZT4-cKin"
      },
      "source": [
        "# !pip install -q dash\n",
        "# !pip install  jupyter-dash\n",
        "# !pip install -q dash_core_components\n",
        "# !pip install -q dash_html_components\n",
        "# !pip install -q dash_table\n",
        "# !pip install pyngrok --quiet\n",
        "# !pip install -U dataprep "
      ],
      "execution_count": 1,
      "outputs": []
    },
    {
      "cell_type": "code",
      "metadata": {
        "id": "ZAdiTByWHWl8"
      },
      "source": [
        "import numpy as np\n",
        "import pandas as pd\n",
        "import seaborn as sns\n",
        "import matplotlib.pyplot as plt\n",
        "from numpy.random import seed\n",
        "\n",
        "import plotly.express as px\n",
        "import plotly.graph_objects as go\n",
        "import plotly.figure_factory as ff"
      ],
      "execution_count": 2,
      "outputs": []
    },
    {
      "cell_type": "code",
      "metadata": {
        "id": "WxvbvBijgpJV"
      },
      "source": [
        "# import dash\n",
        "# import dash_core_components as dcc\n",
        "# import dash_html_components as html\n",
        "# from dash.dependencies import Input, Output\n",
        "# from dataprep.eda import create_report"
      ],
      "execution_count": 3,
      "outputs": []
    },
    {
      "cell_type": "markdown",
      "metadata": {
        "id": "Ah341Mxuc7ge"
      },
      "source": [
        "## Intro - Importing from Google Drive\n",
        "[Drive Link](https://drive.google.com/drive/folders/123Lba0BhxQA2O6Beekbeq52gMr_9EZ5Z?usp=sharing)\n",
        "\n"
      ]
    },
    {
      "cell_type": "code",
      "metadata": {
        "id": "CuXnPP7Z3WaY"
      },
      "source": [
        "#@title Select Dataset New { display-mode: \"form\" }\n",
        "turbine = 'T01' #@param [\"T01\", \"T02\",\"T03\",\"T22\",\"T34\",\"T54\"]\n",
        "path = '/content/drive/MyDrive/IIoT - Wind Turbine/FYP/Dataset/Merged/' + turbine + '.csv'\n",
        "df1 = pd.read_csv(path)"
      ],
      "execution_count": 4,
      "outputs": []
    },
    {
      "cell_type": "markdown",
      "metadata": {
        "id": "ij36v9zRCYKL"
      },
      "source": [
        "## Intro - Date and Time\n",
        "\n",
        "*   Adding \"Hour\" column"
      ]
    },
    {
      "cell_type": "code",
      "metadata": {
        "id": "7mhg40dnaU3n"
      },
      "source": [
        "df1['Date_Time'] = pd.to_datetime(df1['Date_Time'], format=\"%Y-%m-%d %H:%M:%S\")\n",
        "\n",
        "def hr_func(ts):\n",
        "    return ts.hour\n",
        "    \n",
        "df1[\"Hour\"] = pd.to_numeric(df1['Date_Time'].apply(hr_func), downcast=\"float\")"
      ],
      "execution_count": 7,
      "outputs": []
    },
    {
      "cell_type": "markdown",
      "metadata": {
        "id": "L8QuWlk2Dg7P"
      },
      "source": [
        "## Intro - Proprocessing\n",
        "Data clensing"
      ]
    },
    {
      "cell_type": "code",
      "metadata": {
        "id": "eP-VcL7b1eIt"
      },
      "source": [
        "# df1 = df1[df1['Generator_RPM']>0] # Removing rows with zero Generator_RPM\n",
        "# df1 = df1[df1['Gear_Oil_Tempeature']>0] # Removing negative temperature values\n",
        "#df1 "
      ],
      "execution_count": null,
      "outputs": []
    },
    {
      "cell_type": "markdown",
      "metadata": {
        "id": "2s1r0U_Lj42g"
      },
      "source": [
        "# **DataPrep**\n",
        "Report of data"
      ]
    },
    {
      "cell_type": "code",
      "metadata": {
        "id": "gKgTOuaKkCs8"
      },
      "source": [
        "#@title Show Report { display-mode: \"form\" }\n",
        "report = create_report(df1)\n",
        "report.show()\n",
        "report.save('Report')"
      ],
      "execution_count": null,
      "outputs": []
    },
    {
      "cell_type": "markdown",
      "metadata": {
        "id": "wVKHQz1JRHxW"
      },
      "source": [
        "# **Time series**"
      ]
    },
    {
      "cell_type": "code",
      "metadata": {
        "id": "oLbKbQjHNh-F"
      },
      "source": [
        "#@title One variable with time { display-mode: \"form\" }\n",
        "column_name = 'Ambient_Temperature' #@param ['Wind_Speed','Ambient_Temperature','Date_Time', \"Gear_Bearing_Temperature\",\"Gear_Oil_Tempeature\",\"Generator Winding Temperature Phase R\",\"Generator Winding Temperature Phase S\",\"Generator Winding Temperature Phase T\",\"Main bearing Temperature\",\"Generator Bearing Temperature DE\",\"Generator_Bearing_Tempeature\", 'Hydrulic_Oil_Pressure', 'Nacelle Temperature','Active_Power', 'Wind_Speed', 'Ambient_Temperature','Hydrulic_Oil_Temperature', 'Generator_RPM', 'voltage','Gearbox & Bearing temp', 'Hour']\n",
        "\n",
        "fig = go.Figure()\n",
        "\n",
        "fig.add_trace(\n",
        "    go.Scatter(x=list(df1['Date_Time']), y=list(df1[column_name]), name=column_name, yaxis=\"y\"))\n",
        "\n",
        "fig.add_trace(\n",
        "    go.Scatter(x=list(df1['Date_Time']), y=[df1[column_name].mean()] * len(df1[column_name]), name=\"Average of \"+ column_name, yaxis='y'))\n",
        "\n",
        "# Set title\n",
        "fig.update_layout(title_text= column_name)\n",
        "\n",
        "#fig = px.line(df1, x=\"Date_Time\" , y=column_name) \n",
        "fig.show()"
      ],
      "execution_count": null,
      "outputs": []
    },
    {
      "cell_type": "code",
      "metadata": {
        "id": "mBKO-Ee_7jub",
        "cellView": "form"
      },
      "source": [
        "#@title Outlier Detection\n",
        "#{ display-mode: \"form\" }\n",
        "column_name = 'Power_act' #@param ['Date_Time', 'Hydrulic_Oil_Pressure', 'Nacelle Temperature','Active_Power', 'Wind_Speed', 'Ambient_Temperature','Hydrulic_Oil_Temperature', 'Generator_RPM', 'voltage','Gearbox & Bearing temp', 'Hour', 'Power_act']\n",
        "column_name1 = 'Active_Power' #@param ['Date_Time', 'Hydrulic_Oil_Pressure', 'Nacelle Temperature','Active_Power', 'Wind_Speed', 'Ambient_Temperature','Hydrulic_Oil_Temperature', 'Generator_RPM', 'voltage','Gearbox & Bearing temp', 'Hour']\n",
        "\n",
        "gk = df1.groupby('Power_cate')\n",
        "gk1 = gk.get_group('replaced')\n",
        "gk2 = gk.get_group('actual')\n",
        "\n",
        "fig = go.Figure()\n",
        "fig.add_trace(go.Scatter(x=gk1[\"Date_Time\"], y=gk1[column_name], mode='markers',\n",
        "                  name='Replaced', yaxis=\"y\"))\n",
        "fig.add_trace(go.Scatter(x=gk2[\"Date_Time\"], y=gk2[column_name], mode='markers',\n",
        "                  name='Actual', yaxis=\"y\"))\n",
        "fig.add_trace(go.Scatter(x=df1[\"Date_Time\"], y=df1[column_name1], mode='markers',\n",
        "                  name='Actual', yaxis=\"y2\"))\n",
        "\n",
        "# Set title\n",
        "fig.update_layout(\n",
        "    title_text= column_name1 + \" Outliers\"\n",
        ")\n",
        "\n",
        "# Add range slider\n",
        "fig.update_layout(\n",
        "    yaxis=dict(\n",
        "        anchor=\"x\",\n",
        "        autorange=True,\n",
        "        domain=[0, 0.48],\n",
        "        linecolor=\"#673ab7\",\n",
        "        mirror=True,\n",
        "        #range=[0, 1000],\n",
        "        showline=True,\n",
        "        side=\"left\",\n",
        "        tickfont={\"color\": \"#673ab7\"},\n",
        "        tickmode=\"auto\",\n",
        "        ticks=\"\",\n",
        "        title=\"kW\",\n",
        "        titlefont={\"color\": \"#673ab7\"},\n",
        "        type=\"linear\",\n",
        "        zeroline=False\n",
        "    ),\n",
        "    yaxis2=dict(\n",
        "        anchor=\"x\",\n",
        "        autorange=True,\n",
        "        domain=[0.52, 1],\n",
        "        linecolor=\"#795548\",\n",
        "        mirror=True,\n",
        "        #range = [0,25],\n",
        "        showline=True,\n",
        "        side=\"left\",\n",
        "        tickfont={\"color\": \"#795548\"},\n",
        "        tickmode=\"auto\",\n",
        "        ticks=\"\",\n",
        "        title=\"kW\",\n",
        "        titlefont={\"color\": \"#795548\"},\n",
        "        type=\"linear\",\n",
        "        zeroline=False\n",
        "    )\n",
        ")\n",
        "\n",
        "# Update layout\n",
        "fig.update_layout(\n",
        "    dragmode=\"zoom\",\n",
        "    hovermode=\"x\",\n",
        "    legend=dict(traceorder=\"reversed\"),\n",
        "    height=600,\n",
        "    template=\"plotly_white\",\n",
        "    margin=dict(\n",
        "        t=100,\n",
        "        b=100\n",
        "    ),\n",
        ")\n",
        "\n",
        "fig.show()"
      ],
      "execution_count": null,
      "outputs": []
    },
    {
      "cell_type": "code",
      "metadata": {
        "id": "-vfGS0DdPw76"
      },
      "source": [
        "#@title Three variables in one figure { display-mode: \"form\" }\n",
        "column_name = 'Nacelle Temperature' #@param ['Date_Time', 'Hydrulic_Oil_Pressure', 'Nacelle Temperature','Active_Power', 'Wind_Speed', 'Ambient_Temperature','Hydrulic_Oil_Temperature', 'Generator_RPM', 'voltage','Gearbox & Bearing temp', 'Hour']\n",
        "column_name1 = 'Active_Power' #@param ['Date_Time', 'Hydrulic_Oil_Pressure', 'Nacelle Temperature','Active_Power', 'Wind_Speed', 'Ambient_Temperature','Hydrulic_Oil_Temperature', 'Generator_RPM', 'voltage','Gearbox & Bearing temp', 'Hour']\n",
        "column_name2 = 'Generator_RPM' #@param ['Date_Time', 'Hydrulic_Oil_Pressure', 'Nacelle Temperature','Active_Power', 'Wind_Speed', 'Ambient_Temperature','Hydrulic_Oil_Temperature', 'Generator_RPM', 'voltage','Gearbox & Bearing temp', 'Hour']\n",
        "\n",
        "fig = go.Figure()\n",
        "fig.add_trace(go.Scatter(x=df1[\"Date_Time\"], y=df1[column_name],\n",
        "                    mode='lines',\n",
        "                    name='R'))\n",
        "fig.add_trace(go.Scatter(x=df1[\"Date_Time\"], y=df1[column_name1],\n",
        "                    mode='lines',\n",
        "                    name='S'))\n",
        "fig.add_trace(go.Scatter(x=df1[\"Date_Time\"], y=df1[column_name2],\n",
        "                    mode='lines', name='T'))\n",
        "\n",
        "fig.show()"
      ],
      "execution_count": null,
      "outputs": []
    },
    {
      "cell_type": "code",
      "metadata": {
        "id": "qXLZoAD0asn4"
      },
      "source": [
        "#@title Three variables in three figures { display-mode: \"form\" }\n",
        "column_name = 'Active_Power' #@param ['Date_Time', 'Hydrulic_Oil_Pressure', 'Nacelle Temperature','Active_Power', 'Wind_Speed', 'Ambient_Temperature','Hydrulic_Oil_Temperature', 'Generator_RPM', 'voltage','Gearbox & Bearing temp', 'Hour']\n",
        "column_name1 = 'Wind_Speed' #@param ['Date_Time', 'Hydrulic_Oil_Pressure', 'Nacelle Temperature','Active_Power', 'Wind_Speed', 'Ambient_Temperature','Hydrulic_Oil_Temperature', 'Generator_RPM', 'voltage','Gearbox & Bearing temp', 'Hour']\n",
        "column_name2 = 'Generator_RPM' #@param ['Date_Time', 'Hydrulic_Oil_Pressure', 'Nacelle Temperature','Active_Power', 'Wind_Speed', 'Ambient_Temperature','Hydrulic_Oil_Temperature', 'Generator_RPM', 'voltage','Gearbox & Bearing temp', 'Hour',\"Power_act\"]\n",
        "\n",
        "unit1 = column_name.split()[-1]\n",
        "unit2 = column_name1.split()[-1]\n",
        "unit3 = column_name2.split()[-1]\n",
        "\n",
        "# Create figure\n",
        "fig = go.Figure()\n",
        "\n",
        "fig.add_trace(\n",
        "    go.Scatter(x=list(df1['Date_Time']), y=list(df1[column_name]), name=column_name, yaxis=\"y\"))\n",
        "\n",
        "fig.add_trace(\n",
        "    go.Scatter(x=list(df1['Date_Time']), y=list(df1[column_name1]), name=column_name1, yaxis=\"y2\"))\n",
        "\n",
        "fig.add_trace(\n",
        "    go.Scatter(x=list(df1['Date_Time']), y=list(df1[column_name2]), name=column_name2, yaxis=\"y3\"))\n",
        "\n",
        "# Set title\n",
        "fig.update_layout(\n",
        "    title_text= column_name + \" vs \"+ column_name1 +\" vs \"+ column_name2\n",
        ")\n",
        "\n",
        "# Add range slider\n",
        "fig.update_layout(\n",
        "    xaxis=dict(\n",
        "        rangeselector=dict(\n",
        "            buttons=list([\n",
        "                dict(count=30,\n",
        "                     label=\"30m\",\n",
        "                     step=\"minute\",\n",
        "                     stepmode=\"backward\"),\n",
        "                dict(count=1,\n",
        "                     label=\"1h\",\n",
        "                     step=\"hour\",\n",
        "                     stepmode=\"backward\"),\n",
        "                dict(count=6,\n",
        "                     label=\"6h\",\n",
        "                     step=\"hour\",\n",
        "                     stepmode=\"backward\"),\n",
        "                dict(count=1,\n",
        "                     label=\"1d\",\n",
        "                     step=\"day\",\n",
        "                     stepmode=\"backward\"),\n",
        "                dict(step=\"all\")\n",
        "            ])\n",
        "        ),\n",
        "        rangeslider=dict(\n",
        "            visible=True\n",
        "        ),\n",
        "        type=\"date\"\n",
        "    ),\n",
        "    yaxis=dict(\n",
        "        anchor=\"x\",\n",
        "        autorange=True,\n",
        "        domain=[0, 0.32],\n",
        "        linecolor=\"#673ab7\",\n",
        "        mirror=True,\n",
        "        range=[0, 1000],\n",
        "        showline=True,\n",
        "        side=\"left\",\n",
        "        tickfont={\"color\": \"#673ab7\"},\n",
        "        tickmode=\"auto\",\n",
        "        ticks=\"\",\n",
        "        title=unit1,\n",
        "        titlefont={\"color\": \"#673ab7\"},\n",
        "        type=\"linear\",\n",
        "        zeroline=False\n",
        "    ),\n",
        "    yaxis2=dict(\n",
        "        anchor=\"x\",\n",
        "        autorange=True,\n",
        "        domain=[0.33, 0.66],\n",
        "        linecolor=\"#795548\",\n",
        "        mirror=True,\n",
        "        range = [0,25],\n",
        "        showline=True,\n",
        "        side=\"left\",\n",
        "        tickfont={\"color\": \"#795548\"},\n",
        "        tickmode=\"auto\",\n",
        "        ticks=\"\",\n",
        "        title=unit2,\n",
        "        titlefont={\"color\": \"#795548\"},\n",
        "        type=\"linear\",\n",
        "        zeroline=False\n",
        "    ),\n",
        "     yaxis3=dict(\n",
        "        anchor=\"x\",\n",
        "        autorange=True,\n",
        "        domain=[0.67, 1],\n",
        "        linecolor=\"#795548\",\n",
        "        mirror=True,\n",
        "        range = [0,25],\n",
        "        showline=True,\n",
        "        side=\"left\",\n",
        "        tickfont={\"color\": \"#795548\"},\n",
        "        tickmode=\"auto\",\n",
        "        ticks=\"\",\n",
        "        title=unit3,\n",
        "        titlefont={\"color\": \"#795548\"},\n",
        "        type=\"linear\",\n",
        "        zeroline=False\n",
        "    )\n",
        ")\n",
        "\n",
        "# Update layout\n",
        "fig.update_layout(\n",
        "    dragmode=\"zoom\",\n",
        "    hovermode=\"x\",\n",
        "    legend=dict(traceorder=\"reversed\"),\n",
        "    height=600,\n",
        "    template=\"plotly_white\",\n",
        "    margin=dict(\n",
        "        t=100,\n",
        "        b=100\n",
        "    ),\n",
        ")\n",
        "\n",
        "fig.show()"
      ],
      "execution_count": null,
      "outputs": []
    },
    {
      "cell_type": "markdown",
      "metadata": {
        "id": "PwanpBBfSAEw"
      },
      "source": [
        "\n",
        "# Stat"
      ]
    },
    {
      "cell_type": "code",
      "metadata": {
        "id": "PUZrkGNAbfzC"
      },
      "source": [
        "#@title Box plot { display-mode: \"form\" }\n",
        "column_name = 'Active_Power' #@param ['Date_Time', 'Hydrulic_Oil_Pressure', 'Nacelle Temperature','Active_Power', 'Wind_Speed', 'Ambient_Temperature','Hydrulic_Oil_Temperature', 'Generator_RPM', 'voltage','Gearbox & Bearing temp', 'Hour']\n",
        "print(\"Avg: \", end=\" \")\n",
        "print(df1[column_name].mean())\n",
        "fig = px.box(df1, y=column_name)\n",
        "fig.show()\n",
        "#@markdown Upper fence = Q3 + (1.5 * IQR) |\n",
        "#@markdown Lower fence = Q1 – (1.5 * IQR) | Inter interquartile range\n"
      ],
      "execution_count": null,
      "outputs": []
    },
    {
      "cell_type": "code",
      "metadata": {
        "id": "f1rrpDaTOxHw"
      },
      "source": [
        "#@title 2D Scatter Plot { display-mode: \"form\" }\n",
        "column_name = \"Wind_Speed\" #@param ['Date_Time', 'Hydrulic_Oil_Pressure', 'Nacelle Temperature','Active_Power', 'Wind_Speed', 'Ambient_Temperature','Hydrulic_Oil_Temperature', 'Generator_RPM', 'voltage','Gearbox & Bearing temp', 'Hour']\n",
        "column_name1 = \"Active_Power\" #@param ['Date_Time', 'Hydrulic_Oil_Pressure', 'Nacelle Temperature','Active_Power', 'Wind_Speed', 'Ambient_Temperature','Hydrulic_Oil_Temperature', 'Generator_RPM', 'voltage','Gearbox & Bearing temp', 'Hour', 'Power_act']\n",
        "\n",
        "fig = px.scatter(df1, x=column_name, y=column_name1)\n",
        "fig.update_xaxes(ticks=\"inside\")\n",
        "fig.update_yaxes(ticks=\"inside\", col=1)\n",
        "fig.update_xaxes(showline=True, linewidth=2, linecolor='black', mirror=True, zerolinecolor='LightPink')\n",
        "fig.update_yaxes(showline=True, linewidth=2, linecolor='black', mirror=True, zerolinecolor='LightPink')\n",
        "if column_name1 == \"Power_act\":\n",
        "  fig.update_xaxes(range=[-1, 20])\n",
        "  fig.update_yaxes(range=[-50, 900])\n",
        "fig.show()"
      ],
      "execution_count": null,
      "outputs": []
    },
    {
      "cell_type": "code",
      "metadata": {
        "id": "OSl6GQKL8NMw"
      },
      "source": [
        "#@title 3D Scatter Plot { display-mode: \"form\" }\n",
        "column_name = \"Wind_Speed\" #@param ['Date_Time', 'Hydrulic_Oil_Pressure', 'Nacelle Temperature','Active_Power', 'Wind_Speed', 'Ambient_Temperature','Hydrulic_Oil_Temperature', 'Generator_RPM', 'voltage','Gearbox & Bearing temp', 'Hour']\n",
        "column_name1 = \"Date_Time\" #@param ['Date_Time', 'Hydrulic_Oil_Pressure', 'Nacelle Temperature','Active_Power', 'Wind_Speed', 'Ambient_Temperature','Hydrulic_Oil_Temperature', 'Generator_RPM', 'voltage','Gearbox & Bearing temp', 'Hour']\n",
        "column_name2 = \"Active_Power\" #@param ['Date_Time', 'Hydrulic_Oil_Pressure', 'Nacelle Temperature','Active_Power', 'Wind_Speed', 'Ambient_Temperature','Hydrulic_Oil_Temperature', 'Generator_RPM', 'voltage','Gearbox & Bearing temp', 'Hour', \"Power_act\"]\n",
        "\n",
        "fig = px.scatter_3d(df1, x=column_name, y=column_name1, z=column_name2)\n",
        "fig.update_xaxes(ticks=\"inside\")\n",
        "fig.update_yaxes(ticks=\"inside\", col=1)\n",
        "fig.update_layout(height=800)\n",
        "fig.show()"
      ],
      "execution_count": null,
      "outputs": []
    },
    {
      "cell_type": "code",
      "metadata": {
        "id": "Du71h_6vH62x"
      },
      "source": [
        "#@title Histogram { display-mode: \"form\" }\n",
        "column_name = 'Active_Power' #@param ['Date_Time', 'Hydrulic_Oil_Pressure', 'Nacelle Temperature','Active_Power', 'Wind_Speed', 'Ambient_Temperature','Hydrulic_Oil_Temperature', 'Generator_RPM', 'voltage','Gearbox & Bearing temp', 'Hour']\n",
        "print(\"Avg: \", end=\" \")\n",
        "print(df1[column_name].mean())\n",
        "fig = px.histogram(df1, x=column_name, nbins=20, histnorm='probability density')\n",
        "fig.update_layout(bargap=0.2)\n",
        "fig.show()"
      ],
      "execution_count": null,
      "outputs": []
    },
    {
      "cell_type": "code",
      "metadata": {
        "id": "1CJCt_3Js3U7"
      },
      "source": [
        "#@title Distplot with normal curve { display-mode: \"form\" }\n",
        "column_name = 'Wind_Speed' #@param ['Date_Time', 'Hydrulic_Oil_Pressure', 'Nacelle Temperature','Active_Power', 'Wind_Speed', 'Ambient_Temperature','Hydrulic_Oil_Temperature', 'Generator_RPM', 'voltage','Gearbox & Bearing temp', 'Hour']\n",
        "fig = px.histogram(df1, x=column_name, nbins=20, histnorm='probability density')\n",
        "\n",
        "group_labels = ['Normal Curve']\n",
        "df2 = [df1[column_name]]\n",
        "print(\"Avg: \", end=\" \")\n",
        "print(df1[column_name].mean())\n",
        "fig = ff.create_distplot(df2, group_labels, bin_size=.8,\n",
        "                         curve_type='normal')\n",
        "\n",
        "fig.show()"
      ],
      "execution_count": null,
      "outputs": []
    },
    {
      "cell_type": "code",
      "metadata": {
        "id": "ILCiE1gzRCUf"
      },
      "source": [
        "#@title Scatter Matrix { display-mode: \"form\" }\n",
        "df2 = df1.drop([\"Date_Time\", \"Hour\"] ,axis=1)\n",
        "fig = px.scatter_matrix(df2)\n",
        "fig.show()"
      ],
      "execution_count": null,
      "outputs": []
    },
    {
      "cell_type": "code",
      "metadata": {
        "id": "EAktgAozTOuL"
      },
      "source": [
        "#@title Correlation Heatmap { display-mode: \"form\" }\n",
        "df2 = df1.drop([\"Date_Time\", \"Hour\"] ,axis=1)\n",
        "# fig = px.imshow(df2.corr())\n",
        "# fig.show()\n",
        "f, ax = plt.subplots(figsize=(11, 9))\n",
        "sns.heatmap(df2.corr())"
      ],
      "execution_count": null,
      "outputs": []
    },
    {
      "cell_type": "markdown",
      "metadata": {
        "id": "ZyhgS7csSNhi"
      },
      "source": [
        "# Dash\n"
      ]
    },
    {
      "cell_type": "code",
      "metadata": {
        "colab": {
          "base_uri": "https://localhost:8080/"
        },
        "id": "-Hm7q5gQfvz2",
        "outputId": "14caea9f-9737-491a-c615-9fe8a463a123"
      },
      "source": [
        "from pyngrok import ngrok\n",
        "ngrok.kill()\n",
        "NGROK_AUTH_TOKEN = '1wZCkywjJChLrQjiYfFJqFTZenq_2xGVJJ64eDVA29x9A2Nam'\n",
        "ngrok.set_auth_token(NGROK_AUTH_TOKEN)\n",
        "ngrok.connect(8050)"
      ],
      "execution_count": null,
      "outputs": [
        {
          "output_type": "stream",
          "text": [
            "Updating authtoken for default \"config_path\" of \"ngrok_path\": /usr/local/lib/python3.7/dist-packages/pyngrok/bin/ngrok\n",
            "Opening tunnel named: http-8050-87138139-8ae6-41a0-b08f-dbac3509f450\n",
            "t=2021-08-24T07:20:53+0000 lvl=info msg=\"no configuration paths supplied\"\n",
            "t=2021-08-24T07:20:53+0000 lvl=info msg=\"using configuration at default config path\" path=/root/.ngrok2/ngrok.yml\n",
            "t=2021-08-24T07:20:53+0000 lvl=info msg=\"open config file\" path=/root/.ngrok2/ngrok.yml err=nil\n",
            "t=2021-08-24T07:20:53+0000 lvl=info msg=\"starting web service\" obj=web addr=127.0.0.1:4040\n",
            "t=2021-08-24T07:20:53+0000 lvl=info msg=\"tunnel session started\" obj=tunnels.session\n",
            "t=2021-08-24T07:20:53+0000 lvl=info msg=\"client session established\" obj=csess id=b2c2f5ed675e\n",
            "t=2021-08-24T07:20:53+0000 lvl=info msg=start pg=/api/tunnels id=9d4bb8d5038830a0\n",
            "t=2021-08-24T07:20:53+0000 lvl=info msg=end pg=/api/tunnels id=9d4bb8d5038830a0 status=200 dur=414.842µs\n",
            "t=2021-08-24T07:20:53+0000 lvl=info msg=start pg=/api/tunnels id=85bdac097cb3734f\n",
            "t=2021-08-24T07:20:53+0000 lvl=info msg=end pg=/api/tunnels id=85bdac097cb3734f status=200 dur=107.076µs\n",
            "t=2021-08-24T07:20:53+0000 lvl=info msg=start pg=/api/tunnels id=06cabdd64d6b5d81\n",
            "t=2021-08-24T07:20:53+0000 lvl=info msg=\"started tunnel\" obj=tunnels name=\"http-8050-87138139-8ae6-41a0-b08f-dbac3509f450 (http)\" addr=http://localhost:8050 url=http://7b66-34-125-156-210.ngrok.io\n",
            "t=2021-08-24T07:20:53+0000 lvl=info msg=\"started tunnel\" obj=tunnels name=http-8050-87138139-8ae6-41a0-b08f-dbac3509f450 addr=http://localhost:8050 url=https://7b66-34-125-156-210.ngrok.io\n",
            "t=2021-08-24T07:20:53+0000 lvl=info msg=end pg=/api/tunnels id=06cabdd64d6b5d81 status=201 dur=147.704095ms\n"
          ],
          "name": "stderr"
        },
        {
          "output_type": "execute_result",
          "data": {
            "text/plain": [
              "<NgrokTunnel: \"http://7b66-34-125-156-210.ngrok.io\" -> \"http://localhost:8050\">"
            ]
          },
          "metadata": {},
          "execution_count": 28
        },
        {
          "output_type": "stream",
          "text": [
            "t=2021-08-24T07:20:53+0000 lvl=info msg=start pg=\"/api/tunnels/http-8050-87138139-8ae6-41a0-b08f-dbac3509f450 (http)\" id=355ec4e2cfd2ec2c\n",
            "t=2021-08-24T07:20:53+0000 lvl=info msg=end pg=\"/api/tunnels/http-8050-87138139-8ae6-41a0-b08f-dbac3509f450 (http)\" id=355ec4e2cfd2ec2c status=200 dur=129.778µs\n"
          ],
          "name": "stderr"
        }
      ]
    },
    {
      "cell_type": "markdown",
      "metadata": {
        "id": "fxq4SVeSFzd_"
      },
      "source": [
        "## Time series visualizing - non interactive"
      ]
    },
    {
      "cell_type": "code",
      "metadata": {
        "id": "i9NB-qehYbNE",
        "colab": {
          "base_uri": "https://localhost:8080/"
        },
        "outputId": "e9812715-ca84-4311-f8bd-e5bfaa21e837"
      },
      "source": [
        "app = dash.Dash()\n",
        "app.layout = html.Div([\n",
        "    dcc.Graph(figure=fig)\n",
        "])\n",
        "\n",
        "if __name__ == '__main__':\n",
        "    app.run_server(debug=True, use_reloader=False)"
      ],
      "execution_count": null,
      "outputs": [
        {
          "output_type": "stream",
          "text": [
            "Dash is running on http://127.0.0.1:8050/\n",
            "\n",
            "Dash is running on http://127.0.0.1:8050/\n",
            "\n",
            "Dash is running on http://127.0.0.1:8050/\n",
            "\n"
          ],
          "name": "stdout"
        },
        {
          "output_type": "stream",
          "text": [
            "Dash is running on http://127.0.0.1:8050/\n",
            "\n"
          ],
          "name": "stderr"
        },
        {
          "output_type": "stream",
          "text": [
            " * Serving Flask app \"__main__\" (lazy loading)\n",
            " * Environment: production\n",
            "\u001b[31m   WARNING: This is a development server. Do not use it in a production deployment.\u001b[0m\n",
            "\u001b[2m   Use a production WSGI server instead.\u001b[0m\n",
            " * Debug mode: on\n"
          ],
          "name": "stdout"
        },
        {
          "output_type": "stream",
          "text": [
            "t=2021-08-24T07:21:24+0000 lvl=info msg=\"join connections\" obj=join id=ae5b3b1a437c l=127.0.0.1:8050 r=112.135.33.128:64745\n",
            "t=2021-08-24T07:21:25+0000 lvl=info msg=\"join connections\" obj=join id=9ca0ae6a4bf8 l=127.0.0.1:8050 r=112.135.33.128:65141\n",
            "t=2021-08-24T07:21:25+0000 lvl=info msg=\"join connections\" obj=join id=72a4bbd7f35d l=127.0.0.1:8050 r=112.135.33.128:65157\n",
            "t=2021-08-24T07:21:25+0000 lvl=info msg=\"join connections\" obj=join id=b586d6f67953 l=127.0.0.1:8050 r=112.135.33.128:64745\n",
            "t=2021-08-24T07:21:25+0000 lvl=info msg=\"join connections\" obj=join id=7eeca9454744 l=127.0.0.1:8050 r=112.135.33.128:64512\n",
            "t=2021-08-24T07:21:25+0000 lvl=info msg=\"join connections\" obj=join id=f97f1db33c0f l=127.0.0.1:8050 r=112.135.33.128:63601\n",
            "t=2021-08-24T07:21:25+0000 lvl=info msg=\"join connections\" obj=join id=59623e08afc3 l=127.0.0.1:8050 r=112.135.33.128:65008\n",
            "t=2021-08-24T07:21:25+0000 lvl=info msg=\"join connections\" obj=join id=f36bf8bd1dbf l=127.0.0.1:8050 r=112.135.33.128:63601\n",
            "t=2021-08-24T07:21:25+0000 lvl=info msg=\"join connections\" obj=join id=c45fc9222bd6 l=127.0.0.1:8050 r=112.135.33.128:64512\n",
            "t=2021-08-24T07:21:28+0000 lvl=info msg=\"join connections\" obj=join id=eaad47e5a548 l=127.0.0.1:8050 r=112.135.33.128:64512\n",
            "t=2021-08-24T07:21:28+0000 lvl=info msg=\"join connections\" obj=join id=84c466817faf l=127.0.0.1:8050 r=112.135.33.128:65008\n",
            "t=2021-08-24T07:21:28+0000 lvl=info msg=\"join connections\" obj=join id=059ac5669b37 l=127.0.0.1:8050 r=112.135.33.128:65141\n",
            "t=2021-08-24T07:21:31+0000 lvl=info msg=\"join connections\" obj=join id=6c684f8d3e7d l=127.0.0.1:8050 r=112.135.33.128:65141\n",
            "t=2021-08-24T07:21:33+0000 lvl=info msg=\"join connections\" obj=join id=7d0961456a72 l=127.0.0.1:8050 r=112.135.33.128:65141\n",
            "t=2021-08-24T07:21:33+0000 lvl=info msg=\"join connections\" obj=join id=0cf2e9d77f47 l=127.0.0.1:8050 r=112.135.33.128:64512\n",
            "t=2021-08-24T07:21:34+0000 lvl=info msg=\"join connections\" obj=join id=69848ec5e784 l=127.0.0.1:8050 r=112.135.33.128:63898\n",
            "t=2021-08-24T07:23:34+0000 lvl=info msg=\"join connections\" obj=join id=b8bbe5d94862 l=127.0.0.1:8050 r=112.135.33.128:63593\n",
            "t=2021-08-24T07:23:39+0000 lvl=info msg=\"join connections\" obj=join id=05c748ea2cad l=127.0.0.1:8050 r=112.135.33.128:63593\n",
            "t=2021-08-24T07:23:40+0000 lvl=info msg=\"join connections\" obj=join id=bf2c334ee546 l=127.0.0.1:8050 r=112.135.33.128:63593\n",
            "t=2021-08-24T07:23:43+0000 lvl=info msg=\"join connections\" obj=join id=ba1234bf3179 l=127.0.0.1:8050 r=112.135.33.128:63593\n",
            "t=2021-08-24T07:23:46+0000 lvl=info msg=\"join connections\" obj=join id=83ddb4a15ebf l=127.0.0.1:8050 r=112.135.33.128:63593\n",
            "t=2021-08-24T07:23:49+0000 lvl=info msg=\"join connections\" obj=join id=5cdbdd9d3b5a l=127.0.0.1:8050 r=112.135.33.128:63593\n",
            "t=2021-08-24T07:23:52+0000 lvl=info msg=\"join connections\" obj=join id=9ca780dba567 l=127.0.0.1:8050 r=112.135.33.128:63593\n",
            "t=2021-08-24T07:23:55+0000 lvl=info msg=\"join connections\" obj=join id=b5e9f2254e04 l=127.0.0.1:8050 r=112.135.33.128:63593\n",
            "t=2021-08-24T07:23:58+0000 lvl=info msg=\"join connections\" obj=join id=63533634c4db l=127.0.0.1:8050 r=112.135.33.128:63593\n",
            "t=2021-08-24T07:24:01+0000 lvl=info msg=\"join connections\" obj=join id=83d11212e7a3 l=127.0.0.1:8050 r=112.135.33.128:63593\n",
            "t=2021-08-24T07:24:04+0000 lvl=info msg=\"join connections\" obj=join id=2f84d33e1493 l=127.0.0.1:8050 r=112.135.33.128:63593\n",
            "t=2021-08-24T07:24:07+0000 lvl=info msg=\"join connections\" obj=join id=5a7b770a4a62 l=127.0.0.1:8050 r=112.135.33.128:63593\n",
            "t=2021-08-24T07:24:10+0000 lvl=info msg=\"join connections\" obj=join id=118c27b7890f l=127.0.0.1:8050 r=112.135.33.128:63593\n",
            "t=2021-08-24T07:24:13+0000 lvl=info msg=\"join connections\" obj=join id=feb4ffefe94a l=127.0.0.1:8050 r=112.135.33.128:63593\n",
            "t=2021-08-24T07:24:16+0000 lvl=info msg=\"join connections\" obj=join id=4e1a8c1b02f7 l=127.0.0.1:8050 r=112.135.33.128:63593\n",
            "t=2021-08-24T07:24:19+0000 lvl=info msg=\"join connections\" obj=join id=70aa5295205c l=127.0.0.1:8050 r=112.135.33.128:63593\n",
            "t=2021-08-24T07:24:22+0000 lvl=info msg=\"join connections\" obj=join id=fcca5159922e l=127.0.0.1:8050 r=112.135.33.128:63593\n",
            "t=2021-08-24T07:24:25+0000 lvl=info msg=\"join connections\" obj=join id=18054a83e7cf l=127.0.0.1:8050 r=112.135.33.128:63593\n",
            "t=2021-08-24T07:24:28+0000 lvl=info msg=\"join connections\" obj=join id=9273da08a5ba l=127.0.0.1:8050 r=112.135.33.128:63593\n",
            "t=2021-08-24T07:24:31+0000 lvl=info msg=\"join connections\" obj=join id=e086f7083527 l=127.0.0.1:8050 r=112.135.33.128:63593\n",
            "t=2021-08-24T07:24:34+0000 lvl=info msg=\"join connections\" obj=join id=98529f1c0ac3 l=127.0.0.1:8050 r=112.135.33.128:63593\n",
            "t=2021-08-24T07:24:38+0000 lvl=info msg=\"join connections\" obj=join id=ae86f5793ce9 l=127.0.0.1:8050 r=112.135.33.128:63593\n",
            "t=2021-08-24T07:24:40+0000 lvl=info msg=\"join connections\" obj=join id=76ed97c2aa7e l=127.0.0.1:8050 r=112.135.33.128:63593\n",
            "t=2021-08-24T07:24:43+0000 lvl=info msg=\"join connections\" obj=join id=1e62b7e79800 l=127.0.0.1:8050 r=112.135.33.128:63593\n",
            "t=2021-08-24T07:24:46+0000 lvl=info msg=\"join connections\" obj=join id=fcb713255c09 l=127.0.0.1:8050 r=112.135.33.128:63593\n",
            "t=2021-08-24T07:24:49+0000 lvl=info msg=\"join connections\" obj=join id=79658122767c l=127.0.0.1:8050 r=112.135.33.128:63593\n",
            "t=2021-08-24T07:24:52+0000 lvl=info msg=\"join connections\" obj=join id=9a7d52134698 l=127.0.0.1:8050 r=112.135.33.128:63593\n",
            "t=2021-08-24T07:24:55+0000 lvl=info msg=\"join connections\" obj=join id=aa281c86f37f l=127.0.0.1:8050 r=112.135.33.128:63593\n",
            "t=2021-08-24T07:24:58+0000 lvl=info msg=\"join connections\" obj=join id=f70ff0565c61 l=127.0.0.1:8050 r=112.135.33.128:63593\n",
            "t=2021-08-24T07:25:01+0000 lvl=info msg=\"join connections\" obj=join id=6270bb331109 l=127.0.0.1:8050 r=112.135.33.128:63593\n",
            "t=2021-08-24T07:25:04+0000 lvl=info msg=\"join connections\" obj=join id=27fc3660e651 l=127.0.0.1:8050 r=112.135.33.128:63593\n",
            "t=2021-08-24T07:25:08+0000 lvl=info msg=\"join connections\" obj=join id=0b6d225d1e8c l=127.0.0.1:8050 r=112.135.33.128:63593\n",
            "t=2021-08-24T07:25:10+0000 lvl=info msg=\"join connections\" obj=join id=01ed08728db4 l=127.0.0.1:8050 r=112.135.33.128:63593\n",
            "t=2021-08-24T07:25:13+0000 lvl=info msg=\"join connections\" obj=join id=8c7a6ffb114e l=127.0.0.1:8050 r=112.135.33.128:63593\n",
            "t=2021-08-24T07:25:16+0000 lvl=info msg=\"join connections\" obj=join id=2adc9263883d l=127.0.0.1:8050 r=112.135.33.128:63593\n",
            "t=2021-08-24T07:25:19+0000 lvl=info msg=\"join connections\" obj=join id=50bc39bf9e57 l=127.0.0.1:8050 r=112.135.33.128:63593\n",
            "t=2021-08-24T07:25:22+0000 lvl=info msg=\"join connections\" obj=join id=a32af1b9df2b l=127.0.0.1:8050 r=112.135.33.128:63593\n",
            "t=2021-08-24T07:25:25+0000 lvl=info msg=\"join connections\" obj=join id=734522d90f61 l=127.0.0.1:8050 r=112.135.33.128:63593\n",
            "t=2021-08-24T07:25:29+0000 lvl=info msg=\"join connections\" obj=join id=06301e33211a l=127.0.0.1:8050 r=112.135.33.128:63593\n",
            "t=2021-08-24T07:25:31+0000 lvl=info msg=\"join connections\" obj=join id=ef490f66eb73 l=127.0.0.1:8050 r=112.135.33.128:63593\n",
            "t=2021-08-24T07:25:34+0000 lvl=info msg=\"join connections\" obj=join id=6ed8b2e6d17c l=127.0.0.1:8050 r=112.135.33.128:63593\n",
            "t=2021-08-24T07:25:37+0000 lvl=info msg=\"join connections\" obj=join id=d99a3fb2df5d l=127.0.0.1:8050 r=112.135.33.128:63593\n",
            "t=2021-08-24T07:25:40+0000 lvl=info msg=\"join connections\" obj=join id=628de705e246 l=127.0.0.1:8050 r=112.135.33.128:63593\n",
            "t=2021-08-24T07:25:44+0000 lvl=info msg=\"join connections\" obj=join id=2b05f72b4d14 l=127.0.0.1:8050 r=112.135.33.128:63593\n",
            "t=2021-08-24T07:25:47+0000 lvl=info msg=\"join connections\" obj=join id=76124fbb18d5 l=127.0.0.1:8050 r=112.135.33.128:63593\n",
            "t=2021-08-24T07:25:49+0000 lvl=info msg=\"join connections\" obj=join id=a578b012a7b0 l=127.0.0.1:8050 r=112.135.33.128:63593\n",
            "t=2021-08-24T07:25:52+0000 lvl=info msg=\"join connections\" obj=join id=62144e0e0564 l=127.0.0.1:8050 r=112.135.33.128:63593\n",
            "t=2021-08-24T07:25:55+0000 lvl=info msg=\"join connections\" obj=join id=da3308cc976d l=127.0.0.1:8050 r=112.135.33.128:63593\n",
            "t=2021-08-24T07:25:58+0000 lvl=info msg=\"join connections\" obj=join id=325d8b53f91e l=127.0.0.1:8050 r=112.135.33.128:63593\n",
            "t=2021-08-24T07:26:01+0000 lvl=info msg=\"join connections\" obj=join id=497786539a07 l=127.0.0.1:8050 r=112.135.33.128:64062\n",
            "t=2021-08-24T07:26:04+0000 lvl=info msg=\"join connections\" obj=join id=aeba020144b7 l=127.0.0.1:8050 r=112.135.33.128:64062\n",
            "t=2021-08-24T07:26:07+0000 lvl=info msg=\"join connections\" obj=join id=3c67bc7626fd l=127.0.0.1:8050 r=112.135.33.128:64062\n",
            "t=2021-08-24T07:26:10+0000 lvl=info msg=\"join connections\" obj=join id=12473d10d6fa l=127.0.0.1:8050 r=112.135.33.128:64656\n",
            "t=2021-08-24T07:26:13+0000 lvl=info msg=\"join connections\" obj=join id=930eb8405f37 l=127.0.0.1:8050 r=112.135.33.128:64656\n",
            "t=2021-08-24T07:26:16+0000 lvl=info msg=\"join connections\" obj=join id=7c2bf3905884 l=127.0.0.1:8050 r=112.135.33.128:64656\n",
            "t=2021-08-24T07:26:19+0000 lvl=info msg=\"join connections\" obj=join id=798424f9e104 l=127.0.0.1:8050 r=112.135.33.128:64656\n",
            "t=2021-08-24T07:26:22+0000 lvl=info msg=\"join connections\" obj=join id=b81cd9fe67fd l=127.0.0.1:8050 r=112.135.33.128:64656\n",
            "t=2021-08-24T07:26:25+0000 lvl=info msg=\"join connections\" obj=join id=cd6450a71b38 l=127.0.0.1:8050 r=112.135.33.128:64656\n",
            "t=2021-08-24T07:26:28+0000 lvl=info msg=\"join connections\" obj=join id=190c31149a03 l=127.0.0.1:8050 r=112.135.33.128:64656\n",
            "t=2021-08-24T07:26:31+0000 lvl=info msg=\"join connections\" obj=join id=50ef035a6ee2 l=127.0.0.1:8050 r=112.135.33.128:65138\n",
            "t=2021-08-24T07:26:34+0000 lvl=info msg=\"join connections\" obj=join id=2340d5bc0144 l=127.0.0.1:8050 r=112.135.33.128:65138\n",
            "t=2021-08-24T07:26:37+0000 lvl=info msg=\"join connections\" obj=join id=1df267ae47c9 l=127.0.0.1:8050 r=112.135.33.128:65138\n",
            "t=2021-08-24T07:26:40+0000 lvl=info msg=\"join connections\" obj=join id=e1083c2b9d9a l=127.0.0.1:8050 r=112.135.33.128:65378\n",
            "t=2021-08-24T07:26:43+0000 lvl=info msg=\"join connections\" obj=join id=ec74810597cd l=127.0.0.1:8050 r=112.135.33.128:65378\n",
            "t=2021-08-24T07:26:47+0000 lvl=info msg=\"join connections\" obj=join id=2b14943dd7e4 l=127.0.0.1:8050 r=112.135.33.128:65378\n",
            "t=2021-08-24T07:26:49+0000 lvl=info msg=\"join connections\" obj=join id=2a4201fe23f1 l=127.0.0.1:8050 r=112.135.33.128:65378\n",
            "t=2021-08-24T07:26:52+0000 lvl=info msg=\"join connections\" obj=join id=929d57bfc50b l=127.0.0.1:8050 r=112.135.33.128:65378\n",
            "t=2021-08-24T07:26:55+0000 lvl=info msg=\"join connections\" obj=join id=fa3388027167 l=127.0.0.1:8050 r=112.135.33.128:65378\n",
            "t=2021-08-24T07:26:58+0000 lvl=info msg=\"join connections\" obj=join id=8a27badc51e0 l=127.0.0.1:8050 r=112.135.33.128:65378\n",
            "t=2021-08-24T07:27:01+0000 lvl=info msg=\"join connections\" obj=join id=b10e73de75a1 l=127.0.0.1:8050 r=112.135.33.128:64121\n",
            "t=2021-08-24T07:27:04+0000 lvl=info msg=\"join connections\" obj=join id=e9d8789a467a l=127.0.0.1:8050 r=112.135.33.128:64121\n",
            "t=2021-08-24T07:27:07+0000 lvl=info msg=\"join connections\" obj=join id=e6e85ea97cdd l=127.0.0.1:8050 r=112.135.33.128:64121\n",
            "t=2021-08-24T07:27:10+0000 lvl=info msg=\"join connections\" obj=join id=44354d5ba93b l=127.0.0.1:8050 r=112.135.33.128:65122\n",
            "t=2021-08-24T07:27:13+0000 lvl=info msg=\"join connections\" obj=join id=cb42a3416d53 l=127.0.0.1:8050 r=112.135.33.128:65122\n",
            "t=2021-08-24T07:27:16+0000 lvl=info msg=\"join connections\" obj=join id=3a2c4132329f l=127.0.0.1:8050 r=112.135.33.128:65122\n",
            "t=2021-08-24T07:27:20+0000 lvl=info msg=\"join connections\" obj=join id=cdecf7b6c619 l=127.0.0.1:8050 r=112.135.33.128:65122\n",
            "t=2021-08-24T07:27:22+0000 lvl=info msg=\"join connections\" obj=join id=eef99884e283 l=127.0.0.1:8050 r=112.135.33.128:65122\n",
            "t=2021-08-24T07:27:25+0000 lvl=info msg=\"join connections\" obj=join id=003dfebbbe51 l=127.0.0.1:8050 r=112.135.33.128:65122\n",
            "t=2021-08-24T07:27:28+0000 lvl=info msg=\"join connections\" obj=join id=f77ffa35584c l=127.0.0.1:8050 r=112.135.33.128:65122\n",
            "t=2021-08-24T07:27:31+0000 lvl=info msg=\"join connections\" obj=join id=096fd5308c3b l=127.0.0.1:8050 r=112.135.33.128:64985\n",
            "t=2021-08-24T07:27:34+0000 lvl=info msg=\"join connections\" obj=join id=f8b2f69ce96b l=127.0.0.1:8050 r=112.135.33.128:64985\n",
            "t=2021-08-24T07:27:37+0000 lvl=info msg=\"join connections\" obj=join id=3e500a281d92 l=127.0.0.1:8050 r=112.135.33.128:64985\n",
            "t=2021-08-24T07:27:40+0000 lvl=info msg=\"join connections\" obj=join id=f77b9a0646a3 l=127.0.0.1:8050 r=112.135.33.128:65142\n",
            "t=2021-08-24T07:27:43+0000 lvl=info msg=\"join connections\" obj=join id=05fe295a4a43 l=127.0.0.1:8050 r=112.135.33.128:65142\n",
            "t=2021-08-24T07:27:46+0000 lvl=info msg=\"join connections\" obj=join id=a95ce93f5c32 l=127.0.0.1:8050 r=112.135.33.128:65142\n",
            "t=2021-08-24T07:27:49+0000 lvl=info msg=\"join connections\" obj=join id=9685d48a4f85 l=127.0.0.1:8050 r=112.135.33.128:65142\n",
            "t=2021-08-24T07:27:52+0000 lvl=info msg=\"join connections\" obj=join id=ddccb0b66c25 l=127.0.0.1:8050 r=112.135.33.128:65142\n",
            "t=2021-08-24T07:27:55+0000 lvl=info msg=\"join connections\" obj=join id=1aeb14bd385e l=127.0.0.1:8050 r=112.135.33.128:65142\n",
            "t=2021-08-24T07:27:58+0000 lvl=info msg=\"join connections\" obj=join id=504617b2a490 l=127.0.0.1:8050 r=112.135.33.128:65142\n",
            "t=2021-08-24T07:28:01+0000 lvl=info msg=\"join connections\" obj=join id=f6ec57608009 l=127.0.0.1:8050 r=112.135.33.128:63596\n",
            "t=2021-08-24T07:28:04+0000 lvl=info msg=\"join connections\" obj=join id=4e0307c97072 l=127.0.0.1:8050 r=112.135.33.128:63596\n",
            "t=2021-08-24T07:28:07+0000 lvl=info msg=\"join connections\" obj=join id=c1c19c5b7231 l=127.0.0.1:8050 r=112.135.33.128:63596\n",
            "t=2021-08-24T07:28:10+0000 lvl=info msg=\"join connections\" obj=join id=5a95dda37b0c l=127.0.0.1:8050 r=112.135.33.128:63596\n",
            "t=2021-08-24T07:28:13+0000 lvl=info msg=\"join connections\" obj=join id=01fb26390432 l=127.0.0.1:8050 r=112.135.33.128:63596\n",
            "t=2021-08-24T07:28:16+0000 lvl=info msg=\"join connections\" obj=join id=25cfe92228b5 l=127.0.0.1:8050 r=112.135.33.128:63596\n",
            "t=2021-08-24T07:28:19+0000 lvl=info msg=\"join connections\" obj=join id=52a02737bb72 l=127.0.0.1:8050 r=112.135.33.128:63596\n",
            "t=2021-08-24T07:28:22+0000 lvl=info msg=\"join connections\" obj=join id=ce2e0158a3b9 l=127.0.0.1:8050 r=112.135.33.128:63596\n",
            "t=2021-08-24T07:28:25+0000 lvl=info msg=\"join connections\" obj=join id=167bd0091975 l=127.0.0.1:8050 r=112.135.33.128:63596\n",
            "t=2021-08-24T07:28:28+0000 lvl=info msg=\"join connections\" obj=join id=dc011734ec66 l=127.0.0.1:8050 r=112.135.33.128:63596\n",
            "t=2021-08-24T07:28:31+0000 lvl=info msg=\"join connections\" obj=join id=a43ff8327ec8 l=127.0.0.1:8050 r=112.135.33.128:63596\n",
            "t=2021-08-24T07:28:34+0000 lvl=info msg=\"join connections\" obj=join id=85a6f468fe44 l=127.0.0.1:8050 r=112.135.33.128:63596\n",
            "t=2021-08-24T07:28:37+0000 lvl=info msg=\"join connections\" obj=join id=6a07eb6b006b l=127.0.0.1:8050 r=112.135.33.128:63596\n",
            "t=2021-08-24T07:28:40+0000 lvl=info msg=\"join connections\" obj=join id=8a069cbcda47 l=127.0.0.1:8050 r=112.135.33.128:63596\n",
            "t=2021-08-24T07:28:43+0000 lvl=info msg=\"join connections\" obj=join id=980418c735c0 l=127.0.0.1:8050 r=112.135.33.128:63596\n",
            "t=2021-08-24T07:28:46+0000 lvl=info msg=\"join connections\" obj=join id=b73ea0b11d9a l=127.0.0.1:8050 r=112.135.33.128:63596\n",
            "t=2021-08-24T07:28:49+0000 lvl=info msg=\"join connections\" obj=join id=9c9e6c549fd4 l=127.0.0.1:8050 r=112.135.33.128:63596\n",
            "t=2021-08-24T07:28:52+0000 lvl=info msg=\"join connections\" obj=join id=7f960885bec0 l=127.0.0.1:8050 r=112.135.33.128:63596\n",
            "t=2021-08-24T07:28:55+0000 lvl=info msg=\"join connections\" obj=join id=c73733d4875c l=127.0.0.1:8050 r=112.135.33.128:63596\n",
            "t=2021-08-24T07:28:58+0000 lvl=info msg=\"join connections\" obj=join id=f64f3b8b0089 l=127.0.0.1:8050 r=112.135.33.128:63596\n",
            "t=2021-08-24T07:29:01+0000 lvl=info msg=\"join connections\" obj=join id=5cb8a9d9e393 l=127.0.0.1:8050 r=112.135.33.128:63596\n",
            "t=2021-08-24T07:29:04+0000 lvl=info msg=\"join connections\" obj=join id=012088f1d1c9 l=127.0.0.1:8050 r=112.135.33.128:63596\n",
            "t=2021-08-24T07:29:07+0000 lvl=info msg=\"join connections\" obj=join id=181b12429c34 l=127.0.0.1:8050 r=112.135.33.128:63596\n",
            "t=2021-08-24T07:29:10+0000 lvl=info msg=\"join connections\" obj=join id=cf20b70fa3d8 l=127.0.0.1:8050 r=112.135.33.128:63596\n",
            "t=2021-08-24T07:29:13+0000 lvl=info msg=\"join connections\" obj=join id=2b684128b37d l=127.0.0.1:8050 r=112.135.33.128:63596\n",
            "t=2021-08-24T07:29:16+0000 lvl=info msg=\"join connections\" obj=join id=c7407f3980a8 l=127.0.0.1:8050 r=112.135.33.128:63596\n",
            "t=2021-08-24T07:29:19+0000 lvl=info msg=\"join connections\" obj=join id=a0c7483883ee l=127.0.0.1:8050 r=112.135.33.128:63596\n",
            "t=2021-08-24T07:29:22+0000 lvl=info msg=\"join connections\" obj=join id=eb8d1fda9221 l=127.0.0.1:8050 r=112.135.33.128:63596\n",
            "t=2021-08-24T07:29:25+0000 lvl=info msg=\"join connections\" obj=join id=37d5161a8f3a l=127.0.0.1:8050 r=112.135.33.128:63596\n",
            "t=2021-08-24T07:29:28+0000 lvl=info msg=\"join connections\" obj=join id=db0102dae0b2 l=127.0.0.1:8050 r=112.135.33.128:63596\n",
            "t=2021-08-24T07:29:31+0000 lvl=info msg=\"join connections\" obj=join id=ef7ebf281f57 l=127.0.0.1:8050 r=112.135.33.128:63596\n",
            "t=2021-08-24T07:29:34+0000 lvl=info msg=\"join connections\" obj=join id=cee74fed14a8 l=127.0.0.1:8050 r=112.135.33.128:63596\n",
            "t=2021-08-24T07:29:37+0000 lvl=info msg=\"join connections\" obj=join id=5cb1fd22ba40 l=127.0.0.1:8050 r=112.135.33.128:63596\n",
            "t=2021-08-24T07:29:40+0000 lvl=info msg=\"join connections\" obj=join id=8cfe4027e6c2 l=127.0.0.1:8050 r=112.135.33.128:63596\n",
            "t=2021-08-24T07:29:43+0000 lvl=info msg=\"join connections\" obj=join id=0d43ae24ffe7 l=127.0.0.1:8050 r=112.135.33.128:63596\n",
            "t=2021-08-24T07:29:46+0000 lvl=info msg=\"join connections\" obj=join id=65169751a4a3 l=127.0.0.1:8050 r=112.135.33.128:63596\n",
            "t=2021-08-24T07:29:49+0000 lvl=info msg=\"join connections\" obj=join id=d35b6a4d1750 l=127.0.0.1:8050 r=112.135.33.128:63596\n",
            "t=2021-08-24T07:29:52+0000 lvl=info msg=\"join connections\" obj=join id=9dc28c3d7973 l=127.0.0.1:8050 r=112.135.33.128:63596\n",
            "t=2021-08-24T07:29:55+0000 lvl=info msg=\"join connections\" obj=join id=ec843772e588 l=127.0.0.1:8050 r=112.135.33.128:63596\n",
            "t=2021-08-24T07:29:58+0000 lvl=info msg=\"join connections\" obj=join id=0dd6b609f9e4 l=127.0.0.1:8050 r=112.135.33.128:63596\n",
            "t=2021-08-24T07:30:01+0000 lvl=info msg=\"join connections\" obj=join id=ee11ead3e8d9 l=127.0.0.1:8050 r=112.135.33.128:63596\n",
            "t=2021-08-24T07:30:04+0000 lvl=info msg=\"join connections\" obj=join id=8a22f1d066be l=127.0.0.1:8050 r=112.135.33.128:63596\n",
            "t=2021-08-24T07:30:07+0000 lvl=info msg=\"join connections\" obj=join id=b24aeb096536 l=127.0.0.1:8050 r=112.135.33.128:63596\n",
            "t=2021-08-24T07:30:10+0000 lvl=info msg=\"join connections\" obj=join id=31ad5d85c522 l=127.0.0.1:8050 r=112.135.33.128:63596\n",
            "t=2021-08-24T07:30:13+0000 lvl=info msg=\"join connections\" obj=join id=2be1398cb7b0 l=127.0.0.1:8050 r=112.135.33.128:63596\n",
            "t=2021-08-24T07:30:16+0000 lvl=info msg=\"join connections\" obj=join id=b5e86300e437 l=127.0.0.1:8050 r=112.135.33.128:63596\n",
            "t=2021-08-24T07:30:19+0000 lvl=info msg=\"join connections\" obj=join id=16814bcc2555 l=127.0.0.1:8050 r=112.135.33.128:63596\n",
            "t=2021-08-24T07:30:22+0000 lvl=info msg=\"join connections\" obj=join id=0418e24c52bc l=127.0.0.1:8050 r=112.135.33.128:63596\n",
            "t=2021-08-24T07:30:25+0000 lvl=info msg=\"join connections\" obj=join id=b10a35d5d77c l=127.0.0.1:8050 r=112.135.33.128:63596\n",
            "t=2021-08-24T07:30:28+0000 lvl=info msg=\"join connections\" obj=join id=f8c3d3602421 l=127.0.0.1:8050 r=112.135.33.128:63596\n",
            "t=2021-08-24T07:30:31+0000 lvl=info msg=\"join connections\" obj=join id=e6afda70ce76 l=127.0.0.1:8050 r=112.135.33.128:63596\n",
            "t=2021-08-24T07:30:34+0000 lvl=info msg=\"join connections\" obj=join id=bd73d6b7943c l=127.0.0.1:8050 r=112.135.33.128:63596\n",
            "t=2021-08-24T07:30:37+0000 lvl=info msg=\"join connections\" obj=join id=de362d7b7613 l=127.0.0.1:8050 r=112.135.33.128:63596\n",
            "t=2021-08-24T07:30:40+0000 lvl=info msg=\"join connections\" obj=join id=91921e4b3f60 l=127.0.0.1:8050 r=112.135.33.128:63596\n",
            "t=2021-08-24T07:30:43+0000 lvl=info msg=\"join connections\" obj=join id=57e9f8e8ecae l=127.0.0.1:8050 r=112.135.33.128:63596\n",
            "t=2021-08-24T07:30:46+0000 lvl=info msg=\"join connections\" obj=join id=f85ee981da24 l=127.0.0.1:8050 r=112.135.33.128:63596\n",
            "t=2021-08-24T07:30:49+0000 lvl=info msg=\"join connections\" obj=join id=0c28bd93c2d9 l=127.0.0.1:8050 r=112.135.33.128:63596\n",
            "t=2021-08-24T07:30:52+0000 lvl=info msg=\"join connections\" obj=join id=f14be360490e l=127.0.0.1:8050 r=112.135.33.128:63596\n",
            "t=2021-08-24T07:30:55+0000 lvl=info msg=\"join connections\" obj=join id=741db584da1c l=127.0.0.1:8050 r=112.135.33.128:63596\n",
            "t=2021-08-24T07:30:58+0000 lvl=info msg=\"join connections\" obj=join id=4cda59ec1e55 l=127.0.0.1:8050 r=112.135.33.128:63596\n",
            "t=2021-08-24T07:31:01+0000 lvl=info msg=\"join connections\" obj=join id=d7545facf6ad l=127.0.0.1:8050 r=112.135.33.128:63596\n",
            "t=2021-08-24T07:31:04+0000 lvl=info msg=\"join connections\" obj=join id=cf742ad75b19 l=127.0.0.1:8050 r=112.135.33.128:63596\n",
            "t=2021-08-24T07:31:07+0000 lvl=info msg=\"join connections\" obj=join id=4b06288496fa l=127.0.0.1:8050 r=112.135.33.128:63596\n",
            "t=2021-08-24T07:31:10+0000 lvl=info msg=\"join connections\" obj=join id=92c79bd726a5 l=127.0.0.1:8050 r=112.135.33.128:63596\n",
            "t=2021-08-24T07:31:13+0000 lvl=info msg=\"join connections\" obj=join id=089f8b6f4345 l=127.0.0.1:8050 r=112.135.33.128:63596\n",
            "t=2021-08-24T07:31:16+0000 lvl=info msg=\"join connections\" obj=join id=8ace4bf89379 l=127.0.0.1:8050 r=112.135.33.128:63596\n",
            "t=2021-08-24T07:31:19+0000 lvl=info msg=\"join connections\" obj=join id=7be6b9a266a1 l=127.0.0.1:8050 r=112.135.33.128:63596\n",
            "t=2021-08-24T07:31:22+0000 lvl=info msg=\"join connections\" obj=join id=7699512ab71e l=127.0.0.1:8050 r=112.135.33.128:63596\n",
            "t=2021-08-24T07:31:25+0000 lvl=info msg=\"join connections\" obj=join id=24e7d778e12d l=127.0.0.1:8050 r=112.135.33.128:63596\n",
            "t=2021-08-24T07:31:28+0000 lvl=info msg=\"join connections\" obj=join id=6ef7c413648b l=127.0.0.1:8050 r=112.135.33.128:63596\n",
            "t=2021-08-24T07:31:31+0000 lvl=info msg=\"join connections\" obj=join id=48a6cf1cb2a2 l=127.0.0.1:8050 r=112.135.33.128:63596\n",
            "t=2021-08-24T07:31:34+0000 lvl=info msg=\"join connections\" obj=join id=09799e9e809c l=127.0.0.1:8050 r=112.135.33.128:63596\n",
            "t=2021-08-24T07:31:37+0000 lvl=info msg=\"join connections\" obj=join id=51e3403bc787 l=127.0.0.1:8050 r=112.135.33.128:63596\n",
            "t=2021-08-24T07:31:40+0000 lvl=info msg=\"join connections\" obj=join id=298c9e98bf4e l=127.0.0.1:8050 r=112.135.33.128:63596\n",
            "t=2021-08-24T07:31:43+0000 lvl=info msg=\"join connections\" obj=join id=ceb781a543d8 l=127.0.0.1:8050 r=112.135.33.128:63596\n",
            "t=2021-08-24T07:31:46+0000 lvl=info msg=\"join connections\" obj=join id=6c22667d1347 l=127.0.0.1:8050 r=112.135.33.128:63596\n",
            "t=2021-08-24T07:31:49+0000 lvl=info msg=\"join connections\" obj=join id=4407a8697f51 l=127.0.0.1:8050 r=112.135.33.128:63596\n",
            "t=2021-08-24T07:31:52+0000 lvl=info msg=\"join connections\" obj=join id=beb3e75b942b l=127.0.0.1:8050 r=112.135.33.128:63596\n",
            "t=2021-08-24T07:31:55+0000 lvl=info msg=\"join connections\" obj=join id=71157c57a932 l=127.0.0.1:8050 r=112.135.33.128:63596\n",
            "t=2021-08-24T07:31:58+0000 lvl=info msg=\"join connections\" obj=join id=5b425884e06e l=127.0.0.1:8050 r=112.135.33.128:63596\n",
            "t=2021-08-24T07:32:01+0000 lvl=info msg=\"join connections\" obj=join id=34c384dd5030 l=127.0.0.1:8050 r=112.135.33.128:63596\n",
            "t=2021-08-24T07:32:04+0000 lvl=info msg=\"join connections\" obj=join id=5783621742d6 l=127.0.0.1:8050 r=112.135.33.128:63596\n",
            "t=2021-08-24T07:32:07+0000 lvl=info msg=\"join connections\" obj=join id=b8833c8897ab l=127.0.0.1:8050 r=112.135.33.128:63596\n",
            "t=2021-08-24T07:32:10+0000 lvl=info msg=\"join connections\" obj=join id=6a0896f05dad l=127.0.0.1:8050 r=112.135.33.128:63596\n",
            "t=2021-08-24T07:32:13+0000 lvl=info msg=\"join connections\" obj=join id=60c8c450514d l=127.0.0.1:8050 r=112.135.33.128:63596\n",
            "t=2021-08-24T07:32:16+0000 lvl=info msg=\"join connections\" obj=join id=4aa90ba6f922 l=127.0.0.1:8050 r=112.135.33.128:63596\n",
            "t=2021-08-24T07:32:19+0000 lvl=info msg=\"join connections\" obj=join id=ac06f991e76d l=127.0.0.1:8050 r=112.135.33.128:63596\n",
            "t=2021-08-24T07:32:22+0000 lvl=info msg=\"join connections\" obj=join id=3f0523f19f57 l=127.0.0.1:8050 r=112.135.33.128:63596\n",
            "t=2021-08-24T07:32:25+0000 lvl=info msg=\"join connections\" obj=join id=fda8a93eeb41 l=127.0.0.1:8050 r=112.135.33.128:63596\n",
            "t=2021-08-24T07:32:28+0000 lvl=info msg=\"join connections\" obj=join id=f5b81cbf0836 l=127.0.0.1:8050 r=112.135.33.128:63596\n",
            "t=2021-08-24T07:32:31+0000 lvl=info msg=\"join connections\" obj=join id=dfb6913e07cd l=127.0.0.1:8050 r=112.135.33.128:63596\n",
            "t=2021-08-24T07:32:34+0000 lvl=info msg=\"join connections\" obj=join id=2ba698e5dd6b l=127.0.0.1:8050 r=112.135.33.128:63596\n",
            "t=2021-08-24T07:32:37+0000 lvl=info msg=\"join connections\" obj=join id=8c380d80dea6 l=127.0.0.1:8050 r=112.135.33.128:63596\n",
            "t=2021-08-24T07:32:40+0000 lvl=info msg=\"join connections\" obj=join id=088145c75c0e l=127.0.0.1:8050 r=112.135.33.128:63596\n",
            "t=2021-08-24T07:32:43+0000 lvl=info msg=\"join connections\" obj=join id=cfcedd274e9c l=127.0.0.1:8050 r=112.135.33.128:63596\n",
            "t=2021-08-24T07:32:46+0000 lvl=info msg=\"join connections\" obj=join id=0d5b14b59c9f l=127.0.0.1:8050 r=112.135.33.128:63596\n",
            "t=2021-08-24T07:32:49+0000 lvl=info msg=\"join connections\" obj=join id=b4ccc4caa2e8 l=127.0.0.1:8050 r=112.135.33.128:63596\n",
            "t=2021-08-24T07:32:52+0000 lvl=info msg=\"join connections\" obj=join id=eea51d6b07f0 l=127.0.0.1:8050 r=112.135.33.128:63596\n",
            "t=2021-08-24T07:32:55+0000 lvl=info msg=\"join connections\" obj=join id=8403c3172c18 l=127.0.0.1:8050 r=112.135.33.128:63596\n",
            "t=2021-08-24T07:32:58+0000 lvl=info msg=\"join connections\" obj=join id=194535bb915d l=127.0.0.1:8050 r=112.135.33.128:63596\n",
            "t=2021-08-24T07:33:01+0000 lvl=info msg=\"join connections\" obj=join id=f2b04adcd7c8 l=127.0.0.1:8050 r=112.135.33.128:63596\n",
            "t=2021-08-24T07:33:04+0000 lvl=info msg=\"join connections\" obj=join id=5d010d8421b7 l=127.0.0.1:8050 r=112.135.33.128:63596\n",
            "t=2021-08-24T07:33:07+0000 lvl=info msg=\"join connections\" obj=join id=5b532a5cf63c l=127.0.0.1:8050 r=112.135.33.128:63596\n",
            "t=2021-08-24T07:33:10+0000 lvl=info msg=\"join connections\" obj=join id=f7de208e93a9 l=127.0.0.1:8050 r=112.135.33.128:63596\n",
            "t=2021-08-24T07:33:13+0000 lvl=info msg=\"join connections\" obj=join id=fe96737ce926 l=127.0.0.1:8050 r=112.135.33.128:63596\n",
            "t=2021-08-24T07:33:16+0000 lvl=info msg=\"join connections\" obj=join id=12019a6b6e99 l=127.0.0.1:8050 r=112.135.33.128:63596\n",
            "t=2021-08-24T07:33:19+0000 lvl=info msg=\"join connections\" obj=join id=aa40686b40c1 l=127.0.0.1:8050 r=112.135.33.128:63596\n",
            "t=2021-08-24T07:33:22+0000 lvl=info msg=\"join connections\" obj=join id=a33c6541407a l=127.0.0.1:8050 r=112.135.33.128:63596\n",
            "t=2021-08-24T07:33:25+0000 lvl=info msg=\"join connections\" obj=join id=f64e57ec7da8 l=127.0.0.1:8050 r=112.135.33.128:63596\n",
            "t=2021-08-24T07:33:28+0000 lvl=info msg=\"join connections\" obj=join id=a31f6e8b4f85 l=127.0.0.1:8050 r=112.135.33.128:63596\n",
            "t=2021-08-24T07:33:31+0000 lvl=info msg=\"join connections\" obj=join id=03bbb67b771c l=127.0.0.1:8050 r=112.135.33.128:63596\n",
            "t=2021-08-24T07:33:34+0000 lvl=info msg=\"join connections\" obj=join id=0603e6cfb2f1 l=127.0.0.1:8050 r=112.135.33.128:63596\n",
            "t=2021-08-24T07:33:37+0000 lvl=info msg=\"join connections\" obj=join id=25664b60f5d3 l=127.0.0.1:8050 r=112.135.33.128:63596\n",
            "t=2021-08-24T07:33:40+0000 lvl=info msg=\"join connections\" obj=join id=458a0d9f71d5 l=127.0.0.1:8050 r=112.135.33.128:63596\n",
            "t=2021-08-24T07:33:43+0000 lvl=info msg=\"join connections\" obj=join id=02e1e898a520 l=127.0.0.1:8050 r=112.135.33.128:63596\n",
            "t=2021-08-24T07:33:46+0000 lvl=info msg=\"join connections\" obj=join id=bd7ff2f593cc l=127.0.0.1:8050 r=112.135.33.128:63596\n",
            "t=2021-08-24T07:33:49+0000 lvl=info msg=\"join connections\" obj=join id=9eff8a650e6c l=127.0.0.1:8050 r=112.135.33.128:63596\n",
            "t=2021-08-24T07:33:52+0000 lvl=info msg=\"join connections\" obj=join id=c0a4aab20d85 l=127.0.0.1:8050 r=112.135.33.128:63596\n",
            "t=2021-08-24T07:33:55+0000 lvl=info msg=\"join connections\" obj=join id=19f33b3bbacd l=127.0.0.1:8050 r=112.135.33.128:63596\n",
            "t=2021-08-24T07:33:58+0000 lvl=info msg=\"join connections\" obj=join id=5cc4b10d7980 l=127.0.0.1:8050 r=112.135.33.128:63596\n",
            "t=2021-08-24T07:34:01+0000 lvl=info msg=\"join connections\" obj=join id=e3e0daee6d34 l=127.0.0.1:8050 r=112.135.33.128:63596\n",
            "t=2021-08-24T07:34:04+0000 lvl=info msg=\"join connections\" obj=join id=ec32aea12faf l=127.0.0.1:8050 r=112.135.33.128:63596\n",
            "t=2021-08-24T07:34:07+0000 lvl=info msg=\"join connections\" obj=join id=4e3aa7e23a1b l=127.0.0.1:8050 r=112.135.33.128:63596\n",
            "t=2021-08-24T07:34:10+0000 lvl=info msg=\"join connections\" obj=join id=43ac6fb82c31 l=127.0.0.1:8050 r=112.135.33.128:63596\n",
            "t=2021-08-24T07:34:13+0000 lvl=info msg=\"join connections\" obj=join id=465634456d65 l=127.0.0.1:8050 r=112.135.33.128:63596\n",
            "t=2021-08-24T07:34:16+0000 lvl=info msg=\"join connections\" obj=join id=9847939ff78a l=127.0.0.1:8050 r=112.135.33.128:63596\n",
            "t=2021-08-24T07:34:19+0000 lvl=info msg=\"join connections\" obj=join id=df37fbaa1315 l=127.0.0.1:8050 r=112.135.33.128:63596\n",
            "t=2021-08-24T07:34:22+0000 lvl=info msg=\"join connections\" obj=join id=018028a00870 l=127.0.0.1:8050 r=112.135.33.128:63596\n",
            "t=2021-08-24T07:34:26+0000 lvl=info msg=\"join connections\" obj=join id=0ca6eff6e395 l=127.0.0.1:8050 r=112.135.33.128:63596\n",
            "t=2021-08-24T07:34:28+0000 lvl=info msg=\"join connections\" obj=join id=bd0857a39e0a l=127.0.0.1:8050 r=112.135.33.128:63596\n",
            "t=2021-08-24T07:34:31+0000 lvl=info msg=\"join connections\" obj=join id=dae9e5b99491 l=127.0.0.1:8050 r=112.135.33.128:63596\n",
            "t=2021-08-24T07:34:34+0000 lvl=info msg=\"join connections\" obj=join id=4b3acf2f9b1f l=127.0.0.1:8050 r=112.135.33.128:63596\n",
            "t=2021-08-24T07:34:37+0000 lvl=info msg=\"join connections\" obj=join id=a0ac2ff11cb1 l=127.0.0.1:8050 r=112.135.33.128:63596\n",
            "t=2021-08-24T07:34:40+0000 lvl=info msg=\"join connections\" obj=join id=ace9aab7ddb1 l=127.0.0.1:8050 r=112.135.33.128:63596\n",
            "t=2021-08-24T07:34:43+0000 lvl=info msg=\"join connections\" obj=join id=2b11fb575492 l=127.0.0.1:8050 r=112.135.33.128:63596\n",
            "t=2021-08-24T07:34:46+0000 lvl=info msg=\"join connections\" obj=join id=13fc7564677c l=127.0.0.1:8050 r=112.135.33.128:63596\n",
            "t=2021-08-24T07:34:49+0000 lvl=info msg=\"join connections\" obj=join id=ea21eb2c8113 l=127.0.0.1:8050 r=112.135.33.128:63596\n",
            "t=2021-08-24T07:34:52+0000 lvl=info msg=\"join connections\" obj=join id=25943a840380 l=127.0.0.1:8050 r=112.135.33.128:63596\n",
            "t=2021-08-24T07:34:55+0000 lvl=info msg=\"join connections\" obj=join id=e18f987cc125 l=127.0.0.1:8050 r=112.135.33.128:63596\n",
            "t=2021-08-24T07:34:58+0000 lvl=info msg=\"join connections\" obj=join id=a1f8cb8303aa l=127.0.0.1:8050 r=112.135.33.128:63596\n",
            "t=2021-08-24T07:35:01+0000 lvl=info msg=\"join connections\" obj=join id=84aa99e800f3 l=127.0.0.1:8050 r=112.135.33.128:63596\n",
            "t=2021-08-24T07:35:04+0000 lvl=info msg=\"join connections\" obj=join id=4f285dc34f76 l=127.0.0.1:8050 r=112.135.33.128:63596\n",
            "t=2021-08-24T07:35:07+0000 lvl=info msg=\"join connections\" obj=join id=34ee9fb0d5ff l=127.0.0.1:8050 r=112.135.33.128:63596\n",
            "t=2021-08-24T07:35:10+0000 lvl=info msg=\"join connections\" obj=join id=d6b855b4a270 l=127.0.0.1:8050 r=112.135.33.128:63596\n",
            "t=2021-08-24T07:35:13+0000 lvl=info msg=\"join connections\" obj=join id=825023158447 l=127.0.0.1:8050 r=112.135.33.128:63596\n",
            "t=2021-08-24T07:35:16+0000 lvl=info msg=\"join connections\" obj=join id=9c5a710895b6 l=127.0.0.1:8050 r=112.135.33.128:63596\n",
            "t=2021-08-24T07:35:19+0000 lvl=info msg=\"join connections\" obj=join id=5c5bfdb72fb3 l=127.0.0.1:8050 r=112.135.33.128:63596\n",
            "t=2021-08-24T07:35:22+0000 lvl=info msg=\"join connections\" obj=join id=55f71eda0b43 l=127.0.0.1:8050 r=112.135.33.128:63596\n",
            "t=2021-08-24T07:35:25+0000 lvl=info msg=\"join connections\" obj=join id=18553fae9e11 l=127.0.0.1:8050 r=112.135.33.128:63596\n",
            "t=2021-08-24T07:35:28+0000 lvl=info msg=\"join connections\" obj=join id=9979940be6d1 l=127.0.0.1:8050 r=112.135.33.128:63596\n",
            "t=2021-08-24T07:35:31+0000 lvl=info msg=\"join connections\" obj=join id=7728805d2994 l=127.0.0.1:8050 r=112.135.33.128:63596\n",
            "t=2021-08-24T07:35:34+0000 lvl=info msg=\"join connections\" obj=join id=974e5befeaa2 l=127.0.0.1:8050 r=112.135.33.128:63596\n",
            "t=2021-08-24T07:35:37+0000 lvl=info msg=\"join connections\" obj=join id=739668ff4376 l=127.0.0.1:8050 r=112.135.33.128:63596\n",
            "t=2021-08-24T07:35:40+0000 lvl=info msg=\"join connections\" obj=join id=39562380169b l=127.0.0.1:8050 r=112.135.33.128:63596\n",
            "t=2021-08-24T07:35:43+0000 lvl=info msg=\"join connections\" obj=join id=0bd97063a895 l=127.0.0.1:8050 r=112.135.33.128:63596\n",
            "t=2021-08-24T07:35:46+0000 lvl=info msg=\"join connections\" obj=join id=44292a198b27 l=127.0.0.1:8050 r=112.135.33.128:63596\n",
            "t=2021-08-24T07:35:49+0000 lvl=info msg=\"join connections\" obj=join id=f3492176f389 l=127.0.0.1:8050 r=112.135.33.128:63596\n",
            "t=2021-08-24T07:35:52+0000 lvl=info msg=\"join connections\" obj=join id=671b59417f4f l=127.0.0.1:8050 r=112.135.33.128:63596\n",
            "t=2021-08-24T07:35:55+0000 lvl=info msg=\"join connections\" obj=join id=f3c5d9822240 l=127.0.0.1:8050 r=112.135.33.128:63596\n",
            "t=2021-08-24T07:35:58+0000 lvl=info msg=\"join connections\" obj=join id=365807fb9b0c l=127.0.0.1:8050 r=112.135.33.128:63596\n",
            "t=2021-08-24T07:36:02+0000 lvl=info msg=\"join connections\" obj=join id=2b9f813a25a9 l=127.0.0.1:8050 r=112.135.33.128:63596\n",
            "t=2021-08-24T07:36:04+0000 lvl=info msg=\"join connections\" obj=join id=1775e54c651e l=127.0.0.1:8050 r=112.135.33.128:63596\n",
            "t=2021-08-24T07:36:07+0000 lvl=info msg=\"join connections\" obj=join id=47170bad4b2d l=127.0.0.1:8050 r=112.135.33.128:63596\n",
            "t=2021-08-24T07:36:10+0000 lvl=info msg=\"join connections\" obj=join id=7074ccbc0e07 l=127.0.0.1:8050 r=112.135.33.128:63596\n",
            "t=2021-08-24T07:36:13+0000 lvl=info msg=\"join connections\" obj=join id=02dd8703b548 l=127.0.0.1:8050 r=112.135.33.128:63596\n",
            "t=2021-08-24T07:36:16+0000 lvl=info msg=\"join connections\" obj=join id=115541cf858d l=127.0.0.1:8050 r=112.135.33.128:63596\n",
            "t=2021-08-24T07:36:19+0000 lvl=info msg=\"join connections\" obj=join id=cf6790e67a7b l=127.0.0.1:8050 r=112.135.33.128:63596\n",
            "t=2021-08-24T07:36:22+0000 lvl=info msg=\"join connections\" obj=join id=27a2d263b4c9 l=127.0.0.1:8050 r=112.135.33.128:63596\n",
            "t=2021-08-24T07:37:18+0000 lvl=info msg=\"join connections\" obj=join id=33204e78c395 l=127.0.0.1:8050 r=112.135.33.128:63596\n",
            "t=2021-08-24T07:38:04+0000 lvl=info msg=\"join connections\" obj=join id=78cccd01251b l=127.0.0.1:8050 r=112.135.33.128:63596\n",
            "t=2021-08-24T07:38:13+0000 lvl=info msg=\"join connections\" obj=join id=c09d1576b7e8 l=127.0.0.1:8050 r=112.135.33.128:63701\n",
            "t=2021-08-24T07:38:13+0000 lvl=info msg=\"join connections\" obj=join id=af759320364a l=127.0.0.1:8050 r=112.135.33.128:63701\n",
            "t=2021-08-24T07:38:17+0000 lvl=info msg=\"join connections\" obj=join id=87ea46714cb6 l=127.0.0.1:8050 r=112.135.33.128:63701\n",
            "t=2021-08-24T07:38:19+0000 lvl=info msg=\"join connections\" obj=join id=1dff269067b9 l=127.0.0.1:8050 r=112.135.33.128:63701\n",
            "t=2021-08-24T07:39:05+0000 lvl=info msg=\"received stop request\" obj=app stopReq=\"{err:<nil> restart:false}\"\n",
            "t=2021-08-24T07:39:05+0000 lvl=info msg=\"session closing\" obj=tunnels.session err=nil\n"
          ],
          "name": "stderr"
        }
      ]
    },
    {
      "cell_type": "markdown",
      "metadata": {
        "id": "BOfd_ZWLGHwz"
      },
      "source": [
        "## Scatter plots -  comparing correlation"
      ]
    },
    {
      "cell_type": "code",
      "metadata": {
        "id": "KukjaQVLVjbo"
      },
      "source": [
        "app = dash.Dash(__name__)\n",
        "\n",
        "app.layout = html.Div([\n",
        "    html.H1(children='Scatter Graphs'),  \n",
        "\n",
        "    html.Div([html.Div([dcc.Dropdown(id='xaxis-column', options=[{'label': i, 'value': i} for i in df1.columns], value='Wind_Speed')], \n",
        "                       style={'width': '48%', 'display': 'inline-block'}),\n",
        "              html.Div([\n",
        "                      dcc.Dropdown(\n",
        "                          id='yaxis-column',\n",
        "                          options=[{'label': i, 'value': i} for i in df1.columns],\n",
        "                          value='Active_Power'\n",
        "                      )\n",
        "                  ], style={'width': '48%', 'float': 'right', 'display': 'inline-block'})\n",
        "    ]),\n",
        "\n",
        "    dcc.Graph(id='indicator-graphic'),\n",
        "\n",
        "    dcc.Slider(\n",
        "        id='hour--slider',\n",
        "        min=df1['Hour'].min(),\n",
        "        max=df1['Hour'].max(),\n",
        "        value=df1['Hour'].max(),\n",
        "        marks={str(hour): str(hour) for hour in df1['Hour'].unique()},\n",
        "        step=None\n",
        "    ),\n",
        "    html.Div(id='slider-output-container')\n",
        "])\n",
        "\n",
        "@app.callback(\n",
        "    Output('indicator-graphic', 'figure'),\n",
        "    dash.dependencies.Output('slider-output-container', 'children'),\n",
        "    Input('xaxis-column', 'value'),\n",
        "    Input('yaxis-column', 'value'),\n",
        "    Input('hour--slider','value'))\n",
        "def update_graph(xaxis_column_name, yaxis_column_name,hour_slider=0): \n",
        "    dff = df1[df1['Hour'] == hour_slider]\n",
        "    fig = px.scatter(dff, x=xaxis_column_name, y=yaxis_column_name, hover_name=dff['Date_Time'])\n",
        "    fig.update_layout(margin={'l': 40, 'b': 40, 't': 10, 'r': 0}, hovermode='closest')\n",
        "    fig.update_xaxes(range=[df1[xaxis_column_name].min(), df1[xaxis_column_name].max()])\n",
        "    fig.update_yaxes(range=[df1[yaxis_column_name].min(), df1[yaxis_column_name].max()])\n",
        "    fig.update_layout(transition_duration=500)\n",
        "    return fig, hour_slider\n",
        "\n",
        "if __name__ == '__main__':\n",
        "    app.run_server(debug=True, use_reloader=False)"
      ],
      "execution_count": null,
      "outputs": []
    },
    {
      "cell_type": "markdown",
      "metadata": {
        "id": "yZ8bnmOxGVNy"
      },
      "source": [
        "## Box plots -  outliers"
      ]
    },
    {
      "cell_type": "code",
      "metadata": {
        "id": "A2UT2rbgnKpf"
      },
      "source": [
        "app = dash.Dash(__name__)\n",
        "\n",
        "app.layout = html.Div([\n",
        "    html.H1(children='Box plots'),               \n",
        "    \n",
        "    html.Div([\n",
        "            dcc.Dropdown(\n",
        "                id='yaxis-column',\n",
        "                options=[{'label': i, 'value': i} for i in df1.columns],\n",
        "                value='Active_Power'\n",
        "            )\n",
        "        ]),\n",
        "    dcc.Graph(id='indicator-graphic')\n",
        "])\n",
        "\n",
        "@app.callback(\n",
        "    Output('indicator-graphic', 'figure'),\n",
        "    Input('yaxis-column', 'value'))\n",
        "def update_graph(yaxis_column_name): \n",
        "    fig = px.box(df1, y=yaxis_column_name, hover_data=[\"Date_Time\"]) # points=\"all\" -  to get points\n",
        "    fig.update_layout(margin={'l': 40, 'b': 40, 't': 15, 'r': 0}, hovermode='closest')\n",
        "    fig.update_layout(transition_duration=500)\n",
        "    return fig\n",
        "\n",
        "if __name__ == '__main__':\n",
        "    app.run_server(debug=True, use_reloader=False)"
      ],
      "execution_count": null,
      "outputs": []
    }
  ]
}