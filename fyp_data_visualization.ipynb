{
  "nbformat": 4,
  "nbformat_minor": 0,
  "metadata": {
    "colab": {
      "name": "fyp_data_visualization.ipynb",
      "provenance": [],
      "collapsed_sections": [
        "wVKHQz1JRHxW",
        "PwanpBBfSAEw"
      ],
      "mount_file_id": "1Qn5dNEN1v9icX7_Kup_j2C12xvdek0o-",
      "authorship_tag": "ABX9TyOLcH4xU8iBo9Om9ChCzm+f",
      "include_colab_link": true
    },
    "kernelspec": {
      "display_name": "Python 3",
      "name": "python3"
    },
    "language_info": {
      "name": "python"
    }
  },
  "cells": [
    {
      "cell_type": "markdown",
      "metadata": {
        "id": "view-in-github",
        "colab_type": "text"
      },
      "source": [
        "<a href=\"https://colab.research.google.com/github/entc-17-fyp-20/CM_Data_Visualizing/blob/main/fyp_data_visualization.ipynb\" target=\"_parent\"><img src=\"https://colab.research.google.com/assets/colab-badge.svg\" alt=\"Open In Colab\"/></a>"
      ]
    },
    {
      "cell_type": "markdown",
      "metadata": {
        "id": "qi_q37XuRTGL"
      },
      "source": [
        "# **Intro**"
      ]
    },
    {
      "cell_type": "markdown",
      "metadata": {
        "id": "P5ylVqkSFVT4"
      },
      "source": [
        "## Intro - Importing libraries"
      ]
    },
    {
      "cell_type": "code",
      "metadata": {
        "id": "r3sAZT4-cKin"
      },
      "source": [
        "# !pip install -q dash\n",
        "# !pip install  jupyter-dash\n",
        "# !pip install -q dash_core_components\n",
        "# !pip install -q dash_html_components\n",
        "# !pip install -q dash_table\n",
        "# !pip install pyngrok --quiet\n",
        "!pip install -U dataprep "
      ],
      "execution_count": null,
      "outputs": []
    },
    {
      "cell_type": "code",
      "metadata": {
        "id": "ZAdiTByWHWl8"
      },
      "source": [
        "import numpy as np\n",
        "import pandas as pd\n",
        "import seaborn as sns\n",
        "import matplotlib.pyplot as plt\n",
        "from numpy.random import seed\n",
        "\n",
        "import plotly.express as px\n",
        "import plotly.graph_objects as go\n",
        "import plotly.figure_factory as ff"
      ],
      "execution_count": 16,
      "outputs": []
    },
    {
      "cell_type": "code",
      "metadata": {
        "id": "WxvbvBijgpJV"
      },
      "source": [
        "# import dash\n",
        "# import dash_core_components as dcc\n",
        "# import dash_html_components as html\n",
        "# from dash.dependencies import Input, Output\n",
        "from dataprep.eda import create_report"
      ],
      "execution_count": 17,
      "outputs": []
    },
    {
      "cell_type": "markdown",
      "metadata": {
        "id": "Ah341Mxuc7ge"
      },
      "source": [
        "## Intro - Importing from Google Drive\n",
        "[Drive Link](https://drive.google.com/drive/folders/1O6HCSOVeK2CcAHvFe-kUYrz-KvFySvc_?usp=sharing)\n",
        "\n"
      ]
    },
    {
      "cell_type": "code",
      "metadata": {
        "id": "yL1DAySwet_l"
      },
      "source": [
        "#@title Select Dataset { display-mode: \"form\" }\n",
        "turbine = 'V08' #@param [\"V08\", \"V013\"]\n",
        "month = 'June' #@param [\"June\", \"July\"]\n",
        "path = 'drive/MyDrive/DatasetsWind/' + turbine + month + '.csv'\n",
        "df1 = pd.read_csv(path)"
      ],
      "execution_count": 7,
      "outputs": []
    },
    {
      "cell_type": "markdown",
      "metadata": {
        "id": "_Owp39XxejHu"
      },
      "source": [
        "## Intro - Importing from GitHub \n",
        "[GitHub repo](https://github.com/entc-17-fyp-20/Datasets)\n"
      ]
    },
    {
      "cell_type": "code",
      "metadata": {
        "id": "E4oN5AAbJCob"
      },
      "source": [
        "url1 = 'https://raw.githubusercontent.com/entc-17-fyp-20/Datasets/main/S6%2010%20seconed%20data.csv' #S6 10 seconed data.csv\n",
        "url2 = 'https://raw.githubusercontent.com/entc-17-fyp-20/Datasets/main/AE59_1.csv' #AE59_1\n",
        "url3 = 'https://raw.githubusercontent.com/entc-17-fyp-20/Datasets/main/AE59_2.csv' #AE59_2\n",
        "url4 = 'https://raw.githubusercontent.com/entc-17-fyp-20/Datasets/main/V08%20June%2010%20sec%20data.csv' #V08 June 10 sec data.csv; does not contain current columns\n",
        "url5 = 'https://raw.githubusercontent.com/entc-17-fyp-20/Datasets/main/V13%20June%2010%20sec%20data.csv' #V13 June 10 sec data.csv\n",
        "url6 = 'https://raw.githubusercontent.com/entc-17-fyp-20/Datasets/main/V08%20July%2010%20sec%20data.csv' #V08 July 10 sec data.csv\n",
        "url7 = 'https://raw.githubusercontent.com/entc-17-fyp-20/Datasets/main/V13%20July%2010%20sec%20data.csv' #V13 July 10 sec data.csv\n",
        "df1 = pd.read_csv(url4)"
      ],
      "execution_count": 18,
      "outputs": []
    },
    {
      "cell_type": "markdown",
      "metadata": {
        "id": "ij36v9zRCYKL"
      },
      "source": [
        "## Intro - Date and Time\n",
        "\n",
        "\n",
        "*   Converting \"Date & Time\" string to datetime format\n",
        "*   Adding \"Hour\" column"
      ]
    },
    {
      "cell_type": "code",
      "metadata": {
        "colab": {
          "base_uri": "https://localhost:8080/",
          "height": 0
        },
        "id": "7mhg40dnaU3n",
        "outputId": "eab2aedd-4f28-47c6-dd22-e891fe21e602"
      },
      "source": [
        "df1['Date & Time'] = pd.to_datetime(df1['Date & Time'], format=\"%d/%m/%Y %H:%M:%S\")\n",
        "\n",
        "def hr_func(ts):\n",
        "    return ts.hour\n",
        "    \n",
        "df1[\"Hour\"] = pd.to_numeric(df1['Date & Time'].apply(hr_func), downcast=\"float\")\n",
        "df1"
      ],
      "execution_count": 19,
      "outputs": [
        {
          "output_type": "execute_result",
          "data": {
            "text/html": [
              "<div>\n",
              "<style scoped>\n",
              "    .dataframe tbody tr th:only-of-type {\n",
              "        vertical-align: middle;\n",
              "    }\n",
              "\n",
              "    .dataframe tbody tr th {\n",
              "        vertical-align: top;\n",
              "    }\n",
              "\n",
              "    .dataframe thead th {\n",
              "        text-align: right;\n",
              "    }\n",
              "</style>\n",
              "<table border=\"1\" class=\"dataframe\">\n",
              "  <thead>\n",
              "    <tr style=\"text-align: right;\">\n",
              "      <th></th>\n",
              "      <th>Date &amp; Time</th>\n",
              "      <th>Voltage Phase R</th>\n",
              "      <th>Voltage Phase  S</th>\n",
              "      <th>Voltage Phase T</th>\n",
              "      <th>Hydraulic unit Pressure in bar</th>\n",
              "      <th>Frequency Hz</th>\n",
              "      <th>Nacelle Temperature</th>\n",
              "      <th>Reactive Power kVAR</th>\n",
              "      <th>Active Power kW</th>\n",
              "      <th>Wind Speed m/s</th>\n",
              "      <th>Ambient Temperature</th>\n",
              "      <th>Gearbox oil Temperature</th>\n",
              "      <th>Generator Winding Temperature Phase T</th>\n",
              "      <th>Generator Winding Temperature Phase S</th>\n",
              "      <th>Generator Winding Temperature Phase R</th>\n",
              "      <th>Hydralic Oil Temperature</th>\n",
              "      <th>Main bearing Temperature</th>\n",
              "      <th>Generator Bearing Temperature DE</th>\n",
              "      <th>Generator Bearing Temperature NDE</th>\n",
              "      <th>Generator RPM</th>\n",
              "      <th>Gearbox Bearing Temperature</th>\n",
              "      <th>Hour</th>\n",
              "    </tr>\n",
              "  </thead>\n",
              "  <tbody>\n",
              "    <tr>\n",
              "      <th>0</th>\n",
              "      <td>2021-06-02 00:00:00</td>\n",
              "      <td>572.4</td>\n",
              "      <td>570.9</td>\n",
              "      <td>570.5</td>\n",
              "      <td>162.0</td>\n",
              "      <td>50.04</td>\n",
              "      <td>29.8</td>\n",
              "      <td>9.8</td>\n",
              "      <td>-4.1</td>\n",
              "      <td>10.0</td>\n",
              "      <td>28.3</td>\n",
              "      <td>29.5</td>\n",
              "      <td>32.5</td>\n",
              "      <td>32.2</td>\n",
              "      <td>31.6</td>\n",
              "      <td>37.1</td>\n",
              "      <td>28.9</td>\n",
              "      <td>32.4</td>\n",
              "      <td>31.9</td>\n",
              "      <td>0.0</td>\n",
              "      <td>29.2</td>\n",
              "      <td>0.0</td>\n",
              "    </tr>\n",
              "    <tr>\n",
              "      <th>1</th>\n",
              "      <td>2021-06-02 00:00:10</td>\n",
              "      <td>572.6</td>\n",
              "      <td>569.9</td>\n",
              "      <td>571.2</td>\n",
              "      <td>179.0</td>\n",
              "      <td>50.06</td>\n",
              "      <td>29.8</td>\n",
              "      <td>9.6</td>\n",
              "      <td>-4.1</td>\n",
              "      <td>9.8</td>\n",
              "      <td>28.3</td>\n",
              "      <td>29.6</td>\n",
              "      <td>32.5</td>\n",
              "      <td>32.2</td>\n",
              "      <td>31.6</td>\n",
              "      <td>37.1</td>\n",
              "      <td>28.9</td>\n",
              "      <td>32.4</td>\n",
              "      <td>31.9</td>\n",
              "      <td>0.0</td>\n",
              "      <td>29.2</td>\n",
              "      <td>0.0</td>\n",
              "    </tr>\n",
              "    <tr>\n",
              "      <th>2</th>\n",
              "      <td>2021-06-02 00:00:20</td>\n",
              "      <td>572.1</td>\n",
              "      <td>569.4</td>\n",
              "      <td>570.1</td>\n",
              "      <td>171.8</td>\n",
              "      <td>50.06</td>\n",
              "      <td>29.8</td>\n",
              "      <td>9.8</td>\n",
              "      <td>-4.1</td>\n",
              "      <td>9.7</td>\n",
              "      <td>28.3</td>\n",
              "      <td>29.5</td>\n",
              "      <td>32.5</td>\n",
              "      <td>32.2</td>\n",
              "      <td>31.6</td>\n",
              "      <td>37.1</td>\n",
              "      <td>28.9</td>\n",
              "      <td>32.4</td>\n",
              "      <td>31.9</td>\n",
              "      <td>0.0</td>\n",
              "      <td>29.2</td>\n",
              "      <td>0.0</td>\n",
              "    </tr>\n",
              "    <tr>\n",
              "      <th>3</th>\n",
              "      <td>2021-06-02 00:00:30</td>\n",
              "      <td>571.1</td>\n",
              "      <td>568.7</td>\n",
              "      <td>569.7</td>\n",
              "      <td>166.7</td>\n",
              "      <td>50.08</td>\n",
              "      <td>29.8</td>\n",
              "      <td>9.8</td>\n",
              "      <td>-4.0</td>\n",
              "      <td>9.0</td>\n",
              "      <td>28.3</td>\n",
              "      <td>29.5</td>\n",
              "      <td>32.5</td>\n",
              "      <td>32.2</td>\n",
              "      <td>31.6</td>\n",
              "      <td>37.1</td>\n",
              "      <td>28.9</td>\n",
              "      <td>32.3</td>\n",
              "      <td>31.9</td>\n",
              "      <td>0.0</td>\n",
              "      <td>29.2</td>\n",
              "      <td>0.0</td>\n",
              "    </tr>\n",
              "    <tr>\n",
              "      <th>4</th>\n",
              "      <td>2021-06-02 00:00:40</td>\n",
              "      <td>570.9</td>\n",
              "      <td>568.5</td>\n",
              "      <td>569.5</td>\n",
              "      <td>162.1</td>\n",
              "      <td>50.10</td>\n",
              "      <td>29.8</td>\n",
              "      <td>9.8</td>\n",
              "      <td>-4.2</td>\n",
              "      <td>8.8</td>\n",
              "      <td>28.4</td>\n",
              "      <td>29.6</td>\n",
              "      <td>32.5</td>\n",
              "      <td>32.2</td>\n",
              "      <td>31.6</td>\n",
              "      <td>37.1</td>\n",
              "      <td>28.9</td>\n",
              "      <td>32.4</td>\n",
              "      <td>31.9</td>\n",
              "      <td>0.0</td>\n",
              "      <td>29.1</td>\n",
              "      <td>0.0</td>\n",
              "    </tr>\n",
              "    <tr>\n",
              "      <th>...</th>\n",
              "      <td>...</td>\n",
              "      <td>...</td>\n",
              "      <td>...</td>\n",
              "      <td>...</td>\n",
              "      <td>...</td>\n",
              "      <td>...</td>\n",
              "      <td>...</td>\n",
              "      <td>...</td>\n",
              "      <td>...</td>\n",
              "      <td>...</td>\n",
              "      <td>...</td>\n",
              "      <td>...</td>\n",
              "      <td>...</td>\n",
              "      <td>...</td>\n",
              "      <td>...</td>\n",
              "      <td>...</td>\n",
              "      <td>...</td>\n",
              "      <td>...</td>\n",
              "      <td>...</td>\n",
              "      <td>...</td>\n",
              "      <td>...</td>\n",
              "      <td>...</td>\n",
              "    </tr>\n",
              "    <tr>\n",
              "      <th>190075</th>\n",
              "      <td>2021-06-30 23:59:10</td>\n",
              "      <td>572.5</td>\n",
              "      <td>567.8</td>\n",
              "      <td>566.5</td>\n",
              "      <td>169.6</td>\n",
              "      <td>50.14</td>\n",
              "      <td>31.2</td>\n",
              "      <td>32.5</td>\n",
              "      <td>395.8</td>\n",
              "      <td>8.5</td>\n",
              "      <td>32.5</td>\n",
              "      <td>62.3</td>\n",
              "      <td>110.7</td>\n",
              "      <td>109.1</td>\n",
              "      <td>110.9</td>\n",
              "      <td>46.0</td>\n",
              "      <td>49.5</td>\n",
              "      <td>65.8</td>\n",
              "      <td>72.6</td>\n",
              "      <td>1438.1</td>\n",
              "      <td>72.2</td>\n",
              "      <td>23.0</td>\n",
              "    </tr>\n",
              "    <tr>\n",
              "      <th>190076</th>\n",
              "      <td>2021-06-30 23:59:20</td>\n",
              "      <td>575.3</td>\n",
              "      <td>569.7</td>\n",
              "      <td>564.1</td>\n",
              "      <td>173.2</td>\n",
              "      <td>50.12</td>\n",
              "      <td>31.2</td>\n",
              "      <td>3.9</td>\n",
              "      <td>417.7</td>\n",
              "      <td>8.6</td>\n",
              "      <td>32.5</td>\n",
              "      <td>62.4</td>\n",
              "      <td>110.9</td>\n",
              "      <td>109.1</td>\n",
              "      <td>110.7</td>\n",
              "      <td>46.0</td>\n",
              "      <td>49.5</td>\n",
              "      <td>65.9</td>\n",
              "      <td>72.5</td>\n",
              "      <td>1467.7</td>\n",
              "      <td>72.3</td>\n",
              "      <td>23.0</td>\n",
              "    </tr>\n",
              "    <tr>\n",
              "      <th>190077</th>\n",
              "      <td>2021-06-30 23:59:30</td>\n",
              "      <td>571.4</td>\n",
              "      <td>568.1</td>\n",
              "      <td>564.1</td>\n",
              "      <td>168.0</td>\n",
              "      <td>50.18</td>\n",
              "      <td>31.3</td>\n",
              "      <td>23.2</td>\n",
              "      <td>392.3</td>\n",
              "      <td>8.3</td>\n",
              "      <td>32.6</td>\n",
              "      <td>62.4</td>\n",
              "      <td>110.5</td>\n",
              "      <td>109.3</td>\n",
              "      <td>111.2</td>\n",
              "      <td>46.0</td>\n",
              "      <td>49.4</td>\n",
              "      <td>65.9</td>\n",
              "      <td>72.6</td>\n",
              "      <td>1423.1</td>\n",
              "      <td>72.4</td>\n",
              "      <td>23.0</td>\n",
              "    </tr>\n",
              "    <tr>\n",
              "      <th>190078</th>\n",
              "      <td>2021-06-30 23:59:40</td>\n",
              "      <td>569.1</td>\n",
              "      <td>571.9</td>\n",
              "      <td>568.5</td>\n",
              "      <td>177.4</td>\n",
              "      <td>50.20</td>\n",
              "      <td>31.3</td>\n",
              "      <td>-8.0</td>\n",
              "      <td>353.7</td>\n",
              "      <td>7.9</td>\n",
              "      <td>32.6</td>\n",
              "      <td>62.5</td>\n",
              "      <td>110.6</td>\n",
              "      <td>109.6</td>\n",
              "      <td>111.1</td>\n",
              "      <td>46.0</td>\n",
              "      <td>49.5</td>\n",
              "      <td>65.9</td>\n",
              "      <td>72.6</td>\n",
              "      <td>1431.9</td>\n",
              "      <td>72.3</td>\n",
              "      <td>23.0</td>\n",
              "    </tr>\n",
              "    <tr>\n",
              "      <th>190079</th>\n",
              "      <td>2021-06-30 23:59:50</td>\n",
              "      <td>571.0</td>\n",
              "      <td>569.8</td>\n",
              "      <td>571.6</td>\n",
              "      <td>166.7</td>\n",
              "      <td>50.18</td>\n",
              "      <td>31.3</td>\n",
              "      <td>-22.1</td>\n",
              "      <td>370.5</td>\n",
              "      <td>8.1</td>\n",
              "      <td>32.6</td>\n",
              "      <td>62.5</td>\n",
              "      <td>111.0</td>\n",
              "      <td>109.1</td>\n",
              "      <td>110.1</td>\n",
              "      <td>46.0</td>\n",
              "      <td>49.5</td>\n",
              "      <td>65.9</td>\n",
              "      <td>72.6</td>\n",
              "      <td>1443.6</td>\n",
              "      <td>72.3</td>\n",
              "      <td>23.0</td>\n",
              "    </tr>\n",
              "  </tbody>\n",
              "</table>\n",
              "<p>190080 rows × 22 columns</p>\n",
              "</div>"
            ],
            "text/plain": [
              "               Date & Time  Voltage Phase R  ...  Gearbox Bearing Temperature  Hour\n",
              "0      2021-06-02 00:00:00            572.4  ...                         29.2   0.0\n",
              "1      2021-06-02 00:00:10            572.6  ...                         29.2   0.0\n",
              "2      2021-06-02 00:00:20            572.1  ...                         29.2   0.0\n",
              "3      2021-06-02 00:00:30            571.1  ...                         29.2   0.0\n",
              "4      2021-06-02 00:00:40            570.9  ...                         29.1   0.0\n",
              "...                    ...              ...  ...                          ...   ...\n",
              "190075 2021-06-30 23:59:10            572.5  ...                         72.2  23.0\n",
              "190076 2021-06-30 23:59:20            575.3  ...                         72.3  23.0\n",
              "190077 2021-06-30 23:59:30            571.4  ...                         72.4  23.0\n",
              "190078 2021-06-30 23:59:40            569.1  ...                         72.3  23.0\n",
              "190079 2021-06-30 23:59:50            571.0  ...                         72.3  23.0\n",
              "\n",
              "[190080 rows x 22 columns]"
            ]
          },
          "metadata": {
            "tags": []
          },
          "execution_count": 19
        }
      ]
    },
    {
      "cell_type": "markdown",
      "metadata": {
        "id": "L8QuWlk2Dg7P"
      },
      "source": [
        "## Intro - Proprocessing\n",
        "Data clensing"
      ]
    },
    {
      "cell_type": "code",
      "metadata": {
        "id": "eP-VcL7b1eIt"
      },
      "source": [
        "df1 = df1[df1['Generator RPM']>0] # Removing rows with zero Generator RPM\n",
        "df1 = df1[df1['Gearbox oil Temperature']>0] # Removing negative temperature values\n",
        "# df1 = df1[]"
      ],
      "execution_count": 7,
      "outputs": []
    },
    {
      "cell_type": "code",
      "metadata": {
        "id": "Tvuam4HM1o3U"
      },
      "source": [
        ""
      ],
      "execution_count": 7,
      "outputs": []
    },
    {
      "cell_type": "markdown",
      "metadata": {
        "id": "2s1r0U_Lj42g"
      },
      "source": [
        "# DataPrep\n",
        "Report of data"
      ]
    },
    {
      "cell_type": "code",
      "metadata": {
        "id": "gKgTOuaKkCs8"
      },
      "source": [
        "#@title Show Report { display-mode: \"form\" }\n",
        "report = create_report(df1)\n",
        "report.show()\n",
        "report.save('Report')"
      ],
      "execution_count": null,
      "outputs": []
    },
    {
      "cell_type": "markdown",
      "metadata": {
        "id": "wVKHQz1JRHxW"
      },
      "source": [
        "# **Time series**"
      ]
    },
    {
      "cell_type": "code",
      "metadata": {
        "id": "oLbKbQjHNh-F"
      },
      "source": [
        "#@title One variable with time { display-mode: \"form\" }\n",
        "column_name = 'Gearbox & Bearing temp' #@param ['Date & Time', 'Hydraulic unit Pressure in bar', 'Nacelle Temperature','Active Power kW', 'Wind Speed m/s', 'Ambient Temperature','Hydralic Oil Temperature', 'Generator RPM', 'voltage','Gearbox & Bearing temp', 'Hour']\n",
        "\n",
        "fig = px.line(df1, x=\"Date & Time\" , y=column_name) \n",
        "fig.show()"
      ],
      "execution_count": null,
      "outputs": []
    },
    {
      "cell_type": "code",
      "metadata": {
        "id": "-vfGS0DdPw76"
      },
      "source": [
        "#@title Three variables in one figure { display-mode: \"form\" }\n",
        "column_name = 'Nacelle Temperature' #@param ['Date & Time', 'Hydraulic unit Pressure in bar', 'Nacelle Temperature','Active Power kW', 'Wind Speed m/s', 'Ambient Temperature','Hydralic Oil Temperature', 'Generator RPM', 'voltage','Gearbox & Bearing temp', 'Hour']\n",
        "column_name1 = 'Ambient Temperature' #@param ['Date & Time', 'Hydraulic unit Pressure in bar', 'Nacelle Temperature','Active Power kW', 'Wind Speed m/s', 'Ambient Temperature','Hydralic Oil Temperature', 'Generator RPM', 'voltage','Gearbox & Bearing temp', 'Hour']\n",
        "column_name2 = 'Gearbox & Bearing temp' #@param ['Date & Time', 'Hydraulic unit Pressure in bar', 'Nacelle Temperature','Active Power kW', 'Wind Speed m/s', 'Ambient Temperature','Hydralic Oil Temperature', 'Generator RPM', 'voltage','Gearbox & Bearing temp', 'Hour']\n",
        "\n",
        "fig = go.Figure()\n",
        "fig.add_trace(go.Scatter(x=df1[\"Date & Time\"], y=df1[column_name],\n",
        "                    mode='lines',\n",
        "                    name='R'))\n",
        "fig.add_trace(go.Scatter(x=df1[\"Date & Time\"], y=df1[column_name1],\n",
        "                    mode='lines',\n",
        "                    name='S'))\n",
        "fig.add_trace(go.Scatter(x=df1[\"Date & Time\"], y=df1[column_name2],\n",
        "                    mode='lines', name='T'))\n",
        "\n",
        "fig.show()"
      ],
      "execution_count": null,
      "outputs": []
    },
    {
      "cell_type": "code",
      "metadata": {
        "id": "qXLZoAD0asn4"
      },
      "source": [
        "#@title Three variables in three figures { display-mode: \"form\" }\n",
        "column_name = 'Generator RPM' #@param ['Date & Time', 'Hydraulic unit Pressure in bar', 'Nacelle Temperature','Active Power kW', 'Wind Speed m/s', 'Ambient Temperature','Hydralic Oil Temperature', 'Generator RPM', 'voltage','Gearbox & Bearing temp', 'Hour']\n",
        "column_name1 = 'Wind Speed m/s' #@param ['Date & Time', 'Hydraulic unit Pressure in bar', 'Nacelle Temperature','Active Power kW', 'Wind Speed m/s', 'Ambient Temperature','Hydralic Oil Temperature', 'Generator RPM', 'voltage','Gearbox & Bearing temp', 'Hour']\n",
        "column_name2 = 'Active Power kW' #@param ['Date & Time', 'Hydraulic unit Pressure in bar', 'Nacelle Temperature','Active Power kW', 'Wind Speed m/s', 'Ambient Temperature','Hydralic Oil Temperature', 'Generator RPM', 'voltage','Gearbox & Bearing temp', 'Hour']\n",
        "\n",
        "# Create figure\n",
        "fig = go.Figure()\n",
        "\n",
        "fig.add_trace(\n",
        "    go.Scatter(x=list(df1['Date & Time']), y=list(df1[column_name]), name=column_name, yaxis=\"y\"))\n",
        "\n",
        "fig.add_trace(\n",
        "    go.Scatter(x=list(df1['Date & Time']), y=list(df1[column_name1]), name=column_name1, yaxis=\"y2\"))\n",
        "\n",
        "fig.add_trace(\n",
        "    go.Scatter(x=list(df1['Date & Time']), y=list(df1[column_name2]), name=column_name2, yaxis=\"y3\"))\n",
        "\n",
        "# fig.add_trace(\n",
        "#     go.Scatter(x=list(df1['Date & Time']), y=[df1['Generator RPM'].mean()] * len(df1['Generator RPM']), name=\"Average Generator RPM\", yaxis='y'))\n",
        "\n",
        "# fig.add_trace(\n",
        "#     go.Scatter(x=list(df1['Date & Time']), y=[df1['Wind Speed m/s'].mean()] * len(df1['Wind Speed m/s']), name=\"Average Wind Speed\", yaxis='y2'))\n",
        "\n",
        "# fig.add_trace(\n",
        "#     go.Scatter(x=list(df1['Date & Time']), y=[df1['Active Power kW'].mean()] * len(df1['Active Power kW']), name=\"Average Active Power kW\", yaxis='y3'))\n",
        "\n",
        "# Set title\n",
        "fig.update_layout(\n",
        "    title_text= column_name + \"vs\"+ column_name1 +\"vs\"+ column_name2\n",
        ")\n",
        "\n",
        "# Add range slider\n",
        "fig.update_layout(\n",
        "    xaxis=dict(\n",
        "        rangeselector=dict(\n",
        "            buttons=list([\n",
        "                dict(count=30,\n",
        "                     label=\"30m\",\n",
        "                     step=\"minute\",\n",
        "                     stepmode=\"backward\"),\n",
        "                dict(count=1,\n",
        "                     label=\"1h\",\n",
        "                     step=\"hour\",\n",
        "                     stepmode=\"backward\"),\n",
        "                dict(count=6,\n",
        "                     label=\"6h\",\n",
        "                     step=\"hour\",\n",
        "                     stepmode=\"backward\"),\n",
        "                dict(count=1,\n",
        "                     label=\"1d\",\n",
        "                     step=\"day\",\n",
        "                     stepmode=\"backward\"),\n",
        "                dict(step=\"all\")\n",
        "            ])\n",
        "        ),\n",
        "        rangeslider=dict(\n",
        "            visible=True\n",
        "        ),\n",
        "        type=\"date\"\n",
        "    ),\n",
        "    yaxis=dict(\n",
        "        anchor=\"x\",\n",
        "        autorange=True,\n",
        "        domain=[0, 0.32],\n",
        "        linecolor=\"#673ab7\",\n",
        "        mirror=True,\n",
        "        range=[0, 1000],\n",
        "        showline=True,\n",
        "        side=\"left\",\n",
        "        tickfont={\"color\": \"#673ab7\"},\n",
        "        tickmode=\"auto\",\n",
        "        ticks=\"\",\n",
        "        title=\"RPM\",\n",
        "        titlefont={\"color\": \"#673ab7\"},\n",
        "        type=\"linear\",\n",
        "        zeroline=False\n",
        "    ),\n",
        "    yaxis2=dict(\n",
        "        anchor=\"x\",\n",
        "        autorange=True,\n",
        "        domain=[0.33, 0.66],\n",
        "        linecolor=\"#795548\",\n",
        "        mirror=True,\n",
        "        range = [0,25],\n",
        "        showline=True,\n",
        "        side=\"left\",\n",
        "        tickfont={\"color\": \"#795548\"},\n",
        "        tickmode=\"auto\",\n",
        "        ticks=\"\",\n",
        "        title=\"m/s\",\n",
        "        titlefont={\"color\": \"#795548\"},\n",
        "        type=\"linear\",\n",
        "        zeroline=False\n",
        "    ),\n",
        "     yaxis3=dict(\n",
        "        anchor=\"x\",\n",
        "        autorange=True,\n",
        "        domain=[0.67, 1],\n",
        "        linecolor=\"#795548\",\n",
        "        mirror=True,\n",
        "        range = [0,25],\n",
        "        showline=True,\n",
        "        side=\"left\",\n",
        "        tickfont={\"color\": \"#795548\"},\n",
        "        tickmode=\"auto\",\n",
        "        ticks=\"\",\n",
        "        title=\"kW\",\n",
        "        titlefont={\"color\": \"#795548\"},\n",
        "        type=\"linear\",\n",
        "        zeroline=False\n",
        "    )\n",
        ")\n",
        "\n",
        "# Update layout\n",
        "fig.update_layout(\n",
        "    dragmode=\"zoom\",\n",
        "    hovermode=\"x\",\n",
        "    legend=dict(traceorder=\"reversed\"),\n",
        "    height=600,\n",
        "    template=\"plotly_white\",\n",
        "    margin=dict(\n",
        "        t=100,\n",
        "        b=100\n",
        "    ),\n",
        ")\n",
        "\n",
        "fig.show()"
      ],
      "execution_count": null,
      "outputs": []
    },
    {
      "cell_type": "markdown",
      "metadata": {
        "id": "PwanpBBfSAEw"
      },
      "source": [
        "\n",
        "# Stat"
      ]
    },
    {
      "cell_type": "code",
      "metadata": {
        "id": "PUZrkGNAbfzC"
      },
      "source": [
        "#@title Box plot { display-mode: \"form\" }\n",
        "column_name = 'Active Power kW' #@param ['Date & Time', 'Hydraulic unit Pressure in bar', 'Nacelle Temperature','Active Power kW', 'Wind Speed m/s', 'Ambient Temperature','Hydralic Oil Temperature', 'Generator RPM', 'voltage','Gearbox & Bearing temp', 'Hour']\n",
        "print(\"Avg: \", end=\" \")\n",
        "print(df1[column_name].mean())\n",
        "fig = px.box(df1, y=column_name)\n",
        "fig.show()\n",
        "#@markdown Upper fence = Q3 + (1.5 * IQR) |\n",
        "#@markdown Lower fence = Q1 – (1.5 * IQR) | Inter interquartile range\n"
      ],
      "execution_count": null,
      "outputs": []
    },
    {
      "cell_type": "code",
      "metadata": {
        "id": "f1rrpDaTOxHw"
      },
      "source": [
        "#@title 2D Scatter Plot { display-mode: \"form\" }\n",
        "column_name = \"Wind Speed m/s\" #@param ['Date & Time', 'Hydraulic unit Pressure in bar', 'Nacelle Temperature','Active Power kW', 'Wind Speed m/s', 'Ambient Temperature','Hydralic Oil Temperature', 'Generator RPM', 'voltage','Gearbox & Bearing temp', 'Hour']\n",
        "column_name1 = \"Generator RPM\" #@param ['Date & Time', 'Hydraulic unit Pressure in bar', 'Nacelle Temperature','Active Power kW', 'Wind Speed m/s', 'Ambient Temperature','Hydralic Oil Temperature', 'Generator RPM', 'voltage','Gearbox & Bearing temp', 'Hour']\n",
        "\n",
        "fig = px.scatter(df1, x=column_name, y=column_name1)\n",
        "fig.update_xaxes(ticks=\"inside\")\n",
        "fig.update_yaxes(ticks=\"inside\", col=1)\n",
        "fig.show()"
      ],
      "execution_count": null,
      "outputs": []
    },
    {
      "cell_type": "code",
      "metadata": {
        "id": "OSl6GQKL8NMw"
      },
      "source": [
        "#@title 3D Scatter Plot { display-mode: \"form\" }\n",
        "column_name = \"Wind Speed m/s\" #@param ['Date & Time', 'Hydraulic unit Pressure in bar', 'Nacelle Temperature','Active Power kW', 'Wind Speed m/s', 'Ambient Temperature','Hydralic Oil Temperature', 'Generator RPM', 'voltage','Gearbox & Bearing temp', 'Hour']\n",
        "column_name1 = \"Date & Time\" #@param ['Date & Time', 'Hydraulic unit Pressure in bar', 'Nacelle Temperature','Active Power kW', 'Wind Speed m/s', 'Ambient Temperature','Hydralic Oil Temperature', 'Generator RPM', 'voltage','Gearbox & Bearing temp', 'Hour']\n",
        "column_name2 = \"Generator RPM\" #@param ['Date & Time', 'Hydraulic unit Pressure in bar', 'Nacelle Temperature','Active Power kW', 'Wind Speed m/s', 'Ambient Temperature','Hydralic Oil Temperature', 'Generator RPM', 'voltage','Gearbox & Bearing temp', 'Hour']\n",
        "\n",
        "fig = px.scatter_3d(df1, x=column_name, y=column_name1, z=column_name2)\n",
        "fig.update_xaxes(ticks=\"inside\")\n",
        "fig.update_yaxes(ticks=\"inside\", col=1)\n",
        "fig.update_layout(height=800)\n",
        "fig.show()"
      ],
      "execution_count": null,
      "outputs": []
    },
    {
      "cell_type": "code",
      "metadata": {
        "id": "Du71h_6vH62x"
      },
      "source": [
        "#@title Histogram { display-mode: \"form\" }\n",
        "column_name = 'Active Power kW' #@param ['Date & Time', 'Hydraulic unit Pressure in bar', 'Nacelle Temperature','Active Power kW', 'Wind Speed m/s', 'Ambient Temperature','Hydralic Oil Temperature', 'Generator RPM', 'voltage','Gearbox & Bearing temp', 'Hour']\n",
        "print(\"Avg: \", end=\" \")\n",
        "print(df1[column_name].mean())\n",
        "fig = px.histogram(df1, x=column_name, nbins=20, histnorm='probability density')\n",
        "fig.update_layout(bargap=0.2)\n",
        "fig.show()"
      ],
      "execution_count": null,
      "outputs": []
    },
    {
      "cell_type": "code",
      "metadata": {
        "id": "1CJCt_3Js3U7"
      },
      "source": [
        "#@title Distplot with normal curve { display-mode: \"form\" }\n",
        "column_name = 'Wind Speed m/s' #@param ['Date & Time', 'Hydraulic unit Pressure in bar', 'Nacelle Temperature','Active Power kW', 'Wind Speed m/s', 'Ambient Temperature','Hydralic Oil Temperature', 'Generator RPM', 'voltage','Gearbox & Bearing temp', 'Hour']\n",
        "fig = px.histogram(df1, x=column_name, nbins=20, histnorm='probability density')\n",
        "\n",
        "group_labels = ['Normal Curve']\n",
        "df2 = [df1[column_name]]\n",
        "print(\"Avg: \", end=\" \")\n",
        "print(df1[column_name].mean())\n",
        "fig = ff.create_distplot(df2, group_labels, bin_size=.8,\n",
        "                         curve_type='normal')\n",
        "\n",
        "fig.show()"
      ],
      "execution_count": null,
      "outputs": []
    },
    {
      "cell_type": "code",
      "metadata": {
        "id": "ILCiE1gzRCUf"
      },
      "source": [
        "#@title Scatter Matrix { display-mode: \"form\" }\n",
        "df2 = df1.drop([\"Date & Time\", \"Hour\"] ,axis=1)\n",
        "fig = px.scatter_matrix(df2)\n",
        "fig.show()"
      ],
      "execution_count": null,
      "outputs": []
    },
    {
      "cell_type": "code",
      "metadata": {
        "id": "EAktgAozTOuL"
      },
      "source": [
        "#@title Correlation Heatmap { display-mode: \"form\" }\n",
        "df2 = df1.drop([\"Date & Time\", \"Hour\"] ,axis=1)\n",
        "# fig = px.imshow(df2.corr())\n",
        "# fig.show()\n",
        "f, ax = plt.subplots(figsize=(11, 9))\n",
        "sns.heatmap(df2.corr())"
      ],
      "execution_count": null,
      "outputs": []
    },
    {
      "cell_type": "markdown",
      "metadata": {
        "id": "ZyhgS7csSNhi"
      },
      "source": [
        "# Dash\n"
      ]
    },
    {
      "cell_type": "code",
      "metadata": {
        "colab": {
          "base_uri": "https://localhost:8080/"
        },
        "id": "-Hm7q5gQfvz2",
        "outputId": "52425174-2a8c-4761-a6f9-47061565a8f9"
      },
      "source": [
        "from pyngrok import ngrok\n",
        "ngrok.kill()\n",
        "NGROK_AUTH_TOKEN = '1wZCkywjJChLrQjiYfFJqFTZenq_2xGVJJ64eDVA29x9A2Nam'\n",
        "ngrok.set_auth_token(NGROK_AUTH_TOKEN)\n",
        "ngrok.connect(8050)"
      ],
      "execution_count": 8,
      "outputs": [
        {
          "output_type": "stream",
          "text": [
            ""
          ],
          "name": "stdout"
        },
        {
          "output_type": "execute_result",
          "data": {
            "text/plain": [
              "<NgrokTunnel: \"http://171e37116d88.ngrok.io\" -> \"http://localhost:8050\">"
            ]
          },
          "metadata": {
            "tags": []
          },
          "execution_count": 8
        }
      ]
    },
    {
      "cell_type": "markdown",
      "metadata": {
        "id": "fxq4SVeSFzd_"
      },
      "source": [
        "## Time series visualizing - non interactive"
      ]
    },
    {
      "cell_type": "code",
      "metadata": {
        "id": "i9NB-qehYbNE"
      },
      "source": [
        "app = dash.Dash()\n",
        "app.layout = html.Div([\n",
        "    dcc.Graph(figure=fig)\n",
        "])\n",
        "\n",
        "if __name__ == '__main__':\n",
        "    app.run_server(debug=True, use_reloader=False)"
      ],
      "execution_count": null,
      "outputs": []
    },
    {
      "cell_type": "markdown",
      "metadata": {
        "id": "BOfd_ZWLGHwz"
      },
      "source": [
        "## Scatter plots -  comparing correlation"
      ]
    },
    {
      "cell_type": "code",
      "metadata": {
        "id": "KukjaQVLVjbo"
      },
      "source": [
        "app = dash.Dash(__name__)\n",
        "\n",
        "app.layout = html.Div([\n",
        "    html.H1(children='Scatter Graphs'),  \n",
        "\n",
        "    html.Div([html.Div([dcc.Dropdown(id='xaxis-column', options=[{'label': i, 'value': i} for i in df1.columns], value='Wind Speed m/s')], \n",
        "                       style={'width': '48%', 'display': 'inline-block'}),\n",
        "              html.Div([\n",
        "                      dcc.Dropdown(\n",
        "                          id='yaxis-column',\n",
        "                          options=[{'label': i, 'value': i} for i in df1.columns],\n",
        "                          value='Active Power kW'\n",
        "                      )\n",
        "                  ], style={'width': '48%', 'float': 'right', 'display': 'inline-block'})\n",
        "    ]),\n",
        "\n",
        "    dcc.Graph(id='indicator-graphic'),\n",
        "\n",
        "    dcc.Slider(\n",
        "        id='hour--slider',\n",
        "        min=df1['Hour'].min(),\n",
        "        max=df1['Hour'].max(),\n",
        "        value=df1['Hour'].max(),\n",
        "        marks={str(hour): str(hour) for hour in df1['Hour'].unique()},\n",
        "        step=None\n",
        "    ),\n",
        "    html.Div(id='slider-output-container')\n",
        "])\n",
        "\n",
        "@app.callback(\n",
        "    Output('indicator-graphic', 'figure'),\n",
        "    dash.dependencies.Output('slider-output-container', 'children'),\n",
        "    Input('xaxis-column', 'value'),\n",
        "    Input('yaxis-column', 'value'),\n",
        "    Input('hour--slider','value'))\n",
        "def update_graph(xaxis_column_name, yaxis_column_name,hour_slider=0): \n",
        "    dff = df1[df1['Hour'] == hour_slider]\n",
        "    fig = px.scatter(dff, x=xaxis_column_name, y=yaxis_column_name, hover_name=dff['Date & Time'])\n",
        "    fig.update_layout(margin={'l': 40, 'b': 40, 't': 10, 'r': 0}, hovermode='closest')\n",
        "    fig.update_xaxes(range=[df1[xaxis_column_name].min(), df1[xaxis_column_name].max()])\n",
        "    fig.update_yaxes(range=[df1[yaxis_column_name].min(), df1[yaxis_column_name].max()])\n",
        "    fig.update_layout(transition_duration=500)\n",
        "    return fig, hour_slider\n",
        "\n",
        "if __name__ == '__main__':\n",
        "    app.run_server(debug=True, use_reloader=False)"
      ],
      "execution_count": null,
      "outputs": []
    },
    {
      "cell_type": "markdown",
      "metadata": {
        "id": "yZ8bnmOxGVNy"
      },
      "source": [
        "## Box plots -  outliers"
      ]
    },
    {
      "cell_type": "code",
      "metadata": {
        "id": "A2UT2rbgnKpf"
      },
      "source": [
        "app = dash.Dash(__name__)\n",
        "\n",
        "app.layout = html.Div([\n",
        "    html.H1(children='Box plots'),               \n",
        "    \n",
        "    html.Div([\n",
        "            dcc.Dropdown(\n",
        "                id='yaxis-column',\n",
        "                options=[{'label': i, 'value': i} for i in df1.columns],\n",
        "                value='Active Power kW'\n",
        "            )\n",
        "        ]),\n",
        "    dcc.Graph(id='indicator-graphic')\n",
        "])\n",
        "\n",
        "@app.callback(\n",
        "    Output('indicator-graphic', 'figure'),\n",
        "    Input('yaxis-column', 'value'))\n",
        "def update_graph(yaxis_column_name): \n",
        "    fig = px.box(df1, y=yaxis_column_name, hover_data=[\"Date & Time\"]) # points=\"all\" -  to get points\n",
        "    fig.update_layout(margin={'l': 40, 'b': 40, 't': 15, 'r': 0}, hovermode='closest')\n",
        "    fig.update_layout(transition_duration=500)\n",
        "    return fig\n",
        "\n",
        "if __name__ == '__main__':\n",
        "    app.run_server(debug=True, use_reloader=False)"
      ],
      "execution_count": null,
      "outputs": []
    }
  ]
}