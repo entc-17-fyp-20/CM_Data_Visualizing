{
  "nbformat": 4,
  "nbformat_minor": 0,
  "metadata": {
    "colab": {
      "name": "PCA.ipynb",
      "provenance": [],
      "authorship_tag": "ABX9TyM9Pxk0agOMMJs3qGZNgufq",
      "include_colab_link": true
    },
    "kernelspec": {
      "display_name": "Python 3",
      "name": "python3"
    },
    "language_info": {
      "name": "python"
    }
  },
  "cells": [
    {
      "cell_type": "markdown",
      "metadata": {
        "id": "view-in-github",
        "colab_type": "text"
      },
      "source": [
        "<a href=\"https://colab.research.google.com/github/entc-17-fyp-20/CM_Data_Visualizing/blob/samal/PCA.ipynb\" target=\"_parent\"><img src=\"https://colab.research.google.com/assets/colab-badge.svg\" alt=\"Open In Colab\"/></a>"
      ]
    },
    {
      "cell_type": "markdown",
      "metadata": {
        "id": "GnxpVY8XdDjG"
      },
      "source": [
        "Load the dataset"
      ]
    },
    {
      "cell_type": "code",
      "metadata": {
        "id": "eNChLmxBc6Zu"
      },
      "source": [
        "import pandas as pd\n",
        "import numpy as np\n",
        "import seaborn as sns\n",
        "import matplotlib.pyplot as plt\n",
        "\n",
        "import plotly.express as px\n",
        "import plotly.graph_objects as go\n",
        "\n",
        "url1 = 'https://raw.githubusercontent.com/entc-17-fyp-20/Datasets/main/S6%2010%20seconed%20data.csv' #S6 10 seconed data.csv\n",
        "url2 = 'https://raw.githubusercontent.com/entc-17-fyp-20/Datasets/main/V08%20June%2010%20sec%20data.csv?token=ANECSWYTSJHLNER56T5JDR3BCLBDK' #V08 June 10 sec data.csv\n",
        "url3 = 'https://raw.githubusercontent.com/entc-17-fyp-20/Datasets/main/V13%20June%2010%20sec%20data.csv?token=ANECSW37NCJ7TMWXNPKFHM3BCLBK2' #V13 June 10 sec data.csv\n",
        "df = pd.read_csv(url3)\n",
        "\n",
        "#df = pd.read_csv('C:\\\\Users\\\\Samal\\\\Documents\\\\FYP\\\\Datasets\\\\S6_TEN_SEC_DATA.csv')"
      ],
      "execution_count": 24,
      "outputs": []
    },
    {
      "cell_type": "code",
      "metadata": {
        "colab": {
          "base_uri": "https://localhost:8080/"
        },
        "id": "ED_wu9j1dKw_",
        "outputId": "53c4a4e3-5e93-4471-b5ce-310026757095"
      },
      "source": [
        "df.info()"
      ],
      "execution_count": 25,
      "outputs": [
        {
          "output_type": "stream",
          "text": [
            "<class 'pandas.core.frame.DataFrame'>\n",
            "RangeIndex: 190038 entries, 0 to 190037\n",
            "Data columns (total 24 columns):\n",
            " #   Column                             Non-Null Count   Dtype  \n",
            "---  ------                             --------------   -----  \n",
            " 0   Date & Time                        190038 non-null  object \n",
            " 1   Voltage Phase R                    190038 non-null  float64\n",
            " 2   Voltage Phase S                    190038 non-null  float64\n",
            " 3   Voltage Phase T                    190038 non-null  float64\n",
            " 4   Frequency Hz                       190038 non-null  float64\n",
            " 5   Current Phase R                    190038 non-null  float64\n",
            " 6   Current Phase S                    190038 non-null  float64\n",
            " 7   Current Phase T                    190038 non-null  float64\n",
            " 8   Reactive Power kVAR                190038 non-null  float64\n",
            " 9   Active Power kW                    190038 non-null  float64\n",
            " 10  Wind Speed m/s                     190038 non-null  float64\n",
            " 11  Nacelle Temperature                190038 non-null  float64\n",
            " 12  Ambient Temperature                190038 non-null  float64\n",
            " 13  Gearbox oil Temperature            190038 non-null  float64\n",
            " 14  Gearbox Bearing Temperature        190038 non-null  float64\n",
            " 15  Generator Winding Temperature R    190038 non-null  float64\n",
            " 16  Generator Winding Temperature S    190038 non-null  float64\n",
            " 17  Generator Winding Temperature T    190038 non-null  float64\n",
            " 18  Hydraulic unit Pressure in bar     190038 non-null  float64\n",
            " 19  Hydraulic oil Temperature          190038 non-null  float64\n",
            " 20  Main bearing Temperature           190038 non-null  float64\n",
            " 21  Generator Bearing Temperature DE   190038 non-null  float64\n",
            " 22  Generator Bearing Temperature NDE  190038 non-null  float64\n",
            " 23  Generator RPM                      190038 non-null  float64\n",
            "dtypes: float64(23), object(1)\n",
            "memory usage: 34.8+ MB\n"
          ],
          "name": "stdout"
        }
      ]
    },
    {
      "cell_type": "code",
      "metadata": {
        "id": "EmTaVlSndN3n"
      },
      "source": [
        ""
      ],
      "execution_count": 2,
      "outputs": []
    },
    {
      "cell_type": "code",
      "metadata": {
        "id": "66JStPwoSKfb"
      },
      "source": [
        "df1 = df\n",
        "\n",
        "df1 = df1.drop([0])\n",
        "df1['Date & Time'] = pd.to_datetime(df1['Date & Time'], format=\"%d/%m/%Y %H:%M:%S\")\n",
        "df1[\"Active Power kW\"] = pd.to_numeric(df1[\"Active Power kW\"], downcast=\"float\")\n",
        "df1[\"Wind Speed m/s\"] = pd.to_numeric(df1[\"Wind Speed m/s\"], downcast=\"float\")\n",
        "\n"
      ],
      "execution_count": 3,
      "outputs": []
    },
    {
      "cell_type": "markdown",
      "metadata": {
        "id": "Q03vpMNOdV4m"
      },
      "source": [
        "Variance of features"
      ]
    },
    {
      "cell_type": "code",
      "metadata": {
        "colab": {
          "base_uri": "https://localhost:8080/"
        },
        "id": "P9fTK3UxdSq9",
        "outputId": "fde372c6-fb7f-457d-f841-2ff95f66aa89"
      },
      "source": [
        "df.var()"
      ],
      "execution_count": 26,
      "outputs": [
        {
          "output_type": "execute_result",
          "data": {
            "text/plain": [
              "Voltage Phase R                        115.920869\n",
              "Voltage Phase S                        155.839207\n",
              "Voltage Phase T                        142.231052\n",
              "Frequency Hz                             7.256663\n",
              "Current Phase R                      13718.961498\n",
              "Current Phase S                      13759.250903\n",
              "Current Phase T                      13730.366175\n",
              "Reactive Power kVAR                    230.870372\n",
              "Active Power kW                      45518.983235\n",
              "Wind Speed m/s                           2.664689\n",
              "Nacelle Temperature                      0.297514\n",
              "Ambient Temperature                      0.633399\n",
              "Gearbox oil Temperature                 18.275044\n",
              "Gearbox Bearing Temperature             25.747510\n",
              "Generator Winding Temperature R        356.177856\n",
              "Generator Winding Temperature S        347.496141\n",
              "Generator Winding Temperature T        352.286206\n",
              "Hydraulic unit Pressure in bar         121.325503\n",
              "Hydraulic oil Temperature                1.191759\n",
              "Main bearing Temperature                 1.098662\n",
              "Generator Bearing Temperature DE       114.538322\n",
              "Generator Bearing Temperature NDE       66.736673\n",
              "Generator RPM                        33861.510611\n",
              "dtype: float64"
            ]
          },
          "metadata": {
            "tags": []
          },
          "execution_count": 26
        }
      ]
    },
    {
      "cell_type": "code",
      "metadata": {
        "colab": {
          "base_uri": "https://localhost:8080/",
          "height": 655
        },
        "id": "7uosNGGuddgl",
        "outputId": "0d4f40be-20ec-4059-a91a-c17525ac56fc"
      },
      "source": [
        "df"
      ],
      "execution_count": 27,
      "outputs": [
        {
          "output_type": "execute_result",
          "data": {
            "text/html": [
              "<div>\n",
              "<style scoped>\n",
              "    .dataframe tbody tr th:only-of-type {\n",
              "        vertical-align: middle;\n",
              "    }\n",
              "\n",
              "    .dataframe tbody tr th {\n",
              "        vertical-align: top;\n",
              "    }\n",
              "\n",
              "    .dataframe thead th {\n",
              "        text-align: right;\n",
              "    }\n",
              "</style>\n",
              "<table border=\"1\" class=\"dataframe\">\n",
              "  <thead>\n",
              "    <tr style=\"text-align: right;\">\n",
              "      <th></th>\n",
              "      <th>Date &amp; Time</th>\n",
              "      <th>Voltage Phase R</th>\n",
              "      <th>Voltage Phase S</th>\n",
              "      <th>Voltage Phase T</th>\n",
              "      <th>Frequency Hz</th>\n",
              "      <th>Current Phase R</th>\n",
              "      <th>Current Phase S</th>\n",
              "      <th>Current Phase T</th>\n",
              "      <th>Reactive Power kVAR</th>\n",
              "      <th>Active Power kW</th>\n",
              "      <th>Wind Speed m/s</th>\n",
              "      <th>Nacelle Temperature</th>\n",
              "      <th>Ambient Temperature</th>\n",
              "      <th>Gearbox oil Temperature</th>\n",
              "      <th>Gearbox Bearing Temperature</th>\n",
              "      <th>Generator Winding Temperature R</th>\n",
              "      <th>Generator Winding Temperature S</th>\n",
              "      <th>Generator Winding Temperature T</th>\n",
              "      <th>Hydraulic unit Pressure in bar</th>\n",
              "      <th>Hydraulic oil Temperature</th>\n",
              "      <th>Main bearing Temperature</th>\n",
              "      <th>Generator Bearing Temperature DE</th>\n",
              "      <th>Generator Bearing Temperature NDE</th>\n",
              "      <th>Generator RPM</th>\n",
              "    </tr>\n",
              "  </thead>\n",
              "  <tbody>\n",
              "    <tr>\n",
              "      <th>0</th>\n",
              "      <td>02/06/2021 00:00:00</td>\n",
              "      <td>575.1</td>\n",
              "      <td>573.7</td>\n",
              "      <td>575.3</td>\n",
              "      <td>50.04</td>\n",
              "      <td>232.0</td>\n",
              "      <td>232.4</td>\n",
              "      <td>230.1</td>\n",
              "      <td>13.9</td>\n",
              "      <td>385.9</td>\n",
              "      <td>8.4</td>\n",
              "      <td>30.8</td>\n",
              "      <td>30.6</td>\n",
              "      <td>63.2</td>\n",
              "      <td>85.8</td>\n",
              "      <td>104.7</td>\n",
              "      <td>104.5</td>\n",
              "      <td>107.4</td>\n",
              "      <td>168.8</td>\n",
              "      <td>45.9</td>\n",
              "      <td>44.1</td>\n",
              "      <td>79.7</td>\n",
              "      <td>73.0</td>\n",
              "      <td>1408.4</td>\n",
              "    </tr>\n",
              "    <tr>\n",
              "      <th>1</th>\n",
              "      <td>02/06/2021 00:00:10</td>\n",
              "      <td>574.3</td>\n",
              "      <td>573.8</td>\n",
              "      <td>573.9</td>\n",
              "      <td>50.06</td>\n",
              "      <td>190.4</td>\n",
              "      <td>186.5</td>\n",
              "      <td>185.7</td>\n",
              "      <td>-3.7</td>\n",
              "      <td>299.0</td>\n",
              "      <td>8.3</td>\n",
              "      <td>30.8</td>\n",
              "      <td>30.6</td>\n",
              "      <td>62.8</td>\n",
              "      <td>85.9</td>\n",
              "      <td>104.3</td>\n",
              "      <td>105.0</td>\n",
              "      <td>106.9</td>\n",
              "      <td>172.3</td>\n",
              "      <td>45.8</td>\n",
              "      <td>44.1</td>\n",
              "      <td>79.8</td>\n",
              "      <td>73.1</td>\n",
              "      <td>1392.7</td>\n",
              "    </tr>\n",
              "    <tr>\n",
              "      <th>2</th>\n",
              "      <td>02/06/2021 00:00:20</td>\n",
              "      <td>578.6</td>\n",
              "      <td>572.3</td>\n",
              "      <td>573.4</td>\n",
              "      <td>50.06</td>\n",
              "      <td>195.9</td>\n",
              "      <td>197.1</td>\n",
              "      <td>192.6</td>\n",
              "      <td>-14.3</td>\n",
              "      <td>344.3</td>\n",
              "      <td>8.2</td>\n",
              "      <td>30.8</td>\n",
              "      <td>30.5</td>\n",
              "      <td>63.2</td>\n",
              "      <td>85.8</td>\n",
              "      <td>104.4</td>\n",
              "      <td>104.5</td>\n",
              "      <td>108.4</td>\n",
              "      <td>168.0</td>\n",
              "      <td>45.8</td>\n",
              "      <td>44.1</td>\n",
              "      <td>79.7</td>\n",
              "      <td>73.1</td>\n",
              "      <td>1439.5</td>\n",
              "    </tr>\n",
              "    <tr>\n",
              "      <th>3</th>\n",
              "      <td>02/06/2021 00:00:30</td>\n",
              "      <td>574.4</td>\n",
              "      <td>575.7</td>\n",
              "      <td>575.3</td>\n",
              "      <td>50.08</td>\n",
              "      <td>249.6</td>\n",
              "      <td>249.6</td>\n",
              "      <td>247.4</td>\n",
              "      <td>-25.2</td>\n",
              "      <td>426.5</td>\n",
              "      <td>8.4</td>\n",
              "      <td>30.8</td>\n",
              "      <td>30.5</td>\n",
              "      <td>62.9</td>\n",
              "      <td>85.9</td>\n",
              "      <td>104.7</td>\n",
              "      <td>104.6</td>\n",
              "      <td>106.4</td>\n",
              "      <td>173.9</td>\n",
              "      <td>45.9</td>\n",
              "      <td>44.1</td>\n",
              "      <td>79.8</td>\n",
              "      <td>73.1</td>\n",
              "      <td>1491.7</td>\n",
              "    </tr>\n",
              "    <tr>\n",
              "      <th>4</th>\n",
              "      <td>02/06/2021 00:00:40</td>\n",
              "      <td>577.2</td>\n",
              "      <td>570.1</td>\n",
              "      <td>579.3</td>\n",
              "      <td>50.10</td>\n",
              "      <td>309.8</td>\n",
              "      <td>311.3</td>\n",
              "      <td>308.1</td>\n",
              "      <td>-19.8</td>\n",
              "      <td>546.0</td>\n",
              "      <td>9.2</td>\n",
              "      <td>30.8</td>\n",
              "      <td>30.6</td>\n",
              "      <td>63.1</td>\n",
              "      <td>85.9</td>\n",
              "      <td>104.9</td>\n",
              "      <td>104.1</td>\n",
              "      <td>107.7</td>\n",
              "      <td>166.8</td>\n",
              "      <td>45.8</td>\n",
              "      <td>44.1</td>\n",
              "      <td>79.7</td>\n",
              "      <td>73.1</td>\n",
              "      <td>1497.7</td>\n",
              "    </tr>\n",
              "    <tr>\n",
              "      <th>...</th>\n",
              "      <td>...</td>\n",
              "      <td>...</td>\n",
              "      <td>...</td>\n",
              "      <td>...</td>\n",
              "      <td>...</td>\n",
              "      <td>...</td>\n",
              "      <td>...</td>\n",
              "      <td>...</td>\n",
              "      <td>...</td>\n",
              "      <td>...</td>\n",
              "      <td>...</td>\n",
              "      <td>...</td>\n",
              "      <td>...</td>\n",
              "      <td>...</td>\n",
              "      <td>...</td>\n",
              "      <td>...</td>\n",
              "      <td>...</td>\n",
              "      <td>...</td>\n",
              "      <td>...</td>\n",
              "      <td>...</td>\n",
              "      <td>...</td>\n",
              "      <td>...</td>\n",
              "      <td>...</td>\n",
              "      <td>...</td>\n",
              "    </tr>\n",
              "    <tr>\n",
              "      <th>190033</th>\n",
              "      <td>30/06/2021 23:43:10</td>\n",
              "      <td>570.3</td>\n",
              "      <td>575.0</td>\n",
              "      <td>573.7</td>\n",
              "      <td>50.10</td>\n",
              "      <td>284.2</td>\n",
              "      <td>285.3</td>\n",
              "      <td>286.5</td>\n",
              "      <td>17.3</td>\n",
              "      <td>472.0</td>\n",
              "      <td>8.7</td>\n",
              "      <td>30.6</td>\n",
              "      <td>30.9</td>\n",
              "      <td>63.7</td>\n",
              "      <td>86.1</td>\n",
              "      <td>110.1</td>\n",
              "      <td>109.4</td>\n",
              "      <td>112.3</td>\n",
              "      <td>171.6</td>\n",
              "      <td>45.5</td>\n",
              "      <td>43.7</td>\n",
              "      <td>64.3</td>\n",
              "      <td>66.7</td>\n",
              "      <td>1335.1</td>\n",
              "    </tr>\n",
              "    <tr>\n",
              "      <th>190034</th>\n",
              "      <td>30/06/2021 23:43:20</td>\n",
              "      <td>574.2</td>\n",
              "      <td>572.0</td>\n",
              "      <td>575.4</td>\n",
              "      <td>50.06</td>\n",
              "      <td>258.3</td>\n",
              "      <td>254.8</td>\n",
              "      <td>258.5</td>\n",
              "      <td>5.0</td>\n",
              "      <td>422.0</td>\n",
              "      <td>8.5</td>\n",
              "      <td>30.7</td>\n",
              "      <td>30.8</td>\n",
              "      <td>64.1</td>\n",
              "      <td>85.9</td>\n",
              "      <td>109.9</td>\n",
              "      <td>109.3</td>\n",
              "      <td>111.9</td>\n",
              "      <td>167.9</td>\n",
              "      <td>45.6</td>\n",
              "      <td>43.7</td>\n",
              "      <td>64.1</td>\n",
              "      <td>66.6</td>\n",
              "      <td>1395.9</td>\n",
              "    </tr>\n",
              "    <tr>\n",
              "      <th>190035</th>\n",
              "      <td>30/06/2021 23:43:30</td>\n",
              "      <td>569.2</td>\n",
              "      <td>575.2</td>\n",
              "      <td>572.0</td>\n",
              "      <td>50.04</td>\n",
              "      <td>292.6</td>\n",
              "      <td>296.1</td>\n",
              "      <td>294.7</td>\n",
              "      <td>-9.9</td>\n",
              "      <td>489.2</td>\n",
              "      <td>8.4</td>\n",
              "      <td>30.6</td>\n",
              "      <td>30.7</td>\n",
              "      <td>63.8</td>\n",
              "      <td>86.0</td>\n",
              "      <td>110.0</td>\n",
              "      <td>109.5</td>\n",
              "      <td>111.7</td>\n",
              "      <td>174.8</td>\n",
              "      <td>45.5</td>\n",
              "      <td>43.7</td>\n",
              "      <td>64.1</td>\n",
              "      <td>66.7</td>\n",
              "      <td>1466.2</td>\n",
              "    </tr>\n",
              "    <tr>\n",
              "      <th>190036</th>\n",
              "      <td>30/06/2021 23:43:40</td>\n",
              "      <td>574.5</td>\n",
              "      <td>572.5</td>\n",
              "      <td>575.3</td>\n",
              "      <td>50.02</td>\n",
              "      <td>313.9</td>\n",
              "      <td>318.1</td>\n",
              "      <td>311.4</td>\n",
              "      <td>1.9</td>\n",
              "      <td>521.4</td>\n",
              "      <td>9.2</td>\n",
              "      <td>30.7</td>\n",
              "      <td>30.6</td>\n",
              "      <td>64.0</td>\n",
              "      <td>86.0</td>\n",
              "      <td>109.4</td>\n",
              "      <td>109.5</td>\n",
              "      <td>111.1</td>\n",
              "      <td>166.5</td>\n",
              "      <td>45.5</td>\n",
              "      <td>43.7</td>\n",
              "      <td>64.2</td>\n",
              "      <td>66.7</td>\n",
              "      <td>1466.2</td>\n",
              "    </tr>\n",
              "    <tr>\n",
              "      <th>190037</th>\n",
              "      <td>30/06/2021 23:43:50</td>\n",
              "      <td>573.5</td>\n",
              "      <td>574.7</td>\n",
              "      <td>569.7</td>\n",
              "      <td>50.02</td>\n",
              "      <td>290.4</td>\n",
              "      <td>288.5</td>\n",
              "      <td>289.4</td>\n",
              "      <td>-17.5</td>\n",
              "      <td>494.6</td>\n",
              "      <td>8.4</td>\n",
              "      <td>30.7</td>\n",
              "      <td>30.5</td>\n",
              "      <td>63.8</td>\n",
              "      <td>86.0</td>\n",
              "      <td>109.8</td>\n",
              "      <td>109.5</td>\n",
              "      <td>111.9</td>\n",
              "      <td>178.2</td>\n",
              "      <td>45.5</td>\n",
              "      <td>43.7</td>\n",
              "      <td>64.2</td>\n",
              "      <td>66.7</td>\n",
              "      <td>1426.5</td>\n",
              "    </tr>\n",
              "  </tbody>\n",
              "</table>\n",
              "<p>190038 rows × 24 columns</p>\n",
              "</div>"
            ],
            "text/plain": [
              "                Date & Time  ...  Generator RPM\n",
              "0       02/06/2021 00:00:00  ...         1408.4\n",
              "1       02/06/2021 00:00:10  ...         1392.7\n",
              "2       02/06/2021 00:00:20  ...         1439.5\n",
              "3       02/06/2021 00:00:30  ...         1491.7\n",
              "4       02/06/2021 00:00:40  ...         1497.7\n",
              "...                     ...  ...            ...\n",
              "190033  30/06/2021 23:43:10  ...         1335.1\n",
              "190034  30/06/2021 23:43:20  ...         1395.9\n",
              "190035  30/06/2021 23:43:30  ...         1466.2\n",
              "190036  30/06/2021 23:43:40  ...         1466.2\n",
              "190037  30/06/2021 23:43:50  ...         1426.5\n",
              "\n",
              "[190038 rows x 24 columns]"
            ]
          },
          "metadata": {
            "tags": []
          },
          "execution_count": 27
        }
      ]
    },
    {
      "cell_type": "markdown",
      "metadata": {
        "id": "fkQq_J1LAuQD"
      },
      "source": [
        "Combine correlated features"
      ]
    },
    {
      "cell_type": "code",
      "metadata": {
        "id": "Z6v0vIEsdg8F"
      },
      "source": [
        "df[\"voltage\"] = (df[\"Voltage Phase R\"] + df[\"Voltage Phase S\"]+ df[\"Voltage Phase T\"])/3\n",
        "df[\"current\"]  = (df[\"Current Phase R\"] + df[\"Current Phase S\"]+ df[\"Current Phase T\"])/3\n",
        "df[\"Gearbox & Bearing temp\"]  = (df[\"Gearbox Bearing Temperature\"] + df[\"Gearbox oil Temperature\"]+ df[\"Generator Winding Temperature R\"]+df[\"Generator Winding Temperature S\"]+df[\"Generator Winding Temperature T\"]+df[\"Main bearing Temperature\"] + df[\"Generator Bearing Temperature DE\"]+ df[\"Generator Bearing Temperature NDE\"])/8\n",
        "\n",
        "\n",
        "df.drop([\"Reactive Power kVAR\", \"Frequency Hz\",\"Voltage Phase R\",\"Voltage Phase S\",\"Voltage Phase T\",\"Current Phase R\",\"Current Phase S\",\"Current Phase T\",\"Gearbox Bearing Temperature\",\"Gearbox oil Temperature\",\"Generator Winding Temperature R\",\"Generator Winding Temperature S\",\"Generator Winding Temperature T\",\"Main bearing Temperature\",\"Generator Bearing Temperature DE\",\"Generator Bearing Temperature NDE\"], axis='columns', inplace=True)"
      ],
      "execution_count": 28,
      "outputs": []
    },
    {
      "cell_type": "code",
      "metadata": {
        "colab": {
          "base_uri": "https://localhost:8080/"
        },
        "id": "4ImaK1hQdu6V",
        "outputId": "47ccfd49-331c-4e71-832c-bc8d9b75d189"
      },
      "source": [
        "df.info()"
      ],
      "execution_count": 29,
      "outputs": [
        {
          "output_type": "stream",
          "text": [
            "<class 'pandas.core.frame.DataFrame'>\n",
            "RangeIndex: 190038 entries, 0 to 190037\n",
            "Data columns (total 11 columns):\n",
            " #   Column                          Non-Null Count   Dtype  \n",
            "---  ------                          --------------   -----  \n",
            " 0   Date & Time                     190038 non-null  object \n",
            " 1   Active Power kW                 190038 non-null  float64\n",
            " 2   Wind Speed m/s                  190038 non-null  float64\n",
            " 3   Nacelle Temperature             190038 non-null  float64\n",
            " 4   Ambient Temperature             190038 non-null  float64\n",
            " 5   Hydraulic unit Pressure in bar  190038 non-null  float64\n",
            " 6   Hydraulic oil Temperature       190038 non-null  float64\n",
            " 7   Generator RPM                   190038 non-null  float64\n",
            " 8   voltage                         190038 non-null  float64\n",
            " 9   current                         190038 non-null  float64\n",
            " 10  Gearbox & Bearing temp          190038 non-null  float64\n",
            "dtypes: float64(10), object(1)\n",
            "memory usage: 15.9+ MB\n"
          ],
          "name": "stdout"
        }
      ]
    },
    {
      "cell_type": "code",
      "metadata": {
        "colab": {
          "base_uri": "https://localhost:8080/",
          "height": 407
        },
        "id": "DyHHxKd8dpJN",
        "outputId": "2f809cd0-f9d1-408e-ddd5-59ffb7aff731"
      },
      "source": [
        "sns.heatmap(df.corr());"
      ],
      "execution_count": 30,
      "outputs": [
        {
          "output_type": "display_data",
          "data": {
            "image/png": "[encoded data removed]",
            "text/plain": [
              "<Figure size 432x288 with 2 Axes>"
            ]
          },
          "metadata": {
            "tags": [],
            "needs_background": "light"
          }
        }
      ]
    },
    {
      "cell_type": "code",
      "metadata": {
        "id": "_QWxU9EIesd-"
      },
      "source": [
        "df=df.drop([\"Date & Time\"],axis='columns')"
      ],
      "execution_count": 45,
      "outputs": []
    },
    {
      "cell_type": "code",
      "metadata": {
        "id": "BHqb9Bmaezk9",
        "colab": {
          "base_uri": "https://localhost:8080/",
          "height": 434
        },
        "outputId": "138dda3f-1359-4824-dae8-64383901ee5f"
      },
      "source": [
        "df"
      ],
      "execution_count": 46,
      "outputs": [
        {
          "output_type": "execute_result",
          "data": {
            "text/html": [
              "<div>\n",
              "<style scoped>\n",
              "    .dataframe tbody tr th:only-of-type {\n",
              "        vertical-align: middle;\n",
              "    }\n",
              "\n",
              "    .dataframe tbody tr th {\n",
              "        vertical-align: top;\n",
              "    }\n",
              "\n",
              "    .dataframe thead th {\n",
              "        text-align: right;\n",
              "    }\n",
              "</style>\n",
              "<table border=\"1\" class=\"dataframe\">\n",
              "  <thead>\n",
              "    <tr style=\"text-align: right;\">\n",
              "      <th></th>\n",
              "      <th>Active Power kW</th>\n",
              "      <th>Wind Speed m/s</th>\n",
              "      <th>Nacelle Temperature</th>\n",
              "      <th>Ambient Temperature</th>\n",
              "      <th>Hydraulic unit Pressure in bar</th>\n",
              "      <th>Hydraulic oil Temperature</th>\n",
              "      <th>Generator RPM</th>\n",
              "      <th>voltage</th>\n",
              "      <th>current</th>\n",
              "      <th>Gearbox &amp; Bearing temp</th>\n",
              "    </tr>\n",
              "  </thead>\n",
              "  <tbody>\n",
              "    <tr>\n",
              "      <th>0</th>\n",
              "      <td>385.9</td>\n",
              "      <td>8.4</td>\n",
              "      <td>30.8</td>\n",
              "      <td>30.6</td>\n",
              "      <td>168.8</td>\n",
              "      <td>45.9</td>\n",
              "      <td>1408.4</td>\n",
              "      <td>574.700000</td>\n",
              "      <td>231.500000</td>\n",
              "      <td>82.8000</td>\n",
              "    </tr>\n",
              "    <tr>\n",
              "      <th>1</th>\n",
              "      <td>299.0</td>\n",
              "      <td>8.3</td>\n",
              "      <td>30.8</td>\n",
              "      <td>30.6</td>\n",
              "      <td>172.3</td>\n",
              "      <td>45.8</td>\n",
              "      <td>1392.7</td>\n",
              "      <td>574.000000</td>\n",
              "      <td>187.533333</td>\n",
              "      <td>82.7375</td>\n",
              "    </tr>\n",
              "    <tr>\n",
              "      <th>2</th>\n",
              "      <td>344.3</td>\n",
              "      <td>8.2</td>\n",
              "      <td>30.8</td>\n",
              "      <td>30.5</td>\n",
              "      <td>168.0</td>\n",
              "      <td>45.8</td>\n",
              "      <td>1439.5</td>\n",
              "      <td>574.766667</td>\n",
              "      <td>195.200000</td>\n",
              "      <td>82.9000</td>\n",
              "    </tr>\n",
              "    <tr>\n",
              "      <th>3</th>\n",
              "      <td>426.5</td>\n",
              "      <td>8.4</td>\n",
              "      <td>30.8</td>\n",
              "      <td>30.5</td>\n",
              "      <td>173.9</td>\n",
              "      <td>45.9</td>\n",
              "      <td>1491.7</td>\n",
              "      <td>575.133333</td>\n",
              "      <td>248.866667</td>\n",
              "      <td>82.6875</td>\n",
              "    </tr>\n",
              "    <tr>\n",
              "      <th>4</th>\n",
              "      <td>546.0</td>\n",
              "      <td>9.2</td>\n",
              "      <td>30.8</td>\n",
              "      <td>30.6</td>\n",
              "      <td>166.8</td>\n",
              "      <td>45.8</td>\n",
              "      <td>1497.7</td>\n",
              "      <td>575.533333</td>\n",
              "      <td>309.733333</td>\n",
              "      <td>82.8250</td>\n",
              "    </tr>\n",
              "    <tr>\n",
              "      <th>...</th>\n",
              "      <td>...</td>\n",
              "      <td>...</td>\n",
              "      <td>...</td>\n",
              "      <td>...</td>\n",
              "      <td>...</td>\n",
              "      <td>...</td>\n",
              "      <td>...</td>\n",
              "      <td>...</td>\n",
              "      <td>...</td>\n",
              "      <td>...</td>\n",
              "    </tr>\n",
              "    <tr>\n",
              "      <th>190033</th>\n",
              "      <td>472.0</td>\n",
              "      <td>8.7</td>\n",
              "      <td>30.6</td>\n",
              "      <td>30.9</td>\n",
              "      <td>171.6</td>\n",
              "      <td>45.5</td>\n",
              "      <td>1335.1</td>\n",
              "      <td>573.000000</td>\n",
              "      <td>285.333333</td>\n",
              "      <td>82.0375</td>\n",
              "    </tr>\n",
              "    <tr>\n",
              "      <th>190034</th>\n",
              "      <td>422.0</td>\n",
              "      <td>8.5</td>\n",
              "      <td>30.7</td>\n",
              "      <td>30.8</td>\n",
              "      <td>167.9</td>\n",
              "      <td>45.6</td>\n",
              "      <td>1395.9</td>\n",
              "      <td>573.866667</td>\n",
              "      <td>257.200000</td>\n",
              "      <td>81.9375</td>\n",
              "    </tr>\n",
              "    <tr>\n",
              "      <th>190035</th>\n",
              "      <td>489.2</td>\n",
              "      <td>8.4</td>\n",
              "      <td>30.6</td>\n",
              "      <td>30.7</td>\n",
              "      <td>174.8</td>\n",
              "      <td>45.5</td>\n",
              "      <td>1466.2</td>\n",
              "      <td>572.133333</td>\n",
              "      <td>294.466667</td>\n",
              "      <td>81.9375</td>\n",
              "    </tr>\n",
              "    <tr>\n",
              "      <th>190036</th>\n",
              "      <td>521.4</td>\n",
              "      <td>9.2</td>\n",
              "      <td>30.7</td>\n",
              "      <td>30.6</td>\n",
              "      <td>166.5</td>\n",
              "      <td>45.5</td>\n",
              "      <td>1466.2</td>\n",
              "      <td>574.100000</td>\n",
              "      <td>314.466667</td>\n",
              "      <td>81.8250</td>\n",
              "    </tr>\n",
              "    <tr>\n",
              "      <th>190037</th>\n",
              "      <td>494.6</td>\n",
              "      <td>8.4</td>\n",
              "      <td>30.7</td>\n",
              "      <td>30.5</td>\n",
              "      <td>178.2</td>\n",
              "      <td>45.5</td>\n",
              "      <td>1426.5</td>\n",
              "      <td>572.633333</td>\n",
              "      <td>289.433333</td>\n",
              "      <td>81.9500</td>\n",
              "    </tr>\n",
              "  </tbody>\n",
              "</table>\n",
              "<p>190038 rows × 10 columns</p>\n",
              "</div>"
            ],
            "text/plain": [
              "        Active Power kW  Wind Speed m/s  ...     current  Gearbox & Bearing temp\n",
              "0                 385.9             8.4  ...  231.500000                 82.8000\n",
              "1                 299.0             8.3  ...  187.533333                 82.7375\n",
              "2                 344.3             8.2  ...  195.200000                 82.9000\n",
              "3                 426.5             8.4  ...  248.866667                 82.6875\n",
              "4                 546.0             9.2  ...  309.733333                 82.8250\n",
              "...                 ...             ...  ...         ...                     ...\n",
              "190033            472.0             8.7  ...  285.333333                 82.0375\n",
              "190034            422.0             8.5  ...  257.200000                 81.9375\n",
              "190035            489.2             8.4  ...  294.466667                 81.9375\n",
              "190036            521.4             9.2  ...  314.466667                 81.8250\n",
              "190037            494.6             8.4  ...  289.433333                 81.9500\n",
              "\n",
              "[190038 rows x 10 columns]"
            ]
          },
          "metadata": {
            "tags": []
          },
          "execution_count": 46
        }
      ]
    },
    {
      "cell_type": "code",
      "metadata": {
        "id": "5x2_3InNSruB",
        "colab": {
          "base_uri": "https://localhost:8080/",
          "height": 357
        },
        "outputId": "b2b3c5c6-befc-4ed3-a6d3-41ba64864c05"
      },
      "source": [
        "df.describe().T"
      ],
      "execution_count": 47,
      "outputs": [
        {
          "output_type": "execute_result",
          "data": {
            "text/html": [
              "<div>\n",
              "<style scoped>\n",
              "    .dataframe tbody tr th:only-of-type {\n",
              "        vertical-align: middle;\n",
              "    }\n",
              "\n",
              "    .dataframe tbody tr th {\n",
              "        vertical-align: top;\n",
              "    }\n",
              "\n",
              "    .dataframe thead th {\n",
              "        text-align: right;\n",
              "    }\n",
              "</style>\n",
              "<table border=\"1\" class=\"dataframe\">\n",
              "  <thead>\n",
              "    <tr style=\"text-align: right;\">\n",
              "      <th></th>\n",
              "      <th>count</th>\n",
              "      <th>mean</th>\n",
              "      <th>std</th>\n",
              "      <th>min</th>\n",
              "      <th>25%</th>\n",
              "      <th>50%</th>\n",
              "      <th>75%</th>\n",
              "      <th>max</th>\n",
              "    </tr>\n",
              "  </thead>\n",
              "  <tbody>\n",
              "    <tr>\n",
              "      <th>Active Power kW</th>\n",
              "      <td>190038.0</td>\n",
              "      <td>511.278359</td>\n",
              "      <td>213.351783</td>\n",
              "      <td>-45.1</td>\n",
              "      <td>322.000000</td>\n",
              "      <td>546.500000</td>\n",
              "      <td>733.800000</td>\n",
              "      <td>782.500000</td>\n",
              "    </tr>\n",
              "    <tr>\n",
              "      <th>Wind Speed m/s</th>\n",
              "      <td>190038.0</td>\n",
              "      <td>8.987771</td>\n",
              "      <td>1.632387</td>\n",
              "      <td>0.0</td>\n",
              "      <td>7.900000</td>\n",
              "      <td>9.200000</td>\n",
              "      <td>10.200000</td>\n",
              "      <td>15.900000</td>\n",
              "    </tr>\n",
              "    <tr>\n",
              "      <th>Nacelle Temperature</th>\n",
              "      <td>190038.0</td>\n",
              "      <td>30.375022</td>\n",
              "      <td>0.545448</td>\n",
              "      <td>0.0</td>\n",
              "      <td>30.100000</td>\n",
              "      <td>30.400000</td>\n",
              "      <td>30.700000</td>\n",
              "      <td>32.900000</td>\n",
              "    </tr>\n",
              "    <tr>\n",
              "      <th>Ambient Temperature</th>\n",
              "      <td>190038.0</td>\n",
              "      <td>30.778992</td>\n",
              "      <td>0.795863</td>\n",
              "      <td>0.0</td>\n",
              "      <td>30.300000</td>\n",
              "      <td>30.800000</td>\n",
              "      <td>31.300000</td>\n",
              "      <td>32.800000</td>\n",
              "    </tr>\n",
              "    <tr>\n",
              "      <th>Hydraulic unit Pressure in bar</th>\n",
              "      <td>190038.0</td>\n",
              "      <td>169.104910</td>\n",
              "      <td>11.014786</td>\n",
              "      <td>0.0</td>\n",
              "      <td>164.800000</td>\n",
              "      <td>169.200000</td>\n",
              "      <td>174.400000</td>\n",
              "      <td>180.700000</td>\n",
              "    </tr>\n",
              "    <tr>\n",
              "      <th>Hydraulic oil Temperature</th>\n",
              "      <td>190038.0</td>\n",
              "      <td>46.830931</td>\n",
              "      <td>1.091677</td>\n",
              "      <td>0.0</td>\n",
              "      <td>46.000000</td>\n",
              "      <td>46.800000</td>\n",
              "      <td>47.600000</td>\n",
              "      <td>50.200000</td>\n",
              "    </tr>\n",
              "    <tr>\n",
              "      <th>Generator RPM</th>\n",
              "      <td>190038.0</td>\n",
              "      <td>1395.282547</td>\n",
              "      <td>184.014974</td>\n",
              "      <td>0.0</td>\n",
              "      <td>1378.000000</td>\n",
              "      <td>1442.300000</td>\n",
              "      <td>1490.300000</td>\n",
              "      <td>1572.300000</td>\n",
              "    </tr>\n",
              "    <tr>\n",
              "      <th>voltage</th>\n",
              "      <td>190038.0</td>\n",
              "      <td>578.519325</td>\n",
              "      <td>11.495493</td>\n",
              "      <td>0.0</td>\n",
              "      <td>574.066667</td>\n",
              "      <td>579.366667</td>\n",
              "      <td>584.466667</td>\n",
              "      <td>600.300000</td>\n",
              "    </tr>\n",
              "    <tr>\n",
              "      <th>current</th>\n",
              "      <td>190038.0</td>\n",
              "      <td>301.018910</td>\n",
              "      <td>117.190716</td>\n",
              "      <td>0.0</td>\n",
              "      <td>195.966667</td>\n",
              "      <td>320.133333</td>\n",
              "      <td>424.166667</td>\n",
              "      <td>452.633333</td>\n",
              "    </tr>\n",
              "    <tr>\n",
              "      <th>Gearbox &amp; Bearing temp</th>\n",
              "      <td>190038.0</td>\n",
              "      <td>83.720020</td>\n",
              "      <td>10.180192</td>\n",
              "      <td>0.0</td>\n",
              "      <td>76.100000</td>\n",
              "      <td>84.650000</td>\n",
              "      <td>93.262500</td>\n",
              "      <td>98.262500</td>\n",
              "    </tr>\n",
              "  </tbody>\n",
              "</table>\n",
              "</div>"
            ],
            "text/plain": [
              "                                   count         mean  ...          75%          max\n",
              "Active Power kW                 190038.0   511.278359  ...   733.800000   782.500000\n",
              "Wind Speed m/s                  190038.0     8.987771  ...    10.200000    15.900000\n",
              "Nacelle Temperature             190038.0    30.375022  ...    30.700000    32.900000\n",
              "Ambient Temperature             190038.0    30.778992  ...    31.300000    32.800000\n",
              "Hydraulic unit Pressure in bar  190038.0   169.104910  ...   174.400000   180.700000\n",
              "Hydraulic oil Temperature       190038.0    46.830931  ...    47.600000    50.200000\n",
              "Generator RPM                   190038.0  1395.282547  ...  1490.300000  1572.300000\n",
              "voltage                         190038.0   578.519325  ...   584.466667   600.300000\n",
              "current                         190038.0   301.018910  ...   424.166667   452.633333\n",
              "Gearbox & Bearing temp          190038.0    83.720020  ...    93.262500    98.262500\n",
              "\n",
              "[10 rows x 8 columns]"
            ]
          },
          "metadata": {
            "tags": []
          },
          "execution_count": 47
        }
      ]
    },
    {
      "cell_type": "code",
      "metadata": {
        "id": "1coUcjDjTGZK",
        "colab": {
          "base_uri": "https://localhost:8080/"
        },
        "outputId": "9fc2ac2f-64be-4868-b4db-901c245fe847"
      },
      "source": [
        "(df==0).sum()"
      ],
      "execution_count": 48,
      "outputs": [
        {
          "output_type": "execute_result",
          "data": {
            "text/plain": [
              "Active Power kW                   855\n",
              "Wind Speed m/s                    550\n",
              "Nacelle Temperature                12\n",
              "Ambient Temperature                11\n",
              "Hydraulic unit Pressure in bar    551\n",
              "Hydraulic oil Temperature          12\n",
              "Generator RPM                     561\n",
              "voltage                            12\n",
              "current                           144\n",
              "Gearbox & Bearing temp             11\n",
              "dtype: int64"
            ]
          },
          "metadata": {
            "tags": []
          },
          "execution_count": 48
        }
      ]
    },
    {
      "cell_type": "code",
      "metadata": {
        "id": "1Ay_GgJ3TscF"
      },
      "source": [
        ""
      ],
      "execution_count": 48,
      "outputs": []
    },
    {
      "cell_type": "code",
      "metadata": {
        "id": "tJGOOBKnI-Ex"
      },
      "source": [
        "\n",
        "from sklearn.preprocessing import StandardScaler\n",
        "sc = StandardScaler()\n",
        "df_sc =  sc.fit_transform(df)"
      ],
      "execution_count": 49,
      "outputs": []
    },
    {
      "cell_type": "code",
      "metadata": {
        "colab": {
          "base_uri": "https://localhost:8080/"
        },
        "id": "n7Gv5_dIKNha",
        "outputId": "80c73824-4854-4cba-e9a6-a4bcc83c7fe1"
      },
      "source": [
        "cov_matrix = np.cov(df_sc.T)\n",
        "print(\"cov_matrix shape:\",cov_matrix.shape)\n",
        "print(\"Covariance_matrix\",cov_matrix)"
      ],
      "execution_count": 52,
      "outputs": [
        {
          "output_type": "stream",
          "text": [
            "cov_matrix shape: (10, 10)\n",
            "Covariance_matrix [[ 1.00000526  0.92111191  0.18139954  0.28152147  0.12162877  0.24290445\n",
            "   0.69146616  0.57682821  0.9786101   0.8781361 ]\n",
            " [ 0.92111191  1.00000526  0.18961973  0.24586454  0.26165965  0.2283965\n",
            "   0.68728579  0.62570492  0.89646586  0.82323824]\n",
            " [ 0.18139954  0.18961973  1.00000526  0.66196195  0.04139086  0.29381916\n",
            "   0.2038087   0.32087871  0.18036931  0.24565484]\n",
            " [ 0.28152147  0.24586454  0.66196195  1.00000526  0.01389679  0.5628966\n",
            "   0.25354707  0.28376138  0.28118144  0.31614994]\n",
            " [ 0.12162877  0.26165965  0.04139086  0.01389679  1.00000526  0.01916466\n",
            "   0.36612852  0.45180072  0.06019975 -0.01071208]\n",
            " [ 0.24290445  0.2283965   0.29381916  0.5628966   0.01916466  1.00000526\n",
            "  -0.01331805  0.24934669  0.25130053  0.32795739]\n",
            " [ 0.69146616  0.68728579  0.2038087   0.25354707  0.36612852 -0.01331805\n",
            "   1.00000526  0.56743905  0.64814508  0.53773774]\n",
            " [ 0.57682821  0.62570492  0.32087871  0.28376138  0.45180072  0.24934669\n",
            "   0.56743905  1.00000526  0.56773541  0.49822925]\n",
            " [ 0.9786101   0.89646586  0.18036931  0.28118144  0.06019975  0.25130053\n",
            "   0.64814508  0.56773541  1.00000526  0.88803622]\n",
            " [ 0.8781361   0.82323824  0.24565484  0.31614994 -0.01071208  0.32795739\n",
            "   0.53773774  0.49822925  0.88803622  1.00000526]]\n"
          ],
          "name": "stdout"
        }
      ]
    },
    {
      "cell_type": "code",
      "metadata": {
        "colab": {
          "base_uri": "https://localhost:8080/"
        },
        "id": "2s6bdARFLA1I",
        "outputId": "f828f9df-ed30-474a-e116-7eda76bea7df"
      },
      "source": [
        "eigenvalues, eigenvectors = np.linalg.eig(cov_matrix)\n",
        "print('Eigen Vectors \\n%s', eigenvectors)\n",
        "print('\\n Eigen Values \\n%s', eigenvalues)"
      ],
      "execution_count": 53,
      "outputs": [
        {
          "output_type": "stream",
          "text": [
            "Eigen Vectors \n",
            "%s [[-4.17967742e-01 -1.50421470e-01 -1.86394587e-01 -4.52915083e-03\n",
            "   7.42611143e-01  5.27287413e-02 -9.69963840e-02 -3.72376280e-01\n",
            "  -2.43086362e-01  8.06094898e-02]\n",
            " [-4.11309398e-01 -1.69622141e-01 -5.22231328e-02 -5.37009363e-02\n",
            "  -9.37321531e-02 -5.90384094e-03 -2.30919263e-01  7.31539299e-01\n",
            "  -4.41634309e-01  6.40856871e-02]\n",
            " [-1.70505278e-01  5.27887366e-01  1.81115360e-01  5.27774161e-01\n",
            "  -2.07171437e-03 -3.27450557e-01 -3.71617385e-01 -7.68269287e-02\n",
            "  -1.07549109e-01 -3.43682576e-01]\n",
            " [-2.08811209e-01  5.89187054e-01  5.95075333e-02  1.29134738e-01\n",
            "   7.08362284e-04  4.20425415e-01  1.79279869e-01  7.40097161e-02\n",
            "   5.69573069e-02  6.09441295e-01]\n",
            " [-1.14609471e-01 -1.52373226e-01  7.62761043e-01 -2.85677944e-01\n",
            "  -2.57556956e-02  1.76826763e-01 -4.65674145e-01 -1.49779583e-01\n",
            "   1.25074055e-01  1.15628118e-01]\n",
            " [-1.66633175e-01  4.89600177e-01 -8.91782050e-02 -7.11939688e-01\n",
            "  -8.17797151e-03  8.60362783e-02  8.03909704e-02 -2.46728849e-02\n",
            "  -8.23640705e-02 -4.43158843e-01]\n",
            " [-3.36705634e-01 -1.98731050e-01  2.28260276e-01  3.19348566e-01\n",
            "  -4.25035721e-02  5.07977765e-01  4.12354143e-01  4.16491414e-02\n",
            "   1.07152992e-01 -4.99948706e-01]\n",
            " [-3.27614964e-01 -1.78793693e-02  3.71043428e-01 -1.00739547e-01\n",
            "   3.37660999e-02 -6.35802842e-01  5.57993362e-01  2.31080254e-02\n",
            "   5.09927765e-02  1.57005869e-01]\n",
            " [-4.12049089e-01 -1.35661571e-01 -2.36427229e-01 -5.81780794e-03\n",
            "  -6.60038313e-01 -1.49278455e-02 -6.32267245e-02 -5.12883833e-01\n",
            "  -1.93646417e-01  1.24338294e-01]\n",
            " [-3.89954778e-01 -4.06393737e-02 -3.01255554e-01 -3.51928212e-02\n",
            "   2.02649207e-02 -1.09653904e-01 -2.41499432e-01  1.62619839e-01\n",
            "   8.10585524e-01 -6.28845198e-03]]\n",
            "\n",
            " Eigen Values \n",
            "%s [5.04447772 1.73391884 1.27595444 0.76607597 0.01743095 0.4221031\n",
            " 0.31650618 0.08819841 0.13305601 0.202331  ]\n"
          ],
          "name": "stdout"
        }
      ]
    },
    {
      "cell_type": "code",
      "metadata": {
        "colab": {
          "base_uri": "https://localhost:8080/"
        },
        "id": "81lpB3ekLUOQ",
        "outputId": "39c32637-e6c5-40ba-d721-a5fbae1bec36"
      },
      "source": [
        "# Make a set of (eigenvalue, eigenvector) pairs:\n",
        "eig_pairs = [(eigenvalues[index], eigenvectors[:,index]) for index in range(len(eigenvalues))]\n",
        "# Sort the (eigenvalue, eigenvector) pairs from highest to lowest with respect to eigenvalue\n",
        "eig_pairs.sort()\n",
        "eig_pairs.reverse()\n",
        "print(eig_pairs)\n",
        "# Extract the descending ordered eigenvalues and eigenvectors\n",
        "eigvalues_sorted = [eig_pairs[index][0] for index in range(len(eigenvalues))]\n",
        "eigvectors_sorted = [eig_pairs[index][1] for index in range(len(eigenvalues))]\n",
        "# Let's confirm our sorting worked, print out eigenvalues\n",
        "print('Eigenvalues in descending order: \\n%s' %eigvalues_sorted)"
      ],
      "execution_count": 54,
      "outputs": [
        {
          "output_type": "stream",
          "text": [
            "[(5.044477723790795, array([-0.41796774, -0.4113094 , -0.17050528, -0.20881121, -0.11460947,\n",
            "       -0.16663318, -0.33670563, -0.32761496, -0.41204909, -0.38995478])), (1.7339188425904222, array([-0.15042147, -0.16962214,  0.52788737,  0.58918705, -0.15237323,\n",
            "        0.48960018, -0.19873105, -0.01787937, -0.13566157, -0.04063937])), (1.2759544370316833, array([-0.18639459, -0.05222313,  0.18111536,  0.05950753,  0.76276104,\n",
            "       -0.08917821,  0.22826028,  0.37104343, -0.23642723, -0.30125555])), (0.766075969799524, array([-0.00452915, -0.05370094,  0.52777416,  0.12913474, -0.28567794,\n",
            "       -0.71193969,  0.31934857, -0.10073955, -0.00581781, -0.03519282])), (0.4221030979573522, array([ 0.05272874, -0.00590384, -0.32745056,  0.42042541,  0.17682676,\n",
            "        0.08603628,  0.50797777, -0.63580284, -0.01492785, -0.1096539 ])), (0.3165061761949668, array([-0.09699638, -0.23091926, -0.37161739,  0.17927987, -0.46567415,\n",
            "        0.08039097,  0.41235414,  0.55799336, -0.06322672, -0.24149943])), (0.20233100310835048, array([ 0.08060949,  0.06408569, -0.34368258,  0.6094413 ,  0.11562812,\n",
            "       -0.44315884, -0.49994871,  0.15700587,  0.12433829, -0.00628845])), (0.13305601181776613, array([-0.24308636, -0.44163431, -0.10754911,  0.05695731,  0.12507406,\n",
            "       -0.08236407,  0.10715299,  0.05099278, -0.19364642,  0.81058552])), (0.08819840889994063, array([-0.37237628,  0.7315393 , -0.07682693,  0.07400972, -0.14977958,\n",
            "       -0.02467288,  0.04164914,  0.02310803, -0.51288383,  0.16261984])), (0.017430950140838643, array([ 7.42611143e-01, -9.37321531e-02, -2.07171437e-03,  7.08362284e-04,\n",
            "       -2.57556956e-02, -8.17797151e-03, -4.25035721e-02,  3.37660999e-02,\n",
            "       -6.60038313e-01,  2.02649207e-02]))]\n",
            "Eigenvalues in descending order: \n",
            "[5.044477723790795, 1.7339188425904222, 1.2759544370316833, 0.766075969799524, 0.4221030979573522, 0.3165061761949668, 0.20233100310835048, 0.13305601181776613, 0.08819840889994063, 0.017430950140838643]\n"
          ],
          "name": "stdout"
        }
      ]
    },
    {
      "cell_type": "code",
      "metadata": {
        "id": "zssdp0igLaII"
      },
      "source": [
        "tot = sum(eigenvalues)\n",
        "var_explained = [(i / tot) for i in sorted(eigenvalues, reverse=True)]  \n",
        "cum_var_exp = np.cumsum(var_explained)"
      ],
      "execution_count": 55,
      "outputs": []
    },
    {
      "cell_type": "code",
      "metadata": {
        "colab": {
          "base_uri": "https://localhost:8080/",
          "height": 276
        },
        "id": "13F2Bqh5LfqI",
        "outputId": "73fad65f-e7c9-461a-ad8a-455b1ffd0586"
      },
      "source": [
        "plt.bar(range(1,11), var_explained, alpha=0.5, align='center', label='individual explained variance')\n",
        "plt.step(range(1,11),cum_var_exp, where= 'mid', label='cumulative explained variance')\n",
        "plt.ylabel('Explained variance ratio')\n",
        "plt.xlabel('Principal components')\n",
        "plt.legend(loc = 'best')\n",
        "plt.show()\n"
      ],
      "execution_count": 56,
      "outputs": [
        {
          "output_type": "display_data",
          "data": {
            "image/png": "[encoded data removed]",
            "text/plain": [
              "<Figure size 432x288 with 1 Axes>"
            ]
          },
          "metadata": {
            "tags": []
          }
        }
      ]
    },
    {
      "cell_type": "code",
      "metadata": {
        "colab": {
          "base_uri": "https://localhost:8080/",
          "height": 417
        },
        "id": "zokXUaGELkkA",
        "outputId": "5ebca55e-78ae-4cec-ce00-8f55fa985505"
      },
      "source": [
        "# P_reduce represents reduced mathematical space....\n",
        "P_reduce = np.array(eigvectors_sorted[0:7])   # Reducing from 8 to 4 dimension space\n",
        "X_std_7D = np.dot(df_sc,P_reduce.T)   # projecting original data into principal component dimensions\n",
        "reduced_pca = pd.DataFrame(X_std_7D)  # converting array to dataframe for pairplot\n",
        "reduced_pca"
      ],
      "execution_count": 58,
      "outputs": [
        {
          "output_type": "execute_result",
          "data": {
            "text/html": [
              "<div>\n",
              "<style scoped>\n",
              "    .dataframe tbody tr th:only-of-type {\n",
              "        vertical-align: middle;\n",
              "    }\n",
              "\n",
              "    .dataframe tbody tr th {\n",
              "        vertical-align: top;\n",
              "    }\n",
              "\n",
              "    .dataframe thead th {\n",
              "        text-align: right;\n",
              "    }\n",
              "</style>\n",
              "<table border=\"1\" class=\"dataframe\">\n",
              "  <thead>\n",
              "    <tr style=\"text-align: right;\">\n",
              "      <th></th>\n",
              "      <th>0</th>\n",
              "      <th>1</th>\n",
              "      <th>2</th>\n",
              "      <th>3</th>\n",
              "      <th>4</th>\n",
              "      <th>5</th>\n",
              "      <th>6</th>\n",
              "    </tr>\n",
              "  </thead>\n",
              "  <tbody>\n",
              "    <tr>\n",
              "      <th>0</th>\n",
              "      <td>0.817630</td>\n",
              "      <td>0.090891</td>\n",
              "      <td>0.371475</td>\n",
              "      <td>1.082049</td>\n",
              "      <td>-0.190588</td>\n",
              "      <td>-0.342041</td>\n",
              "      <td>-0.261577</td>\n",
              "    </tr>\n",
              "    <tr>\n",
              "      <th>1</th>\n",
              "      <td>1.197577</td>\n",
              "      <td>0.138475</td>\n",
              "      <td>0.749616</td>\n",
              "      <td>1.042910</td>\n",
              "      <td>-0.161747</td>\n",
              "      <td>-0.487678</td>\n",
              "      <td>-0.234515</td>\n",
              "    </tr>\n",
              "    <tr>\n",
              "      <th>2</th>\n",
              "      <td>1.064343</td>\n",
              "      <td>0.041121</td>\n",
              "      <td>0.470514</td>\n",
              "      <td>1.214095</td>\n",
              "      <td>-0.187984</td>\n",
              "      <td>-0.200765</td>\n",
              "      <td>-0.451687</td>\n",
              "    </tr>\n",
              "    <tr>\n",
              "      <th>3</th>\n",
              "      <td>0.489740</td>\n",
              "      <td>-0.192607</td>\n",
              "      <td>0.767306</td>\n",
              "      <td>1.072980</td>\n",
              "      <td>0.053478</td>\n",
              "      <td>-0.397641</td>\n",
              "      <td>-0.471179</td>\n",
              "    </tr>\n",
              "    <tr>\n",
              "      <th>4</th>\n",
              "      <td>-0.124696</td>\n",
              "      <td>-0.310698</td>\n",
              "      <td>0.054778</td>\n",
              "      <td>1.313122</td>\n",
              "      <td>-0.003712</td>\n",
              "      <td>-0.253047</td>\n",
              "      <td>-0.298328</td>\n",
              "    </tr>\n",
              "    <tr>\n",
              "      <th>...</th>\n",
              "      <td>...</td>\n",
              "      <td>...</td>\n",
              "      <td>...</td>\n",
              "      <td>...</td>\n",
              "      <td>...</td>\n",
              "      <td>...</td>\n",
              "      <td>...</td>\n",
              "    </tr>\n",
              "    <tr>\n",
              "      <th>190033</th>\n",
              "      <td>0.611593</td>\n",
              "      <td>-0.168050</td>\n",
              "      <td>0.237411</td>\n",
              "      <td>1.001403</td>\n",
              "      <td>0.014612</td>\n",
              "      <td>-0.625345</td>\n",
              "      <td>0.563768</td>\n",
              "    </tr>\n",
              "    <tr>\n",
              "      <th>190034</th>\n",
              "      <td>0.744951</td>\n",
              "      <td>-0.027277</td>\n",
              "      <td>0.211940</td>\n",
              "      <td>1.219988</td>\n",
              "      <td>-0.036832</td>\n",
              "      <td>-0.305324</td>\n",
              "      <td>0.134866</td>\n",
              "    </tr>\n",
              "    <tr>\n",
              "      <th>190035</th>\n",
              "      <td>0.429198</td>\n",
              "      <td>-0.491744</td>\n",
              "      <td>0.557807</td>\n",
              "      <td>1.130466</td>\n",
              "      <td>0.375421</td>\n",
              "      <td>-0.521911</td>\n",
              "      <td>0.080658</td>\n",
              "    </tr>\n",
              "    <tr>\n",
              "      <th>190036</th>\n",
              "      <td>0.123820</td>\n",
              "      <td>-0.485769</td>\n",
              "      <td>-0.018499</td>\n",
              "      <td>1.381428</td>\n",
              "      <td>0.024270</td>\n",
              "      <td>-0.302135</td>\n",
              "      <td>-0.054334</td>\n",
              "    </tr>\n",
              "    <tr>\n",
              "      <th>190037</th>\n",
              "      <td>0.480068</td>\n",
              "      <td>-0.545993</td>\n",
              "      <td>0.783464</td>\n",
              "      <td>1.033405</td>\n",
              "      <td>0.128910</td>\n",
              "      <td>-0.843567</td>\n",
              "      <td>0.011570</td>\n",
              "    </tr>\n",
              "  </tbody>\n",
              "</table>\n",
              "<p>190038 rows × 7 columns</p>\n",
              "</div>"
            ],
            "text/plain": [
              "               0         1         2         3         4         5         6\n",
              "0       0.817630  0.090891  0.371475  1.082049 -0.190588 -0.342041 -0.261577\n",
              "1       1.197577  0.138475  0.749616  1.042910 -0.161747 -0.487678 -0.234515\n",
              "2       1.064343  0.041121  0.470514  1.214095 -0.187984 -0.200765 -0.451687\n",
              "3       0.489740 -0.192607  0.767306  1.072980  0.053478 -0.397641 -0.471179\n",
              "4      -0.124696 -0.310698  0.054778  1.313122 -0.003712 -0.253047 -0.298328\n",
              "...          ...       ...       ...       ...       ...       ...       ...\n",
              "190033  0.611593 -0.168050  0.237411  1.001403  0.014612 -0.625345  0.563768\n",
              "190034  0.744951 -0.027277  0.211940  1.219988 -0.036832 -0.305324  0.134866\n",
              "190035  0.429198 -0.491744  0.557807  1.130466  0.375421 -0.521911  0.080658\n",
              "190036  0.123820 -0.485769 -0.018499  1.381428  0.024270 -0.302135 -0.054334\n",
              "190037  0.480068 -0.545993  0.783464  1.033405  0.128910 -0.843567  0.011570\n",
              "\n",
              "[190038 rows x 7 columns]"
            ]
          },
          "metadata": {
            "tags": []
          },
          "execution_count": 58
        }
      ]
    },
    {
      "cell_type": "code",
      "metadata": {
        "colab": {
          "base_uri": "https://localhost:8080/",
          "height": 266
        },
        "id": "hnGWrQUzMJOo",
        "outputId": "c8b4b16c-217c-46c6-a914-77f2dd346dc8"
      },
      "source": [
        "sns.heatmap(reduced_pca.corr());"
      ],
      "execution_count": 60,
      "outputs": [
        {
          "output_type": "display_data",
          "data": {
            "image/png": "[encoded data removed]",
            "text/plain": [
              "<Figure size 432x288 with 2 Axes>"
            ]
          },
          "metadata": {
            "tags": []
          }
        }
      ]
    },
    {
      "cell_type": "code",
      "metadata": {
        "id": "5ugNV1ryMXTg"
      },
      "source": [
        ""
      ],
      "execution_count": 61,
      "outputs": []
    },
    {
      "cell_type": "code",
      "metadata": {
        "id": "pGlsahMPMl-A"
      },
      "source": [
        ""
      ],
      "execution_count": 62,
      "outputs": []
    },
    {
      "cell_type": "code",
      "metadata": {
        "id": "q7uaGuOrNQKA"
      },
      "source": [
        ""
      ],
      "execution_count": null,
      "outputs": []
    }
  ]
}