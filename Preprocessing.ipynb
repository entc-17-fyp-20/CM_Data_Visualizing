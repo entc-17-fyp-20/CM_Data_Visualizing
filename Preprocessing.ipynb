{
  "nbformat": 4,
  "nbformat_minor": 0,
  "metadata": {
    "colab": {
      "name": "Preprocessing.ipynb",
      "provenance": [],
      "authorship_tag": "ABX9TyOCMU1SXWcULK5iz+aOCFW3",
      "include_colab_link": true
    },
    "kernelspec": {
      "name": "python3",
      "display_name": "Python 3"
    },
    "language_info": {
      "name": "python"
    }
  },
  "cells": [
    {
      "cell_type": "markdown",
      "metadata": {
        "id": "view-in-github",
        "colab_type": "text"
      },
      "source": [
        "<a href=\"https://colab.research.google.com/github/entc-17-fyp-20/CM_Data_Visualizing/blob/akeshala/Preprocessing.ipynb\" target=\"_parent\"><img src=\"https://colab.research.google.com/assets/colab-badge.svg\" alt=\"Open In Colab\"/></a>"
      ]
    },
    {
      "cell_type": "markdown",
      "metadata": {
        "id": "4u_mQDi-bqb2"
      },
      "source": [
        "# **Intro**"
      ]
    },
    {
      "cell_type": "markdown",
      "metadata": {
        "id": "JVMQJBtZmytv"
      },
      "source": [
        "## Importing"
      ]
    },
    {
      "cell_type": "code",
      "metadata": {
        "id": "f4JNBRhpQYwx"
      },
      "source": [
        "import numpy as np\n",
        "import pandas as pd\n",
        "import seaborn as sns\n",
        "import matplotlib.pyplot as plt\n",
        "from numpy.random import seed"
      ],
      "execution_count": 39,
      "outputs": []
    },
    {
      "cell_type": "code",
      "metadata": {
        "id": "H5heMtyGXsL2"
      },
      "source": [
        "# from google.colab import drive\n",
        "# drive.mount('/content/drive') #, force_remount=True"
      ],
      "execution_count": 40,
      "outputs": []
    },
    {
      "cell_type": "code",
      "metadata": {
        "id": "JWzBwj3RQnjX"
      },
      "source": [
        "url1 = 'https://raw.githubusercontent.com/entc-17-fyp-20/Datasets/main/S6%2010%20seconed%20data.csv' #S6 10 seconed data.csv\n",
        "url2 = 'https://raw.githubusercontent.com/entc-17-fyp-20/Datasets/main/AE59_1.csv' #AE59_1\n",
        "url3 = 'https://raw.githubusercontent.com/entc-17-fyp-20/Datasets/main/AE59_2.csv' #AE59_2\n",
        "url4 = 'https://raw.githubusercontent.com/entc-17-fyp-20/Datasets/main/V08%20June%2010%20sec%20data.csv' #V08 June 10 sec data.csv\n",
        "url5 = 'https://raw.githubusercontent.com/entc-17-fyp-20/Datasets/main/V13%20June%2010%20sec%20data.csv' #V13 June 10 sec data.csv\n",
        "url6 = 'https://raw.githubusercontent.com/entc-17-fyp-20/Datasets/main/V08%20July%2010%20sec%20data.csv' #V08 July 10 sec data.csv\n",
        "url7 = 'https://raw.githubusercontent.com/entc-17-fyp-20/Datasets/main/V13%20July%2010%20sec%20data.csv' #V13 July 10 sec data.csv"
      ],
      "execution_count": 41,
      "outputs": []
    },
    {
      "cell_type": "markdown",
      "metadata": {
        "id": "uop_pImmm6tz"
      },
      "source": [
        "## Interpolation - For active power\n",
        "\n",
        "\n",
        "*   A sample power curve was created observing datasheet\n",
        "*   Using interpolation a function was developed for power curve\n",
        "*   Outliers were removed from \"Active Power kW\" column\n",
        "\n",
        "![download.png](data:image/png;base64,iVBORw0KGgoAAAANSUhEUgAAAXcAAAD4CAYAAAAXUaZHAAAABHNCSVQICAgIfAhkiAAAAAlwSFlzAAALEgAACxIB0t1+/AAAADh0RVh0U29mdHdhcmUAbWF0cGxvdGxpYiB2ZXJzaW9uMy4yLjIsIGh0dHA6Ly9tYXRwbG90bGliLm9yZy+WH4yJAAAgAElEQVR4nO3de3xU9ZnH8c+TIZDILdzkEsBgQRRbuaWK661eQWUFXbXaXaVdK+2utra2tNq6W7tbVyu7re22taWlFrv1VouRqhURvACKCIKgIBolkYRbBBNBAiSZZ/+YkxggIRMyyZnL9/165TXn/M4zZ545r8mTk9858/uZuyMiIuklK+wEREQk8VTcRUTSkIq7iEgaUnEXEUlDKu4iImmoU9gJAPTt29cLCgrCTkNEJKWsXLnyA3fv19S2pCjuBQUFrFixIuw0RERSipmVNrdN3TIiImlIxV1EJA2puIuIpKGk6HNvSk1NDWVlZezduzfsVDpUTk4OgwcPJjs7O+xURCSFJW1xLysro3v37hQUFGBmYafTIdydHTt2UFZWxrBhw8JOR0RSWNJ2y+zdu5c+ffpkTGEHMDP69OmTcf+tiEjiJW1xBzKqsNfLxPcsIokXV3E3s2+a2Ztm9oaZPWhmOWY2zMxeMbNiM3vYzDoHsV2C9eJge0F7vgGRdrNvFyz7NVRsCDsTkVZrsc/dzPKBrwOj3L3azB4BrgIuAn7q7g+Z2a+B64B7g8cP3X24mV0F/Bj4fLu9gw50++23061bN7797W83ub2oqIjjjjuOUaNGdXBm0lZFq8qZOX8DmyurGZSXy4wLRjB1w3dhw5OxgKF/x8q+l/DtNwsoqYrGYiaOZOrY/MPvp4mYeOOSLUY5dXzebRHvBdVOQK6Z1QBHAVuAc4AvBNvnALcTK+5TgmWAR4FfmJl5O88K0t4HKq4cioqYPHmyinuKKVpVzq1z11JdUwdAeWU1JUX/CVlPwtnfh0hndr88m/Hv30KRH8XcTmfwQNW53Dp3P0DD56x+P1bzMQX2IUdXVVI09zX6fDCCM0YOgKxOkBVh0ds7mb3wXXJqnWFmeJXx67mldN09kvNPHAAYz6zbzi/nv0Wkto6h5liV85u5JXTbdRznnXA0AM+u38asBW/TpTbKMAOvMn4ztyS2n1EDAFiwbiu/fuZtsmvrOMaAKoLXOq5VMYncVzrndCR5d6cH5ZVw69y1B3ye2sriqblmdhNwB1ANPAPcBCxz9+HB9iHA39z902b2BjDJ3cuCbe8Cp7j7B83tv7Cw0A8efmD9+vWccMIJcb2Jg385AXKzI9x52WfafKDuuOMO5syZw9FHH82QIUMYP348PXv2ZNasWezfv5/hw4fzxz/+kdWrVzN58mR69uxJz549+ctf/sKiRYsOiTvqqKNafM3WvHdpu9PuWkR5ZXXD+llZr3Nf9t08GzmDC/5tHphx+p3PMmTXa1wdWcTErFfpYrWsiB7HW9kn8k+fzoGPNlNSUkzv6E56WPVhXk3kQN+v+Wf+VHceAPl5uSy95Zy4n2tmK929sKlt8XTL9CJ2Nj4MqAT+DEyK+9Wb3+90YDrA0KFD27SvmfM3HFDYAapr6pg5f0ObivvKlSt56KGHWL16NbW1tYwbN47x48dz2WWXcf311wNw2223MXv2bL72ta9xySWXMHnyZC6//HIA8vLymoyT5LK5UWEfYtv4WfYv2OBDuGnPl1gfXOAur9pHGSfycvREevERl0UW84XIIj5fOw9KBkH3AayvzWerf5pt3out3psKelLrnYhYlAf+eTxE6yBay1fvf4UIUSJEAcdwDMjC+cmVowHn239ejbvhjSJip2HGz64eB8DXHlzFJ5ff67fG9nXP58eAGd94aBVNnb4ZcM9VYwHiiok3riNjkjGnI8n7df9UQ3vjz2JbxdMtcx6w0d0rAMxsLnAakGdmndy9FhgMlAfx5cAQoMzMOgE9gR0H79TdZwGzIHbm3pY30dwBaeuBWrx4MZdeemnD2fYll1wCwBtvvMFtt91GZWUlu3fvZuLEiU0+P944CdegvFzKK6vJYR+/yb4Hw5le80165+UdEgPwIT2YXXcxs+suJr9nDku/eS4APzroP4B6+T1zYfgnZ2Nre+Q0HZeXC2NicS8/PaD5mM/EYl57snfzMaNjMa8+1bf5mJPij0nkvtI5p7bmPSgv95C2IxXP3TLvAxPM7CiL3ad3LrAOeA64PIiZBjweLM8L1gm2L2rv/vbmDkgiD1RjX/ziF/nFL37B2rVr+cEPftDsfenxxkm4ZkwcSW52Fndl/5bj7X2+XvM1Pug0iBkTRx4UEzngebnZEWZMOr7lmEb7iTcu2WKUU8fn3VYtFnd3f4XYhdHXgLXBc2YB3wVuNrNioA8wO3jKbKBP0H4zcEvCsm1Gex2oM888k6KiIqqrq9m1axd//etfAdi1axcDBw6kpqaGP/3pTw3x3bt3Z9euXQ3rzcVJcpk6Np+HR7/O1MhL/KT2Cop7TDjkes3UsfncedlnyM/LxYidiR1JTCL31ZExyqnj826ruC6otre2XlCF9rtbpvEF1aFDhzJu3Di6du3K3XffTb9+/TjllFPYtWsXf/jDH1i6dCnXX389Xbp04dFHH+WZZ55pMq4luqDawUqWwJxL4LhJ8Pn/g6yk/m6fSIPDXVBNm+KeTjL5vXe4qnKYdRbk9ITrn4OcHmFnJBK3Nt0tI5LWHvsK1FTDtCdU2CWt6P9PyVwffwAli+Hvvg5HH99yvEgKUXGXzFW6NPZ47OfCzEKkXai4S+YqWQLZR8GgsS3HiqQYFXfJXBsXw9AJ0Klz2JmIJJyKu2Sm3RVQsR4KTg87E5F2oeKeIM8//zyTJ09ucttFF11EZWVlB2ckh1W6JPZYcGa4eYi0E90K2QGeeuqpsFOQg5UsgeyuMGhM2JmItAudubfg/vvv56STTmL06NFcc801fPGLX+TRRx9t2N6tW7eG5Y8++oiLL76YkSNH8tWvfpVoNApAQUEBH3zwQZP7k5CULIn1t0eyw85EpF2kxpn7326BrWsTu88Bn4EL7zpsyJtvvsmPfvQjXnrpJfr27cvOnTu5+eabm41fvnw569at45hjjmHSpEnMnTu3Yfjf5vYnIdi9HSregtFXhZ2JSLvRmfthLFq0iCuuuIK+ffsC0Lt378PGn3zyyRx77LFEIhGuvvpqlixZ0qb9STspqe9vPyPcPETaUWqcubdwht2ROnXq1NDdEo1G2b9/f8M2Mzsg9uB1SRIlS6BzNxio/nZJXzpzP4xzzjmHP//5z+zYEZtrZOfOnRQUFLBy5UoA5s2bR01NTUP88uXL2bhxI9FolIcffpjTTz+9xf1JCEoWw9BTIZIa5zYiR0Kf7sM48cQT+f73v89ZZ51FJBJh7Nix/PjHP2bKlCmMHj2aSZMm0bVr14b4z372s9x4440UFxdz9tlnc+mll7a4v3iGAJYE2rUNPngbxvxj2JmItCsN+ZuEMvm9t7u1j8JfroPrF0H++LCzEWmTww3522K3jJmNNLPVjX4+MrNvmFlvM1tgZu8Ej72CeDOzn5tZsZmtMbNxiX5DIkesZAl07g4DRoediUi7imeavQ3uPsbdxwDjgT3AY8Smz1vo7iOAhXwynd6FwIjgZzpwb3skLnJESpbAMX+n/nZJe629oHou8K67lwJTgDlB+xxgarA8BbjfY5YBeWY28EiSS4Yuo46Wie+5w3y0BXa8o/FkJCO0trhfBTwYLPd39y3B8lagf7CcD2xq9JyyoO0AZjbdzFaY2YqKiopDXignJ4cdO3ZkVLFzd3bs2EFOTk7YqaSn+vHbh+n+dkl/cf9vamadgUuAWw/e5u5uZq2qwu4+C5gFsQuqB28fPHgwZWVlNFX401lOTg6DBw8OO430tPFF6NIDBpwUdiYi7a41HY8XAq+5+7ZgfZuZDXT3LUG3y/agvRwY0uh5g4O2VsnOzmbYsGGtfZpI8+r727MiYWci0u5a0y1zNZ90yQDMA6YFy9OAxxu1XxvcNTMBqGrUfSMSjo82w853NeSAZIy4iruZdQXOB+Y2ar4LON/M3gHOC9YBngLeA4qB3wL/mrBsRY5A0apyfvi/vwHgS893oWhVq/+RFEk5cXXLuPvHQJ+D2nYQu3vm4FgHbkhIdiJtVLSqnFvnruXf/XWqIkfxwkcDWDY3NsLo1LGHXOcXSRsaW0bS2sz5G6iuqePUrHUsj55AlCyqa+qYOX9D2KmJtCsVd0lrmyurGcgOCrK28XJ01AHtIulMxV3S2qC8XE7JWg/AsugJB7SLpDMVd0lrMyaO5IxO66n0rqz3oQDkZkeYMXFkyJmJtC8NsCFpberYfD5eUMyKvZ8GssjPy2XGxJG6mCppT8Vd0lvlJrru2cRZk25g44SLw85GpMOoW0bSm+ZLlQyl4i7prXQJ5PaCo0e1HCuSRlTcJb2VvhSbLzVLH3XJLPrES/ratRV2vhcbLEwkw6i4S/oqfSn2qOIuGUjFXdJX6UuQ3VXzpUpGUnGX9FX6Egw9RfOlSkZScZf0tGcnbH8ThqpLRjKTirukp02vxB7V3y4ZKt7JOvLM7FEze8vM1pvZqWbW28wWmNk7wWOvINbM7OdmVmxma8xsXPu+BZEmlC6FSGfIHx92JiKhiPfM/WfA0+5+PDAaWA/cAix09xHAwmAdYnOtjgh+pgP3JjRjkXiUvgT5hZCdE3YmIqFosbibWU/gTGA2gLvvd/dKYAowJwibA0wNlqcA93vMMiAvmEBbpGPs2w2bV6tLRjJaPGfuw4AK4D4zW2VmvwvmVO3faOLrrUD/YDkf2NTo+WVB2wHMbLqZrTCzFRUVFUf+DkQOVrYcvE7FXTJaPMW9EzAOuNfdxwIf80kXDNAwb6q35oXdfZa7F7p7Yb9+/VrzVJHDK30ZLAuGnBx2JiKhiae4lwFl7h7cfsCjxIr9tvruluBxe7C9HBjS6PmDgzaRjlH6EgwcDV26h52JSGhaLO7uvhXYZGb1U9ecC6wD5gHTgrZpwOPB8jzg2uCumQlAVaPuG5H2VbsPyl6FY04LOxORUMX71b2vAX8ys87Ae8CXiP1heMTMrgNKgSuD2KeAi4BiYE8QK9Ixyl+Dun3qb5eMF1dxd/fVQGETm85tItaBG9qYl8iRKV0aexx6arh5iIRM31CV9PL+y9DvBDiqd9iZiIRKxV3SR10tvP+KumREUHGXdLJtLezfpeIugoq7pBNNziHSQMVd0kfpS9BrGPQYFHYmIqFTcZf0EI3GirvO2kUAFXdJFx+8DdU7VdxFAirukh7q729XcRcBVNwlXZS+BN0HxvrcRUTFXdKA+yf97WZhZyOSFFTcJfV9WAK7NmvIAZFGVNwl9b3/cuxRI0GKNFBxl9RXuhRye0G/48PORCRpqLhLyipaVc5pdy1i48oFvLhvBEWva9oAkXoq7pKSilaVc+vctdRUbmZY1jZe3DeCW+eupWiVJv0SgTiLu5mVmNlaM1ttZiuCtt5mtsDM3gkeewXtZmY/N7NiM1tjZuPa8w1IZpo5fwPVNXVMyFoPwLLoCVTX1DFz/oaQMxNJDq05cz/b3ce4e/2kHbcAC919BLCQTybNvhAYEfxMB+5NVLIi9TZXVgMwIWsdH3ku67zggHaRTNeWbpkpwJxgeQ4wtVH7/R6zDMirn0hbJFEG5eUCcErWepZHjycafJTr20UyXbzF3YFnzGylmU0P2vo3mvh6K9A/WM4HNjV6blnQJpIwMyaOZGj2R3wqawuvRE8AIDc7woyJI1t4pkhmiHeC7NPdvdzMjgYWmNlbjTe6u5uZt+aFgz8S0wGGDh3amqeKMHVsPvllu2ElvBIdRX5eLjMmjmTqWJ1HiED8E2SXB4/bzewx4GRgm5kNdPctQbfL9iC8HBjS6OmDg7aD9zkLmAVQWFjYqj8MIgCf5U3o0oN5//YvEIn3PEUkM7TYLWNmXc2se/0ycAHwBjAPmBaETQMeD5bnAdcGd81MAKoadd+IJE7JktiQAyrsIoeI57eiP/CYxQZk6gQ84O5Pm9mrwCNmdh1QClwZxD8FXAQUA3uALyU8a5FdW2HHOzDu2rAzEUlKLRZ3d38PGN1E+w7g3CbaHbghIdmJNKd+/PaC08PNQyRJ6RuqkppKlkDn7jDgpLAzEUlKKu6SmkqWwDHqbxdpjoq7pJ5d22JzpqpLRqRZKu6SekqXxB5V3EWapeIuqaehv/2Q6/wiElBxl9RTslT97SItUHGX1LJ7O3ywQVPqibRAxV1SS0l9f/sZ4eYhkuRU3CW1lCyBzt1goPrbRQ5HxV1Si8aTEYmLirukjvr+dt0CKdIiFXdJHepvF4mbirukjtKl6m8XiZOKu6SOkiUwdIL620XioOIuqWF3BVS8pf52kTipuEtqKFV/u0hrxF3czSxiZqvM7IlgfZiZvWJmxWb2sJl1Dtq7BOvFwfaC9kldMorubxdpldacud8ErG+0/mPgp+4+HPgQuC5ovw74MGj/aRAn0jYN/e3ZYWcikhLiKu5mNhi4GPhdsG7AOcCjQcgcYGqwPCVYJ9h+bhAvcmTU3y7SavGeud8DfAeIBut9gEp3rw3Wy4D8YDkf2AQQbK8K4g9gZtPNbIWZraioqDjC9CUj1M+XeoyKu0i8WizuZjYZ2O7uKxP5wu4+y90L3b2wX79+idy1pJuSJZDdFQaNCTsTkZQRzw3DpwGXmNlFQA7QA/gZkGdmnYKz88FAeRBfDgwBysysE9AT2JHwzCVzvLsoGL9d/e0i8WrxzN3db3X3we5eAFwFLHL3fwSeAy4PwqYBjwfL84J1gu2L3N0TmrVkjp3vwc53YcQFYWciklLacp/7d4GbzayYWJ/67KB9NtAnaL8ZuKVtKUpGe+fZ2OPw88LNQyTFtOp73O7+PPB8sPwecHITMXuBKxKQmwgUL4Dex0KfT4WdiUhK0TdUJSkVrSrn7Dufpvrt5/lz1QkUrSpv+Uki0kAjMEnSKVpVzq1z1/LZutfI7byfJ6tP5JW5awGYOja/hWeLCOjMXZLQzPkbqK6p4+ys1ez1bF6OjqK6po6Z8zeEnZpIylBxl6SzubIagLOyXmdZdBT76HxAu4i0TMVdks6gvFyG2jaOzdrKc9ExB7SLSHxU3CXpzJg4kvOz1wDwfDQ2CmRudoQZE0eGmZZIStEFVUk6U8fmM2HZu2zaPpD3fQD5ebnMmDhSF1NFWkHFXZJPTTUDdrwKn72WjRddHHY2IilJ3TKSfEqWQm01jDg/7ExEUpaKuySf4gXQKUfjt4u0gYq7JJ93FsTmSs3W3TEiR0rFXZJLwyiQ6pIRaQsVd0kuGgVSJCFU3CW5vPOMRoEUSQAVd0keNdVQshiGq0tGpK3imUM1x8yWm9nrZvammf0waB9mZq+YWbGZPWxmnYP2LsF6cbC9oH3fgqSNkqVQu1f97SIJEM+Z+z7gHHcfDYwBJpnZBODHwE/dfTjwIXBdEH8d8GHQ/tMgTqRlugVSJGHimUPV3X13sJod/DhwDvBo0D4HmBosTwnWCbafa2aWsIwlfekWSJGEiavP3cwiZrYa2A4sAN4FKt29NggpA+oH/sgHNgEE26uIzbF68D6nm9kKM1tRUVHRtnchqW/Hu7oFUiSB4iru7l7n7mOAwcTmTT2+rS/s7rPcvdDdC/v169fW3UmqK9YtkCKJ1Kq7Zdy9EngOOBXIM7P6gccGA/WTXJYDQwCC7T2BHQnJVtLXO5oIWySR4rlbpp+Z5QXLucD5wHpiRf7yIGwa8HiwPC9YJ9i+yN09kUlLmtEtkCIJF8+QvwOBOWYWIfbH4BF3f8LM1gEPmdmPgFXA7CB+NvBHMysGdgJXtUPekk42vqhbIEUSrMXi7u5rgLFNtL9HrP/94Pa9wBUJyU4yw5pHICcPhp0ZdiYiaUPfUJVw7a2Ct56AT/8DdOoSdjYiaUPFXcK17vFYl8yYL4SdiUhaUXGXcK1+EPoMh/zxYWciklZU3CU8OzfC+y/B6KtBX2IWSSgVdwnPmocBg5M+H3YmImlHxV3C4Q6vPwjDzoC8IWFnI5J2VNylwxWtKudf7vwlfFjCf5aNoWhVectPEpFWUXGXDlW0qpxb567ljD3P8rF34cFdY7h17loVeJEEU3GXDjVz/gaiNdVMjizj6ejJ7CGH6po6Zs7fEHZqImlFxV061ObKai7IWkEPq+YvdWcc0C4iiaPiLh1qUF4ul0UWU+59eDk66oB2EUkcFXfpULed1Zszs9ZQVHcaHnz8crMjzJg4MuTMRNJLPKNCiiTMhb4YzFly1AXYR7Ez9hkTRzJ1bH7LTxaRuKm4S8dxjw03kF/Ig9dfE3Y2ImlN3TLScbauhe1vwmgN8S/S3uKZiWmImT1nZuvM7E0zuylo721mC8zsneCxV9BuZvZzMys2szVmNq6934SkiNcfhKzs2PC+ItKu4jlzrwW+5e6jgAnADWY2CrgFWOjuI4CFwTrAhcCI4Gc6cG/Cs5bUU1cDa/8MIyfBUb3DzkYk7bVY3N19i7u/FizvIjZ/aj4wBZgThM0BpgbLU4D7PWYZsYm0ByY8c0ktxQvh4woYrXHbRTpCq/rczayA2JR7rwD93X1LsGkr0D9Yzgc2NXpaWdAmmez1B+GoPjD8vLAzEckIcRd3M+sG/AX4hrt/1HibuzvgrXlhM5tuZivMbEVFRUVrniqpZtc22PAUfOZK6NQ57GxEMkJcxd3MsokV9j+5+9ygeVt9d0vwuD1oLwcaj+E6OGg7gLvPcvdCdy/s16/fkeYvqWD5rFif+8nXh52JSMaI524ZA2YD6939J402zQOmBcvTgMcbtV8b3DUzAahq1H0jmWb/HlgxG46/GPp8KuxsRDJGPF9iOg24BlhrZquDtu8BdwGPmNl1QClwZbDtKeAioBjYA3wpoRlLann9Aaj+EE69MexMRDJKi8Xd3ZcAzU1weW4T8Q7c0Ma8JB1Eo/Dyr2DQOBg6IexsRDKKvqEq7eftp2Hnu3DqDZoAW6SDqbhL+3n5l9BzCIya2nKsiCSUiru0j82roHQJnPIViGh8OpGOpuIu7ePlX0Ln7jDu2rAzEclIKu6SUEWryrn0zkeoWTOXh+o+R9H63WGnJJKR9P+yJEzRqnJunbuWm/xxsiJR/vfj89g5dy2AJuMQ6WA6c5eEmTl/A1k1u/lCZBF/i55COf2orqlj5vwNYacmknFU3CVhNldWc0XkBXrYHn5Xe9EB7SLSsVTcJWEG9+zMP0f+xqvR41jtwxvaB+XlhpiVSGZScZeE+Z+TyhiaVXHAWXtudoQZE0eGmJVIZtIFVUmYk7c8wMdHDWFdl9Oxqv0MystlxsSRupgqEgIVd0mMTcuhbDldL7ybxaecH3Y2IhlP3TKSGC/cDTl5MOYfw85ERFBxl0R47wUoXgBnfAu6dAs7GxFBxV3aKhqFBf8eGyDs5OlhZyMiAfW5S9u8ORe2rIZLfwPZOWFnIyKBeKbZ+72ZbTezNxq19TazBWb2TvDYK2g3M/u5mRWb2RozG9eeyUvIavfBwv+A/p+JTX4tIkkjnm6ZPwCTDmq7BVjo7iOAhcE6wIXAiOBnOnBvYtKUpPTqbKgshfN/CFnq4RNJJi3+Rrr7i8DOg5qnAHOC5TnA1Ebt93vMMiDPzAYmKllJItWV8OLdcOzZMPyQ2RZFJGRHerrV3923BMtbgf7Bcj6wqVFcWdB2CDObbmYrzGxFRUXFEaYhoVl6T2zi6/N/GHYmItKENv8vHUyI7UfwvFnuXujuhf369WtrGtKRqspg2b1w0udh4OiwsxGRJhxpcd9W390SPG4P2suBIY3iBgdtkk6e+y/wKJxzW9iZiEgzjrS4zwOmBcvTgMcbtV8b3DUzAahq1H0jKa5oVTnX/Nd9RFc9wANcSNHGSNgpiUgzWrzP3cweBD4H9DWzMuAHwF3AI2Z2HVAK1N8H9xRwEVAM7AG+1A45SwjqZ1n6FfexKyuXH398Mfs1y5JI0mqxuLv71c1sOuQWiaD//Ya2JiXJZ+b8DYypW8PZnV/nv2qupopuEMyypOIuknz0DVWJy9bKj7m38wOUeV/m1E1saNcsSyLJSd88kZZFo9zT9T5OytrIzJor2Ufnhk2aZUkkOam4y+G5w5M38/d1C/lV9B94PHp6wybNsiSSvFTcpXnu8LfvwMr74LRvMGjqf5Cfl4sB+Xm53HnZZ9TfLpKk1OcuTXOH+d+H5bPg1BvhvNuZasbUcYPDzkxE4qAzdzmUOzz7A1j2Szjlq3DBj8As7KxEpBVU3OVQz90BS38GhdfBpLtU2EVSkLplhKJV5cycv4HNldV8v9s8vlz7EIy7Fi76bxV2kRSl4p7h6r95Wl1Tx79GHufLtQ/zWPQsbPB3mKox2kVSln57M9zM+RuorqnjK5G/8p3sh3ms7jS+tf96Zj7zTtipiUgbqLhnuM2V1VwfeYJbsx9kXt2pfLvmq0TJ0jdPRVKcumUy3De7LeDrtQ/wRN0Evlnzr9QRG+lR3zwVSW06c89ky+7l67X38bfoBG6quaGhsOubpyKpT8U9U73yG3j6FjjhEvZP+Q0D8rrpm6ciaUTdMplo+W9jwwocPxku/z1TItlMGV8QdlYikkDtUtzNbBLwMyAC/M7d70r0azS+N3tQXi4zJo5s8mwznrhki2nP1/vlcasYs+Y/YOTFcPl9EMlu+WCLSMpJeHE3swjwS+B8oAx41czmufu6RL1G43uzAcorq7m1iVmB4olLtphEv9735r7OsNqNTIm8zpl71jBmzXq2DDibgVf8ATp9MnSviKSX9jhzPxkodvf3AMzsIWAKkLDiXn9v9mgr5uSst2KNUSh78inYM7whruy5Yv4pWgONp/o8KO5IYyzqlD/5ZENM+XPFXNPEfg4XEyULjxqlT86HfSPBssCM4mfe5gvRPXSJ1NDFauhCDV18P/ZEFDb2gawIlWv3cVm0B1uzerHV+7DVe7GzpntsZqTjcuC95+jy1z/yQtYq+nWpAuCNaAH31F5G0YdX8bwKu0has9jMeAncodnlwCR3/3Kwfg1wirvfeFDcdGA6wNChQ8eXlpbG/RrDbnkSB6ZH/iiuTDMAAAVJSURBVMr3sh9MWO7Jaq9ns49s9tKZ/r16QrSW2qotdLLoAXH7vBM76MEg+xBwdno3FkdP4oW6k1gcPYkK8gAwYONdF3f8GxGRhDKzle5e2NS20C6ouvssYBZAYWFhq/7CDMrLpbyymvvqLuT/6s7/pL1nDs/efFbD+nk/eYHNVXsPfX6juLbEDOyZy8JvxWLO/Z8X2Fx16Bd/BjUTY4DhZOHk9+zC0zedHhuN0aNM/t/FvF9Vyz5iRT0WHbuTZek3zgHg7DsXsK9qGwNsJwNtJ/2Dx4LOuxh01mkw/Fym3L+TTVX7mzx+IpLe2uNWyHJgSKP1wUFbwsyYOJLc7Ag1dGIPOewhB8/uyo2TxkCXbg0/N04ag2d3bYhpKq4tMV+bNBo6d4XOwXJ2V6rJafjhMDF7yOFjcqnN7s5XJ42Ho3pD1z7QrR9fnnQKNdk9gunsYoX94HvPvzVpFLuy+7LGP8X86Ge5v24iP7d/Yt/f/wrO+g7kj+dbk0aRmx054NjpHnaRzNAeZ+6vAiPMbBixon4V8IVEvkD9BcOW7hSJJy7ZYsJ4PRFJPwnvcwcws4uAe4hdOvy9u99xuPjCwkJfsWJFwvMQEUlnHd7n7u5PAU+1x75FRKRlGn5ARCQNqbiLiKQhFXcRkTSk4i4ikoZU3EVE0lC73ArZ6iTMKoD4xx84UF/ggwSm01FSNW9I3dyVd8dS3u3vGHfv19SGpCjubWFmK5q7zzOZpWrekLq5K++OpbzDpW4ZEZE0pOIuIpKG0qG4zwo7gSOUqnlD6uauvDuW8g5Ryve5i4jIodLhzF1ERA6i4i4ikobSorib2e1mVm5mq4Ofi8LO6XDMbJKZbTCzYjO7Jex84mVmJWa2NjjGSTtGs5n93sy2m9kbjdp6m9kCM3sneOwVZo7NaSb3pP58m9kQM3vOzNaZ2ZtmdlPQntTH/DB5J/Xxjlda9Lmb2e3Abnf/77BzaYmZRYC3gfOBMmKTm1zt7gmbQLy9mFkJUOjuSf0FDzM7E9gN3O/unw7a7gZ2uvtdwR/UXu7+3TDzbEozud9OEn++zWwgMNDdXzOz7sBKYCrwRZL4mB8m7ytJ4uMdr7Q4c08xJwPF7v6eu+8HHgKmhJxTWnH3F4GdBzVPAeYEy3OI/RInnWZyT2ruvsXdXwuWdwHrgXyS/JgfJu+0kE7F/UYzWxP8W5tU//4dJB/Y1Gi9jNT5QDnwjJmtNLPpYSfTSv3dfUuwvBXoH2YyRyAlPt9mVgCMBV4hhY75QXlDihzvw0mZ4m5mz5rZG038TAHuBT4FjAG2AP8TarLp63R3HwdcCNwQdCGkHI/1RaZSf2RKfL7NrBvwF+Ab7v5R423JfMybyDsljndL2mWavfbg7ufFE2dmvwWeaOd02qIcGNJofXDQlvTcvTx43G5mjxHrYnox3Kzits3MBrr7lqCvdXvYCcXL3bfVLyfr59vMsokVyD+5+9ygOemPeVN5p8LxjkfKnLkfTvDBqXcp8EZzsUngVWCEmQ0zs87AVcC8kHNqkZl1DS46YWZdgQtI7uN8sHnAtGB5GvB4iLm0SrJ/vs3MgNnAenf/SaNNSX3Mm8s72Y93vNLlbpk/EvsXyoES4CuN+vqSTnBr1T1ABPi9u98RckotMrNjgceC1U7AA8mat5k9CHyO2NCt24AfAEXAI8BQYsNLX+nuSXfhspncP0cSf77N7HRgMbAWiAbN3yPWf520x/wweV9NEh/veKVFcRcRkQOlRbeMiIgcSMVdRCQNqbiLiKQhFXcRkTSk4i4ikoZU3EVE0pCKu4hIGvp/48R0z8lMpGMAAAAASUVORK5CYII=)\n",
        "\n"
      ]
    },
    {
      "cell_type": "code",
      "metadata": {
        "id": "JgeEQpeCZm6g"
      },
      "source": [
        "from scipy.interpolate import interp1d\n",
        "\n",
        "x = np.linspace(-5, 28, num=34, endpoint=True)\n",
        "y = np.array([0, 0, 0, 0, 0, 0, 0, 0, 0, 35, 75, 150, 240, 362.5, 512.5, 670, 800, 800, 800, 800, 800, 800, 800, 800, 800, 800, 800, 800, 800, 800, 800, 800, 800, 800])\n",
        "f = interp1d(x, y, kind='cubic') # creating function"
      ],
      "execution_count": 42,
      "outputs": []
    },
    {
      "cell_type": "code",
      "metadata": {
        "id": "Z530q7cuaanw"
      },
      "source": [
        "# xnew = np.linspace(-5, 28, num=41, endpoint=True)\n",
        "# import matplotlib.pyplot as plt\n",
        "# plt.plot(x, y, 'o', xnew, f(xnew))\n",
        "# plt.legend(['data', 'cubic'], loc='best')\n",
        "# plt.show()"
      ],
      "execution_count": 43,
      "outputs": []
    },
    {
      "cell_type": "code",
      "metadata": {
        "id": "QAHS3gg1Z0AA"
      },
      "source": [
        "#@title Set error margin { display-mode: \"form\" }\n",
        "\n",
        "error_margin = 0.45 #@param {type:\"slider\", min:0.1, max:0.6, step:0.05}\n",
        "\n",
        "def fil(x):\n",
        "  return int(f(x))\n",
        "\n",
        "def compare(x):\n",
        "  actual = x[\"Active Power kW\"]\n",
        "  calculated = x[\"Power_cal\"]\n",
        "\n",
        "  if calculated == 0:\n",
        "    error = abs(actual-calculated)/0.001\n",
        "    if error>error_margin:\n",
        "      return calculated\n",
        "    return actual\n",
        "\n",
        "  error = abs(actual-calculated)/calculated\n",
        "  if error>error_margin:\n",
        "    return calculated\n",
        "  return actual\n",
        "\n",
        "def addcol(x):\n",
        "  actual = x[\"Active Power kW\"]\n",
        "  calculated = x[\"Power_cal\"]\n",
        "\n",
        "  if calculated == 0:\n",
        "    error = abs(actual-calculated)/0.001\n",
        "    if error>error_margin:\n",
        "      return \"replaced\"\n",
        "    return \"actual\"\n",
        "\n",
        "  error = abs(actual-calculated)/calculated\n",
        "  if error>error_margin:\n",
        "    return \"replaced\"\n",
        "  return \"actual\""
      ],
      "execution_count": 44,
      "outputs": []
    },
    {
      "cell_type": "markdown",
      "metadata": {
        "id": "9cdRND78Pm6f"
      },
      "source": [
        "## Inter Quartile Range and Standard Deviation Fuctions"
      ]
    },
    {
      "cell_type": "code",
      "metadata": {
        "id": "LK0YoL9iPjlv"
      },
      "source": [
        "def IQR(df, feature='Gearbox oil Temperature'):\n",
        "  Q1 = df4[feature].quantile(0.25)\n",
        "  Q3 = df4[feature].quantile(0.75)\n",
        "  lower_limit = Q1 - 1.5*(Q3-Q1)\n",
        "  upper_limit = Q3 + 1.5*(Q3-Q1)\n",
        "  # print(lower_limit, upper_limit)\n",
        "  return lower_limit, upper_limit\n",
        "\n",
        "def STD(df, feature='Gearbox oil Temperature')\n",
        "  upper_limit = df4[feature].mean() + 3*df4[feature].std()\n",
        "  lower_limit = df4[feature].mean() - 3*df4[feature].std()\n",
        "  # print(lower_limit, upper_limit)\n",
        "  return lower_limit, upper_limit\n",
        "#df4[(df4['Generator RPM']<lower_limit)|(df4['Generator RPM']>upper_limit)]"
      ],
      "execution_count": null,
      "outputs": []
    },
    {
      "cell_type": "markdown",
      "metadata": {
        "id": "3oJYDKJoceCX"
      },
      "source": [
        "#V08 June\n",
        "\n",
        "190080 non-null data points"
      ]
    },
    {
      "cell_type": "code",
      "metadata": {
        "id": "OhV2wFUeclCC"
      },
      "source": [
        "df4 = pd.read_csv(url4)"
      ],
      "execution_count": null,
      "outputs": []
    },
    {
      "cell_type": "code",
      "metadata": {
        "id": "ZGAv8KkpTfzd"
      },
      "source": [
        "df4['Date & Time'] = pd.to_datetime(df4['Date & Time'], format=\"%d/%m/%Y %H:%M:%S\")\n",
        "df4.set_index('Date & Time', inplace = True)\n",
        "df4 = df4.resample('10min').mean().reset_index()"
      ],
      "execution_count": 46,
      "outputs": []
    },
    {
      "cell_type": "code",
      "metadata": {
        "id": "ADlC50Zmcm1J"
      },
      "source": [
        "df4 = df4[df4['Generator RPM']>0] # Removing rows with zero Generator RPM"
      ],
      "execution_count": 47,
      "outputs": []
    },
    {
      "cell_type": "code",
      "metadata": {
        "id": "vbm5c-AsSRkg"
      },
      "source": [
        "# lower_limit, upper_limit = IQR(df4, 'Gearbox oil Temperature')\n",
        "# # df4 = df4[df4['Gearbox oil Temperature']>0] # Removing rows with negative temperatures\n",
        "# df4[(df4['Gearbox oil Temperature']<lower_limit)|(df4['Gearbox oil Temperature']>upper_limit)] # Removing using IQR or std"
      ],
      "execution_count": null,
      "outputs": []
    },
    {
      "cell_type": "code",
      "metadata": {
        "id": "xE3nO1B4xDVT"
      },
      "source": [
        "# lower_limit, upper_limit = IQR(df4, 'Nacelle Temperature')\n",
        "# df4[(df4['Nacelle Temperature']<lower_limit)|(df4['Nacelle Temperature']>upper_limit)] # Removing using IQR or std"
      ],
      "execution_count": null,
      "outputs": []
    },
    {
      "cell_type": "code",
      "metadata": {
        "id": "dAh6Zm1lh2lq"
      },
      "source": [
        "df4[\"Power_cal\"] = df4[\"Wind Speed m/s\"].apply(fil) # calculating power from wind speed\n",
        "df4[\"Power_act\"] = df4.apply(compare, axis=1) # Replacing outliers with calculated power\n",
        "df4[\"Power_cate\"] = df4.apply(addcol, axis=1) # Addting outlier/not outlier column"
      ],
      "execution_count": 48,
      "outputs": []
    },
    {
      "cell_type": "code",
      "metadata": {
        "id": "4e6OnYagkFzz"
      },
      "source": [
        "df4[\"voltage\"] = (df4[\"Voltage Phase R\"] + df4[\"Voltage Phase  S\"]+ df4[\"Voltage Phase T\"])/3\n",
        "#df4[\"current\"]  = (df4[\"Current Phase R\"] + df4[\"Current Phase  S\"]+ df4[\"Current Phase T\"])/3\n",
        "df4[\"Gearbox & Bearing temp\"]  = (df4[\"Gearbox Bearing Temperature\"] + df4[\"Gearbox oil Temperature\"]+ df4[\"Generator Winding Temperature Phase R\"]+df4[\"Generator Winding Temperature Phase S\"]+df4[\"Generator Winding Temperature Phase T\"]+df4[\"Main bearing Temperature\"] + df4[\"Generator Bearing Temperature DE\"]+ df4[\"Generator Bearing Temperature NDE\"])/8\n",
        "\n",
        "df4.drop([\"Reactive Power kVAR\", \"Frequency Hz\",\"Voltage Phase R\",\"Voltage Phase  S\",\"Voltage Phase T\",\"Gearbox Bearing Temperature\",\"Gearbox oil Temperature\",\"Generator Winding Temperature Phase R\",\"Generator Winding Temperature Phase S\",\"Generator Winding Temperature Phase T\",\"Main bearing Temperature\",\"Generator Bearing Temperature DE\",\"Generator Bearing Temperature NDE\"], axis='columns', inplace=True)"
      ],
      "execution_count": 49,
      "outputs": []
    },
    {
      "cell_type": "code",
      "metadata": {
        "id": "K3s1pkYakF9u"
      },
      "source": [
        "df4"
      ],
      "execution_count": null,
      "outputs": []
    },
    {
      "cell_type": "code",
      "metadata": {
        "id": "LH2BkYvfkGBB"
      },
      "source": [
        "df4.to_csv('drive/MyDrive/DatasetsWind/V08June1.csv', index=False)"
      ],
      "execution_count": 50,
      "outputs": []
    },
    {
      "cell_type": "markdown",
      "metadata": {
        "id": "SpmFGlfhcnpH"
      },
      "source": [
        "#V08 July"
      ]
    },
    {
      "cell_type": "code",
      "metadata": {
        "id": "pFEwDIdScsbz"
      },
      "source": [
        "df6 = pd.read_csv(url6)"
      ],
      "execution_count": 52,
      "outputs": []
    },
    {
      "cell_type": "code",
      "metadata": {
        "id": "3a5Swm85oqpE"
      },
      "source": [
        "df6['Date & Time'] = pd.to_datetime(df6['Date & Time'], format=\"%d/%m/%Y %H:%M:%S\")\n",
        "df6.set_index('Date & Time', inplace = True)\n",
        "df6 = df6.resample('10min').mean().reset_index()"
      ],
      "execution_count": 53,
      "outputs": []
    },
    {
      "cell_type": "code",
      "metadata": {
        "id": "DHsO6sNNo0Dy"
      },
      "source": [
        "df6 = df6[df6['Generator RPM']>0] # Removing rows with zero Generator RPM"
      ],
      "execution_count": 54,
      "outputs": []
    },
    {
      "cell_type": "code",
      "metadata": {
        "id": "qwLWblMLlno7"
      },
      "source": [
        "df6[\"Power_cal\"] = df6[\"Wind Speed m/s\"].apply(fil) # calculating power from wind speed\n",
        "df6[\"Power_act\"] = df6.apply(compare, axis=1) # Replacing outliers with calculated power\n",
        "df6[\"Power_cate\"] = df6.apply(addcol, axis=1) # Addting outlier/not outlier column"
      ],
      "execution_count": 55,
      "outputs": []
    },
    {
      "cell_type": "code",
      "metadata": {
        "id": "Z6v0vIEsdg8F"
      },
      "source": [
        "df6[\"voltage\"] = (df6[\"Voltage Phase R\"] + df6[\"Voltage Phase  S\"]+ df6[\"Voltage Phase T\"])/3\n",
        "df6[\"current\"]  = (df6[\"Current Phase R\"] + df6[\"Current Phase S\"]+ df6[\"Current Phase T\"])/3\n",
        "df6[\"Gearbox & Bearing temp\"]  = (df6[\"Gearbox Bearing Temperature\"] + df6[\"Gearbox oil Temperature\"]+ df6[\"Generator Winding Temperature Phase R\"]+df6[\"Generator Winding Temperature Phase S\"]+df6[\"Generator Winding Temperature Phase T\"]+df6[\"Main bearing Temperature\"] + df6[\"Generator Bearing Temperature DE\"]+ df6[\"Generator Bearing Temperature NDE\"])/8\n",
        "\n",
        "\n",
        "df6.drop([\"Reactive Power kVAR\", \"Frequency Hz\",\"Voltage Phase R\",\"Voltage Phase  S\",\"Voltage Phase T\",\"Current Phase R\",\"Current Phase S\",\"Current Phase T\",\"Gearbox Bearing Temperature\",\"Gearbox oil Temperature\",\"Generator Winding Temperature Phase R\",\"Generator Winding Temperature Phase S\",\"Generator Winding Temperature Phase T\",\"Main bearing Temperature\",\"Generator Bearing Temperature DE\",\"Generator Bearing Temperature NDE\"], axis='columns', inplace=True)"
      ],
      "execution_count": 56,
      "outputs": []
    },
    {
      "cell_type": "code",
      "metadata": {
        "id": "5ZPVUgW3l7ur"
      },
      "source": [
        "df6"
      ],
      "execution_count": null,
      "outputs": []
    },
    {
      "cell_type": "code",
      "metadata": {
        "id": "4surstwLmK4O"
      },
      "source": [
        "df6.to_csv('drive/MyDrive/DatasetsWind/V08July1.csv', index=False)"
      ],
      "execution_count": 57,
      "outputs": []
    },
    {
      "cell_type": "markdown",
      "metadata": {
        "id": "m_IQaHmhnGpZ"
      },
      "source": [
        "# V13 June"
      ]
    },
    {
      "cell_type": "code",
      "metadata": {
        "colab": {
          "base_uri": "https://localhost:8080/"
        },
        "id": "XIsVPiuNnKKK",
        "outputId": "85f36e39-164a-49d5-fd26-66726779ddb4"
      },
      "source": [
        "df5 = pd.read_csv(url5)\n",
        "df5.info()"
      ],
      "execution_count": null,
      "outputs": [
        {
          "output_type": "stream",
          "text": [
            "<class 'pandas.core.frame.DataFrame'>\n",
            "RangeIndex: 190038 entries, 0 to 190037\n",
            "Data columns (total 24 columns):\n",
            " #   Column                             Non-Null Count   Dtype  \n",
            "---  ------                             --------------   -----  \n",
            " 0   Date & Time                        190038 non-null  object \n",
            " 1   Voltage Phase R                    190038 non-null  float64\n",
            " 2   Voltage Phase S                    190038 non-null  float64\n",
            " 3   Voltage Phase T                    190038 non-null  float64\n",
            " 4   Frequency Hz                       190038 non-null  float64\n",
            " 5   Current Phase R                    190038 non-null  float64\n",
            " 6   Current Phase S                    190038 non-null  float64\n",
            " 7   Current Phase T                    190038 non-null  float64\n",
            " 8   Reactive Power kVAR                190038 non-null  float64\n",
            " 9   Active Power kW                    190038 non-null  float64\n",
            " 10  Wind Speed m/s                     190038 non-null  float64\n",
            " 11  Nacelle Temperature                190038 non-null  float64\n",
            " 12  Ambient Temperature                190038 non-null  float64\n",
            " 13  Gearbox oil Temperature            190038 non-null  float64\n",
            " 14  Gearbox Bearing Temperature        190038 non-null  float64\n",
            " 15  Generator Winding Temperature R    190038 non-null  float64\n",
            " 16  Generator Winding Temperature S    190038 non-null  float64\n",
            " 17  Generator Winding Temperature T    190038 non-null  float64\n",
            " 18  Hydraulic unit Pressure in bar     190038 non-null  float64\n",
            " 19  Hydraulic oil Temperature          190038 non-null  float64\n",
            " 20  Main bearing Temperature           190038 non-null  float64\n",
            " 21  Generator Bearing Temperature DE   190038 non-null  float64\n",
            " 22  Generator Bearing Temperature NDE  190038 non-null  float64\n",
            " 23  Generator RPM                      190038 non-null  float64\n",
            "dtypes: float64(23), object(1)\n",
            "memory usage: 34.8+ MB\n"
          ],
          "name": "stdout"
        }
      ]
    },
    {
      "cell_type": "code",
      "metadata": {
        "id": "ICoUvO_jnbFq"
      },
      "source": [
        "df5[\"voltage\"] = (df5[\"Voltage Phase R\"] + df5[\"Voltage Phase S\"]+ df5[\"Voltage Phase T\"])/3\n",
        "df5[\"current\"]  = (df5[\"Current Phase R\"] + df5[\"Current Phase S\"]+ df5[\"Current Phase T\"])/3\n",
        "df5[\"Gearbox & Bearing temp\"]  = (df5[\"Gearbox Bearing Temperature\"] + df5[\"Gearbox oil Temperature\"]+ df5[\"Generator Winding Temperature R\"]+df5[\"Generator Winding Temperature S\"]+df5[\"Generator Winding Temperature T\"]+df5[\"Main bearing Temperature\"] + df5[\"Generator Bearing Temperature DE\"]+ df5[\"Generator Bearing Temperature NDE\"])/8\n",
        "\n",
        "\n",
        "df5.drop([\"Reactive Power kVAR\", \"Frequency Hz\",\"Voltage Phase R\",\"Voltage Phase S\",\"Voltage Phase T\",\"Current Phase R\",\"Current Phase S\",\"Current Phase T\",\"Gearbox Bearing Temperature\",\"Gearbox oil Temperature\",\"Generator Winding Temperature R\",\"Generator Winding Temperature S\",\"Generator Winding Temperature T\",\"Main bearing Temperature\",\"Generator Bearing Temperature DE\",\"Generator Bearing Temperature NDE\"], axis='columns', inplace=True)"
      ],
      "execution_count": null,
      "outputs": []
    },
    {
      "cell_type": "code",
      "metadata": {
        "colab": {
          "base_uri": "https://localhost:8080/",
          "height": 602
        },
        "id": "9_oQTvX9nqJj",
        "outputId": "dacdfe51-9ecc-4fa3-f7e4-dbccdb94c88f"
      },
      "source": [
        "df5"
      ],
      "execution_count": null,
      "outputs": [
        {
          "output_type": "execute_result",
          "data": {
            "text/html": [
              "<div>\n",
              "<style scoped>\n",
              "    .dataframe tbody tr th:only-of-type {\n",
              "        vertical-align: middle;\n",
              "    }\n",
              "\n",
              "    .dataframe tbody tr th {\n",
              "        vertical-align: top;\n",
              "    }\n",
              "\n",
              "    .dataframe thead th {\n",
              "        text-align: right;\n",
              "    }\n",
              "</style>\n",
              "<table border=\"1\" class=\"dataframe\">\n",
              "  <thead>\n",
              "    <tr style=\"text-align: right;\">\n",
              "      <th></th>\n",
              "      <th>Date &amp; Time</th>\n",
              "      <th>Active Power kW</th>\n",
              "      <th>Wind Speed m/s</th>\n",
              "      <th>Nacelle Temperature</th>\n",
              "      <th>Ambient Temperature</th>\n",
              "      <th>Hydraulic unit Pressure in bar</th>\n",
              "      <th>Hydraulic oil Temperature</th>\n",
              "      <th>Generator RPM</th>\n",
              "      <th>voltage</th>\n",
              "      <th>current</th>\n",
              "      <th>Gearbox &amp; Bearing temp</th>\n",
              "    </tr>\n",
              "  </thead>\n",
              "  <tbody>\n",
              "    <tr>\n",
              "      <th>0</th>\n",
              "      <td>02/06/2021 00:00:00</td>\n",
              "      <td>385.9</td>\n",
              "      <td>8.4</td>\n",
              "      <td>30.8</td>\n",
              "      <td>30.6</td>\n",
              "      <td>168.8</td>\n",
              "      <td>45.9</td>\n",
              "      <td>1408.4</td>\n",
              "      <td>574.700000</td>\n",
              "      <td>231.500000</td>\n",
              "      <td>82.8000</td>\n",
              "    </tr>\n",
              "    <tr>\n",
              "      <th>1</th>\n",
              "      <td>02/06/2021 00:00:10</td>\n",
              "      <td>299.0</td>\n",
              "      <td>8.3</td>\n",
              "      <td>30.8</td>\n",
              "      <td>30.6</td>\n",
              "      <td>172.3</td>\n",
              "      <td>45.8</td>\n",
              "      <td>1392.7</td>\n",
              "      <td>574.000000</td>\n",
              "      <td>187.533333</td>\n",
              "      <td>82.7375</td>\n",
              "    </tr>\n",
              "    <tr>\n",
              "      <th>2</th>\n",
              "      <td>02/06/2021 00:00:20</td>\n",
              "      <td>344.3</td>\n",
              "      <td>8.2</td>\n",
              "      <td>30.8</td>\n",
              "      <td>30.5</td>\n",
              "      <td>168.0</td>\n",
              "      <td>45.8</td>\n",
              "      <td>1439.5</td>\n",
              "      <td>574.766667</td>\n",
              "      <td>195.200000</td>\n",
              "      <td>82.9000</td>\n",
              "    </tr>\n",
              "    <tr>\n",
              "      <th>3</th>\n",
              "      <td>02/06/2021 00:00:30</td>\n",
              "      <td>426.5</td>\n",
              "      <td>8.4</td>\n",
              "      <td>30.8</td>\n",
              "      <td>30.5</td>\n",
              "      <td>173.9</td>\n",
              "      <td>45.9</td>\n",
              "      <td>1491.7</td>\n",
              "      <td>575.133333</td>\n",
              "      <td>248.866667</td>\n",
              "      <td>82.6875</td>\n",
              "    </tr>\n",
              "    <tr>\n",
              "      <th>4</th>\n",
              "      <td>02/06/2021 00:00:40</td>\n",
              "      <td>546.0</td>\n",
              "      <td>9.2</td>\n",
              "      <td>30.8</td>\n",
              "      <td>30.6</td>\n",
              "      <td>166.8</td>\n",
              "      <td>45.8</td>\n",
              "      <td>1497.7</td>\n",
              "      <td>575.533333</td>\n",
              "      <td>309.733333</td>\n",
              "      <td>82.8250</td>\n",
              "    </tr>\n",
              "    <tr>\n",
              "      <th>...</th>\n",
              "      <td>...</td>\n",
              "      <td>...</td>\n",
              "      <td>...</td>\n",
              "      <td>...</td>\n",
              "      <td>...</td>\n",
              "      <td>...</td>\n",
              "      <td>...</td>\n",
              "      <td>...</td>\n",
              "      <td>...</td>\n",
              "      <td>...</td>\n",
              "      <td>...</td>\n",
              "    </tr>\n",
              "    <tr>\n",
              "      <th>190033</th>\n",
              "      <td>30/06/2021 23:43:10</td>\n",
              "      <td>472.0</td>\n",
              "      <td>8.7</td>\n",
              "      <td>30.6</td>\n",
              "      <td>30.9</td>\n",
              "      <td>171.6</td>\n",
              "      <td>45.5</td>\n",
              "      <td>1335.1</td>\n",
              "      <td>573.000000</td>\n",
              "      <td>285.333333</td>\n",
              "      <td>82.0375</td>\n",
              "    </tr>\n",
              "    <tr>\n",
              "      <th>190034</th>\n",
              "      <td>30/06/2021 23:43:20</td>\n",
              "      <td>422.0</td>\n",
              "      <td>8.5</td>\n",
              "      <td>30.7</td>\n",
              "      <td>30.8</td>\n",
              "      <td>167.9</td>\n",
              "      <td>45.6</td>\n",
              "      <td>1395.9</td>\n",
              "      <td>573.866667</td>\n",
              "      <td>257.200000</td>\n",
              "      <td>81.9375</td>\n",
              "    </tr>\n",
              "    <tr>\n",
              "      <th>190035</th>\n",
              "      <td>30/06/2021 23:43:30</td>\n",
              "      <td>489.2</td>\n",
              "      <td>8.4</td>\n",
              "      <td>30.6</td>\n",
              "      <td>30.7</td>\n",
              "      <td>174.8</td>\n",
              "      <td>45.5</td>\n",
              "      <td>1466.2</td>\n",
              "      <td>572.133333</td>\n",
              "      <td>294.466667</td>\n",
              "      <td>81.9375</td>\n",
              "    </tr>\n",
              "    <tr>\n",
              "      <th>190036</th>\n",
              "      <td>30/06/2021 23:43:40</td>\n",
              "      <td>521.4</td>\n",
              "      <td>9.2</td>\n",
              "      <td>30.7</td>\n",
              "      <td>30.6</td>\n",
              "      <td>166.5</td>\n",
              "      <td>45.5</td>\n",
              "      <td>1466.2</td>\n",
              "      <td>574.100000</td>\n",
              "      <td>314.466667</td>\n",
              "      <td>81.8250</td>\n",
              "    </tr>\n",
              "    <tr>\n",
              "      <th>190037</th>\n",
              "      <td>30/06/2021 23:43:50</td>\n",
              "      <td>494.6</td>\n",
              "      <td>8.4</td>\n",
              "      <td>30.7</td>\n",
              "      <td>30.5</td>\n",
              "      <td>178.2</td>\n",
              "      <td>45.5</td>\n",
              "      <td>1426.5</td>\n",
              "      <td>572.633333</td>\n",
              "      <td>289.433333</td>\n",
              "      <td>81.9500</td>\n",
              "    </tr>\n",
              "  </tbody>\n",
              "</table>\n",
              "<p>190038 rows × 11 columns</p>\n",
              "</div>"
            ],
            "text/plain": [
              "                Date & Time  ...  Gearbox & Bearing temp\n",
              "0       02/06/2021 00:00:00  ...                 82.8000\n",
              "1       02/06/2021 00:00:10  ...                 82.7375\n",
              "2       02/06/2021 00:00:20  ...                 82.9000\n",
              "3       02/06/2021 00:00:30  ...                 82.6875\n",
              "4       02/06/2021 00:00:40  ...                 82.8250\n",
              "...                     ...  ...                     ...\n",
              "190033  30/06/2021 23:43:10  ...                 82.0375\n",
              "190034  30/06/2021 23:43:20  ...                 81.9375\n",
              "190035  30/06/2021 23:43:30  ...                 81.9375\n",
              "190036  30/06/2021 23:43:40  ...                 81.8250\n",
              "190037  30/06/2021 23:43:50  ...                 81.9500\n",
              "\n",
              "[190038 rows x 11 columns]"
            ]
          },
          "metadata": {
            "tags": []
          },
          "execution_count": 30
        }
      ]
    },
    {
      "cell_type": "code",
      "metadata": {
        "id": "aGYTlNyCn3Az"
      },
      "source": [
        "df5.to_csv('drive/MyDrive/DatasetsWind/V13June.csv', index=False)"
      ],
      "execution_count": null,
      "outputs": []
    },
    {
      "cell_type": "markdown",
      "metadata": {
        "id": "GDJwTq_OmO4j"
      },
      "source": [
        "# V13 July"
      ]
    },
    {
      "cell_type": "code",
      "metadata": {
        "colab": {
          "base_uri": "https://localhost:8080/"
        },
        "id": "Tjy_K3KbmSyt",
        "outputId": "267773f2-284a-4e2c-bf39-113118db76ab"
      },
      "source": [
        "df7 = pd.read_csv(url7)\n",
        "df7.info()"
      ],
      "execution_count": null,
      "outputs": [
        {
          "output_type": "stream",
          "text": [
            "<class 'pandas.core.frame.DataFrame'>\n",
            "RangeIndex: 186493 entries, 0 to 186492\n",
            "Data columns (total 24 columns):\n",
            " #   Column                                 Non-Null Count   Dtype  \n",
            "---  ------                                 --------------   -----  \n",
            " 0   Date & Time                            186493 non-null  object \n",
            " 1   Voltage Phase R                        186493 non-null  float64\n",
            " 2   Voltage Phase S                        186493 non-null  float64\n",
            " 3   Voltage Phase T                        186493 non-null  float64\n",
            " 4   Current Phase R                        186493 non-null  float64\n",
            " 5   Current Phase S                        186493 non-null  float64\n",
            " 6   Current Phase T                        186493 non-null  float64\n",
            " 7   Frequency Hz                           186493 non-null  float64\n",
            " 8   Active Power kW                        186493 non-null  float64\n",
            " 9   Reactive Power kVAR                    186493 non-null  float64\n",
            " 10  Wind Speed m/s                         186493 non-null  float64\n",
            " 11  Nacelle Temperature                    186493 non-null  float64\n",
            " 12  Ambient Temperature                    186493 non-null  float64\n",
            " 13  Gearbox oil Temperature                186493 non-null  float64\n",
            " 14  Gearbox Bearing Temperature            186493 non-null  float64\n",
            " 15  Generator Winding Temperature Phase R  186493 non-null  float64\n",
            " 16  Generator Winding Temperature Phase S  186493 non-null  float64\n",
            " 17  Generator Winding Temperature Phase T  186493 non-null  float64\n",
            " 18  Hydraulic unit Pressure in bar         186493 non-null  float64\n",
            " 19  Hydralic Oil Temperature               186493 non-null  float64\n",
            " 20  Main bearing Temperature               186493 non-null  float64\n",
            " 21  Generator Bearing Temperature NDE      186493 non-null  float64\n",
            " 22  Generator Bearing Temperature DE       186493 non-null  float64\n",
            " 23  Generator RPM                          186493 non-null  float64\n",
            "dtypes: float64(23), object(1)\n",
            "memory usage: 34.1+ MB\n"
          ],
          "name": "stdout"
        }
      ]
    },
    {
      "cell_type": "code",
      "metadata": {
        "id": "qwyjZPXCmnED"
      },
      "source": [
        "df7[\"voltage\"] = (df7[\"Voltage Phase R\"] + df7[\"Voltage Phase S\"]+ df7[\"Voltage Phase T\"])/3\n",
        "df7[\"current\"]  = (df7[\"Current Phase R\"] + df7[\"Current Phase S\"]+ df7[\"Current Phase T\"])/3\n",
        "df7[\"Gearbox & Bearing temp\"]  = (df7[\"Gearbox Bearing Temperature\"] + df7[\"Gearbox oil Temperature\"]+ df7[\"Generator Winding Temperature Phase R\"]+df7[\"Generator Winding Temperature Phase S\"]+df7[\"Generator Winding Temperature Phase T\"]+df7[\"Main bearing Temperature\"] + df7[\"Generator Bearing Temperature DE\"]+ df7[\"Generator Bearing Temperature NDE\"])/8\n",
        "\n",
        "\n",
        "df7.drop([\"Reactive Power kVAR\", \"Frequency Hz\",\"Voltage Phase R\",\"Voltage Phase S\",\"Voltage Phase T\",\"Current Phase R\",\"Current Phase S\",\"Current Phase T\",\"Gearbox Bearing Temperature\",\"Gearbox oil Temperature\",\"Generator Winding Temperature Phase R\",\"Generator Winding Temperature Phase S\",\"Generator Winding Temperature Phase T\",\"Main bearing Temperature\",\"Generator Bearing Temperature DE\",\"Generator Bearing Temperature NDE\"], axis='columns', inplace=True)"
      ],
      "execution_count": null,
      "outputs": []
    },
    {
      "cell_type": "code",
      "metadata": {
        "colab": {
          "base_uri": "https://localhost:8080/",
          "height": 602
        },
        "id": "KbTZFpbamqOh",
        "outputId": "322f34c1-82d8-4c87-bf8a-e6f1b7f4f431"
      },
      "source": [
        "df7"
      ],
      "execution_count": null,
      "outputs": [
        {
          "output_type": "execute_result",
          "data": {
            "text/html": [
              "<div>\n",
              "<style scoped>\n",
              "    .dataframe tbody tr th:only-of-type {\n",
              "        vertical-align: middle;\n",
              "    }\n",
              "\n",
              "    .dataframe tbody tr th {\n",
              "        vertical-align: top;\n",
              "    }\n",
              "\n",
              "    .dataframe thead th {\n",
              "        text-align: right;\n",
              "    }\n",
              "</style>\n",
              "<table border=\"1\" class=\"dataframe\">\n",
              "  <thead>\n",
              "    <tr style=\"text-align: right;\">\n",
              "      <th></th>\n",
              "      <th>Date &amp; Time</th>\n",
              "      <th>Active Power kW</th>\n",
              "      <th>Wind Speed m/s</th>\n",
              "      <th>Nacelle Temperature</th>\n",
              "      <th>Ambient Temperature</th>\n",
              "      <th>Hydraulic unit Pressure in bar</th>\n",
              "      <th>Hydralic Oil Temperature</th>\n",
              "      <th>Generator RPM</th>\n",
              "      <th>voltage</th>\n",
              "      <th>current</th>\n",
              "      <th>Gearbox &amp; Bearing temp</th>\n",
              "    </tr>\n",
              "  </thead>\n",
              "  <tbody>\n",
              "    <tr>\n",
              "      <th>0</th>\n",
              "      <td>11/07/2021 00:00:00</td>\n",
              "      <td>-4.0</td>\n",
              "      <td>9.2</td>\n",
              "      <td>28.3</td>\n",
              "      <td>27.6</td>\n",
              "      <td>174.6</td>\n",
              "      <td>48.3</td>\n",
              "      <td>43.2</td>\n",
              "      <td>580.066667</td>\n",
              "      <td>1.033333</td>\n",
              "      <td>38.6000</td>\n",
              "    </tr>\n",
              "    <tr>\n",
              "      <th>1</th>\n",
              "      <td>11/07/2021 00:00:10</td>\n",
              "      <td>-11.2</td>\n",
              "      <td>9.0</td>\n",
              "      <td>28.3</td>\n",
              "      <td>27.6</td>\n",
              "      <td>163.2</td>\n",
              "      <td>47.8</td>\n",
              "      <td>28.7</td>\n",
              "      <td>580.300000</td>\n",
              "      <td>5.666667</td>\n",
              "      <td>38.5750</td>\n",
              "    </tr>\n",
              "    <tr>\n",
              "      <th>2</th>\n",
              "      <td>11/07/2021 00:00:20</td>\n",
              "      <td>-3.9</td>\n",
              "      <td>9.7</td>\n",
              "      <td>28.4</td>\n",
              "      <td>27.6</td>\n",
              "      <td>169.9</td>\n",
              "      <td>47.6</td>\n",
              "      <td>45.1</td>\n",
              "      <td>581.333333</td>\n",
              "      <td>0.966667</td>\n",
              "      <td>38.5750</td>\n",
              "    </tr>\n",
              "    <tr>\n",
              "      <th>3</th>\n",
              "      <td>11/07/2021 00:00:30</td>\n",
              "      <td>-11.6</td>\n",
              "      <td>12.9</td>\n",
              "      <td>28.3</td>\n",
              "      <td>27.6</td>\n",
              "      <td>173.4</td>\n",
              "      <td>47.4</td>\n",
              "      <td>39.8</td>\n",
              "      <td>581.433333</td>\n",
              "      <td>5.866667</td>\n",
              "      <td>38.5500</td>\n",
              "    </tr>\n",
              "    <tr>\n",
              "      <th>4</th>\n",
              "      <td>11/07/2021 00:00:40</td>\n",
              "      <td>-3.9</td>\n",
              "      <td>9.8</td>\n",
              "      <td>28.3</td>\n",
              "      <td>27.6</td>\n",
              "      <td>166.1</td>\n",
              "      <td>47.2</td>\n",
              "      <td>32.7</td>\n",
              "      <td>580.733333</td>\n",
              "      <td>1.000000</td>\n",
              "      <td>38.5625</td>\n",
              "    </tr>\n",
              "    <tr>\n",
              "      <th>...</th>\n",
              "      <td>...</td>\n",
              "      <td>...</td>\n",
              "      <td>...</td>\n",
              "      <td>...</td>\n",
              "      <td>...</td>\n",
              "      <td>...</td>\n",
              "      <td>...</td>\n",
              "      <td>...</td>\n",
              "      <td>...</td>\n",
              "      <td>...</td>\n",
              "      <td>...</td>\n",
              "    </tr>\n",
              "    <tr>\n",
              "      <th>186488</th>\n",
              "      <td>01/08/2021 14:01:20</td>\n",
              "      <td>272.0</td>\n",
              "      <td>7.6</td>\n",
              "      <td>29.9</td>\n",
              "      <td>30.7</td>\n",
              "      <td>173.0</td>\n",
              "      <td>49.3</td>\n",
              "      <td>1350.7</td>\n",
              "      <td>565.333333</td>\n",
              "      <td>163.666667</td>\n",
              "      <td>70.3375</td>\n",
              "    </tr>\n",
              "    <tr>\n",
              "      <th>186489</th>\n",
              "      <td>01/08/2021 14:01:30</td>\n",
              "      <td>272.4</td>\n",
              "      <td>7.6</td>\n",
              "      <td>29.9</td>\n",
              "      <td>30.8</td>\n",
              "      <td>166.6</td>\n",
              "      <td>49.4</td>\n",
              "      <td>1353.1</td>\n",
              "      <td>565.033333</td>\n",
              "      <td>173.633333</td>\n",
              "      <td>70.3250</td>\n",
              "    </tr>\n",
              "    <tr>\n",
              "      <th>186490</th>\n",
              "      <td>01/08/2021 14:01:40</td>\n",
              "      <td>277.4</td>\n",
              "      <td>7.2</td>\n",
              "      <td>29.8</td>\n",
              "      <td>30.9</td>\n",
              "      <td>179.7</td>\n",
              "      <td>49.4</td>\n",
              "      <td>1355.0</td>\n",
              "      <td>563.300000</td>\n",
              "      <td>169.366667</td>\n",
              "      <td>70.4000</td>\n",
              "    </tr>\n",
              "    <tr>\n",
              "      <th>186491</th>\n",
              "      <td>01/08/2021 14:01:50</td>\n",
              "      <td>287.0</td>\n",
              "      <td>7.6</td>\n",
              "      <td>29.9</td>\n",
              "      <td>30.9</td>\n",
              "      <td>163.2</td>\n",
              "      <td>49.4</td>\n",
              "      <td>1363.0</td>\n",
              "      <td>563.800000</td>\n",
              "      <td>177.700000</td>\n",
              "      <td>70.4875</td>\n",
              "    </tr>\n",
              "    <tr>\n",
              "      <th>186492</th>\n",
              "      <td>01/08/2021 14:02:00</td>\n",
              "      <td>295.4</td>\n",
              "      <td>7.9</td>\n",
              "      <td>29.9</td>\n",
              "      <td>30.9</td>\n",
              "      <td>175.7</td>\n",
              "      <td>49.5</td>\n",
              "      <td>1371.7</td>\n",
              "      <td>564.766667</td>\n",
              "      <td>179.000000</td>\n",
              "      <td>70.3000</td>\n",
              "    </tr>\n",
              "  </tbody>\n",
              "</table>\n",
              "<p>186493 rows × 11 columns</p>\n",
              "</div>"
            ],
            "text/plain": [
              "                Date & Time  ...  Gearbox & Bearing temp\n",
              "0       11/07/2021 00:00:00  ...                 38.6000\n",
              "1       11/07/2021 00:00:10  ...                 38.5750\n",
              "2       11/07/2021 00:00:20  ...                 38.5750\n",
              "3       11/07/2021 00:00:30  ...                 38.5500\n",
              "4       11/07/2021 00:00:40  ...                 38.5625\n",
              "...                     ...  ...                     ...\n",
              "186488  01/08/2021 14:01:20  ...                 70.3375\n",
              "186489  01/08/2021 14:01:30  ...                 70.3250\n",
              "186490  01/08/2021 14:01:40  ...                 70.4000\n",
              "186491  01/08/2021 14:01:50  ...                 70.4875\n",
              "186492  01/08/2021 14:02:00  ...                 70.3000\n",
              "\n",
              "[186493 rows x 11 columns]"
            ]
          },
          "metadata": {
            "tags": []
          },
          "execution_count": 25
        }
      ]
    },
    {
      "cell_type": "code",
      "metadata": {
        "id": "zF8eMIMIm94J"
      },
      "source": [
        ""
      ],
      "execution_count": null,
      "outputs": []
    },
    {
      "cell_type": "code",
      "metadata": {
        "id": "up0gxyKtnGHb"
      },
      "source": [
        "df7.to_csv('drive/MyDrive/DatasetsWind/V13July.csv', index=False)"
      ],
      "execution_count": null,
      "outputs": []
    },
    {
      "cell_type": "markdown",
      "metadata": {
        "id": "3rcm8p_Tn8Jk"
      },
      "source": [
        "#AE59_1"
      ]
    },
    {
      "cell_type": "code",
      "metadata": {
        "colab": {
          "base_uri": "https://localhost:8080/"
        },
        "id": "QcJBSn0CoD5D",
        "outputId": "104945c6-a766-49c5-acc6-58f8ba2abea0"
      },
      "source": [
        "df2 = pd.read_csv(url2)\n",
        "df2.info()"
      ],
      "execution_count": null,
      "outputs": [
        {
          "output_type": "stream",
          "text": [
            "<class 'pandas.core.frame.DataFrame'>\n",
            "RangeIndex: 17280 entries, 0 to 17279\n",
            "Data columns (total 22 columns):\n",
            " #   Column                                  Non-Null Count  Dtype  \n",
            "---  ------                                  --------------  -----  \n",
            " 0   Date & Time                             17280 non-null  object \n",
            " 1   Wind Speed m/s                          17280 non-null  float64\n",
            " 2   Active Power kW                         17280 non-null  float64\n",
            " 3   Reactive Power kVar                     17280 non-null  float64\n",
            " 4   Volatge- Phase R                        17280 non-null  float64\n",
            " 5   Volatge- Phase Y                        17280 non-null  float64\n",
            " 6   Volatge- Phase B                        17280 non-null  float64\n",
            " 7   Current - Phase R                       17280 non-null  float64\n",
            " 8   Current - Phase Y                       17280 non-null  float64\n",
            " 9   Current - Phase B                       17280 non-null  float64\n",
            " 10  Ambient temperature                     17280 non-null  float64\n",
            " 11  Nacelle temperature                     17280 non-null  float64\n",
            " 12  Generator RPM                           17280 non-null  float64\n",
            " 13  Generator Bearing Temperature DE        17280 non-null  float64\n",
            " 14  Generator Bearing Temperature NDE       17280 non-null  float64\n",
            " 15  Generator winding temperature R Phase   17280 non-null  float64\n",
            " 16  Generator winding temperature Y Phase   17280 non-null  float64\n",
            " 17  Generator winding temperature B Phase   17280 non-null  float64\n",
            " 18  Gearbox oil Temperature                 17280 non-null  float64\n",
            " 19  Gearbox high speed bearing Temperature  17280 non-null  float64\n",
            " 20  Hydraulic oil temperature               17280 non-null  float64\n",
            " 21  Average Phase current                   17280 non-null  float64\n",
            "dtypes: float64(21), object(1)\n",
            "memory usage: 2.9+ MB\n"
          ],
          "name": "stdout"
        }
      ]
    },
    {
      "cell_type": "code",
      "metadata": {
        "id": "SH9UbDNaoMIy"
      },
      "source": [
        "df2[\"voltage\"] = (df2[\"Volatge- Phase R\"] + df2[\"Volatge- Phase B\"]+ df2[\"Volatge- Phase Y\"])/3\n",
        "df2[\"current\"]  = (df2[\"Current - Phase R\"] + df2[\"Current - Phase B\"]+ df2[\"Current - Phase Y\"] +df2[\"Average Phase current\"])/4\n",
        "df2[\"Gearbox & Bearing temp\"]  = (df2[\"Gearbox oil Temperature\"]+ df2[\"Generator winding temperature R Phase\"]+df2[\"Generator winding temperature Y Phase\"]+df2[\"Generator winding temperature B Phase\"]+ df2[\"Generator Bearing Temperature DE\"]+ df2[\"Generator Bearing Temperature NDE\"]+df2[\"Gearbox high speed bearing Temperature\"])/6\n",
        "\n",
        "\n",
        "df2.drop([\"Reactive Power kVar\",\"Volatge- Phase R\",\"Volatge- Phase Y\",\"Volatge- Phase B\",\"Current - Phase R\",\"Current - Phase B\",\"Current - Phase Y\",\"Gearbox oil Temperature\",\"Generator winding temperature R Phase\",\"Generator winding temperature Y Phase\",\"Generator winding temperature B Phase\",\"Generator Bearing Temperature DE\",\"Generator Bearing Temperature NDE\",\"Average Phase current\",\"Gearbox high speed bearing Temperature\"], axis='columns', inplace=True)"
      ],
      "execution_count": null,
      "outputs": []
    },
    {
      "cell_type": "code",
      "metadata": {
        "colab": {
          "base_uri": "https://localhost:8080/"
        },
        "id": "8wIXjlJ2opvc",
        "outputId": "aea64e18-11bf-435e-e2b0-c62bff4e5a8c"
      },
      "source": [
        "df2.info()"
      ],
      "execution_count": null,
      "outputs": [
        {
          "output_type": "stream",
          "text": [
            "<class 'pandas.core.frame.DataFrame'>\n",
            "RangeIndex: 17280 entries, 0 to 17279\n",
            "Data columns (total 10 columns):\n",
            " #   Column                     Non-Null Count  Dtype  \n",
            "---  ------                     --------------  -----  \n",
            " 0   Date & Time                17280 non-null  object \n",
            " 1   Wind Speed m/s             17280 non-null  float64\n",
            " 2   Active Power kW            17280 non-null  float64\n",
            " 3   Ambient temperature        17280 non-null  float64\n",
            " 4   Nacelle temperature        17280 non-null  float64\n",
            " 5   Generator RPM              17280 non-null  float64\n",
            " 6   Hydraulic oil temperature  17280 non-null  float64\n",
            " 7   voltage                    17280 non-null  float64\n",
            " 8   current                    17280 non-null  float64\n",
            " 9   Gearbox & Bearing temp     17280 non-null  float64\n",
            "dtypes: float64(9), object(1)\n",
            "memory usage: 1.3+ MB\n"
          ],
          "name": "stdout"
        }
      ]
    },
    {
      "cell_type": "code",
      "metadata": {
        "id": "hjhg37CUrQJh"
      },
      "source": [
        ""
      ],
      "execution_count": null,
      "outputs": []
    },
    {
      "cell_type": "code",
      "metadata": {
        "id": "3DA4QconrX3y"
      },
      "source": [
        ""
      ],
      "execution_count": null,
      "outputs": []
    },
    {
      "cell_type": "markdown",
      "metadata": {
        "id": "Wq2tUOsIsnGy"
      },
      "source": [
        "# AE59_2"
      ]
    },
    {
      "cell_type": "code",
      "metadata": {
        "colab": {
          "base_uri": "https://localhost:8080/"
        },
        "id": "9i-U_vvfsrUh",
        "outputId": "de44b900-6578-4ee7-b044-9cdd52c73e42"
      },
      "source": [
        "df3 = pd.read_csv(url2)\n",
        "df3.info()"
      ],
      "execution_count": null,
      "outputs": [
        {
          "output_type": "stream",
          "text": [
            "<class 'pandas.core.frame.DataFrame'>\n",
            "RangeIndex: 17280 entries, 0 to 17279\n",
            "Data columns (total 22 columns):\n",
            " #   Column                                  Non-Null Count  Dtype  \n",
            "---  ------                                  --------------  -----  \n",
            " 0   Date & Time                             17280 non-null  object \n",
            " 1   Wind Speed m/s                          17280 non-null  float64\n",
            " 2   Active Power kW                         17280 non-null  float64\n",
            " 3   Reactive Power kVar                     17280 non-null  float64\n",
            " 4   Volatge- Phase R                        17280 non-null  float64\n",
            " 5   Volatge- Phase Y                        17280 non-null  float64\n",
            " 6   Volatge- Phase B                        17280 non-null  float64\n",
            " 7   Current - Phase R                       17280 non-null  float64\n",
            " 8   Current - Phase Y                       17280 non-null  float64\n",
            " 9   Current - Phase B                       17280 non-null  float64\n",
            " 10  Ambient temperature                     17280 non-null  float64\n",
            " 11  Nacelle temperature                     17280 non-null  float64\n",
            " 12  Generator RPM                           17280 non-null  float64\n",
            " 13  Generator Bearing Temperature DE        17280 non-null  float64\n",
            " 14  Generator Bearing Temperature NDE       17280 non-null  float64\n",
            " 15  Generator winding temperature R Phase   17280 non-null  float64\n",
            " 16  Generator winding temperature Y Phase   17280 non-null  float64\n",
            " 17  Generator winding temperature B Phase   17280 non-null  float64\n",
            " 18  Gearbox oil Temperature                 17280 non-null  float64\n",
            " 19  Gearbox high speed bearing Temperature  17280 non-null  float64\n",
            " 20  Hydraulic oil temperature               17280 non-null  float64\n",
            " 21  Average Phase current                   17280 non-null  float64\n",
            "dtypes: float64(21), object(1)\n",
            "memory usage: 2.9+ MB\n"
          ],
          "name": "stdout"
        }
      ]
    },
    {
      "cell_type": "code",
      "metadata": {
        "id": "PIh2sf-ks1qB"
      },
      "source": [
        "df3[\"voltage\"] = (df3[\"Volatge- Phase R\"] + df3[\"Volatge- Phase B\"]+ df3[\"Volatge- Phase Y\"])/3\n",
        "df3[\"current\"]  = (df3[\"Current - Phase R\"] + df3[\"Current - Phase B\"]+ df3[\"Current - Phase Y\"] +df3[\"Average Phase current\"])/4\n",
        "df3[\"Gearbox & Bearing temp\"]  = (df3[\"Gearbox oil Temperature\"]+ df3[\"Generator winding temperature R Phase\"]+df3[\"Generator winding temperature Y Phase\"]+df3[\"Generator winding temperature B Phase\"]+ df3[\"Generator Bearing Temperature DE\"]+ df3[\"Generator Bearing Temperature NDE\"]+df3[\"Gearbox high speed bearing Temperature\"])/6\n",
        "\n",
        "\n",
        "df3.drop([\"Reactive Power kVar\",\"Volatge- Phase R\",\"Volatge- Phase Y\",\"Volatge- Phase B\",\"Current - Phase R\",\"Current - Phase B\",\"Current - Phase Y\",\"Gearbox oil Temperature\",\"Generator winding temperature R Phase\",\"Generator winding temperature Y Phase\",\"Generator winding temperature B Phase\",\"Generator Bearing Temperature DE\",\"Generator Bearing Temperature NDE\",\"Average Phase current\",\"Gearbox high speed bearing Temperature\"], axis='columns', inplace=True)"
      ],
      "execution_count": null,
      "outputs": []
    },
    {
      "cell_type": "code",
      "metadata": {
        "colab": {
          "base_uri": "https://localhost:8080/",
          "height": 602
        },
        "id": "Fi4vivOVs7Io",
        "outputId": "2aa8bd03-5e3e-4d4a-f05e-990b3022d273"
      },
      "source": [
        "df3"
      ],
      "execution_count": null,
      "outputs": [
        {
          "output_type": "execute_result",
          "data": {
            "text/html": [
              "<div>\n",
              "<style scoped>\n",
              "    .dataframe tbody tr th:only-of-type {\n",
              "        vertical-align: middle;\n",
              "    }\n",
              "\n",
              "    .dataframe tbody tr th {\n",
              "        vertical-align: top;\n",
              "    }\n",
              "\n",
              "    .dataframe thead th {\n",
              "        text-align: right;\n",
              "    }\n",
              "</style>\n",
              "<table border=\"1\" class=\"dataframe\">\n",
              "  <thead>\n",
              "    <tr style=\"text-align: right;\">\n",
              "      <th></th>\n",
              "      <th>Date &amp; Time</th>\n",
              "      <th>Wind Speed m/s</th>\n",
              "      <th>Active Power kW</th>\n",
              "      <th>Ambient temperature</th>\n",
              "      <th>Nacelle temperature</th>\n",
              "      <th>Generator RPM</th>\n",
              "      <th>Hydraulic oil temperature</th>\n",
              "      <th>voltage</th>\n",
              "      <th>current</th>\n",
              "      <th>Gearbox &amp; Bearing temp</th>\n",
              "    </tr>\n",
              "  </thead>\n",
              "  <tbody>\n",
              "    <tr>\n",
              "      <th>0</th>\n",
              "      <td>14/07/2018 00:00:00</td>\n",
              "      <td>11.2</td>\n",
              "      <td>773.9</td>\n",
              "      <td>29.1</td>\n",
              "      <td>29.3</td>\n",
              "      <td>1497.0</td>\n",
              "      <td>45.2</td>\n",
              "      <td>584.133333</td>\n",
              "      <td>395.0675</td>\n",
              "      <td>119.016667</td>\n",
              "    </tr>\n",
              "    <tr>\n",
              "      <th>1</th>\n",
              "      <td>14/07/2018 00:00:10</td>\n",
              "      <td>11.6</td>\n",
              "      <td>823.3</td>\n",
              "      <td>29.1</td>\n",
              "      <td>29.4</td>\n",
              "      <td>1512.8</td>\n",
              "      <td>45.2</td>\n",
              "      <td>590.466667</td>\n",
              "      <td>461.9675</td>\n",
              "      <td>119.083333</td>\n",
              "    </tr>\n",
              "    <tr>\n",
              "      <th>2</th>\n",
              "      <td>14/07/2018 00:00:20</td>\n",
              "      <td>9.9</td>\n",
              "      <td>799.6</td>\n",
              "      <td>29.1</td>\n",
              "      <td>29.4</td>\n",
              "      <td>1492.5</td>\n",
              "      <td>45.3</td>\n",
              "      <td>590.533333</td>\n",
              "      <td>464.1675</td>\n",
              "      <td>119.050000</td>\n",
              "    </tr>\n",
              "    <tr>\n",
              "      <th>3</th>\n",
              "      <td>14/07/2018 00:00:30</td>\n",
              "      <td>12.3</td>\n",
              "      <td>829.1</td>\n",
              "      <td>29.1</td>\n",
              "      <td>29.3</td>\n",
              "      <td>1525.9</td>\n",
              "      <td>45.3</td>\n",
              "      <td>590.033333</td>\n",
              "      <td>442.8675</td>\n",
              "      <td>119.200000</td>\n",
              "    </tr>\n",
              "    <tr>\n",
              "      <th>4</th>\n",
              "      <td>14/07/2018 00:00:40</td>\n",
              "      <td>12.4</td>\n",
              "      <td>818.4</td>\n",
              "      <td>29.1</td>\n",
              "      <td>29.3</td>\n",
              "      <td>1526.7</td>\n",
              "      <td>45.4</td>\n",
              "      <td>585.400000</td>\n",
              "      <td>467.3325</td>\n",
              "      <td>119.233333</td>\n",
              "    </tr>\n",
              "    <tr>\n",
              "      <th>...</th>\n",
              "      <td>...</td>\n",
              "      <td>...</td>\n",
              "      <td>...</td>\n",
              "      <td>...</td>\n",
              "      <td>...</td>\n",
              "      <td>...</td>\n",
              "      <td>...</td>\n",
              "      <td>...</td>\n",
              "      <td>...</td>\n",
              "      <td>...</td>\n",
              "    </tr>\n",
              "    <tr>\n",
              "      <th>17275</th>\n",
              "      <td>15/07/2018 23:59:10</td>\n",
              "      <td>10.8</td>\n",
              "      <td>821.8</td>\n",
              "      <td>28.5</td>\n",
              "      <td>29.0</td>\n",
              "      <td>1525.1</td>\n",
              "      <td>45.2</td>\n",
              "      <td>586.266667</td>\n",
              "      <td>456.1000</td>\n",
              "      <td>108.183333</td>\n",
              "    </tr>\n",
              "    <tr>\n",
              "      <th>17276</th>\n",
              "      <td>15/07/2018 23:59:20</td>\n",
              "      <td>10.3</td>\n",
              "      <td>782.8</td>\n",
              "      <td>28.5</td>\n",
              "      <td>29.0</td>\n",
              "      <td>1492.5</td>\n",
              "      <td>45.2</td>\n",
              "      <td>589.400000</td>\n",
              "      <td>462.5325</td>\n",
              "      <td>108.200000</td>\n",
              "    </tr>\n",
              "    <tr>\n",
              "      <th>17277</th>\n",
              "      <td>15/07/2018 23:59:30</td>\n",
              "      <td>11.0</td>\n",
              "      <td>805.6</td>\n",
              "      <td>28.7</td>\n",
              "      <td>29.1</td>\n",
              "      <td>1491.7</td>\n",
              "      <td>45.3</td>\n",
              "      <td>585.666667</td>\n",
              "      <td>459.4675</td>\n",
              "      <td>108.350000</td>\n",
              "    </tr>\n",
              "    <tr>\n",
              "      <th>17278</th>\n",
              "      <td>15/07/2018 23:59:40</td>\n",
              "      <td>10.5</td>\n",
              "      <td>797.8</td>\n",
              "      <td>28.7</td>\n",
              "      <td>29.2</td>\n",
              "      <td>1496.2</td>\n",
              "      <td>45.2</td>\n",
              "      <td>582.100000</td>\n",
              "      <td>465.1675</td>\n",
              "      <td>108.550000</td>\n",
              "    </tr>\n",
              "    <tr>\n",
              "      <th>17279</th>\n",
              "      <td>15/07/2018 23:59:50</td>\n",
              "      <td>10.6</td>\n",
              "      <td>780.5</td>\n",
              "      <td>28.7</td>\n",
              "      <td>29.2</td>\n",
              "      <td>1480.7</td>\n",
              "      <td>45.1</td>\n",
              "      <td>585.966667</td>\n",
              "      <td>453.3000</td>\n",
              "      <td>108.566667</td>\n",
              "    </tr>\n",
              "  </tbody>\n",
              "</table>\n",
              "<p>17280 rows × 10 columns</p>\n",
              "</div>"
            ],
            "text/plain": [
              "               Date & Time  Wind Speed m/s  ...   current  Gearbox & Bearing temp\n",
              "0      14/07/2018 00:00:00            11.2  ...  395.0675              119.016667\n",
              "1      14/07/2018 00:00:10            11.6  ...  461.9675              119.083333\n",
              "2      14/07/2018 00:00:20             9.9  ...  464.1675              119.050000\n",
              "3      14/07/2018 00:00:30            12.3  ...  442.8675              119.200000\n",
              "4      14/07/2018 00:00:40            12.4  ...  467.3325              119.233333\n",
              "...                    ...             ...  ...       ...                     ...\n",
              "17275  15/07/2018 23:59:10            10.8  ...  456.1000              108.183333\n",
              "17276  15/07/2018 23:59:20            10.3  ...  462.5325              108.200000\n",
              "17277  15/07/2018 23:59:30            11.0  ...  459.4675              108.350000\n",
              "17278  15/07/2018 23:59:40            10.5  ...  465.1675              108.550000\n",
              "17279  15/07/2018 23:59:50            10.6  ...  453.3000              108.566667\n",
              "\n",
              "[17280 rows x 10 columns]"
            ]
          },
          "metadata": {
            "tags": []
          },
          "execution_count": 72
        }
      ]
    },
    {
      "cell_type": "code",
      "metadata": {
        "id": "s_BNSy58tQKp"
      },
      "source": [
        ""
      ],
      "execution_count": null,
      "outputs": []
    }
  ]
}