{
  "nbformat": 4,
  "nbformat_minor": 0,
  "metadata": {
    "colab": {
      "name": "Dataset4.ipynb",
      "provenance": [],
      "mount_file_id": "1tlnOXeSMyvEJHpXn92uCz3H7wxOMv5lE",
      "authorship_tag": "ABX9TyMPMFdUGEHDUFVShx07l7hB",
      "include_colab_link": true
    },
    "kernelspec": {
      "name": "python3",
      "display_name": "Python 3"
    },
    "language_info": {
      "name": "python"
    }
  },
  "cells": [
    {
      "cell_type": "markdown",
      "metadata": {
        "id": "view-in-github",
        "colab_type": "text"
      },
      "source": [
        "<a href=\"https://colab.research.google.com/github/entc-17-fyp-20/CM_Data_Visualizing/blob/main/Dataset4.ipynb\" target=\"_parent\"><img src=\"https://colab.research.google.com/assets/colab-badge.svg\" alt=\"Open In Colab\"/></a>"
      ]
    },
    {
      "cell_type": "markdown",
      "metadata": {
        "id": "B8wFrKFRrXHG"
      },
      "source": [
        "# Importing Libraries"
      ]
    },
    {
      "cell_type": "code",
      "metadata": {
        "id": "VK25Ks5Aqsl7"
      },
      "source": [
        "import numpy as np\n",
        "import pandas as pd"
      ],
      "execution_count": 139,
      "outputs": []
    },
    {
      "cell_type": "markdown",
      "metadata": {
        "id": "c4sJNPQFr5Pf"
      },
      "source": [
        "# Importing Datasets"
      ]
    },
    {
      "cell_type": "code",
      "metadata": {
        "id": "WeK9-xtKzzJX"
      },
      "source": [
        "#@title Select Turbine { display-mode: \"form\" }\n",
        "turbine = \"T03\" #@param [\"T01\", \"T02\", \"T03\", \"T22\", \"T34\",\"T54\"] "
      ],
      "execution_count": 140,
      "outputs": []
    },
    {
      "cell_type": "code",
      "metadata": {
        "id": "_7nbhrslr4mE"
      },
      "source": [
        "path1 = '/content/drive/MyDrive/IIoT - Wind Turbine/Dulika/SCADA data - Anomaly Detection/Data set/Turbine_10min_2018-6-1_2018-12-31/Turbine_10min_2018-6-1_2018-12-31_00_01-T_1-T_47.xlsx'\n",
        "df1 = pd.read_excel(path1)"
      ],
      "execution_count": 141,
      "outputs": []
    },
    {
      "cell_type": "code",
      "metadata": {
        "id": "S0UPIGa2ty0s"
      },
      "source": [
        "df1.drop([0],axis=0, inplace=True) # axis=0 rows/ inplace do the operation in the same line. \n",
        "df1['PCTimeStamp'] = pd.to_datetime(df1['PCTimeStamp'], format=\"%d-%m-%Y %H:%M:%S\")\n",
        "df1_filtered = df1[df1['turbine'] == turbine]"
      ],
      "execution_count": 142,
      "outputs": []
    },
    {
      "cell_type": "code",
      "metadata": {
        "id": "BpZakWmTYBQm"
      },
      "source": [
        "# path2 = '/content/drive/MyDrive/IIoT - Wind Turbine/Dulika/SCADA data/Data set/Turbine_10min_2018-6-1_2018-12-31/Turbine_10min_2018-6-1_2018-12-31_00_T_1-T_24.xlsx'\n",
        "# df2 = pd.read_excel(path2)"
      ],
      "execution_count": 143,
      "outputs": []
    },
    {
      "cell_type": "code",
      "metadata": {
        "id": "r-QjphKJYoyM"
      },
      "source": [
        "# df2.drop([0],axis=0, inplace=True) # axis=0 rows/ inplace do the operation in the same line. \n",
        "# df2['PCTimeStamp'] = pd.to_datetime(df2['PCTimeStamp'], format=\"%d-%m-%Y %H:%M:%S\")\n",
        "# df2_filtered = df2[df2['turbine'] == turbine]"
      ],
      "execution_count": 144,
      "outputs": []
    },
    {
      "cell_type": "code",
      "metadata": {
        "id": "mjb04u7NY75J"
      },
      "source": [
        "path3 = '/content/drive/MyDrive/IIoT - Wind Turbine/Dulika/SCADA data - Anomaly Detection/Data set/Turbine_10min_2018-6-1_2018-12-31/Turbine_10min_2018-6-1_2018-12-31_02-T_47-T-70.xlsx'\n",
        "df3 = pd.read_excel(path3)"
      ],
      "execution_count": 145,
      "outputs": []
    },
    {
      "cell_type": "code",
      "metadata": {
        "id": "OYsTK-6RZBjY"
      },
      "source": [
        "df3.drop([0],axis=0, inplace=True) # axis=0 rows/ inplace do the operation in the same line. \n",
        "df3['PCTimeStamp'] = pd.to_datetime(df3['PCTimeStamp'], format=\"%d-%m-%Y %H:%M:%S\")\n",
        "df3_filtered = df3[df3['turbine'] == turbine]"
      ],
      "execution_count": 146,
      "outputs": []
    },
    {
      "cell_type": "code",
      "metadata": {
        "id": "HNVRYS7yZVlk"
      },
      "source": [
        "path4 = '/content/drive/MyDrive/IIoT - Wind Turbine/Dulika/SCADA data - Anomaly Detection/Data set/Turbine_10min_2018-6-1_2018-12-31/Turbine_10min_2018-6-1_2018-12-31_03-T_70-T_10.xlsx'\n",
        "df4 = pd.read_excel(path4)"
      ],
      "execution_count": 147,
      "outputs": []
    },
    {
      "cell_type": "code",
      "metadata": {
        "id": "ywXZeqIMa1QL"
      },
      "source": [
        "df4.drop([0],axis=0, inplace=True) # axis=0 rows/ inplace do the operation in the same line. \n",
        "df4['PCTimeStamp'] = pd.to_datetime(df4['PCTimeStamp'], format=\"%d-%m-%Y %H:%M:%S\")\n",
        "df4_filtered = df4[df4['turbine'] == turbine]"
      ],
      "execution_count": 148,
      "outputs": []
    },
    {
      "cell_type": "code",
      "metadata": {
        "id": "-inzqG-wa9JK"
      },
      "source": [
        "path5 = '/content/drive/MyDrive/IIoT - Wind Turbine/Dulika/SCADA data - Anomaly Detection/Data set/Turbine_10min_2018-6-1_2018-12-31/Turbine_10min_2018-6-1_2018-12-31_04-T_10-T_33.xlsx'\n",
        "df5 = pd.read_excel(path5)"
      ],
      "execution_count": 149,
      "outputs": []
    },
    {
      "cell_type": "code",
      "metadata": {
        "id": "gQ_0baA_bch3"
      },
      "source": [
        "df5.drop([0],axis=0, inplace=True) # axis=0 rows/ inplace do the operation in the same line. \n",
        "df5['PCTimeStamp'] = pd.to_datetime(df5['PCTimeStamp'], format=\"%d-%m-%Y %H:%M:%S\")\n",
        "df5_filtered = df5[df5['turbine'] == turbine]"
      ],
      "execution_count": 150,
      "outputs": []
    },
    {
      "cell_type": "code",
      "metadata": {
        "id": "KOTm4_WYcC6m"
      },
      "source": [
        "path6 = '/content/drive/MyDrive/IIoT - Wind Turbine/Dulika/SCADA data - Anomaly Detection/Data set/Turbine_10min_2018-6-1_2018-12-31/Turbine_10min_2018-6-1_2018-12-31_05 - T33-T55.xlsx'\n",
        "df6 = pd.read_excel(path6)"
      ],
      "execution_count": 151,
      "outputs": []
    },
    {
      "cell_type": "code",
      "metadata": {
        "id": "rKoR2XAqcDKS"
      },
      "source": [
        "df6.drop([0],axis=0, inplace=True) # axis=0 rows/ inplace do the operation in the same line. \n",
        "df6['PCTimeStamp'] = pd.to_datetime(df6['PCTimeStamp'], format=\"%d-%m-%Y %H:%M:%S\")\n",
        "df6_filtered = df6[df6['turbine'] == turbine]"
      ],
      "execution_count": 152,
      "outputs": []
    },
    {
      "cell_type": "code",
      "metadata": {
        "id": "AyxDBhtmcjiY"
      },
      "source": [
        "path7 = '/content/drive/MyDrive/IIoT - Wind Turbine/Dulika/SCADA data - Anomaly Detection/Data set/Turbine_10min_2018-6-1_2018-12-31/Turbine_10min_2018-6-1_2018-12-31_06-T_55-T_78.xlsx'\n",
        "df7 = pd.read_excel(path7)"
      ],
      "execution_count": 153,
      "outputs": []
    },
    {
      "cell_type": "code",
      "metadata": {
        "id": "zly-EYe9cwlX"
      },
      "source": [
        "df7.drop([0],axis=0, inplace=True) # axis=0 rows/ inplace do the operation in the same line. \n",
        "df7['PCTimeStamp'] = pd.to_datetime(df7['PCTimeStamp'], format=\"%d-%m-%Y %H:%M:%S\")\n",
        "df7_filtered = df7[df7['turbine'] == turbine]"
      ],
      "execution_count": 154,
      "outputs": []
    },
    {
      "cell_type": "code",
      "metadata": {
        "id": "h3Ma5GDrdwSL"
      },
      "source": [
        "path8 = '/content/drive/MyDrive/IIoT - Wind Turbine/Dulika/SCADA data - Anomaly Detection/Data set/Turbine_10min_2018-6-1_2018-12-31/Turbine_10min_2018-6-1_2018-12-31_07.xlsx'\n",
        "df8 = pd.read_excel(path8)"
      ],
      "execution_count": 155,
      "outputs": []
    },
    {
      "cell_type": "code",
      "metadata": {
        "id": "QSYplJYNeSnd"
      },
      "source": [
        "df8.drop([0],axis=0, inplace=True) # axis=0 rows/ inplace do the operation in the same line. \n",
        "df8['PCTimeStamp'] = pd.to_datetime(df8['PCTimeStamp'], format=\"%d-%m-%Y %H:%M:%S\")\n",
        "df8_filtered = df8[df8['turbine'] == turbine]"
      ],
      "execution_count": 156,
      "outputs": []
    },
    {
      "cell_type": "code",
      "metadata": {
        "id": "wtlhJunVefdY"
      },
      "source": [
        "path9 = '/content/drive/MyDrive/IIoT - Wind Turbine/Dulika/SCADA data - Anomaly Detection/Data set/Turbine_10min_2018-6-1_2018-12-31/Turbine_10min_2018-6-1_2018-12-31_08-T_18-T-43.xlsx'\n",
        "df9 = pd.read_excel(path9)"
      ],
      "execution_count": 157,
      "outputs": []
    },
    {
      "cell_type": "code",
      "metadata": {
        "id": "z8_x921Je0EC"
      },
      "source": [
        "df9.drop([0],axis=0, inplace=True) # axis=0 rows/ inplace do the operation in the same line. \n",
        "df9['PCTimeStamp'] = pd.to_datetime(df9['PCTimeStamp'], format=\"%d-%m-%Y %H:%M:%S\")\n",
        "df9_filtered = df9[df9['turbine'] == turbine]"
      ],
      "execution_count": 158,
      "outputs": []
    },
    {
      "cell_type": "code",
      "metadata": {
        "id": "uo2nDPSsfrPM"
      },
      "source": [
        "path10 = '/content/drive/MyDrive/IIoT - Wind Turbine/Dulika/SCADA data - Anomaly Detection/Data set/Turbine_10min_2018-6-1_2018-12-31/Turbine_10min_2018-6-1_2018-12-31_09-T43-T_66.xlsx'\n",
        "df10 = pd.read_excel(path10)"
      ],
      "execution_count": 159,
      "outputs": []
    },
    {
      "cell_type": "code",
      "metadata": {
        "id": "AQ6AJEJCgph0"
      },
      "source": [
        "df10.drop([0],axis=0, inplace=True) # axis=0 rows/ inplace do the operation in the same line. \n",
        "df10['PCTimeStamp'] = pd.to_datetime(df10['PCTimeStamp'], format=\"%d-%m-%Y %H:%M:%S\")\n",
        "df10_filtered = df10[df10['turbine'] == turbine]"
      ],
      "execution_count": 160,
      "outputs": []
    },
    {
      "cell_type": "code",
      "metadata": {
        "id": "5iZX-fHkg6qk"
      },
      "source": [
        "path11 = '/content/drive/MyDrive/IIoT - Wind Turbine/Dulika/SCADA data - Anomaly Detection/Data set/Turbine_10min_2018-6-1_2018-12-31/Turbine_10min_2018-6-1_2018-12-31_10.xlsx'\n",
        "df11 = pd.read_excel(path11)"
      ],
      "execution_count": 161,
      "outputs": []
    },
    {
      "cell_type": "code",
      "metadata": {
        "id": "QCXz-Doji2lL"
      },
      "source": [
        "df11.drop([0],axis=0, inplace=True) # axis=0 rows/ inplace do the operation in the same line. \n",
        "df11['PCTimeStamp'] = pd.to_datetime(df11['PCTimeStamp'], format=\"%d-%m-%Y %H:%M:%S\")\n",
        "df11_filtered = df11[df11['turbine'] == turbine]"
      ],
      "execution_count": 162,
      "outputs": []
    },
    {
      "cell_type": "code",
      "metadata": {
        "id": "-ldRqZWNjLw1"
      },
      "source": [
        "path12 = '/content/drive/MyDrive/IIoT - Wind Turbine/Dulika/SCADA data - Anomaly Detection/Data set/Turbine_10min_2018-6-1_2018-12-31/Turbine_10min_2018-6-1_2018-12-31_11_T_07-T_31.xlsx'\n",
        "df12 = pd.read_excel(path12)"
      ],
      "execution_count": 163,
      "outputs": []
    },
    {
      "cell_type": "code",
      "metadata": {
        "id": "-zegQQX9kIpQ"
      },
      "source": [
        "df12.drop([0],axis=0, inplace=True) # axis=0 rows/ inplace do the operation in the same line. \n",
        "df12['PCTimeStamp'] = pd.to_datetime(df12['PCTimeStamp'], format=\"%d-%m-%Y %H:%M:%S\")\n",
        "df12_filtered = df12[df12['turbine'] == turbine]"
      ],
      "execution_count": 164,
      "outputs": []
    },
    {
      "cell_type": "code",
      "metadata": {
        "id": "N1qoLlgbkWO4"
      },
      "source": [
        "path13 = '/content/drive/MyDrive/IIoT - Wind Turbine/Dulika/SCADA data - Anomaly Detection/Data set/Turbine_10min_2018-6-1_2018-12-31/Turbine_10min_2018-6-1_2018-12-31_12.xlsx'\n",
        "df13 = pd.read_excel(path13)"
      ],
      "execution_count": null,
      "outputs": []
    },
    {
      "cell_type": "code",
      "metadata": {
        "id": "dtSWZ4u7j82z"
      },
      "source": [
        "df13.drop([0],axis=0, inplace=True) # axis=0 rows/ inplace do the operation in the same line. \n",
        "df13['PCTimeStamp'] = pd.to_datetime(df13['PCTimeStamp'], format=\"%d-%m-%Y %H:%M:%S\")\n",
        "df13_filtered = df13[df13['turbine'] == turbine]"
      ],
      "execution_count": null,
      "outputs": []
    },
    {
      "cell_type": "code",
      "metadata": {
        "id": "l_8lWNZCkEuR"
      },
      "source": [
        "path14 = '/content/drive/MyDrive/IIoT - Wind Turbine/Dulika/SCADA data - Anomaly Detection/Data set/Turbine_10min_2018-6-1_2018-12-31/Turbine_10min_2018-6-1_2018-12-31_13_T_55-T_79.xlsx'\n",
        "df14 = pd.read_excel(path14)"
      ],
      "execution_count": null,
      "outputs": []
    },
    {
      "cell_type": "code",
      "metadata": {
        "id": "AE6OcyO1onSw"
      },
      "source": [
        "df14.drop([0],axis=0, inplace=True) # axis=0 rows/ inplace do the operation in the same line. \n",
        "df14['PCTimeStamp'] = pd.to_datetime(df14['PCTimeStamp'], format=\"%d-%m-%Y %H:%M:%S\")\n",
        "df14_filtered = df14[df14['turbine'] == turbine]"
      ],
      "execution_count": null,
      "outputs": []
    },
    {
      "cell_type": "code",
      "metadata": {
        "id": "uPiNNneslYSn"
      },
      "source": [
        "path15 = '/content/drive/MyDrive/IIoT - Wind Turbine/Dulika/SCADA data - Anomaly Detection/Data set/Turbine_10min_2018-6-1_2018-12-31/Turbine_10min_2018-6-1_2018-12-31_14.xlsx'\n",
        "df15 = pd.read_excel(path15)"
      ],
      "execution_count": null,
      "outputs": []
    },
    {
      "cell_type": "code",
      "metadata": {
        "id": "UZ2hmwtLoo6p"
      },
      "source": [
        "df15.drop([0],axis=0, inplace=True) # axis=0 rows/ inplace do the operation in the same line. \n",
        "df15['PCTimeStamp'] = pd.to_datetime(df15['PCTimeStamp'], format=\"%d-%m-%Y %H:%M:%S\")\n",
        "df15_filtered = df15[df15['turbine'] == turbine]"
      ],
      "execution_count": null,
      "outputs": []
    },
    {
      "cell_type": "code",
      "metadata": {
        "id": "TWUYa21WlZAH"
      },
      "source": [
        "path16 = '/content/drive/MyDrive/IIoT - Wind Turbine/Dulika/SCADA data - Anomaly Detection/Data set/Turbine_10min_2018-6-1_2018-12-31/Turbine_10min_2018-6-1_2018-12-31_15-T_18_T_41.xlsx'\n",
        "df16 = pd.read_excel(path16)"
      ],
      "execution_count": null,
      "outputs": []
    },
    {
      "cell_type": "code",
      "metadata": {
        "id": "0_0aca1Mop1t"
      },
      "source": [
        "df16.drop([0],axis=0, inplace=True) # axis=0 rows/ inplace do the operation in the same line. \n",
        "df16['PCTimeStamp'] = pd.to_datetime(df16['PCTimeStamp'], format=\"%d-%m-%Y %H:%M:%S\")\n",
        "df16_filtered = df16[df16['turbine'] == turbine]"
      ],
      "execution_count": null,
      "outputs": []
    },
    {
      "cell_type": "code",
      "metadata": {
        "id": "QrVuYlndlZzz"
      },
      "source": [
        "path17 = '/content/drive/MyDrive/IIoT - Wind Turbine/Dulika/SCADA data - Anomaly Detection/Data set/Turbine_10min_2018-6-1_2018-12-31/Turbine_10min_2018-6-1_2018-12-31_16-T_41-T_63.xlsx'\n",
        "df17 = pd.read_excel(path17)"
      ],
      "execution_count": null,
      "outputs": []
    },
    {
      "cell_type": "code",
      "metadata": {
        "id": "CFGLc5lRoq6j"
      },
      "source": [
        "df17.drop([0],axis=0, inplace=True) # axis=0 rows/ inplace do the operation in the same line. \n",
        "df17['PCTimeStamp'] = pd.to_datetime(df17['PCTimeStamp'], format=\"%d-%m-%Y %H:%M:%S\")\n",
        "df17_filtered = df17[df17['turbine'] == turbine]"
      ],
      "execution_count": null,
      "outputs": []
    },
    {
      "cell_type": "code",
      "metadata": {
        "id": "RI5dNK47lah7"
      },
      "source": [
        "path18 = '/content/drive/MyDrive/IIoT - Wind Turbine/Dulika/SCADA data - Anomaly Detection/Data set/Turbine_10min_2018-6-1_2018-12-31/Turbine_10min_2018-6-1_2018-12-31_17.xlsx'\n",
        "df18 = pd.read_excel(path18)"
      ],
      "execution_count": null,
      "outputs": []
    },
    {
      "cell_type": "code",
      "metadata": {
        "id": "B7IwEHTLor6G"
      },
      "source": [
        "df18.drop([0],axis=0, inplace=True) # axis=0 rows/ inplace do the operation in the same line. \n",
        "df18['PCTimeStamp'] = pd.to_datetime(df18['PCTimeStamp'], format=\"%d-%m-%Y %H:%M:%S\")\n",
        "df18_filtered = df18[df18['turbine'] == turbine]"
      ],
      "execution_count": null,
      "outputs": []
    },
    {
      "cell_type": "code",
      "metadata": {
        "id": "cyXc9rd_mPfK"
      },
      "source": [
        "path19 = '/content/drive/MyDrive/IIoT - Wind Turbine/Dulika/SCADA data - Anomaly Detection/Data set/Turbine_10min_2018-6-1_2018-12-31/Turbine_10min_2018-6-1_2018-12-31_18-T_03-T_27.xlsx'\n",
        "df19 = pd.read_excel(path19)"
      ],
      "execution_count": null,
      "outputs": []
    },
    {
      "cell_type": "code",
      "metadata": {
        "id": "R7rAexaXotN-"
      },
      "source": [
        "df19.drop([0],axis=0, inplace=True) # axis=0 rows/ inplace do the operation in the same line. \n",
        "df19['PCTimeStamp'] = pd.to_datetime(df19['PCTimeStamp'], format=\"%d-%m-%Y %H:%M:%S\")\n",
        "df19_filtered = df19[df19['turbine'] == turbine]"
      ],
      "execution_count": null,
      "outputs": []
    },
    {
      "cell_type": "code",
      "metadata": {
        "id": "MIVNtaQvmfvh"
      },
      "source": [
        "path20 = '/content/drive/MyDrive/IIoT - Wind Turbine/Dulika/SCADA data - Anomaly Detection/Data set/Turbine_10min_2018-6-1_2018-12-31/Turbine_10min_2018-6-1_2018-12-31_19.xlsx'\n",
        "df20 = pd.read_excel(path20)"
      ],
      "execution_count": null,
      "outputs": []
    },
    {
      "cell_type": "code",
      "metadata": {
        "id": "xr3HAyOqouQn"
      },
      "source": [
        "df20.drop([0],axis=0, inplace=True) # axis=0 rows/ inplace do the operation in the same line. \n",
        "df20['PCTimeStamp'] = pd.to_datetime(df20['PCTimeStamp'], format=\"%d-%m-%Y %H:%M:%S\")\n",
        "df20_filtered = df20[df20['turbine'] == turbine]"
      ],
      "execution_count": null,
      "outputs": []
    },
    {
      "cell_type": "code",
      "metadata": {
        "id": "LkVOXDW6mgv-"
      },
      "source": [
        "path21 = '/content/drive/MyDrive/IIoT - Wind Turbine/Dulika/SCADA data - Anomaly Detection/Data set/Turbine_10min_2018-6-1_2018-12-31/Turbine_10min_2018-6-1_2018-12-31_20.xlsx'\n",
        "df21 = pd.read_excel(path21)"
      ],
      "execution_count": null,
      "outputs": []
    },
    {
      "cell_type": "code",
      "metadata": {
        "id": "nQpN6XPhovKG"
      },
      "source": [
        "df21.drop([0],axis=0, inplace=True) # axis=0 rows/ inplace do the operation in the same line. \n",
        "df21['PCTimeStamp'] = pd.to_datetime(df21['PCTimeStamp'], format=\"%d-%m-%Y %H:%M:%S\")\n",
        "df21_filtered = df21[df21['turbine'] == turbine]"
      ],
      "execution_count": null,
      "outputs": []
    },
    {
      "cell_type": "code",
      "metadata": {
        "id": "jAjn2SdXmhec"
      },
      "source": [
        "path22 = '/content/drive/MyDrive/IIoT - Wind Turbine/Dulika/SCADA data - Anomaly Detection/Data set/Turbine_10min_2018-6-1_2018-12-31/Turbine_10min_2018-6-1_2018-12-31_21-T_73-T_14.xlsx'\n",
        "df22 = pd.read_excel(path22)"
      ],
      "execution_count": null,
      "outputs": []
    },
    {
      "cell_type": "code",
      "metadata": {
        "id": "Rn34HnkyowQI"
      },
      "source": [
        "df22.drop([0],axis=0, inplace=True) # axis=0 rows/ inplace do the operation in the same line. \n",
        "df22['PCTimeStamp'] = pd.to_datetime(df22['PCTimeStamp'], format=\"%d-%m-%Y %H:%M:%S\")\n",
        "df22_filtered = df22[df22['turbine'] == turbine]"
      ],
      "execution_count": null,
      "outputs": []
    },
    {
      "cell_type": "code",
      "metadata": {
        "id": "5DVZNVcYmjP8"
      },
      "source": [
        "path23 = '/content/drive/MyDrive/IIoT - Wind Turbine/Dulika/SCADA data - Anomaly Detection/Data set/Turbine_10min_2018-6-1_2018-12-31/Turbine_10min_2018-6-1_2018-12-31_22-T_14-T_37.xlsx'\n",
        "df23 = pd.read_excel(path23)"
      ],
      "execution_count": null,
      "outputs": []
    },
    {
      "cell_type": "code",
      "metadata": {
        "id": "d4POdTCFoxEC"
      },
      "source": [
        "df23.drop([0],axis=0, inplace=True) # axis=0 rows/ inplace do the operation in the same line. \n",
        "df23['PCTimeStamp'] = pd.to_datetime(df23['PCTimeStamp'], format=\"%d-%m-%Y %H:%M:%S\")\n",
        "df23_filtered = df23[df23['turbine'] == turbine]"
      ],
      "execution_count": null,
      "outputs": []
    },
    {
      "cell_type": "code",
      "metadata": {
        "id": "nMojKjFFmmzn"
      },
      "source": [
        "path24 = '/content/drive/MyDrive/IIoT - Wind Turbine/Dulika/SCADA data - Anomaly Detection/Data set/Turbine_10min_2018-6-1_2018-12-31/Turbine_10min_2018-6-1_2018-12-31_23.xlsx'\n",
        "df24 = pd.read_excel(path24)"
      ],
      "execution_count": null,
      "outputs": []
    },
    {
      "cell_type": "code",
      "metadata": {
        "id": "KHpZomkToyyt"
      },
      "source": [
        "df24.drop([0],axis=0, inplace=True) # axis=0 rows/ inplace do the operation in the same line. \n",
        "df24['PCTimeStamp'] = pd.to_datetime(df24['PCTimeStamp'], format=\"%d-%m-%Y %H:%M:%S\")\n",
        "df24_filtered = df24[df24['turbine'] == turbine]"
      ],
      "execution_count": null,
      "outputs": []
    },
    {
      "cell_type": "code",
      "metadata": {
        "id": "VO1BWkUJml-R"
      },
      "source": [
        "path25 = '/content/drive/MyDrive/IIoT - Wind Turbine/Dulika/SCADA data - Anomaly Detection/Data set/Turbine_10min_2018-6-1_2018-12-31/Turbine_10min_2018-6-1_2018-12-31_24.xlsx'\n",
        "df25 = pd.read_excel(path25)"
      ],
      "execution_count": null,
      "outputs": []
    },
    {
      "cell_type": "code",
      "metadata": {
        "id": "0U1DeLjMozq8"
      },
      "source": [
        "df25.drop([0],axis=0, inplace=True) # axis=0 rows/ inplace do the operation in the same line. \n",
        "df25['PCTimeStamp'] = pd.to_datetime(df25['PCTimeStamp'], format=\"%d-%m-%Y %H:%M:%S\")\n",
        "df25_filtered = df25[df25['turbine'] == turbine]"
      ],
      "execution_count": null,
      "outputs": []
    },
    {
      "cell_type": "code",
      "metadata": {
        "id": "4QOxWBoItesk"
      },
      "source": [
        "frames = [df1_filtered, df3_filtered, df4_filtered, df5_filtered, df6_filtered, df7_filtered, df8_filtered, df9_filtered, df10_filtered, df11_filtered, df12_filtered, df13_filtered, df14_filtered, df15_filtered, df16_filtered, df17_filtered, df18_filtered, df19_filtered, df20_filtered, df21_filtered, df22_filtered, df23_filtered, df24_filtered, df25_filtered]"
      ],
      "execution_count": null,
      "outputs": []
    },
    {
      "cell_type": "code",
      "metadata": {
        "id": "_w9nMMZKuqF2"
      },
      "source": [
        "result = pd.concat(frames)"
      ],
      "execution_count": null,
      "outputs": []
    },
    {
      "cell_type": "code",
      "metadata": {
        "id": "KGAC7QqOusqK"
      },
      "source": [
        "result"
      ],
      "execution_count": null,
      "outputs": []
    },
    {
      "cell_type": "code",
      "metadata": {
        "id": "jyzW9F9e4EJP"
      },
      "source": [
        "result.rename(columns={'PCTimeStamp':'Date & Time'}, inplace=True)# Date and Time\n",
        "result.rename(columns={'Amb_Temp_Avg':'Ambient Temperature'}, inplace=True)# Ambient Temperature "
      ],
      "execution_count": null,
      "outputs": []
    },
    {
      "cell_type": "code",
      "metadata": {
        "id": "ElxstdEH25os"
      },
      "source": [
        "result.to_csv('drive/MyDrive/DatasetsWind/T03_4.csv', index=False)"
      ],
      "execution_count": null,
      "outputs": []
    }
  ]
}