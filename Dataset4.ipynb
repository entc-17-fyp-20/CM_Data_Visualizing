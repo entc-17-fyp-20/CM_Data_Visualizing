{
  "nbformat": 4,
  "nbformat_minor": 0,
  "metadata": {
    "colab": {
      "name": "Dataset4.ipynb",
      "provenance": [],
      "collapsed_sections": [
        "B8wFrKFRrXHG"
      ],
      "mount_file_id": "1tlnOXeSMyvEJHpXn92uCz3H7wxOMv5lE",
      "authorship_tag": "ABX9TyONx1kBH4XhbKO31t/CxZLX",
      "include_colab_link": true
    },
    "kernelspec": {
      "name": "python3",
      "display_name": "Python 3"
    },
    "language_info": {
      "name": "python"
    }
  },
  "cells": [
    {
      "cell_type": "markdown",
      "metadata": {
        "id": "view-in-github",
        "colab_type": "text"
      },
      "source": [
        "<a href=\"https://colab.research.google.com/github/entc-17-fyp-20/CM_Data_Visualizing/blob/main/Dataset4.ipynb\" target=\"_parent\"><img src=\"https://colab.research.google.com/assets/colab-badge.svg\" alt=\"Open In Colab\"/></a>"
      ]
    },
    {
      "cell_type": "markdown",
      "metadata": {
        "id": "B8wFrKFRrXHG"
      },
      "source": [
        "# **Importing Libraries**"
      ]
    },
    {
      "cell_type": "code",
      "metadata": {
        "id": "VK25Ks5Aqsl7"
      },
      "source": [
        "import numpy as np\n",
        "import pandas as pd"
      ],
      "execution_count": 75,
      "outputs": []
    },
    {
      "cell_type": "markdown",
      "metadata": {
        "id": "Vz_mi5xz_k7O"
      },
      "source": [
        "# **Select Turbine**"
      ]
    },
    {
      "cell_type": "code",
      "metadata": {
        "id": "WeK9-xtKzzJX"
      },
      "source": [
        "#@title Select from T01-T83 { display-mode: \"form\" }\n",
        "turbine = \"T01\" #@param [\"T01\", \"T02\", \"T03\", \"T22\", \"T34\",\"T54\"] "
      ],
      "execution_count": 76,
      "outputs": []
    },
    {
      "cell_type": "markdown",
      "metadata": {
        "id": "c4sJNPQFr5Pf"
      },
      "source": [
        "# **Importing Datasets**"
      ]
    },
    {
      "cell_type": "code",
      "metadata": {
        "colab": {
          "base_uri": "https://localhost:8080/"
        },
        "id": "yNhoWIuhHeNw",
        "outputId": "a4b43c45-5208-4b1f-a2c5-4cac53170b1d"
      },
      "source": [
        "wind_path = '/content/drive/MyDrive/IIoT - Wind Turbine/Dulika/SCADA data - Anomaly Detection/Data set/Halkirk_MetTower_10min.xlsx'\n",
        "df_wind = pd.read_excel(wind_path)\n",
        "df_wind['PCTimeStamp'] = pd.to_datetime(df_wind['PCTimeStamp'], format=\"%m-%d-%Y %H:%M\")\n",
        "df_wind.drop('metname', axis='columns', inplace=True)\n",
        "df_wind_final = df_wind[[\"PCTimeStamp\",\"Avg_Windspeed1\"]]\n",
        "df_wind_final.rename(columns={'Avg_Windspeed1':'Wind Speed m/s'}, inplace=True)# Wind Speed\n",
        "df_wind_final.rename(columns={'PCTimeStamp':'Date & Time'}, inplace=True)# Time\n",
        "df_wind_final.dropna(how='all', inplace=True) # drop NaN columns\n",
        "df_wind_final.set_index('Date & Time', inplace = True)"
      ],
      "execution_count": 77,
      "outputs": [
        {
          "output_type": "stream",
          "name": "stderr",
          "text": [
            "/usr/local/lib/python3.7/dist-packages/pandas/core/frame.py:4308: SettingWithCopyWarning: \n",
            "A value is trying to be set on a copy of a slice from a DataFrame\n",
            "\n",
            "See the caveats in the documentation: https://pandas.pydata.org/pandas-docs/stable/user_guide/indexing.html#returning-a-view-versus-a-copy\n",
            "  errors=errors,\n",
            "/usr/local/lib/python3.7/dist-packages/ipykernel_launcher.py:8: SettingWithCopyWarning: \n",
            "A value is trying to be set on a copy of a slice from a DataFrame\n",
            "\n",
            "See the caveats in the documentation: https://pandas.pydata.org/pandas-docs/stable/user_guide/indexing.html#returning-a-view-versus-a-copy\n",
            "  \n"
          ]
        }
      ]
    },
    {
      "cell_type": "code",
      "metadata": {
        "id": "_7nbhrslr4mE"
      },
      "source": [
        "path1 = '/content/drive/MyDrive/IIoT - Wind Turbine/Dulika/SCADA data - Anomaly Detection/Data set/Turbine_10min_2018-6-1_2018-12-31/Turbine_10min_2018-6-1_2018-12-31_00_01-T_1-T_47.xlsx'\n",
        "df1 = pd.read_excel(path1)"
      ],
      "execution_count": 78,
      "outputs": []
    },
    {
      "cell_type": "code",
      "metadata": {
        "id": "S0UPIGa2ty0s"
      },
      "source": [
        "df1.drop([0],axis=0, inplace=True) # axis=0 rows/ inplace do the operation in the same line. \n",
        "df1['PCTimeStamp'] = pd.to_datetime(df1['PCTimeStamp'], format=\"%d-%m-%Y %H:%M:%S\")\n",
        "df1_filtered = df1[df1['turbine'] == turbine]"
      ],
      "execution_count": 79,
      "outputs": []
    },
    {
      "cell_type": "code",
      "metadata": {
        "id": "BpZakWmTYBQm"
      },
      "source": [
        "# path2 = '/content/drive/MyDrive/IIoT - Wind Turbine/Dulika/SCADA data/Data set/Turbine_10min_2018-6-1_2018-12-31/Turbine_10min_2018-6-1_2018-12-31_00_T_1-T_24.xlsx'\n",
        "# df2 = pd.read_excel(path2)"
      ],
      "execution_count": 80,
      "outputs": []
    },
    {
      "cell_type": "code",
      "metadata": {
        "id": "r-QjphKJYoyM"
      },
      "source": [
        "# df2.drop([0],axis=0, inplace=True) # axis=0 rows/ inplace do the operation in the same line. \n",
        "# df2['PCTimeStamp'] = pd.to_datetime(df2['PCTimeStamp'], format=\"%d-%m-%Y %H:%M:%S\")\n",
        "# df2_filtered = df2[df2['turbine'] == turbine]"
      ],
      "execution_count": 81,
      "outputs": []
    },
    {
      "cell_type": "code",
      "metadata": {
        "id": "mjb04u7NY75J"
      },
      "source": [
        "path3 = '/content/drive/MyDrive/IIoT - Wind Turbine/Dulika/SCADA data - Anomaly Detection/Data set/Turbine_10min_2018-6-1_2018-12-31/Turbine_10min_2018-6-1_2018-12-31_02-T_47-T-70.xlsx'\n",
        "df3 = pd.read_excel(path3)"
      ],
      "execution_count": 82,
      "outputs": []
    },
    {
      "cell_type": "code",
      "metadata": {
        "id": "OYsTK-6RZBjY"
      },
      "source": [
        "df3.drop([0],axis=0, inplace=True) # axis=0 rows/ inplace do the operation in the same line. \n",
        "df3['PCTimeStamp'] = pd.to_datetime(df3['PCTimeStamp'], format=\"%d-%m-%Y %H:%M:%S\")\n",
        "df3_filtered = df3[df3['turbine'] == turbine]"
      ],
      "execution_count": 83,
      "outputs": []
    },
    {
      "cell_type": "code",
      "metadata": {
        "id": "HNVRYS7yZVlk"
      },
      "source": [
        "path4 = '/content/drive/MyDrive/IIoT - Wind Turbine/Dulika/SCADA data - Anomaly Detection/Data set/Turbine_10min_2018-6-1_2018-12-31/Turbine_10min_2018-6-1_2018-12-31_03-T_70-T_10.xlsx'\n",
        "df4 = pd.read_excel(path4)"
      ],
      "execution_count": 84,
      "outputs": []
    },
    {
      "cell_type": "code",
      "metadata": {
        "id": "ywXZeqIMa1QL"
      },
      "source": [
        "df4.drop([0],axis=0, inplace=True) # axis=0 rows/ inplace do the operation in the same line. \n",
        "df4['PCTimeStamp'] = pd.to_datetime(df4['PCTimeStamp'], format=\"%d-%m-%Y %H:%M:%S\")\n",
        "df4_filtered = df4[df4['turbine'] == turbine]"
      ],
      "execution_count": 85,
      "outputs": []
    },
    {
      "cell_type": "code",
      "metadata": {
        "id": "-inzqG-wa9JK"
      },
      "source": [
        "path5 = '/content/drive/MyDrive/IIoT - Wind Turbine/Dulika/SCADA data - Anomaly Detection/Data set/Turbine_10min_2018-6-1_2018-12-31/Turbine_10min_2018-6-1_2018-12-31_04-T_10-T_33.xlsx'\n",
        "df5 = pd.read_excel(path5)"
      ],
      "execution_count": 86,
      "outputs": []
    },
    {
      "cell_type": "code",
      "metadata": {
        "id": "gQ_0baA_bch3"
      },
      "source": [
        "df5.drop([0],axis=0, inplace=True) # axis=0 rows/ inplace do the operation in the same line. \n",
        "df5['PCTimeStamp'] = pd.to_datetime(df5['PCTimeStamp'], format=\"%d-%m-%Y %H:%M:%S\")\n",
        "df5_filtered = df5[df5['turbine'] == turbine]"
      ],
      "execution_count": 87,
      "outputs": []
    },
    {
      "cell_type": "code",
      "metadata": {
        "id": "KOTm4_WYcC6m"
      },
      "source": [
        "path6 = '/content/drive/MyDrive/IIoT - Wind Turbine/Dulika/SCADA data - Anomaly Detection/Data set/Turbine_10min_2018-6-1_2018-12-31/Turbine_10min_2018-6-1_2018-12-31_05 - T33-T55.xlsx'\n",
        "df6 = pd.read_excel(path6)"
      ],
      "execution_count": 88,
      "outputs": []
    },
    {
      "cell_type": "code",
      "metadata": {
        "id": "rKoR2XAqcDKS"
      },
      "source": [
        "df6.drop([0],axis=0, inplace=True) # axis=0 rows/ inplace do the operation in the same line. \n",
        "df6['PCTimeStamp'] = pd.to_datetime(df6['PCTimeStamp'], format=\"%d-%m-%Y %H:%M:%S\")\n",
        "df6_filtered = df6[df6['turbine'] == turbine]"
      ],
      "execution_count": 89,
      "outputs": []
    },
    {
      "cell_type": "code",
      "metadata": {
        "id": "AyxDBhtmcjiY"
      },
      "source": [
        "path7 = '/content/drive/MyDrive/IIoT - Wind Turbine/Dulika/SCADA data - Anomaly Detection/Data set/Turbine_10min_2018-6-1_2018-12-31/Turbine_10min_2018-6-1_2018-12-31_06-T_55-T_78.xlsx'\n",
        "df7 = pd.read_excel(path7)"
      ],
      "execution_count": 90,
      "outputs": []
    },
    {
      "cell_type": "code",
      "metadata": {
        "id": "zly-EYe9cwlX"
      },
      "source": [
        "df7.drop([0],axis=0, inplace=True) # axis=0 rows/ inplace do the operation in the same line. \n",
        "df7['PCTimeStamp'] = pd.to_datetime(df7['PCTimeStamp'], format=\"%d-%m-%Y %H:%M:%S\")\n",
        "df7_filtered = df7[df7['turbine'] == turbine]"
      ],
      "execution_count": 91,
      "outputs": []
    },
    {
      "cell_type": "code",
      "metadata": {
        "id": "h3Ma5GDrdwSL"
      },
      "source": [
        "path8 = '/content/drive/MyDrive/IIoT - Wind Turbine/Dulika/SCADA data - Anomaly Detection/Data set/Turbine_10min_2018-6-1_2018-12-31/Turbine_10min_2018-6-1_2018-12-31_07.xlsx'\n",
        "df8 = pd.read_excel(path8)"
      ],
      "execution_count": 92,
      "outputs": []
    },
    {
      "cell_type": "code",
      "metadata": {
        "id": "QSYplJYNeSnd"
      },
      "source": [
        "df8.drop([0],axis=0, inplace=True) # axis=0 rows/ inplace do the operation in the same line. \n",
        "df8['PCTimeStamp'] = pd.to_datetime(df8['PCTimeStamp'], format=\"%d-%m-%Y %H:%M:%S\")\n",
        "df8_filtered = df8[df8['turbine'] == turbine]"
      ],
      "execution_count": 93,
      "outputs": []
    },
    {
      "cell_type": "code",
      "metadata": {
        "id": "wtlhJunVefdY"
      },
      "source": [
        "path9 = '/content/drive/MyDrive/IIoT - Wind Turbine/Dulika/SCADA data - Anomaly Detection/Data set/Turbine_10min_2018-6-1_2018-12-31/Turbine_10min_2018-6-1_2018-12-31_08-T_18-T-43.xlsx'\n",
        "df9 = pd.read_excel(path9)"
      ],
      "execution_count": 94,
      "outputs": []
    },
    {
      "cell_type": "code",
      "metadata": {
        "id": "z8_x921Je0EC"
      },
      "source": [
        "df9.drop([0],axis=0, inplace=True) # axis=0 rows/ inplace do the operation in the same line. \n",
        "df9['PCTimeStamp'] = pd.to_datetime(df9['PCTimeStamp'], format=\"%d-%m-%Y %H:%M:%S\")\n",
        "df9_filtered = df9[df9['turbine'] == turbine]"
      ],
      "execution_count": 95,
      "outputs": []
    },
    {
      "cell_type": "code",
      "metadata": {
        "id": "uo2nDPSsfrPM"
      },
      "source": [
        "path10 = '/content/drive/MyDrive/IIoT - Wind Turbine/Dulika/SCADA data - Anomaly Detection/Data set/Turbine_10min_2018-6-1_2018-12-31/Turbine_10min_2018-6-1_2018-12-31_09-T43-T_66.xlsx'\n",
        "df10 = pd.read_excel(path10)"
      ],
      "execution_count": 96,
      "outputs": []
    },
    {
      "cell_type": "code",
      "metadata": {
        "id": "AQ6AJEJCgph0"
      },
      "source": [
        "df10.drop([0],axis=0, inplace=True) # axis=0 rows/ inplace do the operation in the same line. \n",
        "df10['PCTimeStamp'] = pd.to_datetime(df10['PCTimeStamp'], format=\"%d-%m-%Y %H:%M:%S\")\n",
        "df10_filtered = df10[df10['turbine'] == turbine]"
      ],
      "execution_count": 97,
      "outputs": []
    },
    {
      "cell_type": "code",
      "metadata": {
        "id": "5iZX-fHkg6qk"
      },
      "source": [
        "path11 = '/content/drive/MyDrive/IIoT - Wind Turbine/Dulika/SCADA data - Anomaly Detection/Data set/Turbine_10min_2018-6-1_2018-12-31/Turbine_10min_2018-6-1_2018-12-31_10.xlsx'\n",
        "df11 = pd.read_excel(path11)"
      ],
      "execution_count": 98,
      "outputs": []
    },
    {
      "cell_type": "code",
      "metadata": {
        "id": "QCXz-Doji2lL"
      },
      "source": [
        "df11.drop([0],axis=0, inplace=True) # axis=0 rows/ inplace do the operation in the same line. \n",
        "df11['PCTimeStamp'] = pd.to_datetime(df11['PCTimeStamp'], format=\"%d-%m-%Y %H:%M:%S\")\n",
        "df11_filtered = df11[df11['turbine'] == turbine]"
      ],
      "execution_count": 99,
      "outputs": []
    },
    {
      "cell_type": "code",
      "metadata": {
        "id": "-ldRqZWNjLw1"
      },
      "source": [
        "path12 = '/content/drive/MyDrive/IIoT - Wind Turbine/Dulika/SCADA data - Anomaly Detection/Data set/Turbine_10min_2018-6-1_2018-12-31/Turbine_10min_2018-6-1_2018-12-31_11_T_07-T_31.xlsx'\n",
        "df12 = pd.read_excel(path12)"
      ],
      "execution_count": 100,
      "outputs": []
    },
    {
      "cell_type": "code",
      "metadata": {
        "id": "-zegQQX9kIpQ"
      },
      "source": [
        "df12.drop([0],axis=0, inplace=True) # axis=0 rows/ inplace do the operation in the same line. \n",
        "df12['PCTimeStamp'] = pd.to_datetime(df12['PCTimeStamp'], format=\"%d-%m-%Y %H:%M:%S\")\n",
        "df12_filtered = df12[df12['turbine'] == turbine]"
      ],
      "execution_count": 101,
      "outputs": []
    },
    {
      "cell_type": "code",
      "metadata": {
        "id": "N1qoLlgbkWO4"
      },
      "source": [
        "path13 = '/content/drive/MyDrive/IIoT - Wind Turbine/Dulika/SCADA data - Anomaly Detection/Data set/Turbine_10min_2018-6-1_2018-12-31/Turbine_10min_2018-6-1_2018-12-31_12.xlsx'\n",
        "df13 = pd.read_excel(path13)"
      ],
      "execution_count": 102,
      "outputs": []
    },
    {
      "cell_type": "code",
      "metadata": {
        "id": "dtSWZ4u7j82z"
      },
      "source": [
        "df13.drop([0],axis=0, inplace=True) # axis=0 rows/ inplace do the operation in the same line. \n",
        "df13['PCTimeStamp'] = pd.to_datetime(df13['PCTimeStamp'], format=\"%d-%m-%Y %H:%M:%S\")\n",
        "df13_filtered = df13[df13['turbine'] == turbine]"
      ],
      "execution_count": 103,
      "outputs": []
    },
    {
      "cell_type": "code",
      "metadata": {
        "id": "l_8lWNZCkEuR"
      },
      "source": [
        "path14 = '/content/drive/MyDrive/IIoT - Wind Turbine/Dulika/SCADA data - Anomaly Detection/Data set/Turbine_10min_2018-6-1_2018-12-31/Turbine_10min_2018-6-1_2018-12-31_13_T_55-T_79.xlsx'\n",
        "df14 = pd.read_excel(path14)"
      ],
      "execution_count": 104,
      "outputs": []
    },
    {
      "cell_type": "code",
      "metadata": {
        "id": "AE6OcyO1onSw"
      },
      "source": [
        "df14.drop([0],axis=0, inplace=True) # axis=0 rows/ inplace do the operation in the same line. \n",
        "df14['PCTimeStamp'] = pd.to_datetime(df14['PCTimeStamp'], format=\"%d-%m-%Y %H:%M:%S\")\n",
        "df14_filtered = df14[df14['turbine'] == turbine]"
      ],
      "execution_count": 105,
      "outputs": []
    },
    {
      "cell_type": "code",
      "metadata": {
        "id": "uPiNNneslYSn"
      },
      "source": [
        "path15 = '/content/drive/MyDrive/IIoT - Wind Turbine/Dulika/SCADA data - Anomaly Detection/Data set/Turbine_10min_2018-6-1_2018-12-31/Turbine_10min_2018-6-1_2018-12-31_14.xlsx'\n",
        "df15 = pd.read_excel(path15)"
      ],
      "execution_count": 106,
      "outputs": []
    },
    {
      "cell_type": "code",
      "metadata": {
        "id": "UZ2hmwtLoo6p"
      },
      "source": [
        "df15.drop([0],axis=0, inplace=True) # axis=0 rows/ inplace do the operation in the same line. \n",
        "df15['PCTimeStamp'] = pd.to_datetime(df15['PCTimeStamp'], format=\"%d-%m-%Y %H:%M:%S\")\n",
        "df15_filtered = df15[df15['turbine'] == turbine]"
      ],
      "execution_count": 107,
      "outputs": []
    },
    {
      "cell_type": "code",
      "metadata": {
        "id": "TWUYa21WlZAH"
      },
      "source": [
        "path16 = '/content/drive/MyDrive/IIoT - Wind Turbine/Dulika/SCADA data - Anomaly Detection/Data set/Turbine_10min_2018-6-1_2018-12-31/Turbine_10min_2018-6-1_2018-12-31_15-T_18_T_41.xlsx'\n",
        "df16 = pd.read_excel(path16)"
      ],
      "execution_count": 108,
      "outputs": []
    },
    {
      "cell_type": "code",
      "metadata": {
        "id": "0_0aca1Mop1t"
      },
      "source": [
        "df16.drop([0],axis=0, inplace=True) # axis=0 rows/ inplace do the operation in the same line. \n",
        "df16['PCTimeStamp'] = pd.to_datetime(df16['PCTimeStamp'], format=\"%d-%m-%Y %H:%M:%S\")\n",
        "df16_filtered = df16[df16['turbine'] == turbine]"
      ],
      "execution_count": 109,
      "outputs": []
    },
    {
      "cell_type": "code",
      "metadata": {
        "id": "QrVuYlndlZzz"
      },
      "source": [
        "path17 = '/content/drive/MyDrive/IIoT - Wind Turbine/Dulika/SCADA data - Anomaly Detection/Data set/Turbine_10min_2018-6-1_2018-12-31/Turbine_10min_2018-6-1_2018-12-31_16-T_41-T_63.xlsx'\n",
        "df17 = pd.read_excel(path17)"
      ],
      "execution_count": 110,
      "outputs": []
    },
    {
      "cell_type": "code",
      "metadata": {
        "id": "CFGLc5lRoq6j"
      },
      "source": [
        "df17.drop([0],axis=0, inplace=True) # axis=0 rows/ inplace do the operation in the same line. \n",
        "df17['PCTimeStamp'] = pd.to_datetime(df17['PCTimeStamp'], format=\"%d-%m-%Y %H:%M:%S\")\n",
        "df17_filtered = df17[df17['turbine'] == turbine]"
      ],
      "execution_count": 111,
      "outputs": []
    },
    {
      "cell_type": "code",
      "metadata": {
        "id": "RI5dNK47lah7"
      },
      "source": [
        "path18 = '/content/drive/MyDrive/IIoT - Wind Turbine/Dulika/SCADA data - Anomaly Detection/Data set/Turbine_10min_2018-6-1_2018-12-31/Turbine_10min_2018-6-1_2018-12-31_17.xlsx'\n",
        "df18 = pd.read_excel(path18)"
      ],
      "execution_count": 112,
      "outputs": []
    },
    {
      "cell_type": "code",
      "metadata": {
        "id": "B7IwEHTLor6G"
      },
      "source": [
        "df18.drop([0],axis=0, inplace=True) # axis=0 rows/ inplace do the operation in the same line. \n",
        "df18['PCTimeStamp'] = pd.to_datetime(df18['PCTimeStamp'], format=\"%d-%m-%Y %H:%M:%S\")\n",
        "df18_filtered = df18[df18['turbine'] == turbine]"
      ],
      "execution_count": 113,
      "outputs": []
    },
    {
      "cell_type": "code",
      "metadata": {
        "id": "cyXc9rd_mPfK"
      },
      "source": [
        "path19 = '/content/drive/MyDrive/IIoT - Wind Turbine/Dulika/SCADA data - Anomaly Detection/Data set/Turbine_10min_2018-6-1_2018-12-31/Turbine_10min_2018-6-1_2018-12-31_18-T_03-T_27.xlsx'\n",
        "df19 = pd.read_excel(path19)"
      ],
      "execution_count": 114,
      "outputs": []
    },
    {
      "cell_type": "code",
      "metadata": {
        "id": "R7rAexaXotN-"
      },
      "source": [
        "df19.drop([0],axis=0, inplace=True) # axis=0 rows/ inplace do the operation in the same line. \n",
        "df19['PCTimeStamp'] = pd.to_datetime(df19['PCTimeStamp'], format=\"%d-%m-%Y %H:%M:%S\")\n",
        "df19_filtered = df19[df19['turbine'] == turbine]"
      ],
      "execution_count": 115,
      "outputs": []
    },
    {
      "cell_type": "code",
      "metadata": {
        "id": "MIVNtaQvmfvh"
      },
      "source": [
        "path20 = '/content/drive/MyDrive/IIoT - Wind Turbine/Dulika/SCADA data - Anomaly Detection/Data set/Turbine_10min_2018-6-1_2018-12-31/Turbine_10min_2018-6-1_2018-12-31_19.xlsx'\n",
        "df20 = pd.read_excel(path20)"
      ],
      "execution_count": 116,
      "outputs": []
    },
    {
      "cell_type": "code",
      "metadata": {
        "id": "xr3HAyOqouQn"
      },
      "source": [
        "df20.drop([0],axis=0, inplace=True) # axis=0 rows/ inplace do the operation in the same line. \n",
        "df20['PCTimeStamp'] = pd.to_datetime(df20['PCTimeStamp'], format=\"%d-%m-%Y %H:%M:%S\")\n",
        "df20_filtered = df20[df20['turbine'] == turbine]"
      ],
      "execution_count": 117,
      "outputs": []
    },
    {
      "cell_type": "code",
      "metadata": {
        "id": "LkVOXDW6mgv-"
      },
      "source": [
        "path21 = '/content/drive/MyDrive/IIoT - Wind Turbine/Dulika/SCADA data - Anomaly Detection/Data set/Turbine_10min_2018-6-1_2018-12-31/Turbine_10min_2018-6-1_2018-12-31_20.xlsx'\n",
        "df21 = pd.read_excel(path21)"
      ],
      "execution_count": 118,
      "outputs": []
    },
    {
      "cell_type": "code",
      "metadata": {
        "id": "nQpN6XPhovKG"
      },
      "source": [
        "df21.drop([0],axis=0, inplace=True) # axis=0 rows/ inplace do the operation in the same line. \n",
        "df21['PCTimeStamp'] = pd.to_datetime(df21['PCTimeStamp'], format=\"%d-%m-%Y %H:%M:%S\")\n",
        "df21_filtered = df21[df21['turbine'] == turbine]"
      ],
      "execution_count": 119,
      "outputs": []
    },
    {
      "cell_type": "code",
      "metadata": {
        "id": "jAjn2SdXmhec"
      },
      "source": [
        "path22 = '/content/drive/MyDrive/IIoT - Wind Turbine/Dulika/SCADA data - Anomaly Detection/Data set/Turbine_10min_2018-6-1_2018-12-31/Turbine_10min_2018-6-1_2018-12-31_21-T_73-T_14.xlsx'\n",
        "df22 = pd.read_excel(path22)"
      ],
      "execution_count": 120,
      "outputs": []
    },
    {
      "cell_type": "code",
      "metadata": {
        "id": "Rn34HnkyowQI"
      },
      "source": [
        "df22.drop([0],axis=0, inplace=True) # axis=0 rows/ inplace do the operation in the same line. \n",
        "df22['PCTimeStamp'] = pd.to_datetime(df22['PCTimeStamp'], format=\"%d-%m-%Y %H:%M:%S\")\n",
        "df22_filtered = df22[df22['turbine'] == turbine]"
      ],
      "execution_count": 121,
      "outputs": []
    },
    {
      "cell_type": "code",
      "metadata": {
        "id": "5DVZNVcYmjP8"
      },
      "source": [
        "path23 = '/content/drive/MyDrive/IIoT - Wind Turbine/Dulika/SCADA data - Anomaly Detection/Data set/Turbine_10min_2018-6-1_2018-12-31/Turbine_10min_2018-6-1_2018-12-31_22-T_14-T_37.xlsx'\n",
        "df23 = pd.read_excel(path23)"
      ],
      "execution_count": 122,
      "outputs": []
    },
    {
      "cell_type": "code",
      "metadata": {
        "id": "d4POdTCFoxEC"
      },
      "source": [
        "df23.drop([0],axis=0, inplace=True) # axis=0 rows/ inplace do the operation in the same line. \n",
        "df23['PCTimeStamp'] = pd.to_datetime(df23['PCTimeStamp'], format=\"%d-%m-%Y %H:%M:%S\")\n",
        "df23_filtered = df23[df23['turbine'] == turbine]"
      ],
      "execution_count": 123,
      "outputs": []
    },
    {
      "cell_type": "code",
      "metadata": {
        "id": "nMojKjFFmmzn"
      },
      "source": [
        "path24 = '/content/drive/MyDrive/IIoT - Wind Turbine/Dulika/SCADA data - Anomaly Detection/Data set/Turbine_10min_2018-6-1_2018-12-31/Turbine_10min_2018-6-1_2018-12-31_23.xlsx'\n",
        "df24 = pd.read_excel(path24)"
      ],
      "execution_count": 124,
      "outputs": []
    },
    {
      "cell_type": "code",
      "metadata": {
        "id": "KHpZomkToyyt"
      },
      "source": [
        "df24.drop([0],axis=0, inplace=True) # axis=0 rows/ inplace do the operation in the same line. \n",
        "df24['PCTimeStamp'] = pd.to_datetime(df24['PCTimeStamp'], format=\"%d-%m-%Y %H:%M:%S\")\n",
        "df24_filtered = df24[df24['turbine'] == turbine]"
      ],
      "execution_count": 125,
      "outputs": []
    },
    {
      "cell_type": "code",
      "metadata": {
        "id": "VO1BWkUJml-R"
      },
      "source": [
        "path25 = '/content/drive/MyDrive/IIoT - Wind Turbine/Dulika/SCADA data - Anomaly Detection/Data set/Turbine_10min_2018-6-1_2018-12-31/Turbine_10min_2018-6-1_2018-12-31_24.xlsx'\n",
        "df25 = pd.read_excel(path25)"
      ],
      "execution_count": 126,
      "outputs": []
    },
    {
      "cell_type": "code",
      "metadata": {
        "id": "0U1DeLjMozq8"
      },
      "source": [
        "df25.drop([0],axis=0, inplace=True) # axis=0 rows/ inplace do the operation in the same line. \n",
        "df25['PCTimeStamp'] = pd.to_datetime(df25['PCTimeStamp'], format=\"%d-%m-%Y %H:%M:%S\")\n",
        "df25_filtered = df25[df25['turbine'] == turbine]"
      ],
      "execution_count": 127,
      "outputs": []
    },
    {
      "cell_type": "markdown",
      "metadata": {
        "id": "W80yTQit-7ct"
      },
      "source": [
        "# **Merging**"
      ]
    },
    {
      "cell_type": "code",
      "metadata": {
        "id": "4QOxWBoItesk"
      },
      "source": [
        "frames = [df1_filtered, df3_filtered, df4_filtered, df5_filtered, df6_filtered, df7_filtered, df8_filtered, df9_filtered, df10_filtered, df11_filtered, df12_filtered, df13_filtered, df14_filtered, df15_filtered, df16_filtered, df17_filtered, df18_filtered, df19_filtered, df20_filtered, df21_filtered, df22_filtered, df23_filtered, df24_filtered, df25_filtered]\n",
        "result = pd.concat(frames)\n",
        "result.rename(columns={'PCTimeStamp':'Date & Time'}, inplace=True) # Date and Time\n",
        "result.rename(columns={'Amb_Temp_Avg':'Ambient Temperature'}, inplace=True) # Ambient Temperature\n",
        "result.dropna(how='all', axis=1, inplace = True) # drop NaN columns\n",
        "result.set_index('Date & Time', inplace = True) # set index\n",
        "result.drop('turbine', axis='columns', inplace=True)"
      ],
      "execution_count": 138,
      "outputs": []
    },
    {
      "cell_type": "code",
      "metadata": {
        "id": "7HIFNgeQqoeQ"
      },
      "source": [
        "df_final = pd.merge(result, df_wind_final, left_index=True, right_index=True).reset_index() # Adding data time index back as a column"
      ],
      "execution_count": 142,
      "outputs": []
    },
    {
      "cell_type": "code",
      "metadata": {
        "colab": {
          "base_uri": "https://localhost:8080/",
          "height": 791
        },
        "id": "5sQ8KuRFqqKe",
        "outputId": "1c6d22ad-88cf-4dc1-bad0-7bbabd103b3e"
      },
      "source": [
        "df_final"
      ],
      "execution_count": 135,
      "outputs": [
        {
          "output_type": "execute_result",
          "data": {
            "text/html": [
              "<div>\n",
              "<style scoped>\n",
              "    .dataframe tbody tr th:only-of-type {\n",
              "        vertical-align: middle;\n",
              "    }\n",
              "\n",
              "    .dataframe tbody tr th {\n",
              "        vertical-align: top;\n",
              "    }\n",
              "\n",
              "    .dataframe thead th {\n",
              "        text-align: right;\n",
              "    }\n",
              "</style>\n",
              "<table border=\"1\" class=\"dataframe\">\n",
              "  <thead>\n",
              "    <tr style=\"text-align: right;\">\n",
              "      <th></th>\n",
              "      <th>Date &amp; Time</th>\n",
              "      <th>Ambient Temperature</th>\n",
              "      <th>Amb_WindDir_Relative_Avg</th>\n",
              "      <th>Amb_WindDir_Abs_Avg</th>\n",
              "      <th>Prod_LatestAvg_TotActPwr</th>\n",
              "      <th>Gear_Bear_Temp_Avg</th>\n",
              "      <th>Gear_Oil_Temp_Avg</th>\n",
              "      <th>Gen_Bear_Temp_Avg</th>\n",
              "      <th>Gen_Bear2_Temp_Avg</th>\n",
              "      <th>Gen_RPM_Max</th>\n",
              "      <th>Gen_RPM_Min</th>\n",
              "      <th>Gen_RPM_Avg</th>\n",
              "      <th>Gen_RPM_Std</th>\n",
              "      <th>Grd_Prod_CosPhi_Avg</th>\n",
              "      <th>Grd_Prod_PsblePwr_Avg</th>\n",
              "      <th>Grd_Prod_PsblePwr_Max</th>\n",
              "      <th>Grd_Prod_PsblePwr_Min</th>\n",
              "      <th>Grd_Prod_PsblePwr_Std</th>\n",
              "      <th>Grd_Prod_Pwr_Std</th>\n",
              "      <th>Grd_Prod_Pwr_Avg</th>\n",
              "      <th>Grd_Prod_Pwr_Max</th>\n",
              "      <th>Grd_Prod_Pwr_Min</th>\n",
              "      <th>Grd_Prod_ReactPwr_Avg</th>\n",
              "      <th>Grd_Prod_ReactPwr_Max</th>\n",
              "      <th>Grd_Prod_ReactPwr_Min</th>\n",
              "      <th>Grd_Prod_ReactPwr_Std</th>\n",
              "      <th>Grd_Prod_VoltPhse1_Avg</th>\n",
              "      <th>Grd_Prod_VoltPhse1_Min</th>\n",
              "      <th>Grd_Prod_VoltPhse2_Avg</th>\n",
              "      <th>Grd_Prod_VoltPhse2_Min</th>\n",
              "      <th>Grd_Prod_VoltPhse3_Avg</th>\n",
              "      <th>Grd_Prod_VoltPhse3_Min</th>\n",
              "      <th>Hyd_Oil_Pressure_Avg</th>\n",
              "      <th>Hyd_Oil_Pressure_Min</th>\n",
              "      <th>Hyd_Oil_Pressure_Std</th>\n",
              "      <th>Hyd_Oil_Temp_Avg</th>\n",
              "      <th>Nac_Direction_Avg</th>\n",
              "      <th>Wind Speed m/s</th>\n",
              "    </tr>\n",
              "  </thead>\n",
              "  <tbody>\n",
              "    <tr>\n",
              "      <th>0</th>\n",
              "      <td>2018-06-01 00:00:00</td>\n",
              "      <td>10</td>\n",
              "      <td>-0.6</td>\n",
              "      <td>90.5</td>\n",
              "      <td>80215</td>\n",
              "      <td>52</td>\n",
              "      <td>49</td>\n",
              "      <td>41</td>\n",
              "      <td>51</td>\n",
              "      <td>1297.1</td>\n",
              "      <td>997.4</td>\n",
              "      <td>1139.5</td>\n",
              "      <td>76.7</td>\n",
              "      <td>1</td>\n",
              "      <td>479.7</td>\n",
              "      <td>696.2</td>\n",
              "      <td>246.1</td>\n",
              "      <td>89.7</td>\n",
              "      <td>89.7</td>\n",
              "      <td>480.7</td>\n",
              "      <td>689.6</td>\n",
              "      <td>262.4</td>\n",
              "      <td>0</td>\n",
              "      <td>0.5</td>\n",
              "      <td>-0.5</td>\n",
              "      <td>0.1</td>\n",
              "      <td>400.9</td>\n",
              "      <td>400</td>\n",
              "      <td>400.4</td>\n",
              "      <td>400</td>\n",
              "      <td>400.2</td>\n",
              "      <td>399</td>\n",
              "      <td>189.3</td>\n",
              "      <td>178.4</td>\n",
              "      <td>5.8</td>\n",
              "      <td>27</td>\n",
              "      <td>91.1</td>\n",
              "      <td>6.7</td>\n",
              "    </tr>\n",
              "    <tr>\n",
              "      <th>1</th>\n",
              "      <td>2018-06-01 00:10:00</td>\n",
              "      <td>10</td>\n",
              "      <td>-0.8</td>\n",
              "      <td>90.3</td>\n",
              "      <td>65800</td>\n",
              "      <td>51</td>\n",
              "      <td>49</td>\n",
              "      <td>42</td>\n",
              "      <td>51</td>\n",
              "      <td>1238.9</td>\n",
              "      <td>995.5</td>\n",
              "      <td>1079.1</td>\n",
              "      <td>65.4</td>\n",
              "      <td>1</td>\n",
              "      <td>394.4</td>\n",
              "      <td>609.7</td>\n",
              "      <td>186</td>\n",
              "      <td>73.6</td>\n",
              "      <td>72.6</td>\n",
              "      <td>394.5</td>\n",
              "      <td>590</td>\n",
              "      <td>208.2</td>\n",
              "      <td>0</td>\n",
              "      <td>0.4</td>\n",
              "      <td>-0.5</td>\n",
              "      <td>0.1</td>\n",
              "      <td>400.5</td>\n",
              "      <td>400</td>\n",
              "      <td>400.3</td>\n",
              "      <td>400</td>\n",
              "      <td>399.9</td>\n",
              "      <td>399</td>\n",
              "      <td>189.3</td>\n",
              "      <td>179</td>\n",
              "      <td>6</td>\n",
              "      <td>27</td>\n",
              "      <td>91.1</td>\n",
              "      <td>6.7</td>\n",
              "    </tr>\n",
              "    <tr>\n",
              "      <th>2</th>\n",
              "      <td>2018-06-01 00:20:00</td>\n",
              "      <td>10</td>\n",
              "      <td>-2.2</td>\n",
              "      <td>88.9</td>\n",
              "      <td>66979</td>\n",
              "      <td>51</td>\n",
              "      <td>49</td>\n",
              "      <td>42</td>\n",
              "      <td>51</td>\n",
              "      <td>1234.2</td>\n",
              "      <td>992.8</td>\n",
              "      <td>1096.5</td>\n",
              "      <td>62.7</td>\n",
              "      <td>1</td>\n",
              "      <td>401.9</td>\n",
              "      <td>588.5</td>\n",
              "      <td>214.8</td>\n",
              "      <td>66.7</td>\n",
              "      <td>65.2</td>\n",
              "      <td>401.9</td>\n",
              "      <td>581.7</td>\n",
              "      <td>221.3</td>\n",
              "      <td>0</td>\n",
              "      <td>0.4</td>\n",
              "      <td>-0.4</td>\n",
              "      <td>0.1</td>\n",
              "      <td>400.5</td>\n",
              "      <td>400</td>\n",
              "      <td>400.3</td>\n",
              "      <td>400</td>\n",
              "      <td>399.9</td>\n",
              "      <td>399</td>\n",
              "      <td>188.8</td>\n",
              "      <td>179</td>\n",
              "      <td>5.8</td>\n",
              "      <td>26</td>\n",
              "      <td>91.1</td>\n",
              "      <td>6.6</td>\n",
              "    </tr>\n",
              "    <tr>\n",
              "      <th>3</th>\n",
              "      <td>2018-06-01 00:30:00</td>\n",
              "      <td>10</td>\n",
              "      <td>-0.2</td>\n",
              "      <td>90.9</td>\n",
              "      <td>77263</td>\n",
              "      <td>51</td>\n",
              "      <td>49</td>\n",
              "      <td>42</td>\n",
              "      <td>52</td>\n",
              "      <td>1344.5</td>\n",
              "      <td>996.6</td>\n",
              "      <td>1137.9</td>\n",
              "      <td>90.2</td>\n",
              "      <td>1</td>\n",
              "      <td>462.5</td>\n",
              "      <td>711</td>\n",
              "      <td>248.1</td>\n",
              "      <td>101.4</td>\n",
              "      <td>99.6</td>\n",
              "      <td>463.3</td>\n",
              "      <td>702</td>\n",
              "      <td>260</td>\n",
              "      <td>0</td>\n",
              "      <td>0.4</td>\n",
              "      <td>-0.4</td>\n",
              "      <td>0.1</td>\n",
              "      <td>400.7</td>\n",
              "      <td>400</td>\n",
              "      <td>400.4</td>\n",
              "      <td>400</td>\n",
              "      <td>400</td>\n",
              "      <td>399</td>\n",
              "      <td>189</td>\n",
              "      <td>179</td>\n",
              "      <td>5.4</td>\n",
              "      <td>26</td>\n",
              "      <td>91.1</td>\n",
              "      <td>6.0</td>\n",
              "    </tr>\n",
              "    <tr>\n",
              "      <th>4</th>\n",
              "      <td>2018-06-01 00:40:00</td>\n",
              "      <td>10</td>\n",
              "      <td>-1.3</td>\n",
              "      <td>89.8</td>\n",
              "      <td>60269</td>\n",
              "      <td>51</td>\n",
              "      <td>49</td>\n",
              "      <td>42</td>\n",
              "      <td>50</td>\n",
              "      <td>1195.4</td>\n",
              "      <td>996.2</td>\n",
              "      <td>1058.3</td>\n",
              "      <td>50.7</td>\n",
              "      <td>1</td>\n",
              "      <td>363.1</td>\n",
              "      <td>541.8</td>\n",
              "      <td>209.7</td>\n",
              "      <td>67.3</td>\n",
              "      <td>66.3</td>\n",
              "      <td>361.9</td>\n",
              "      <td>537.2</td>\n",
              "      <td>222.1</td>\n",
              "      <td>0</td>\n",
              "      <td>0.3</td>\n",
              "      <td>-0.3</td>\n",
              "      <td>0.1</td>\n",
              "      <td>400.6</td>\n",
              "      <td>399</td>\n",
              "      <td>400.3</td>\n",
              "      <td>399</td>\n",
              "      <td>399.8</td>\n",
              "      <td>399</td>\n",
              "      <td>189.5</td>\n",
              "      <td>179</td>\n",
              "      <td>5.8</td>\n",
              "      <td>26</td>\n",
              "      <td>91.1</td>\n",
              "      <td>6.2</td>\n",
              "    </tr>\n",
              "    <tr>\n",
              "      <th>...</th>\n",
              "      <td>...</td>\n",
              "      <td>...</td>\n",
              "      <td>...</td>\n",
              "      <td>...</td>\n",
              "      <td>...</td>\n",
              "      <td>...</td>\n",
              "      <td>...</td>\n",
              "      <td>...</td>\n",
              "      <td>...</td>\n",
              "      <td>...</td>\n",
              "      <td>...</td>\n",
              "      <td>...</td>\n",
              "      <td>...</td>\n",
              "      <td>...</td>\n",
              "      <td>...</td>\n",
              "      <td>...</td>\n",
              "      <td>...</td>\n",
              "      <td>...</td>\n",
              "      <td>...</td>\n",
              "      <td>...</td>\n",
              "      <td>...</td>\n",
              "      <td>...</td>\n",
              "      <td>...</td>\n",
              "      <td>...</td>\n",
              "      <td>...</td>\n",
              "      <td>...</td>\n",
              "      <td>...</td>\n",
              "      <td>...</td>\n",
              "      <td>...</td>\n",
              "      <td>...</td>\n",
              "      <td>...</td>\n",
              "      <td>...</td>\n",
              "      <td>...</td>\n",
              "      <td>...</td>\n",
              "      <td>...</td>\n",
              "      <td>...</td>\n",
              "      <td>...</td>\n",
              "      <td>...</td>\n",
              "    </tr>\n",
              "    <tr>\n",
              "      <th>29251</th>\n",
              "      <td>2018-12-29 18:10:00</td>\n",
              "      <td>-3</td>\n",
              "      <td>-1.6</td>\n",
              "      <td>122.2</td>\n",
              "      <td>144470</td>\n",
              "      <td>59</td>\n",
              "      <td>57</td>\n",
              "      <td>44</td>\n",
              "      <td>55</td>\n",
              "      <td>1363.5</td>\n",
              "      <td>1270.1</td>\n",
              "      <td>1339.3</td>\n",
              "      <td>13.7</td>\n",
              "      <td>1</td>\n",
              "      <td>875.7</td>\n",
              "      <td>1023.3</td>\n",
              "      <td>695.8</td>\n",
              "      <td>57.8</td>\n",
              "      <td>58.4</td>\n",
              "      <td>876.4</td>\n",
              "      <td>1012.2</td>\n",
              "      <td>707.2</td>\n",
              "      <td>0</td>\n",
              "      <td>0.4</td>\n",
              "      <td>-0.3</td>\n",
              "      <td>0.1</td>\n",
              "      <td>401.1</td>\n",
              "      <td>401</td>\n",
              "      <td>401.2</td>\n",
              "      <td>401</td>\n",
              "      <td>400.9</td>\n",
              "      <td>400</td>\n",
              "      <td>194.6</td>\n",
              "      <td>187.9</td>\n",
              "      <td>3.3</td>\n",
              "      <td>51</td>\n",
              "      <td>123.8</td>\n",
              "      <td>7.1</td>\n",
              "    </tr>\n",
              "    <tr>\n",
              "      <th>29252</th>\n",
              "      <td>2018-12-29 18:20:00</td>\n",
              "      <td>-3</td>\n",
              "      <td>-1.2</td>\n",
              "      <td>124.2</td>\n",
              "      <td>128159</td>\n",
              "      <td>58</td>\n",
              "      <td>56</td>\n",
              "      <td>44</td>\n",
              "      <td>54</td>\n",
              "      <td>1354.8</td>\n",
              "      <td>1243.2</td>\n",
              "      <td>1323.8</td>\n",
              "      <td>26.3</td>\n",
              "      <td>1</td>\n",
              "      <td>761.3</td>\n",
              "      <td>969</td>\n",
              "      <td>576.6</td>\n",
              "      <td>79</td>\n",
              "      <td>78.5</td>\n",
              "      <td>763.1</td>\n",
              "      <td>962.1</td>\n",
              "      <td>599.6</td>\n",
              "      <td>0</td>\n",
              "      <td>0.4</td>\n",
              "      <td>-0.4</td>\n",
              "      <td>0.1</td>\n",
              "      <td>401.1</td>\n",
              "      <td>400</td>\n",
              "      <td>401.1</td>\n",
              "      <td>400</td>\n",
              "      <td>400.6</td>\n",
              "      <td>400</td>\n",
              "      <td>194.6</td>\n",
              "      <td>188.5</td>\n",
              "      <td>3.3</td>\n",
              "      <td>51</td>\n",
              "      <td>125.4</td>\n",
              "      <td>6.9</td>\n",
              "    </tr>\n",
              "    <tr>\n",
              "      <th>29253</th>\n",
              "      <td>2018-12-29 18:30:00</td>\n",
              "      <td>-3</td>\n",
              "      <td>-0.2</td>\n",
              "      <td>125.2</td>\n",
              "      <td>149131</td>\n",
              "      <td>59</td>\n",
              "      <td>57</td>\n",
              "      <td>43</td>\n",
              "      <td>54</td>\n",
              "      <td>1352.4</td>\n",
              "      <td>1254.2</td>\n",
              "      <td>1334.8</td>\n",
              "      <td>20</td>\n",
              "      <td>1</td>\n",
              "      <td>904.1</td>\n",
              "      <td>1197.4</td>\n",
              "      <td>619.1</td>\n",
              "      <td>143.5</td>\n",
              "      <td>142.7</td>\n",
              "      <td>902.4</td>\n",
              "      <td>1184.8</td>\n",
              "      <td>636.3</td>\n",
              "      <td>0</td>\n",
              "      <td>0.4</td>\n",
              "      <td>-0.4</td>\n",
              "      <td>0.1</td>\n",
              "      <td>401.1</td>\n",
              "      <td>400</td>\n",
              "      <td>401.3</td>\n",
              "      <td>401</td>\n",
              "      <td>400.8</td>\n",
              "      <td>400</td>\n",
              "      <td>194.7</td>\n",
              "      <td>188.8</td>\n",
              "      <td>3.3</td>\n",
              "      <td>51</td>\n",
              "      <td>125.4</td>\n",
              "      <td>7.7</td>\n",
              "    </tr>\n",
              "    <tr>\n",
              "      <th>29254</th>\n",
              "      <td>2018-12-29 18:40:00</td>\n",
              "      <td>-3</td>\n",
              "      <td>2.8</td>\n",
              "      <td>133.3</td>\n",
              "      <td>242338</td>\n",
              "      <td>59</td>\n",
              "      <td>57</td>\n",
              "      <td>43</td>\n",
              "      <td>54</td>\n",
              "      <td>1364.1</td>\n",
              "      <td>1329.7</td>\n",
              "      <td>1344.4</td>\n",
              "      <td>5.1</td>\n",
              "      <td>1</td>\n",
              "      <td>1450.8</td>\n",
              "      <td>1805.1</td>\n",
              "      <td>981.6</td>\n",
              "      <td>226.6</td>\n",
              "      <td>229.6</td>\n",
              "      <td>1450.4</td>\n",
              "      <td>1842.3</td>\n",
              "      <td>1004.2</td>\n",
              "      <td>0</td>\n",
              "      <td>0.3</td>\n",
              "      <td>-0.5</td>\n",
              "      <td>0.1</td>\n",
              "      <td>402.1</td>\n",
              "      <td>401</td>\n",
              "      <td>402.2</td>\n",
              "      <td>402</td>\n",
              "      <td>401.8</td>\n",
              "      <td>401</td>\n",
              "      <td>194.7</td>\n",
              "      <td>188.5</td>\n",
              "      <td>3.3</td>\n",
              "      <td>51</td>\n",
              "      <td>130.5</td>\n",
              "      <td>8.0</td>\n",
              "    </tr>\n",
              "    <tr>\n",
              "      <th>29255</th>\n",
              "      <td>2018-12-29 18:50:00</td>\n",
              "      <td>-4</td>\n",
              "      <td>-2.9</td>\n",
              "      <td>131.1</td>\n",
              "      <td>205055</td>\n",
              "      <td>60</td>\n",
              "      <td>58</td>\n",
              "      <td>43</td>\n",
              "      <td>54</td>\n",
              "      <td>1357.8</td>\n",
              "      <td>1232.2</td>\n",
              "      <td>1339.9</td>\n",
              "      <td>11.3</td>\n",
              "      <td>1</td>\n",
              "      <td>1217.3</td>\n",
              "      <td>1794.9</td>\n",
              "      <td>510.5</td>\n",
              "      <td>333.1</td>\n",
              "      <td>335.4</td>\n",
              "      <td>1223.9</td>\n",
              "      <td>1850.6</td>\n",
              "      <td>545.3</td>\n",
              "      <td>0</td>\n",
              "      <td>0.6</td>\n",
              "      <td>-0.4</td>\n",
              "      <td>0.1</td>\n",
              "      <td>401.6</td>\n",
              "      <td>401</td>\n",
              "      <td>401.8</td>\n",
              "      <td>401</td>\n",
              "      <td>401.4</td>\n",
              "      <td>400</td>\n",
              "      <td>194.6</td>\n",
              "      <td>188.5</td>\n",
              "      <td>3.3</td>\n",
              "      <td>51</td>\n",
              "      <td>134</td>\n",
              "      <td>9.8</td>\n",
              "    </tr>\n",
              "  </tbody>\n",
              "</table>\n",
              "<p>29256 rows × 38 columns</p>\n",
              "</div>"
            ],
            "text/plain": [
              "              Date & Time Ambient Temperature  ... Nac_Direction_Avg Wind Speed m/s\n",
              "0     2018-06-01 00:00:00                  10  ...              91.1            6.7\n",
              "1     2018-06-01 00:10:00                  10  ...              91.1            6.7\n",
              "2     2018-06-01 00:20:00                  10  ...              91.1            6.6\n",
              "3     2018-06-01 00:30:00                  10  ...              91.1            6.0\n",
              "4     2018-06-01 00:40:00                  10  ...              91.1            6.2\n",
              "...                   ...                 ...  ...               ...            ...\n",
              "29251 2018-12-29 18:10:00                  -3  ...             123.8            7.1\n",
              "29252 2018-12-29 18:20:00                  -3  ...             125.4            6.9\n",
              "29253 2018-12-29 18:30:00                  -3  ...             125.4            7.7\n",
              "29254 2018-12-29 18:40:00                  -3  ...             130.5            8.0\n",
              "29255 2018-12-29 18:50:00                  -4  ...               134            9.8\n",
              "\n",
              "[29256 rows x 38 columns]"
            ]
          },
          "metadata": {},
          "execution_count": 135
        }
      ]
    },
    {
      "cell_type": "markdown",
      "metadata": {
        "id": "slJ1qnXp_Iv2"
      },
      "source": [
        "# File Saving"
      ]
    },
    {
      "cell_type": "code",
      "metadata": {
        "id": "ElxstdEH25os"
      },
      "source": [
        "path = 'drive/MyDrive/DatasetsWind/' + turbine + '_4.csv'\n",
        "df_final.to_csv(path, index=False)"
      ],
      "execution_count": 131,
      "outputs": []
    }
  ]
}