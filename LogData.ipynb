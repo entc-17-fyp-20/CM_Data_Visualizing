{
  "nbformat": 4,
  "nbformat_minor": 0,
  "metadata": {
    "colab": {
      "name": "LogData.ipynb",
      "provenance": [],
      "collapsed_sections": [],
      "mount_file_id": "1BomiMvToY9CWmxrbMAIlOewjM27AQgkw",
      "authorship_tag": "ABX9TyPtxuc/kGxIo1tMqgr6Jmr0",
      "include_colab_link": true
    },
    "kernelspec": {
      "name": "python3",
      "display_name": "Python 3"
    },
    "language_info": {
      "name": "python"
    }
  },
  "cells": [
    {
      "cell_type": "markdown",
      "metadata": {
        "id": "view-in-github",
        "colab_type": "text"
      },
      "source": [
        "<a href=\"https://colab.research.google.com/github/entc-17-fyp-20/CM_Data_Visualizing/blob/main/LogData.ipynb\" target=\"_parent\"><img src=\"https://colab.research.google.com/assets/colab-badge.svg\" alt=\"Open In Colab\"/></a>"
      ]
    },
    {
      "cell_type": "code",
      "metadata": {
        "id": "ITosR3-OrysM"
      },
      "source": [
        "from numpy import array\n",
        "from numpy import hstack\n",
        "import pandas as pd\n",
        "import numpy as np\n",
        "from sklearn import preprocessing\n",
        "from datetime import datetime\n",
        "\n",
        "import plotly.graph_objects as go"
      ],
      "execution_count": 1,
      "outputs": []
    },
    {
      "cell_type": "code",
      "metadata": {
        "id": "pf5-8zNGt4xH"
      },
      "source": [
        "path = '/content/drive/MyDrive/IIoT - Wind Turbine/FYP/Dataset/LogData/log_data.csv'\n",
        "df = pd.read_csv(path)\n",
        "df = df.drop([268538,268539], axis=0)\n",
        "df = df[df['EventCodeText']!='Pause over RCS __']"
      ],
      "execution_count": 71,
      "outputs": []
    },
    {
      "cell_type": "code",
      "metadata": {
        "cellView": "form",
        "id": "AnoqgT2RudlA"
      },
      "source": [
        "#@title Select turbine\n",
        "turbine_number =   9#@param {type:\"integer\"}\n",
        "if len(str(turbine_number))==2:\n",
        "  turbine = \"T\"+str(turbine_number)\n",
        "else:\n",
        "  turbine = \"T0\"+str(turbine_number)"
      ],
      "execution_count": 72,
      "outputs": []
    },
    {
      "cell_type": "code",
      "metadata": {
        "id": "qJ72gSv7ueAK"
      },
      "source": [
        "df = df[df['Turbine']==turbine]"
      ],
      "execution_count": 73,
      "outputs": []
    },
    {
      "cell_type": "code",
      "metadata": {
        "id": "GSNWD-Qy7ncd"
      },
      "source": [
        "path1 = '/content/drive/MyDrive/IIoT - Wind Turbine/FYP/Dataset/LogData/' + turbine + '.xlsx'\n",
        "df.to_excel(path1, index=False)"
      ],
      "execution_count": 74,
      "outputs": []
    },
    {
      "cell_type": "code",
      "metadata": {
        "colab": {
          "base_uri": "https://localhost:8080/",
          "height": 486
        },
        "id": "JrqkjuAR7oFV",
        "outputId": "20374d08-8c50-44a3-c95d-613c9539cbf2"
      },
      "source": [
        "df"
      ],
      "execution_count": 75,
      "outputs": [
        {
          "output_type": "execute_result",
          "data": {
            "text/html": [
              "<div>\n",
              "<style scoped>\n",
              "    .dataframe tbody tr th:only-of-type {\n",
              "        vertical-align: middle;\n",
              "    }\n",
              "\n",
              "    .dataframe tbody tr th {\n",
              "        vertical-align: top;\n",
              "    }\n",
              "\n",
              "    .dataframe thead th {\n",
              "        text-align: right;\n",
              "    }\n",
              "</style>\n",
              "<table border=\"1\" class=\"dataframe\">\n",
              "  <thead>\n",
              "    <tr style=\"text-align: right;\">\n",
              "      <th></th>\n",
              "      <th>Turbine</th>\n",
              "      <th>TimeDetected</th>\n",
              "      <th>TimeReset</th>\n",
              "      <th>EventCodeNumber</th>\n",
              "      <th>EventCodeText</th>\n",
              "      <th>Remark</th>\n",
              "      <th>StatusCode</th>\n",
              "      <th>LastModified</th>\n",
              "      <th>Paramtere1</th>\n",
              "      <th>Paramtere2</th>\n",
              "    </tr>\n",
              "  </thead>\n",
              "  <tbody>\n",
              "    <tr>\n",
              "      <th>73</th>\n",
              "      <td>T09</td>\n",
              "      <td>2017-01-03 10:50:18</td>\n",
              "      <td>2017-01-03 10:51:23</td>\n",
              "      <td>176.0</td>\n",
              "      <td>Error on all wind sensors</td>\n",
              "      <td>Error on all wind sensors</td>\n",
              "      <td>A</td>\n",
              "      <td>2017-01-03 10:53:28</td>\n",
              "      <td>0.0</td>\n",
              "      <td>0.0</td>\n",
              "    </tr>\n",
              "    <tr>\n",
              "      <th>108</th>\n",
              "      <td>T09</td>\n",
              "      <td>2017-01-03 11:11:09</td>\n",
              "      <td>2017-01-03 11:12:14</td>\n",
              "      <td>176.0</td>\n",
              "      <td>Error on all wind sensors</td>\n",
              "      <td>Error on all wind sensors</td>\n",
              "      <td>A</td>\n",
              "      <td>2017-01-03 11:13:34</td>\n",
              "      <td>0.0</td>\n",
              "      <td>0.0</td>\n",
              "    </tr>\n",
              "    <tr>\n",
              "      <th>176</th>\n",
              "      <td>T09</td>\n",
              "      <td>2017-01-04 3:18:44</td>\n",
              "      <td>2017-01-04 3:19:49</td>\n",
              "      <td>336.0</td>\n",
              "      <td>Ext. High cur. Grid inv. L_</td>\n",
              "      <td>Ext. High cur. Grid inv. L0</td>\n",
              "      <td>A</td>\n",
              "      <td>2017-01-04 3:23:33</td>\n",
              "      <td>0.0</td>\n",
              "      <td>0.0</td>\n",
              "    </tr>\n",
              "    <tr>\n",
              "      <th>177</th>\n",
              "      <td>T09</td>\n",
              "      <td>2017-01-04 3:18:46</td>\n",
              "      <td>2017-01-04 3:19:49</td>\n",
              "      <td>153.0</td>\n",
              "      <td>Max generator RPM: ____._ RPM</td>\n",
              "      <td>Max generator RPM: 1581.5 RPM</td>\n",
              "      <td>A</td>\n",
              "      <td>2017-01-04 3:23:35</td>\n",
              "      <td>15815.0</td>\n",
              "      <td>0.0</td>\n",
              "    </tr>\n",
              "    <tr>\n",
              "      <th>312</th>\n",
              "      <td>T09</td>\n",
              "      <td>2017-01-03 5:38:05</td>\n",
              "      <td>2017-01-03 5:39:11</td>\n",
              "      <td>296.0</td>\n",
              "      <td>Tow. acc. X, Alarm:__.__ m/s^2</td>\n",
              "      <td>Tow. acc. X, Alarm: 0.24 m/s^2</td>\n",
              "      <td>A</td>\n",
              "      <td>2017-01-03 5:43:30</td>\n",
              "      <td>24.0</td>\n",
              "      <td>0.0</td>\n",
              "    </tr>\n",
              "    <tr>\n",
              "      <th>...</th>\n",
              "      <td>...</td>\n",
              "      <td>...</td>\n",
              "      <td>...</td>\n",
              "      <td>...</td>\n",
              "      <td>...</td>\n",
              "      <td>...</td>\n",
              "      <td>...</td>\n",
              "      <td>...</td>\n",
              "      <td>...</td>\n",
              "      <td>...</td>\n",
              "    </tr>\n",
              "    <tr>\n",
              "      <th>254947</th>\n",
              "      <td>T09</td>\n",
              "      <td>2018-12-26 12:54:13</td>\n",
              "      <td>2018-12-26 13:10:07</td>\n",
              "      <td>893.0</td>\n",
              "      <td>Heating slipring (H=0/PH=1) _</td>\n",
              "      <td>Heating slipring (H=0/PH=1) 0</td>\n",
              "      <td>A</td>\n",
              "      <td>2018-12-26 13:13:40</td>\n",
              "      <td>0.0</td>\n",
              "      <td>0.0</td>\n",
              "    </tr>\n",
              "    <tr>\n",
              "      <th>262325</th>\n",
              "      <td>T09</td>\n",
              "      <td>2018-12-27 5:42:17</td>\n",
              "      <td>2018-12-27 5:55:34</td>\n",
              "      <td>893.0</td>\n",
              "      <td>Heating slipring (H=0/PH=1) _</td>\n",
              "      <td>Heating slipring (H=0/PH=1) 0</td>\n",
              "      <td>A</td>\n",
              "      <td>2018-12-27 5:58:29</td>\n",
              "      <td>0.0</td>\n",
              "      <td>0.0</td>\n",
              "    </tr>\n",
              "    <tr>\n",
              "      <th>263433</th>\n",
              "      <td>T09</td>\n",
              "      <td>2018-12-27 10:58:14</td>\n",
              "      <td>2018-12-27 11:01:47</td>\n",
              "      <td>4882.0</td>\n",
              "      <td>Derate&lt;MinStatSpd: ____rpm, _</td>\n",
              "      <td>Derate&lt;MinStatSpd:    0rpm, 0</td>\n",
              "      <td>A</td>\n",
              "      <td>2018-12-27 11:03:47</td>\n",
              "      <td>0.0</td>\n",
              "      <td>0.0</td>\n",
              "    </tr>\n",
              "    <tr>\n",
              "      <th>265288</th>\n",
              "      <td>T09</td>\n",
              "      <td>2018-12-27 16:10:14</td>\n",
              "      <td>2018-12-27 16:13:06</td>\n",
              "      <td>4882.0</td>\n",
              "      <td>Derate&lt;MinStatSpd: ____rpm, _</td>\n",
              "      <td>Derate&lt;MinStatSpd:    0rpm, 0</td>\n",
              "      <td>A</td>\n",
              "      <td>2018-12-27 16:13:39</td>\n",
              "      <td>0.0</td>\n",
              "      <td>0.0</td>\n",
              "    </tr>\n",
              "    <tr>\n",
              "      <th>265352</th>\n",
              "      <td>T09</td>\n",
              "      <td>2018-12-27 16:32:07</td>\n",
              "      <td>2018-12-27 16:35:19</td>\n",
              "      <td>4882.0</td>\n",
              "      <td>Derate&lt;MinStatSpd: ____rpm, _</td>\n",
              "      <td>Derate&lt;MinStatSpd:    0rpm, 0</td>\n",
              "      <td>A</td>\n",
              "      <td>2018-12-27 16:38:32</td>\n",
              "      <td>0.0</td>\n",
              "      <td>0.0</td>\n",
              "    </tr>\n",
              "  </tbody>\n",
              "</table>\n",
              "<p>587 rows × 10 columns</p>\n",
              "</div>"
            ],
            "text/plain": [
              "       Turbine         TimeDetected  ... Paramtere1  Paramtere2\n",
              "73         T09  2017-01-03 10:50:18  ...        0.0         0.0\n",
              "108        T09  2017-01-03 11:11:09  ...        0.0         0.0\n",
              "176        T09   2017-01-04 3:18:44  ...        0.0         0.0\n",
              "177        T09   2017-01-04 3:18:46  ...    15815.0         0.0\n",
              "312        T09   2017-01-03 5:38:05  ...       24.0         0.0\n",
              "...        ...                  ...  ...        ...         ...\n",
              "254947     T09  2018-12-26 12:54:13  ...        0.0         0.0\n",
              "262325     T09   2018-12-27 5:42:17  ...        0.0         0.0\n",
              "263433     T09  2018-12-27 10:58:14  ...        0.0         0.0\n",
              "265288     T09  2018-12-27 16:10:14  ...        0.0         0.0\n",
              "265352     T09  2018-12-27 16:32:07  ...        0.0         0.0\n",
              "\n",
              "[587 rows x 10 columns]"
            ]
          },
          "metadata": {},
          "execution_count": 75
        }
      ]
    }
  ]
}