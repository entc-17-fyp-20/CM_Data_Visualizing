{
  "nbformat": 4,
  "nbformat_minor": 0,
  "metadata": {
    "colab": {
      "name": "MergingDatasets.ipynb",
      "provenance": [],
      "mount_file_id": "18xBFN9ef7mwzrI4zsnk9msB4CIOjqi7i",
      "authorship_tag": "ABX9TyN5JJqAxXsYLN7wnpUcek/V",
      "include_colab_link": true
    },
    "kernelspec": {
      "name": "python3",
      "display_name": "Python 3"
    },
    "language_info": {
      "name": "python"
    }
  },
  "cells": [
    {
      "cell_type": "markdown",
      "metadata": {
        "id": "view-in-github",
        "colab_type": "text"
      },
      "source": [
        "<a href=\"https://colab.research.google.com/github/entc-17-fyp-20/CM_Data_Visualizing/blob/main/MergingDatasets.ipynb\" target=\"_parent\"><img src=\"https://colab.research.google.com/assets/colab-badge.svg\" alt=\"Open In Colab\"/></a>"
      ]
    },
    {
      "cell_type": "markdown",
      "metadata": {
        "id": "B8wFrKFRrXHG"
      },
      "source": [
        "# **Importing Libraries**"
      ]
    },
    {
      "cell_type": "code",
      "metadata": {
        "id": "VK25Ks5Aqsl7"
      },
      "source": [
        "import numpy as np\n",
        "import pandas as pd"
      ],
      "execution_count": 36,
      "outputs": []
    },
    {
      "cell_type": "markdown",
      "metadata": {
        "id": "Vz_mi5xz_k7O"
      },
      "source": [
        "# **Select Turbine**"
      ]
    },
    {
      "cell_type": "code",
      "metadata": {
        "id": "WeK9-xtKzzJX"
      },
      "source": [
        "#@title Select from T01-T83 { display-mode: \"form\" }\n",
        "turbine = \"T54\" #@param [\"T01\", \"T02\", \"T03\", \"T22\", \"T34\",\"T54\"] "
      ],
      "execution_count": 37,
      "outputs": []
    },
    {
      "cell_type": "markdown",
      "metadata": {
        "id": "tamyFJmpBYPt"
      },
      "source": [
        "# **Importing data**"
      ]
    },
    {
      "cell_type": "code",
      "metadata": {
        "id": "-qvj5226Bsio"
      },
      "source": [
        "path1 = '/content/drive/MyDrive/IIoT - Wind Turbine/FYP/Dataset/BeforeMerge/' + turbine + \"_1.csv\" \n",
        "path2 = '/content/drive/MyDrive/IIoT - Wind Turbine/FYP/Dataset/BeforeMerge/' + turbine + \"_2.csv\" \n",
        "path3 = '/content/drive/MyDrive/IIoT - Wind Turbine/FYP/Dataset/BeforeMerge/' + turbine + \"_3.csv\" \n",
        "path4 = '/content/drive/MyDrive/IIoT - Wind Turbine/FYP/Dataset/BeforeMerge/' + turbine + \"_4.csv\" "
      ],
      "execution_count": 38,
      "outputs": []
    },
    {
      "cell_type": "code",
      "metadata": {
        "id": "2U5oNtd6C-WU"
      },
      "source": [
        "df1 = pd.read_csv(path1)\n",
        "df2 = pd.read_csv(path2)\n",
        "df3 = pd.read_csv(path3)\n",
        "df4 = pd.read_csv(path4)"
      ],
      "execution_count": 39,
      "outputs": []
    },
    {
      "cell_type": "code",
      "metadata": {
        "id": "MTVF7zLhDWKH"
      },
      "source": [
        "frames = [df1,df2,df3,df4]\n",
        "result = pd.concat(frames) # Concatenating datasets"
      ],
      "execution_count": 40,
      "outputs": []
    },
    {
      "cell_type": "code",
      "metadata": {
        "id": "RAbR0MXUDlfW"
      },
      "source": [
        "path = '/content/drive/MyDrive/IIoT - Wind Turbine/FYP/Dataset/Merged/' + turbine + '.csv'\n",
        "result.to_csv(path, index=False)"
      ],
      "execution_count": 41,
      "outputs": []
    }
  ]
}