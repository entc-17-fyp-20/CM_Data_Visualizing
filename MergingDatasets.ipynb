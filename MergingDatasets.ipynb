{
  "nbformat": 4,
  "nbformat_minor": 0,
  "metadata": {
    "colab": {
      "name": "MergingDatasets.ipynb",
      "provenance": [],
      "mount_file_id": "18xBFN9ef7mwzrI4zsnk9msB4CIOjqi7i",
      "authorship_tag": "ABX9TyMR0exSZd0i78Gj9lj8Ud4l",
      "include_colab_link": true
    },
    "kernelspec": {
      "name": "python3",
      "display_name": "Python 3"
    },
    "language_info": {
      "name": "python"
    }
  },
  "cells": [
    {
      "cell_type": "markdown",
      "metadata": {
        "id": "view-in-github",
        "colab_type": "text"
      },
      "source": [
        "<a href=\"https://colab.research.google.com/github/entc-17-fyp-20/CM_Data_Visualizing/blob/main/MergingDatasets.ipynb\" target=\"_parent\"><img src=\"https://colab.research.google.com/assets/colab-badge.svg\" alt=\"Open In Colab\"/></a>"
      ]
    },
    {
      "cell_type": "markdown",
      "metadata": {
        "id": "B8wFrKFRrXHG"
      },
      "source": [
        "# **Importing Libraries**"
      ]
    },
    {
      "cell_type": "code",
      "metadata": {
        "id": "VK25Ks5Aqsl7"
      },
      "source": [
        "import numpy as np\n",
        "import pandas as pd"
      ],
      "execution_count": 47,
      "outputs": []
    },
    {
      "cell_type": "markdown",
      "metadata": {
        "id": "Vz_mi5xz_k7O"
      },
      "source": [
        "# **Select Turbine**"
      ]
    },
    {
      "cell_type": "code",
      "metadata": {
        "id": "WeK9-xtKzzJX"
      },
      "source": [
        "#@title Select from T01-T83 { display-mode: \"form\" }\n",
        "turbine = \"T54\" #@param [\"T01\", \"T02\", \"T03\", \"T22\", \"T34\",\"T54\"] "
      ],
      "execution_count": 48,
      "outputs": []
    },
    {
      "cell_type": "markdown",
      "metadata": {
        "id": "tamyFJmpBYPt"
      },
      "source": [
        "# **Importing data**"
      ]
    },
    {
      "cell_type": "code",
      "metadata": {
        "id": "-qvj5226Bsio"
      },
      "source": [
        "path1 = '/content/drive/MyDrive/IIoT - Wind Turbine/FYP/Dataset/BeforeMerge/' + turbine + \"_1.csv\" \n",
        "path2 = '/content/drive/MyDrive/IIoT - Wind Turbine/FYP/Dataset/BeforeMerge/' + turbine + \"_2.csv\" \n",
        "path3 = '/content/drive/MyDrive/IIoT - Wind Turbine/FYP/Dataset/BeforeMerge/' + turbine + \"_3.csv\" \n",
        "path4 = '/content/drive/MyDrive/IIoT - Wind Turbine/FYP/Dataset/BeforeMerge/' + turbine + \"_4.csv\" "
      ],
      "execution_count": 49,
      "outputs": []
    },
    {
      "cell_type": "code",
      "metadata": {
        "id": "2U5oNtd6C-WU"
      },
      "source": [
        "df1 = pd.read_csv(path1)\n",
        "df1['Date_Time'] = pd.to_datetime(df1['Date_Time'], format=\"%Y-%m-%d %H:%M:%S\")\n",
        "df1.set_index('Date_Time', inplace = True)\n",
        "df1 = df1.sort_index().reset_index()\n",
        "\n",
        "df2 = pd.read_csv(path2)\n",
        "df2['Date_Time'] = pd.to_datetime(df2['Date_Time'], format=\"%Y-%m-%d %H:%M:%S\")\n",
        "df2.set_index('Date_Time', inplace = True)\n",
        "df2 = df2.sort_index().reset_index()\n",
        "\n",
        "df3 = pd.read_csv(path3)\n",
        "df3['Date_Time'] = pd.to_datetime(df3['Date_Time'], format=\"%Y-%m-%d %H:%M:%S\")\n",
        "df3.set_index('Date_Time', inplace = True)\n",
        "df3 = df3.sort_index().reset_index()\n",
        "\n",
        "df4 = pd.read_csv(path4)\n",
        "df4['Date_Time'] = pd.to_datetime(df4['Date_Time'], format=\"%Y-%m-%d %H:%M:%S\")\n",
        "df4.set_index('Date_Time', inplace = True)\n",
        "df4 = df4.sort_index().reset_index()"
      ],
      "execution_count": 50,
      "outputs": []
    },
    {
      "cell_type": "code",
      "metadata": {
        "id": "MTVF7zLhDWKH"
      },
      "source": [
        "frames = [df1,df2,df3,df4]\n",
        "result = pd.concat(frames) # Concatenating datasets"
      ],
      "execution_count": 51,
      "outputs": []
    },
    {
      "cell_type": "code",
      "metadata": {
        "id": "4QOBrEePEawd"
      },
      "source": [
        "# result"
      ],
      "execution_count": 52,
      "outputs": []
    },
    {
      "cell_type": "code",
      "metadata": {
        "id": "RAbR0MXUDlfW"
      },
      "source": [
        "path = '/content/drive/MyDrive/IIoT - Wind Turbine/FYP/Dataset/Merged/' + turbine + '.csv'\n",
        "result.to_csv(path, index=False)"
      ],
      "execution_count": 53,
      "outputs": []
    }
  ]
}