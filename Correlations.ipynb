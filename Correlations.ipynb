{
  "nbformat": 4,
  "nbformat_minor": 0,
  "metadata": {
    "kernelspec": {
      "display_name": "Python 3",
      "language": "python",
      "name": "python3"
    },
    "language_info": {
      "codemirror_mode": {
        "name": "ipython",
        "version": 3
      },
      "file_extension": ".py",
      "mimetype": "text/x-python",
      "name": "python",
      "nbconvert_exporter": "python",
      "pygments_lexer": "ipython3",
      "version": "3.7.3"
    },
    "colab": {
      "name": "Correlations.ipynb",
      "provenance": [],
      "include_colab_link": true
    }
  },
  "cells": [
    {
      "cell_type": "markdown",
      "metadata": {
        "id": "view-in-github",
        "colab_type": "text"
      },
      "source": [
        "<a href=\"https://colab.research.google.com/github/entc-17-fyp-20/CM_Data_Visualizing/blob/main/Correlations.ipynb\" target=\"_parent\"><img src=\"https://colab.research.google.com/assets/colab-badge.svg\" alt=\"Open In Colab\"/></a>"
      ]
    },
    {
      "cell_type": "code",
      "metadata": {
        "id": "20YgWsU8bwac"
      },
      "source": [
        "import pandas as pd\n",
        "\n",
        "\n",
        "url1 = 'https://raw.githubusercontent.com/entc-17-fyp-20/Datasets/main/S6%2010%20seconed%20data.csv' #S6 10 seconed data.csv\n",
        "df = pd.read_csv(url1)\n",
        "\n",
        "#df = pd.read_csv('C:\\\\Users\\\\Samal\\\\Documents\\\\FYP\\\\Datasets\\\\S6_TEN_SEC_DATA.csv')"
      ],
      "execution_count": null,
      "outputs": []
    },
    {
      "cell_type": "code",
      "metadata": {
        "colab": {
          "base_uri": "https://localhost:8080/"
        },
        "id": "mW1Y6AMhbwae",
        "outputId": "f4d0ec45-8918-4aab-c73c-74669eef1596"
      },
      "source": [
        "df.info()"
      ],
      "execution_count": null,
      "outputs": [
        {
          "output_type": "stream",
          "text": [
            "<class 'pandas.core.frame.DataFrame'>\n",
            "RangeIndex: 8641 entries, 0 to 8640\n",
            "Data columns (total 24 columns):\n",
            " #   Column                             Non-Null Count  Dtype \n",
            "---  ------                             --------------  ----- \n",
            " 0   Date & Time                        8641 non-null   object\n",
            " 1   Frequency Hz                       8641 non-null   object\n",
            " 2   Voltage R Phase V                  8641 non-null   object\n",
            " 3   Voltage S Phase V                  8641 non-null   object\n",
            " 4   Voltage T Phase V                  8641 non-null   object\n",
            " 5   Current R Phase A                  8641 non-null   object\n",
            " 6   Current S Phase  A                 8641 non-null   object\n",
            " 7   Current T Phase A                  8641 non-null   object\n",
            " 8   Wind Speed m/s                     8641 non-null   object\n",
            " 9   Active Power kW                    8641 non-null   object\n",
            " 10  Reactive Power kVAR                8641 non-null   object\n",
            " 11  Generator RPM                      8641 non-null   object\n",
            " 12  Hydraulic unit Pressure in bar     8641 non-null   object\n",
            " 13  Ambient Temperature                8641 non-null   object\n",
            " 14  Nacelle Temperature                8641 non-null   object\n",
            " 15  Gearbox oil Temperature            8641 non-null   object\n",
            " 16  Gearbox Bearing Temperature        8641 non-null   object\n",
            " 17  Generator Winding Temperature R    8641 non-null   object\n",
            " 18  Generator Winding Temperature S    8641 non-null   object\n",
            " 19  Generator Winding Temperature T    8641 non-null   object\n",
            " 20  Hydraulic oil Temperature          8641 non-null   object\n",
            " 21  Main bearing Temperature           8641 non-null   object\n",
            " 22  Generator Bearing Temperature DE   8641 non-null   object\n",
            " 23  Generator Bearing Temperature NDE  8641 non-null   object\n",
            "dtypes: object(24)\n",
            "memory usage: 1.6+ MB\n"
          ],
          "name": "stdout"
        }
      ]
    },
    {
      "cell_type": "code",
      "metadata": {
        "colab": {
          "base_uri": "https://localhost:8080/",
          "height": 655
        },
        "id": "Hv5cOSPLbwai",
        "outputId": "ad41d6ca-bb32-49f2-e501-912228897c4a"
      },
      "source": [
        "\n",
        "df = df.drop([0])\n",
        "df"
      ],
      "execution_count": null,
      "outputs": [
        {
          "output_type": "execute_result",
          "data": {
            "text/html": [
              "<div>\n",
              "<style scoped>\n",
              "    .dataframe tbody tr th:only-of-type {\n",
              "        vertical-align: middle;\n",
              "    }\n",
              "\n",
              "    .dataframe tbody tr th {\n",
              "        vertical-align: top;\n",
              "    }\n",
              "\n",
              "    .dataframe thead th {\n",
              "        text-align: right;\n",
              "    }\n",
              "</style>\n",
              "<table border=\"1\" class=\"dataframe\">\n",
              "  <thead>\n",
              "    <tr style=\"text-align: right;\">\n",
              "      <th></th>\n",
              "      <th>Date &amp; Time</th>\n",
              "      <th>Frequency Hz</th>\n",
              "      <th>Voltage R Phase V</th>\n",
              "      <th>Voltage S Phase V</th>\n",
              "      <th>Voltage T Phase V</th>\n",
              "      <th>Current R Phase A</th>\n",
              "      <th>Current S Phase  A</th>\n",
              "      <th>Current T Phase A</th>\n",
              "      <th>Wind Speed m/s</th>\n",
              "      <th>Active Power kW</th>\n",
              "      <th>Reactive Power kVAR</th>\n",
              "      <th>Generator RPM</th>\n",
              "      <th>Hydraulic unit Pressure in bar</th>\n",
              "      <th>Ambient Temperature</th>\n",
              "      <th>Nacelle Temperature</th>\n",
              "      <th>Gearbox oil Temperature</th>\n",
              "      <th>Gearbox Bearing Temperature</th>\n",
              "      <th>Generator Winding Temperature R</th>\n",
              "      <th>Generator Winding Temperature S</th>\n",
              "      <th>Generator Winding Temperature T</th>\n",
              "      <th>Hydraulic oil Temperature</th>\n",
              "      <th>Main bearing Temperature</th>\n",
              "      <th>Generator Bearing Temperature DE</th>\n",
              "      <th>Generator Bearing Temperature NDE</th>\n",
              "    </tr>\n",
              "  </thead>\n",
              "  <tbody>\n",
              "    <tr>\n",
              "      <th>1</th>\n",
              "      <td>24/06/2021 00:00:00</td>\n",
              "      <td>50.27</td>\n",
              "      <td>590.5</td>\n",
              "      <td>588.6</td>\n",
              "      <td>585.7</td>\n",
              "      <td>435.7</td>\n",
              "      <td>427.5</td>\n",
              "      <td>426.6</td>\n",
              "      <td>10.4</td>\n",
              "      <td>737.8</td>\n",
              "      <td>1.3</td>\n",
              "      <td>1486.6</td>\n",
              "      <td>166.7</td>\n",
              "      <td>31.6</td>\n",
              "      <td>34.2</td>\n",
              "      <td>70.2</td>\n",
              "      <td>79.7</td>\n",
              "      <td>139.9</td>\n",
              "      <td>132.9</td>\n",
              "      <td>138.1</td>\n",
              "      <td>53.3</td>\n",
              "      <td>43.9</td>\n",
              "      <td>74.6</td>\n",
              "      <td>72.4</td>\n",
              "    </tr>\n",
              "    <tr>\n",
              "      <th>2</th>\n",
              "      <td>24/06/2021 00:00:10</td>\n",
              "      <td>50.26</td>\n",
              "      <td>585.6</td>\n",
              "      <td>587.4</td>\n",
              "      <td>591.3</td>\n",
              "      <td>418.9</td>\n",
              "      <td>413.6</td>\n",
              "      <td>410.7</td>\n",
              "      <td>11.4</td>\n",
              "      <td>745.5</td>\n",
              "      <td>1.7</td>\n",
              "      <td>1482.2</td>\n",
              "      <td>180.3</td>\n",
              "      <td>31.4</td>\n",
              "      <td>34.3</td>\n",
              "      <td>69.5</td>\n",
              "      <td>79.9</td>\n",
              "      <td>139.1</td>\n",
              "      <td>132.5</td>\n",
              "      <td>138.1</td>\n",
              "      <td>53.6</td>\n",
              "      <td>43.8</td>\n",
              "      <td>74.5</td>\n",
              "      <td>72.6</td>\n",
              "    </tr>\n",
              "    <tr>\n",
              "      <th>3</th>\n",
              "      <td>24/06/2021 00:00:20</td>\n",
              "      <td>50.24</td>\n",
              "      <td>591.8</td>\n",
              "      <td>589.5</td>\n",
              "      <td>586.5</td>\n",
              "      <td>429.8</td>\n",
              "      <td>425.6</td>\n",
              "      <td>421.3</td>\n",
              "      <td>10.2</td>\n",
              "      <td>732.7</td>\n",
              "      <td>8.2</td>\n",
              "      <td>1500</td>\n",
              "      <td>166.8</td>\n",
              "      <td>31.4</td>\n",
              "      <td>34.3</td>\n",
              "      <td>69.6</td>\n",
              "      <td>79.9</td>\n",
              "      <td>139.8</td>\n",
              "      <td>133.4</td>\n",
              "      <td>138.2</td>\n",
              "      <td>53.6</td>\n",
              "      <td>43.9</td>\n",
              "      <td>74.5</td>\n",
              "      <td>72.7</td>\n",
              "    </tr>\n",
              "    <tr>\n",
              "      <th>4</th>\n",
              "      <td>24/06/2021 00:00:30</td>\n",
              "      <td>50.22</td>\n",
              "      <td>591.1</td>\n",
              "      <td>588.5</td>\n",
              "      <td>584.5</td>\n",
              "      <td>425.9</td>\n",
              "      <td>427.1</td>\n",
              "      <td>441.2</td>\n",
              "      <td>10.1</td>\n",
              "      <td>743.1</td>\n",
              "      <td>8.4</td>\n",
              "      <td>1493.2</td>\n",
              "      <td>167.4</td>\n",
              "      <td>31.4</td>\n",
              "      <td>34.3</td>\n",
              "      <td>70.2</td>\n",
              "      <td>79.7</td>\n",
              "      <td>139.5</td>\n",
              "      <td>133.2</td>\n",
              "      <td>137.8</td>\n",
              "      <td>53.7</td>\n",
              "      <td>43.9</td>\n",
              "      <td>74.6</td>\n",
              "      <td>72.7</td>\n",
              "    </tr>\n",
              "    <tr>\n",
              "      <th>5</th>\n",
              "      <td>24/06/2021 00:00:40</td>\n",
              "      <td>50.31</td>\n",
              "      <td>593.3</td>\n",
              "      <td>585.5</td>\n",
              "      <td>589.4</td>\n",
              "      <td>421.5</td>\n",
              "      <td>421.2</td>\n",
              "      <td>430.8</td>\n",
              "      <td>10.5</td>\n",
              "      <td>744</td>\n",
              "      <td>3.8</td>\n",
              "      <td>1529.8</td>\n",
              "      <td>180</td>\n",
              "      <td>31.5</td>\n",
              "      <td>34.2</td>\n",
              "      <td>70</td>\n",
              "      <td>79.6</td>\n",
              "      <td>139.2</td>\n",
              "      <td>133.6</td>\n",
              "      <td>137.3</td>\n",
              "      <td>53.7</td>\n",
              "      <td>43.8</td>\n",
              "      <td>74.3</td>\n",
              "      <td>72.8</td>\n",
              "    </tr>\n",
              "    <tr>\n",
              "      <th>...</th>\n",
              "      <td>...</td>\n",
              "      <td>...</td>\n",
              "      <td>...</td>\n",
              "      <td>...</td>\n",
              "      <td>...</td>\n",
              "      <td>...</td>\n",
              "      <td>...</td>\n",
              "      <td>...</td>\n",
              "      <td>...</td>\n",
              "      <td>...</td>\n",
              "      <td>...</td>\n",
              "      <td>...</td>\n",
              "      <td>...</td>\n",
              "      <td>...</td>\n",
              "      <td>...</td>\n",
              "      <td>...</td>\n",
              "      <td>...</td>\n",
              "      <td>...</td>\n",
              "      <td>...</td>\n",
              "      <td>...</td>\n",
              "      <td>...</td>\n",
              "      <td>...</td>\n",
              "      <td>...</td>\n",
              "      <td>...</td>\n",
              "    </tr>\n",
              "    <tr>\n",
              "      <th>8636</th>\n",
              "      <td>24/06/2021 23:59:10</td>\n",
              "      <td>50.04</td>\n",
              "      <td>581.8</td>\n",
              "      <td>580.3</td>\n",
              "      <td>581.1</td>\n",
              "      <td>236.1</td>\n",
              "      <td>237</td>\n",
              "      <td>236.7</td>\n",
              "      <td>7.9</td>\n",
              "      <td>404.2</td>\n",
              "      <td>-7.2</td>\n",
              "      <td>1468.4</td>\n",
              "      <td>179.8</td>\n",
              "      <td>31</td>\n",
              "      <td>32.3</td>\n",
              "      <td>60.8</td>\n",
              "      <td>73.4</td>\n",
              "      <td>95.2</td>\n",
              "      <td>90.9</td>\n",
              "      <td>95.9</td>\n",
              "      <td>53.6</td>\n",
              "      <td>43.7</td>\n",
              "      <td>61.8</td>\n",
              "      <td>65.4</td>\n",
              "    </tr>\n",
              "    <tr>\n",
              "      <th>8637</th>\n",
              "      <td>24/06/2021 23:59:20</td>\n",
              "      <td>50.12</td>\n",
              "      <td>580.4</td>\n",
              "      <td>581</td>\n",
              "      <td>583.2</td>\n",
              "      <td>217.6</td>\n",
              "      <td>221.4</td>\n",
              "      <td>220.9</td>\n",
              "      <td>7.4</td>\n",
              "      <td>367.3</td>\n",
              "      <td>8.5</td>\n",
              "      <td>1426.5</td>\n",
              "      <td>162.7</td>\n",
              "      <td>31</td>\n",
              "      <td>32.3</td>\n",
              "      <td>61.3</td>\n",
              "      <td>73.8</td>\n",
              "      <td>95</td>\n",
              "      <td>89.4</td>\n",
              "      <td>95</td>\n",
              "      <td>53.6</td>\n",
              "      <td>43.7</td>\n",
              "      <td>61.8</td>\n",
              "      <td>65.2</td>\n",
              "    </tr>\n",
              "    <tr>\n",
              "      <th>8638</th>\n",
              "      <td>24/06/2021 23:59:30</td>\n",
              "      <td>50.08</td>\n",
              "      <td>578.3</td>\n",
              "      <td>583.7</td>\n",
              "      <td>580.9</td>\n",
              "      <td>195.9</td>\n",
              "      <td>196.9</td>\n",
              "      <td>191.6</td>\n",
              "      <td>7.7</td>\n",
              "      <td>329.3</td>\n",
              "      <td>-23.3</td>\n",
              "      <td>1425.1</td>\n",
              "      <td>169.7</td>\n",
              "      <td>31</td>\n",
              "      <td>32.2</td>\n",
              "      <td>60.5</td>\n",
              "      <td>73.6</td>\n",
              "      <td>94</td>\n",
              "      <td>90.4</td>\n",
              "      <td>94.1</td>\n",
              "      <td>53.8</td>\n",
              "      <td>43.7</td>\n",
              "      <td>61.9</td>\n",
              "      <td>65.3</td>\n",
              "    </tr>\n",
              "    <tr>\n",
              "      <th>8639</th>\n",
              "      <td>24/06/2021 23:59:40</td>\n",
              "      <td>50.1</td>\n",
              "      <td>582.5</td>\n",
              "      <td>577.5</td>\n",
              "      <td>576.7</td>\n",
              "      <td>270.7</td>\n",
              "      <td>272.2</td>\n",
              "      <td>268</td>\n",
              "      <td>8.4</td>\n",
              "      <td>465.7</td>\n",
              "      <td>-0.8</td>\n",
              "      <td>1512.8</td>\n",
              "      <td>177.4</td>\n",
              "      <td>30.9</td>\n",
              "      <td>32.2</td>\n",
              "      <td>61.4</td>\n",
              "      <td>73.6</td>\n",
              "      <td>95.2</td>\n",
              "      <td>90.7</td>\n",
              "      <td>94.9</td>\n",
              "      <td>53.7</td>\n",
              "      <td>43.6</td>\n",
              "      <td>62</td>\n",
              "      <td>65.3</td>\n",
              "    </tr>\n",
              "    <tr>\n",
              "      <th>8640</th>\n",
              "      <td>24/06/2021 23:59:50</td>\n",
              "      <td>50.12</td>\n",
              "      <td>582.7</td>\n",
              "      <td>581.6</td>\n",
              "      <td>584.6</td>\n",
              "      <td>281.7</td>\n",
              "      <td>285.4</td>\n",
              "      <td>283.8</td>\n",
              "      <td>8.9</td>\n",
              "      <td>486.5</td>\n",
              "      <td>4.7</td>\n",
              "      <td>1472</td>\n",
              "      <td>160</td>\n",
              "      <td>30.8</td>\n",
              "      <td>32.1</td>\n",
              "      <td>61.4</td>\n",
              "      <td>73.4</td>\n",
              "      <td>94.7</td>\n",
              "      <td>91.6</td>\n",
              "      <td>95.3</td>\n",
              "      <td>53.8</td>\n",
              "      <td>43.7</td>\n",
              "      <td>61.8</td>\n",
              "      <td>65.4</td>\n",
              "    </tr>\n",
              "  </tbody>\n",
              "</table>\n",
              "<p>8640 rows × 24 columns</p>\n",
              "</div>"
            ],
            "text/plain": [
              "              Date & Time  ... Generator Bearing Temperature NDE\n",
              "1     24/06/2021 00:00:00  ...                              72.4\n",
              "2     24/06/2021 00:00:10  ...                              72.6\n",
              "3     24/06/2021 00:00:20  ...                              72.7\n",
              "4     24/06/2021 00:00:30  ...                              72.7\n",
              "5     24/06/2021 00:00:40  ...                              72.8\n",
              "...                   ...  ...                               ...\n",
              "8636  24/06/2021 23:59:10  ...                              65.4\n",
              "8637  24/06/2021 23:59:20  ...                              65.2\n",
              "8638  24/06/2021 23:59:30  ...                              65.3\n",
              "8639  24/06/2021 23:59:40  ...                              65.3\n",
              "8640  24/06/2021 23:59:50  ...                              65.4\n",
              "\n",
              "[8640 rows x 24 columns]"
            ]
          },
          "metadata": {
            "tags": []
          },
          "execution_count": 8
        }
      ]
    },
    {
      "cell_type": "code",
      "metadata": {
        "id": "eRvy7Xy1bwaj"
      },
      "source": [
        "\n",
        "\n",
        "\n"
      ],
      "execution_count": null,
      "outputs": []
    },
    {
      "cell_type": "code",
      "metadata": {
        "id": "9MQ-LNugbwal"
      },
      "source": [
        "import pandas as pd\n",
        "import numpy as np\n",
        "import seaborn as sns\n",
        "import matplotlib.pyplot as plt"
      ],
      "execution_count": null,
      "outputs": []
    },
    {
      "cell_type": "code",
      "metadata": {
        "id": "-ab8829Mbwal"
      },
      "source": [
        "temp_df = df[['Ambient Temperature','Nacelle Temperature','Gearbox oil Temperature','Generator Winding Temperature R','Generator Winding Temperature S','Generator Winding Temperature T','Hydraulic oil Temperature','Main bearing Temperature','Generator Bearing Temperature DE','Generator Bearing Temperature NDE']]"
      ],
      "execution_count": null,
      "outputs": []
    },
    {
      "cell_type": "code",
      "metadata": {
        "colab": {
          "base_uri": "https://localhost:8080/",
          "height": 434
        },
        "id": "a0I_3zFHbwam",
        "outputId": "c9496811-8860-421f-c7c2-208c86573bc5"
      },
      "source": [
        "temp_df"
      ],
      "execution_count": null,
      "outputs": [
        {
          "output_type": "execute_result",
          "data": {
            "text/html": [
              "<div>\n",
              "<style scoped>\n",
              "    .dataframe tbody tr th:only-of-type {\n",
              "        vertical-align: middle;\n",
              "    }\n",
              "\n",
              "    .dataframe tbody tr th {\n",
              "        vertical-align: top;\n",
              "    }\n",
              "\n",
              "    .dataframe thead th {\n",
              "        text-align: right;\n",
              "    }\n",
              "</style>\n",
              "<table border=\"1\" class=\"dataframe\">\n",
              "  <thead>\n",
              "    <tr style=\"text-align: right;\">\n",
              "      <th></th>\n",
              "      <th>Ambient Temperature</th>\n",
              "      <th>Nacelle Temperature</th>\n",
              "      <th>Gearbox oil Temperature</th>\n",
              "      <th>Generator Winding Temperature R</th>\n",
              "      <th>Generator Winding Temperature S</th>\n",
              "      <th>Generator Winding Temperature T</th>\n",
              "      <th>Hydraulic oil Temperature</th>\n",
              "      <th>Main bearing Temperature</th>\n",
              "      <th>Generator Bearing Temperature DE</th>\n",
              "      <th>Generator Bearing Temperature NDE</th>\n",
              "    </tr>\n",
              "  </thead>\n",
              "  <tbody>\n",
              "    <tr>\n",
              "      <th>1</th>\n",
              "      <td>31.6</td>\n",
              "      <td>34.2</td>\n",
              "      <td>70.2</td>\n",
              "      <td>139.9</td>\n",
              "      <td>132.9</td>\n",
              "      <td>138.1</td>\n",
              "      <td>53.3</td>\n",
              "      <td>43.9</td>\n",
              "      <td>74.6</td>\n",
              "      <td>72.4</td>\n",
              "    </tr>\n",
              "    <tr>\n",
              "      <th>2</th>\n",
              "      <td>31.4</td>\n",
              "      <td>34.3</td>\n",
              "      <td>69.5</td>\n",
              "      <td>139.1</td>\n",
              "      <td>132.5</td>\n",
              "      <td>138.1</td>\n",
              "      <td>53.6</td>\n",
              "      <td>43.8</td>\n",
              "      <td>74.5</td>\n",
              "      <td>72.6</td>\n",
              "    </tr>\n",
              "    <tr>\n",
              "      <th>3</th>\n",
              "      <td>31.4</td>\n",
              "      <td>34.3</td>\n",
              "      <td>69.6</td>\n",
              "      <td>139.8</td>\n",
              "      <td>133.4</td>\n",
              "      <td>138.2</td>\n",
              "      <td>53.6</td>\n",
              "      <td>43.9</td>\n",
              "      <td>74.5</td>\n",
              "      <td>72.7</td>\n",
              "    </tr>\n",
              "    <tr>\n",
              "      <th>4</th>\n",
              "      <td>31.4</td>\n",
              "      <td>34.3</td>\n",
              "      <td>70.2</td>\n",
              "      <td>139.5</td>\n",
              "      <td>133.2</td>\n",
              "      <td>137.8</td>\n",
              "      <td>53.7</td>\n",
              "      <td>43.9</td>\n",
              "      <td>74.6</td>\n",
              "      <td>72.7</td>\n",
              "    </tr>\n",
              "    <tr>\n",
              "      <th>5</th>\n",
              "      <td>31.5</td>\n",
              "      <td>34.2</td>\n",
              "      <td>70</td>\n",
              "      <td>139.2</td>\n",
              "      <td>133.6</td>\n",
              "      <td>137.3</td>\n",
              "      <td>53.7</td>\n",
              "      <td>43.8</td>\n",
              "      <td>74.3</td>\n",
              "      <td>72.8</td>\n",
              "    </tr>\n",
              "    <tr>\n",
              "      <th>...</th>\n",
              "      <td>...</td>\n",
              "      <td>...</td>\n",
              "      <td>...</td>\n",
              "      <td>...</td>\n",
              "      <td>...</td>\n",
              "      <td>...</td>\n",
              "      <td>...</td>\n",
              "      <td>...</td>\n",
              "      <td>...</td>\n",
              "      <td>...</td>\n",
              "    </tr>\n",
              "    <tr>\n",
              "      <th>8636</th>\n",
              "      <td>31</td>\n",
              "      <td>32.3</td>\n",
              "      <td>60.8</td>\n",
              "      <td>95.2</td>\n",
              "      <td>90.9</td>\n",
              "      <td>95.9</td>\n",
              "      <td>53.6</td>\n",
              "      <td>43.7</td>\n",
              "      <td>61.8</td>\n",
              "      <td>65.4</td>\n",
              "    </tr>\n",
              "    <tr>\n",
              "      <th>8637</th>\n",
              "      <td>31</td>\n",
              "      <td>32.3</td>\n",
              "      <td>61.3</td>\n",
              "      <td>95</td>\n",
              "      <td>89.4</td>\n",
              "      <td>95</td>\n",
              "      <td>53.6</td>\n",
              "      <td>43.7</td>\n",
              "      <td>61.8</td>\n",
              "      <td>65.2</td>\n",
              "    </tr>\n",
              "    <tr>\n",
              "      <th>8638</th>\n",
              "      <td>31</td>\n",
              "      <td>32.2</td>\n",
              "      <td>60.5</td>\n",
              "      <td>94</td>\n",
              "      <td>90.4</td>\n",
              "      <td>94.1</td>\n",
              "      <td>53.8</td>\n",
              "      <td>43.7</td>\n",
              "      <td>61.9</td>\n",
              "      <td>65.3</td>\n",
              "    </tr>\n",
              "    <tr>\n",
              "      <th>8639</th>\n",
              "      <td>30.9</td>\n",
              "      <td>32.2</td>\n",
              "      <td>61.4</td>\n",
              "      <td>95.2</td>\n",
              "      <td>90.7</td>\n",
              "      <td>94.9</td>\n",
              "      <td>53.7</td>\n",
              "      <td>43.6</td>\n",
              "      <td>62</td>\n",
              "      <td>65.3</td>\n",
              "    </tr>\n",
              "    <tr>\n",
              "      <th>8640</th>\n",
              "      <td>30.8</td>\n",
              "      <td>32.1</td>\n",
              "      <td>61.4</td>\n",
              "      <td>94.7</td>\n",
              "      <td>91.6</td>\n",
              "      <td>95.3</td>\n",
              "      <td>53.8</td>\n",
              "      <td>43.7</td>\n",
              "      <td>61.8</td>\n",
              "      <td>65.4</td>\n",
              "    </tr>\n",
              "  </tbody>\n",
              "</table>\n",
              "<p>8640 rows × 10 columns</p>\n",
              "</div>"
            ],
            "text/plain": [
              "     Ambient Temperature  ... Generator Bearing Temperature NDE\n",
              "1                   31.6  ...                              72.4\n",
              "2                   31.4  ...                              72.6\n",
              "3                   31.4  ...                              72.7\n",
              "4                   31.4  ...                              72.7\n",
              "5                   31.5  ...                              72.8\n",
              "...                  ...  ...                               ...\n",
              "8636                  31  ...                              65.4\n",
              "8637                  31  ...                              65.2\n",
              "8638                  31  ...                              65.3\n",
              "8639                30.9  ...                              65.3\n",
              "8640                30.8  ...                              65.4\n",
              "\n",
              "[8640 rows x 10 columns]"
            ]
          },
          "metadata": {
            "tags": []
          },
          "execution_count": 16
        }
      ]
    },
    {
      "cell_type": "code",
      "metadata": {
        "id": "_90c83Mfbwao"
      },
      "source": [
        "\n"
      ],
      "execution_count": null,
      "outputs": []
    },
    {
      "cell_type": "code",
      "metadata": {
        "id": "YfIKo5ehbwap"
      },
      "source": [
        ""
      ],
      "execution_count": null,
      "outputs": []
    },
    {
      "cell_type": "code",
      "metadata": {
        "id": "3jfzsbzVbwar"
      },
      "source": [
        "generator_temp=df[['Gearbox oil Temperature','Generator Winding Temperature R','Generator Winding Temperature S','Generator Winding Temperature T','Generator Bearing Temperature DE','Generator Bearing Temperature NDE']]"
      ],
      "execution_count": null,
      "outputs": []
    },
    {
      "cell_type": "code",
      "metadata": {
        "scrolled": true,
        "colab": {
          "base_uri": "https://localhost:8080/"
        },
        "id": "IeCBRKJ5bwas",
        "outputId": "9ff49e8a-447f-4b76-a16e-c38640d10322"
      },
      "source": [
        "print(df.columns)"
      ],
      "execution_count": null,
      "outputs": [
        {
          "output_type": "stream",
          "text": [
            "Index(['Date & Time', 'Frequency Hz', 'Voltage R Phase V', 'Voltage S Phase V',\n",
            "       'Voltage T Phase V', 'Current R Phase A', 'Current S Phase  A',\n",
            "       'Current T Phase A', 'Wind Speed m/s', 'Active Power kW',\n",
            "       'Reactive Power kVAR', 'Generator RPM',\n",
            "       'Hydraulic unit Pressure in bar', 'Ambient Temperature',\n",
            "       'Nacelle Temperature', 'Gearbox oil Temperature',\n",
            "       'Gearbox Bearing Temperature', 'Generator Winding Temperature R',\n",
            "       'Generator Winding Temperature S', 'Generator Winding Temperature T',\n",
            "       'Hydraulic oil Temperature', 'Main bearing Temperature',\n",
            "       'Generator Bearing Temperature DE',\n",
            "       'Generator Bearing Temperature NDE'],\n",
            "      dtype='object')\n"
          ],
          "name": "stdout"
        }
      ]
    },
    {
      "cell_type": "code",
      "metadata": {
        "scrolled": true,
        "id": "hFE0Uwztbwat"
      },
      "source": [
        "df_1 = df['Nacelle Temperature']"
      ],
      "execution_count": null,
      "outputs": []
    },
    {
      "cell_type": "code",
      "metadata": {
        "id": "qkERKonhbwat"
      },
      "source": [
        ""
      ],
      "execution_count": null,
      "outputs": []
    },
    {
      "cell_type": "code",
      "metadata": {
        "id": "TCgDXtaGbwau",
        "outputId": "58983fee-aea6-411c-9424-10707aef9e20"
      },
      "source": [
        "df['Wind Speed m/s'].plot()\n"
      ],
      "execution_count": null,
      "outputs": [
        {
          "output_type": "execute_result",
          "data": {
            "text/plain": [
              "<matplotlib.axes._subplots.AxesSubplot at 0x1bd6f8d0278>"
            ]
          },
          "metadata": {
            "tags": []
          },
          "execution_count": 142
        },
        {
          "output_type": "display_data",
          "data": {
            "image/png": "[encoded data removed]",
            "text/plain": [
              "<Figure size 432x288 with 1 Axes>"
            ]
          },
          "metadata": {
            "tags": [],
            "needs_background": "light"
          }
        }
      ]
    },
    {
      "cell_type": "code",
      "metadata": {
        "id": "wfth_USBbwav",
        "outputId": "05c5f940-1e2e-4cee-afba-1def032380d9"
      },
      "source": [
        "df['Ambient Temperature'].plot()"
      ],
      "execution_count": null,
      "outputs": [
        {
          "output_type": "execute_result",
          "data": {
            "text/plain": [
              "<matplotlib.axes._subplots.AxesSubplot at 0x1bd6f9908d0>"
            ]
          },
          "metadata": {
            "tags": []
          },
          "execution_count": 146
        },
        {
          "output_type": "display_data",
          "data": {
            "image/png": "[encoded data removed]",
            "text/plain": [
              "<Figure size 432x288 with 1 Axes>"
            ]
          },
          "metadata": {
            "tags": [],
            "needs_background": "light"
          }
        }
      ]
    },
    {
      "cell_type": "code",
      "metadata": {
        "id": "jx-63rbybwav",
        "outputId": "37358b42-7ad6-472b-b7e4-d9d7adcf10d3"
      },
      "source": [
        "df['Gearbox oil Temperature'].plot()"
      ],
      "execution_count": null,
      "outputs": [
        {
          "output_type": "execute_result",
          "data": {
            "text/plain": [
              "<matplotlib.axes._subplots.AxesSubplot at 0x1bd6f9cd550>"
            ]
          },
          "metadata": {
            "tags": []
          },
          "execution_count": 148
        },
        {
          "output_type": "display_data",
          "data": {
            "image/png": "[encoded data removed]",
            "text/plain": [
              "<Figure size 432x288 with 1 Axes>"
            ]
          },
          "metadata": {
            "tags": [],
            "needs_background": "light"
          }
        }
      ]
    },
    {
      "cell_type": "code",
      "metadata": {
        "id": "FO8m0a2Rbwaw",
        "outputId": "2656d55b-c083-4cf2-f42a-47964f388d33"
      },
      "source": [
        "df['Gearbox Bearing Temperature'].plot()"
      ],
      "execution_count": null,
      "outputs": [
        {
          "output_type": "execute_result",
          "data": {
            "text/plain": [
              "<matplotlib.axes._subplots.AxesSubplot at 0x1bd6fc27780>"
            ]
          },
          "metadata": {
            "tags": []
          },
          "execution_count": 149
        },
        {
          "output_type": "display_data",
          "data": {
            "image/png": "[encoded data removed]",
            "text/plain": [
              "<Figure size 432x288 with 1 Axes>"
            ]
          },
          "metadata": {
            "tags": [],
            "needs_background": "light"
          }
        }
      ]
    },
    {
      "cell_type": "code",
      "metadata": {
        "id": "E9Qt5TQrbwaw",
        "outputId": "5b2be982-ff0c-4438-96b3-db34bbf19f36"
      },
      "source": [
        "df['Generator RPM'].plot()"
      ],
      "execution_count": null,
      "outputs": [
        {
          "output_type": "execute_result",
          "data": {
            "text/plain": [
              "<matplotlib.axes._subplots.AxesSubplot at 0x1bd6fc6e518>"
            ]
          },
          "metadata": {
            "tags": []
          },
          "execution_count": 150
        },
        {
          "output_type": "display_data",
          "data": {
            "image/png": "[encoded data removed]",
            "text/plain": [
              "<Figure size 432x288 with 1 Axes>"
            ]
          },
          "metadata": {
            "tags": [],
            "needs_background": "light"
          }
        }
      ]
    },
    {
      "cell_type": "code",
      "metadata": {
        "id": "5vvb73Vqbwaw"
      },
      "source": [
        ""
      ],
      "execution_count": null,
      "outputs": []
    }
  ]
}